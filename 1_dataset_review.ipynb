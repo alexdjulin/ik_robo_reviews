{
 "cells": [
  {
   "cell_type": "markdown",
   "metadata": {},
   "source": [
    "# Part 1 - Dataset Review\n",
    "In this notebook, we review the dataset.\n",
    "\n",
    "[Consumer Reviews of Amazon Products](https://www.kaggle.com/datasets/datafiniti/consumer-reviews-of-amazon-products/data) | Concensed, used for this project\n",
    "\n",
    "[Amazon Product Reviews](https://cseweb.ucsd.edu/~jmcauley/datasets.html#amazon_reviews) | Large"
   ]
  },
  {
   "cell_type": "markdown",
   "metadata": {},
   "source": [
    "## Imports"
   ]
  },
  {
   "cell_type": "code",
   "execution_count": 39,
   "metadata": {},
   "outputs": [],
   "source": [
    "import pandas as pd\n",
    "import matplotlib.pyplot as plt\n",
    "from random import randint\n",
    "from tqdm import tqdm\n",
    "tqdm.pandas()\n",
    "\n",
    "SEP = 100 * '-'  # print separator"
   ]
  },
  {
   "cell_type": "markdown",
   "metadata": {},
   "source": [
    "## Load dataset\n",
    "Let's have a look at the dataset contents"
   ]
  },
  {
   "cell_type": "code",
   "execution_count": 40,
   "metadata": {},
   "outputs": [
    {
     "name": "stdout",
     "output_type": "stream",
     "text": [
      "Rows/columns:  (67992, 27)\n",
      "----------------------------------------------------------------------------------------------------\n",
      "Column names:  Index(['id', 'name', 'asins', 'brand', 'categories', 'keys', 'manufacturer',\n",
      "       'reviews.date', 'reviews.dateAdded', 'reviews.dateSeen',\n",
      "       'reviews.didPurchase', 'reviews.doRecommend', 'reviews.id',\n",
      "       'reviews.numHelpful', 'reviews.rating', 'reviews.sourceURLs',\n",
      "       'reviews.text', 'reviews.title', 'reviews.userCity',\n",
      "       'reviews.userProvince', 'reviews.username', 'dateAdded', 'dateUpdated',\n",
      "       'primaryCategories', 'imageURLs', 'manufacturerNumber', 'sourceURLs'],\n",
      "      dtype='object')\n",
      "----------------------------------------------------------------------------------------------------\n"
     ]
    },
    {
     "data": {
      "text/html": [
       "<div>\n",
       "<style scoped>\n",
       "    .dataframe tbody tr th:only-of-type {\n",
       "        vertical-align: middle;\n",
       "    }\n",
       "\n",
       "    .dataframe tbody tr th {\n",
       "        vertical-align: top;\n",
       "    }\n",
       "\n",
       "    .dataframe thead th {\n",
       "        text-align: right;\n",
       "    }\n",
       "</style>\n",
       "<table border=\"1\" class=\"dataframe\">\n",
       "  <thead>\n",
       "    <tr style=\"text-align: right;\">\n",
       "      <th></th>\n",
       "      <th>id</th>\n",
       "      <th>name</th>\n",
       "      <th>asins</th>\n",
       "      <th>brand</th>\n",
       "      <th>categories</th>\n",
       "      <th>keys</th>\n",
       "      <th>manufacturer</th>\n",
       "      <th>reviews.date</th>\n",
       "      <th>reviews.dateAdded</th>\n",
       "      <th>reviews.dateSeen</th>\n",
       "      <th>...</th>\n",
       "      <th>reviews.title</th>\n",
       "      <th>reviews.userCity</th>\n",
       "      <th>reviews.userProvince</th>\n",
       "      <th>reviews.username</th>\n",
       "      <th>dateAdded</th>\n",
       "      <th>dateUpdated</th>\n",
       "      <th>primaryCategories</th>\n",
       "      <th>imageURLs</th>\n",
       "      <th>manufacturerNumber</th>\n",
       "      <th>sourceURLs</th>\n",
       "    </tr>\n",
       "  </thead>\n",
       "  <tbody>\n",
       "    <tr>\n",
       "      <th>0</th>\n",
       "      <td>AV-ETMhgYSSHbkXwpNb9</td>\n",
       "      <td>All-New Kindle Oasis E-reader - 7 High-Resolut...</td>\n",
       "      <td>B06VTJWRJW</td>\n",
       "      <td>Amazon</td>\n",
       "      <td>Featured Brands,E-Readers &amp; Accessories,EBook ...</td>\n",
       "      <td>amazon/53006390,amazon/b06vtjwrjw,841667188416...</td>\n",
       "      <td>Amazon</td>\n",
       "      <td>2017-11-04T00:00:00.000Z</td>\n",
       "      <td>NaN</td>\n",
       "      <td>2018-05-26T00:00:00Z</td>\n",
       "      <td>...</td>\n",
       "      <td>Great device for reading. Definately pricey.</td>\n",
       "      <td>NaN</td>\n",
       "      <td>NaN</td>\n",
       "      <td>MiketheD</td>\n",
       "      <td>2017-11-03T23:17:55Z</td>\n",
       "      <td>2019-02-25T02:27:15Z</td>\n",
       "      <td>Electronics,Media</td>\n",
       "      <td>https://pisces.bbystatic.com/image2/BestBuy_US...</td>\n",
       "      <td>53-006390</td>\n",
       "      <td>https://www.barcodable.com/upc/841667188416,ht...</td>\n",
       "    </tr>\n",
       "    <tr>\n",
       "      <th>1</th>\n",
       "      <td>AV-ETMhgYSSHbkXwpNb9</td>\n",
       "      <td>All-New Kindle Oasis E-reader - 7 High-Resolut...</td>\n",
       "      <td>B06VTJWRJW</td>\n",
       "      <td>Amazon</td>\n",
       "      <td>Featured Brands,E-Readers &amp; Accessories,EBook ...</td>\n",
       "      <td>amazon/53006390,amazon/b06vtjwrjw,841667188416...</td>\n",
       "      <td>Amazon</td>\n",
       "      <td>2017-11-10T00:00:00.000Z</td>\n",
       "      <td>NaN</td>\n",
       "      <td>2018-05-26T00:00:00Z</td>\n",
       "      <td>...</td>\n",
       "      <td>Excellent Kindle</td>\n",
       "      <td>NaN</td>\n",
       "      <td>NaN</td>\n",
       "      <td>DonA</td>\n",
       "      <td>2017-11-03T23:17:55Z</td>\n",
       "      <td>2019-02-25T02:27:15Z</td>\n",
       "      <td>Electronics,Media</td>\n",
       "      <td>https://pisces.bbystatic.com/image2/BestBuy_US...</td>\n",
       "      <td>53-006390</td>\n",
       "      <td>https://www.barcodable.com/upc/841667188416,ht...</td>\n",
       "    </tr>\n",
       "    <tr>\n",
       "      <th>2</th>\n",
       "      <td>AV-ETMhgYSSHbkXwpNb9</td>\n",
       "      <td>All-New Kindle Oasis E-reader - 7 High-Resolut...</td>\n",
       "      <td>B06VTJWRJW</td>\n",
       "      <td>Amazon</td>\n",
       "      <td>Featured Brands,E-Readers &amp; Accessories,EBook ...</td>\n",
       "      <td>amazon/53006390,amazon/b06vtjwrjw,841667188416...</td>\n",
       "      <td>Amazon</td>\n",
       "      <td>2017-12-20T00:00:00.000Z</td>\n",
       "      <td>NaN</td>\n",
       "      <td>2018-05-26T00:00:00Z</td>\n",
       "      <td>...</td>\n",
       "      <td>Love it</td>\n",
       "      <td>NaN</td>\n",
       "      <td>NaN</td>\n",
       "      <td>puglover</td>\n",
       "      <td>2017-11-03T23:17:55Z</td>\n",
       "      <td>2019-02-25T02:27:15Z</td>\n",
       "      <td>Electronics,Media</td>\n",
       "      <td>https://pisces.bbystatic.com/image2/BestBuy_US...</td>\n",
       "      <td>53-006390</td>\n",
       "      <td>https://www.barcodable.com/upc/841667188416,ht...</td>\n",
       "    </tr>\n",
       "    <tr>\n",
       "      <th>3</th>\n",
       "      <td>AV-ETMhgYSSHbkXwpNb9</td>\n",
       "      <td>All-New Kindle Oasis E-reader - 7 High-Resolut...</td>\n",
       "      <td>B06VTJWRJW</td>\n",
       "      <td>Amazon</td>\n",
       "      <td>Featured Brands,E-Readers &amp; Accessories,EBook ...</td>\n",
       "      <td>amazon/53006390,amazon/b06vtjwrjw,841667188416...</td>\n",
       "      <td>Amazon</td>\n",
       "      <td>2017-12-23T00:00:00.000Z</td>\n",
       "      <td>NaN</td>\n",
       "      <td>2018-05-26T00:00:00Z</td>\n",
       "      <td>...</td>\n",
       "      <td>Good kindle</td>\n",
       "      <td>NaN</td>\n",
       "      <td>NaN</td>\n",
       "      <td>Bitis13</td>\n",
       "      <td>2017-11-03T23:17:55Z</td>\n",
       "      <td>2019-02-25T02:27:15Z</td>\n",
       "      <td>Electronics,Media</td>\n",
       "      <td>https://pisces.bbystatic.com/image2/BestBuy_US...</td>\n",
       "      <td>53-006390</td>\n",
       "      <td>https://www.barcodable.com/upc/841667188416,ht...</td>\n",
       "    </tr>\n",
       "    <tr>\n",
       "      <th>4</th>\n",
       "      <td>AV-EVZITKZqtpbFMSoqc</td>\n",
       "      <td>All-New Kindle Oasis E-reader - 7 High-Resolut...</td>\n",
       "      <td>B06XD5YCKX</td>\n",
       "      <td>Amazon</td>\n",
       "      <td>EBook Readers,Tablets,Electronics,Amazon Eread...</td>\n",
       "      <td>841667176819,amazon/53051929,amazonkindleoasis...</td>\n",
       "      <td>Amazon</td>\n",
       "      <td>2017-11-15T00:00:00.000Z</td>\n",
       "      <td>NaN</td>\n",
       "      <td>2018-05-27T00:00:00Z</td>\n",
       "      <td>...</td>\n",
       "      <td>So much to love, but slippery</td>\n",
       "      <td>NaN</td>\n",
       "      <td>NaN</td>\n",
       "      <td>sdross1968</td>\n",
       "      <td>2017-11-03T23:17:55Z</td>\n",
       "      <td>2019-02-25T02:05:55Z</td>\n",
       "      <td>Electronics,Media</td>\n",
       "      <td>https://target.scene7.com/is/image/Target/5305...</td>\n",
       "      <td>53-006476</td>\n",
       "      <td>https://www.newegg.com/Product/Product.aspx%25...</td>\n",
       "    </tr>\n",
       "    <tr>\n",
       "      <th>5</th>\n",
       "      <td>AV-EVZITKZqtpbFMSoqc</td>\n",
       "      <td>All-New Kindle Oasis E-reader - 7 High-Resolut...</td>\n",
       "      <td>B06XD5YCKX</td>\n",
       "      <td>Amazon</td>\n",
       "      <td>EBook Readers,Tablets,Electronics,Amazon Eread...</td>\n",
       "      <td>841667176819,amazon/53051929,amazonkindleoasis...</td>\n",
       "      <td>Amazon</td>\n",
       "      <td>2017-12-09T00:00:00.000Z</td>\n",
       "      <td>NaN</td>\n",
       "      <td>2018-05-27T00:00:00Z</td>\n",
       "      <td>...</td>\n",
       "      <td>Expensive but nice</td>\n",
       "      <td>NaN</td>\n",
       "      <td>NaN</td>\n",
       "      <td>mar1saaaa</td>\n",
       "      <td>2017-11-03T23:17:55Z</td>\n",
       "      <td>2019-02-25T02:05:55Z</td>\n",
       "      <td>Electronics,Media</td>\n",
       "      <td>https://target.scene7.com/is/image/Target/5305...</td>\n",
       "      <td>53-006476</td>\n",
       "      <td>https://www.newegg.com/Product/Product.aspx%25...</td>\n",
       "    </tr>\n",
       "    <tr>\n",
       "      <th>6</th>\n",
       "      <td>AV-EVZITKZqtpbFMSoqc</td>\n",
       "      <td>All-New Kindle Oasis E-reader - 7 High-Resolut...</td>\n",
       "      <td>B06XD5YCKX</td>\n",
       "      <td>Amazon</td>\n",
       "      <td>EBook Readers,Tablets,Electronics,Amazon Eread...</td>\n",
       "      <td>841667176819,amazon/53051929,amazonkindleoasis...</td>\n",
       "      <td>Amazon</td>\n",
       "      <td>2017-12-10T00:00:00.000Z</td>\n",
       "      <td>NaN</td>\n",
       "      <td>2018-05-27T00:00:00Z</td>\n",
       "      <td>...</td>\n",
       "      <td>Like it</td>\n",
       "      <td>NaN</td>\n",
       "      <td>NaN</td>\n",
       "      <td>kcladyz</td>\n",
       "      <td>2017-11-03T23:17:55Z</td>\n",
       "      <td>2019-02-25T02:05:55Z</td>\n",
       "      <td>Electronics,Media</td>\n",
       "      <td>https://target.scene7.com/is/image/Target/5305...</td>\n",
       "      <td>53-006476</td>\n",
       "      <td>https://www.newegg.com/Product/Product.aspx%25...</td>\n",
       "    </tr>\n",
       "    <tr>\n",
       "      <th>7</th>\n",
       "      <td>AV-EVZITKZqtpbFMSoqc</td>\n",
       "      <td>All-New Kindle Oasis E-reader - 7 High-Resolut...</td>\n",
       "      <td>B06XD5YCKX</td>\n",
       "      <td>Amazon</td>\n",
       "      <td>EBook Readers,Tablets,Electronics,Amazon Eread...</td>\n",
       "      <td>841667176819,amazon/53051929,amazonkindleoasis...</td>\n",
       "      <td>Amazon</td>\n",
       "      <td>2017-12-16T00:00:00.000Z</td>\n",
       "      <td>NaN</td>\n",
       "      <td>2018-05-27T00:00:00Z</td>\n",
       "      <td>...</td>\n",
       "      <td>Love it!</td>\n",
       "      <td>NaN</td>\n",
       "      <td>NaN</td>\n",
       "      <td>Janvib0311</td>\n",
       "      <td>2017-11-03T23:17:55Z</td>\n",
       "      <td>2019-02-25T02:05:55Z</td>\n",
       "      <td>Electronics,Media</td>\n",
       "      <td>https://target.scene7.com/is/image/Target/5305...</td>\n",
       "      <td>53-006476</td>\n",
       "      <td>https://www.newegg.com/Product/Product.aspx%25...</td>\n",
       "    </tr>\n",
       "    <tr>\n",
       "      <th>8</th>\n",
       "      <td>AV-EVZITKZqtpbFMSoqc</td>\n",
       "      <td>All-New Kindle Oasis E-reader - 7 High-Resolut...</td>\n",
       "      <td>B06XD5YCKX</td>\n",
       "      <td>Amazon</td>\n",
       "      <td>EBook Readers,Tablets,Electronics,Amazon Eread...</td>\n",
       "      <td>841667176819,amazon/53051929,amazonkindleoasis...</td>\n",
       "      <td>Amazon</td>\n",
       "      <td>2017-12-21T00:00:00.000Z</td>\n",
       "      <td>NaN</td>\n",
       "      <td>2018-05-27T00:00:00Z</td>\n",
       "      <td>...</td>\n",
       "      <td>You get what you pay for</td>\n",
       "      <td>NaN</td>\n",
       "      <td>NaN</td>\n",
       "      <td>Gunther</td>\n",
       "      <td>2017-11-03T23:17:55Z</td>\n",
       "      <td>2019-02-25T02:05:55Z</td>\n",
       "      <td>Electronics,Media</td>\n",
       "      <td>https://target.scene7.com/is/image/Target/5305...</td>\n",
       "      <td>53-006476</td>\n",
       "      <td>https://www.newegg.com/Product/Product.aspx%25...</td>\n",
       "    </tr>\n",
       "    <tr>\n",
       "      <th>9</th>\n",
       "      <td>AV-EVZITKZqtpbFMSoqc</td>\n",
       "      <td>All-New Kindle Oasis E-reader - 7 High-Resolut...</td>\n",
       "      <td>B06XD5YCKX</td>\n",
       "      <td>Amazon</td>\n",
       "      <td>EBook Readers,Tablets,Electronics,Amazon Eread...</td>\n",
       "      <td>841667176819,amazon/53051929,amazonkindleoasis...</td>\n",
       "      <td>Amazon</td>\n",
       "      <td>2017-12-29T00:00:00.000Z</td>\n",
       "      <td>NaN</td>\n",
       "      <td>2018-05-27T00:00:00Z</td>\n",
       "      <td>...</td>\n",
       "      <td>Best Kindle ever....</td>\n",
       "      <td>NaN</td>\n",
       "      <td>NaN</td>\n",
       "      <td>Rich5814</td>\n",
       "      <td>2017-11-03T23:17:55Z</td>\n",
       "      <td>2019-02-25T02:05:55Z</td>\n",
       "      <td>Electronics,Media</td>\n",
       "      <td>https://target.scene7.com/is/image/Target/5305...</td>\n",
       "      <td>53-006476</td>\n",
       "      <td>https://www.newegg.com/Product/Product.aspx%25...</td>\n",
       "    </tr>\n",
       "  </tbody>\n",
       "</table>\n",
       "<p>10 rows × 27 columns</p>\n",
       "</div>"
      ],
      "text/plain": [
       "                     id                                               name  \\\n",
       "0  AV-ETMhgYSSHbkXwpNb9  All-New Kindle Oasis E-reader - 7 High-Resolut...   \n",
       "1  AV-ETMhgYSSHbkXwpNb9  All-New Kindle Oasis E-reader - 7 High-Resolut...   \n",
       "2  AV-ETMhgYSSHbkXwpNb9  All-New Kindle Oasis E-reader - 7 High-Resolut...   \n",
       "3  AV-ETMhgYSSHbkXwpNb9  All-New Kindle Oasis E-reader - 7 High-Resolut...   \n",
       "4  AV-EVZITKZqtpbFMSoqc  All-New Kindle Oasis E-reader - 7 High-Resolut...   \n",
       "5  AV-EVZITKZqtpbFMSoqc  All-New Kindle Oasis E-reader - 7 High-Resolut...   \n",
       "6  AV-EVZITKZqtpbFMSoqc  All-New Kindle Oasis E-reader - 7 High-Resolut...   \n",
       "7  AV-EVZITKZqtpbFMSoqc  All-New Kindle Oasis E-reader - 7 High-Resolut...   \n",
       "8  AV-EVZITKZqtpbFMSoqc  All-New Kindle Oasis E-reader - 7 High-Resolut...   \n",
       "9  AV-EVZITKZqtpbFMSoqc  All-New Kindle Oasis E-reader - 7 High-Resolut...   \n",
       "\n",
       "        asins   brand                                         categories  \\\n",
       "0  B06VTJWRJW  Amazon  Featured Brands,E-Readers & Accessories,EBook ...   \n",
       "1  B06VTJWRJW  Amazon  Featured Brands,E-Readers & Accessories,EBook ...   \n",
       "2  B06VTJWRJW  Amazon  Featured Brands,E-Readers & Accessories,EBook ...   \n",
       "3  B06VTJWRJW  Amazon  Featured Brands,E-Readers & Accessories,EBook ...   \n",
       "4  B06XD5YCKX  Amazon  EBook Readers,Tablets,Electronics,Amazon Eread...   \n",
       "5  B06XD5YCKX  Amazon  EBook Readers,Tablets,Electronics,Amazon Eread...   \n",
       "6  B06XD5YCKX  Amazon  EBook Readers,Tablets,Electronics,Amazon Eread...   \n",
       "7  B06XD5YCKX  Amazon  EBook Readers,Tablets,Electronics,Amazon Eread...   \n",
       "8  B06XD5YCKX  Amazon  EBook Readers,Tablets,Electronics,Amazon Eread...   \n",
       "9  B06XD5YCKX  Amazon  EBook Readers,Tablets,Electronics,Amazon Eread...   \n",
       "\n",
       "                                                keys manufacturer  \\\n",
       "0  amazon/53006390,amazon/b06vtjwrjw,841667188416...       Amazon   \n",
       "1  amazon/53006390,amazon/b06vtjwrjw,841667188416...       Amazon   \n",
       "2  amazon/53006390,amazon/b06vtjwrjw,841667188416...       Amazon   \n",
       "3  amazon/53006390,amazon/b06vtjwrjw,841667188416...       Amazon   \n",
       "4  841667176819,amazon/53051929,amazonkindleoasis...       Amazon   \n",
       "5  841667176819,amazon/53051929,amazonkindleoasis...       Amazon   \n",
       "6  841667176819,amazon/53051929,amazonkindleoasis...       Amazon   \n",
       "7  841667176819,amazon/53051929,amazonkindleoasis...       Amazon   \n",
       "8  841667176819,amazon/53051929,amazonkindleoasis...       Amazon   \n",
       "9  841667176819,amazon/53051929,amazonkindleoasis...       Amazon   \n",
       "\n",
       "               reviews.date reviews.dateAdded      reviews.dateSeen  ...  \\\n",
       "0  2017-11-04T00:00:00.000Z               NaN  2018-05-26T00:00:00Z  ...   \n",
       "1  2017-11-10T00:00:00.000Z               NaN  2018-05-26T00:00:00Z  ...   \n",
       "2  2017-12-20T00:00:00.000Z               NaN  2018-05-26T00:00:00Z  ...   \n",
       "3  2017-12-23T00:00:00.000Z               NaN  2018-05-26T00:00:00Z  ...   \n",
       "4  2017-11-15T00:00:00.000Z               NaN  2018-05-27T00:00:00Z  ...   \n",
       "5  2017-12-09T00:00:00.000Z               NaN  2018-05-27T00:00:00Z  ...   \n",
       "6  2017-12-10T00:00:00.000Z               NaN  2018-05-27T00:00:00Z  ...   \n",
       "7  2017-12-16T00:00:00.000Z               NaN  2018-05-27T00:00:00Z  ...   \n",
       "8  2017-12-21T00:00:00.000Z               NaN  2018-05-27T00:00:00Z  ...   \n",
       "9  2017-12-29T00:00:00.000Z               NaN  2018-05-27T00:00:00Z  ...   \n",
       "\n",
       "                                  reviews.title reviews.userCity  \\\n",
       "0  Great device for reading. Definately pricey.              NaN   \n",
       "1                              Excellent Kindle              NaN   \n",
       "2                                       Love it              NaN   \n",
       "3                                   Good kindle              NaN   \n",
       "4                 So much to love, but slippery              NaN   \n",
       "5                            Expensive but nice              NaN   \n",
       "6                                       Like it              NaN   \n",
       "7                                      Love it!              NaN   \n",
       "8                      You get what you pay for              NaN   \n",
       "9                          Best Kindle ever....              NaN   \n",
       "\n",
       "   reviews.userProvince  reviews.username             dateAdded  \\\n",
       "0                   NaN          MiketheD  2017-11-03T23:17:55Z   \n",
       "1                   NaN              DonA  2017-11-03T23:17:55Z   \n",
       "2                   NaN          puglover  2017-11-03T23:17:55Z   \n",
       "3                   NaN           Bitis13  2017-11-03T23:17:55Z   \n",
       "4                   NaN        sdross1968  2017-11-03T23:17:55Z   \n",
       "5                   NaN         mar1saaaa  2017-11-03T23:17:55Z   \n",
       "6                   NaN           kcladyz  2017-11-03T23:17:55Z   \n",
       "7                   NaN        Janvib0311  2017-11-03T23:17:55Z   \n",
       "8                   NaN           Gunther  2017-11-03T23:17:55Z   \n",
       "9                   NaN          Rich5814  2017-11-03T23:17:55Z   \n",
       "\n",
       "            dateUpdated  primaryCategories  \\\n",
       "0  2019-02-25T02:27:15Z  Electronics,Media   \n",
       "1  2019-02-25T02:27:15Z  Electronics,Media   \n",
       "2  2019-02-25T02:27:15Z  Electronics,Media   \n",
       "3  2019-02-25T02:27:15Z  Electronics,Media   \n",
       "4  2019-02-25T02:05:55Z  Electronics,Media   \n",
       "5  2019-02-25T02:05:55Z  Electronics,Media   \n",
       "6  2019-02-25T02:05:55Z  Electronics,Media   \n",
       "7  2019-02-25T02:05:55Z  Electronics,Media   \n",
       "8  2019-02-25T02:05:55Z  Electronics,Media   \n",
       "9  2019-02-25T02:05:55Z  Electronics,Media   \n",
       "\n",
       "                                           imageURLs  manufacturerNumber  \\\n",
       "0  https://pisces.bbystatic.com/image2/BestBuy_US...           53-006390   \n",
       "1  https://pisces.bbystatic.com/image2/BestBuy_US...           53-006390   \n",
       "2  https://pisces.bbystatic.com/image2/BestBuy_US...           53-006390   \n",
       "3  https://pisces.bbystatic.com/image2/BestBuy_US...           53-006390   \n",
       "4  https://target.scene7.com/is/image/Target/5305...           53-006476   \n",
       "5  https://target.scene7.com/is/image/Target/5305...           53-006476   \n",
       "6  https://target.scene7.com/is/image/Target/5305...           53-006476   \n",
       "7  https://target.scene7.com/is/image/Target/5305...           53-006476   \n",
       "8  https://target.scene7.com/is/image/Target/5305...           53-006476   \n",
       "9  https://target.scene7.com/is/image/Target/5305...           53-006476   \n",
       "\n",
       "                                          sourceURLs  \n",
       "0  https://www.barcodable.com/upc/841667188416,ht...  \n",
       "1  https://www.barcodable.com/upc/841667188416,ht...  \n",
       "2  https://www.barcodable.com/upc/841667188416,ht...  \n",
       "3  https://www.barcodable.com/upc/841667188416,ht...  \n",
       "4  https://www.newegg.com/Product/Product.aspx%25...  \n",
       "5  https://www.newegg.com/Product/Product.aspx%25...  \n",
       "6  https://www.newegg.com/Product/Product.aspx%25...  \n",
       "7  https://www.newegg.com/Product/Product.aspx%25...  \n",
       "8  https://www.newegg.com/Product/Product.aspx%25...  \n",
       "9  https://www.newegg.com/Product/Product.aspx%25...  \n",
       "\n",
       "[10 rows x 27 columns]"
      ]
     },
     "execution_count": 2,
     "metadata": {},
     "output_type": "execute_result"
    }
   ],
   "source": [
    "# load dataset to a dataframe\n",
    "dataset_paths = [\n",
    "    'dataset/1429_1.csv',\n",
    "    'dataset/Datafiniti_Amazon_Consumer_Reviews_of_Amazon_Products.csv',\n",
    "    'dataset/Datafiniti_Amazon_Consumer_Reviews_of_Amazon_Products_May19.csv'\n",
    "]\n",
    "\n",
    "data = pd.DataFrame() \n",
    "\n",
    "for path in dataset_paths:\n",
    "    df = pd.read_csv(path, low_memory=False)\n",
    "    data = pd.merge(data, df, how='outer') if not data.empty else df\n",
    "\n",
    "# pickle raw dataset\n",
    "data.to_pickle('pickle/raw_dataset.pkl')\n",
    "\n",
    "# print dataset shape\n",
    "print('Rows/columns: ', data.shape)\n",
    "print(SEP)\n",
    "\n",
    "# print dataset columns names\n",
    "print('Column names: ', data.columns)\n",
    "print(SEP)\n",
    "\n",
    "# print dataset first 10 rows\n",
    "data.head(10)"
   ]
  },
  {
   "cell_type": "code",
   "execution_count": 41,
   "metadata": {},
   "outputs": [
    {
     "name": "stdout",
     "output_type": "stream",
     "text": [
      "<class 'pandas.core.frame.DataFrame'>\n",
      "RangeIndex: 67992 entries, 0 to 67991\n",
      "Data columns (total 27 columns):\n",
      " #   Column                Non-Null Count  Dtype  \n",
      "---  ------                --------------  -----  \n",
      " 0   id                    67992 non-null  object \n",
      " 1   name                  61232 non-null  object \n",
      " 2   asins                 67990 non-null  object \n",
      " 3   brand                 67992 non-null  object \n",
      " 4   categories            67992 non-null  object \n",
      " 5   keys                  67992 non-null  object \n",
      " 6   manufacturer          67992 non-null  object \n",
      " 7   reviews.date          67953 non-null  object \n",
      " 8   reviews.dateAdded     25091 non-null  object \n",
      " 9   reviews.dateSeen      67992 non-null  object \n",
      " 10  reviews.didPurchase   10 non-null     object \n",
      " 11  reviews.doRecommend   55152 non-null  object \n",
      " 12  reviews.id            71 non-null     float64\n",
      " 13  reviews.numHelpful    55246 non-null  float64\n",
      " 14  reviews.rating        67959 non-null  float64\n",
      " 15  reviews.sourceURLs    67992 non-null  object \n",
      " 16  reviews.text          67991 non-null  object \n",
      " 17  reviews.title         67973 non-null  object \n",
      " 18  reviews.userCity      0 non-null      float64\n",
      " 19  reviews.userProvince  0 non-null      float64\n",
      " 20  reviews.username      67979 non-null  object \n",
      " 21  dateAdded             33332 non-null  object \n",
      " 22  dateUpdated           33332 non-null  object \n",
      " 23  primaryCategories     33332 non-null  object \n",
      " 24  imageURLs             33332 non-null  object \n",
      " 25  manufacturerNumber    33332 non-null  object \n",
      " 26  sourceURLs            33332 non-null  object \n",
      "dtypes: float64(5), object(22)\n",
      "memory usage: 14.0+ MB\n"
     ]
    }
   ],
   "source": [
    "data.info()"
   ]
  },
  {
   "cell_type": "code",
   "execution_count": 42,
   "metadata": {},
   "outputs": [
    {
     "name": "stdout",
     "output_type": "stream",
     "text": [
      "----------------------------------------------------------------------------------------------------\n",
      "[id] AVqkIhxunnc1JgDc3kg_\n",
      "----------------------------------------------------------------------------------------------------\n",
      "[name] Fire HD 8 Tablet with Alexa, 8 HD Display, 16 GB, Tangerine - with Special Offers\n",
      "----------------------------------------------------------------------------------------------------\n",
      "[asins] B018T075DC\n",
      "----------------------------------------------------------------------------------------------------\n",
      "[brand] Amazon\n",
      "----------------------------------------------------------------------------------------------------\n",
      "[categories] Fire Tablets,Tablets,All Tablets,Amazon Tablets,Genuine Tablet Accessories,Computers & Tablets,Electronics,Amazon\n",
      "----------------------------------------------------------------------------------------------------\n",
      "[keys] amazon/b018t075dc,firehd8tabletwithalexa8hddisplay16gbtangerinewithspecialoffers/5620410,firehd8tabletwithalexa8hddisplay16gbtangerinewithspecialoffers/b018t075dc,amazon/53004485,841667103068,allnewfirehd8tablet8hdwifi16gbincludesspecialofferstangerine/9siacvb7g59795,0841667103068\n",
      "----------------------------------------------------------------------------------------------------\n",
      "[manufacturer] Amazon\n",
      "----------------------------------------------------------------------------------------------------\n",
      "[reviews.date] 2016-11-12T00:00:00.000Z\n",
      "----------------------------------------------------------------------------------------------------\n",
      "[reviews.dateAdded] nan\n",
      "----------------------------------------------------------------------------------------------------\n",
      "[reviews.dateSeen] 2017-04-30T00:00:00Z,2017-06-07T00:00:00Z\n",
      "----------------------------------------------------------------------------------------------------\n",
      "[reviews.didPurchase] nan\n",
      "----------------------------------------------------------------------------------------------------\n",
      "[reviews.doRecommend] True\n",
      "----------------------------------------------------------------------------------------------------\n",
      "[reviews.id] nan\n",
      "----------------------------------------------------------------------------------------------------\n",
      "[reviews.numHelpful] 0.0\n",
      "----------------------------------------------------------------------------------------------------\n",
      "[reviews.rating] 5.0\n",
      "----------------------------------------------------------------------------------------------------\n",
      "[reviews.sourceURLs] http://reviews.bestbuy.com/3545/5620410/reviews.htm%25253Fformat%25253Dembedded%252526page%25253D311,http://reviews.bestbuy.com/3545/5620410/reviews.htm%25253Fformat%25253Dembedded%252526page%25253D344\n",
      "----------------------------------------------------------------------------------------------------\n",
      "[reviews.text] This is the fastest booting tablet I have come across. The speed at which I can access sites is really amazing.\n",
      "----------------------------------------------------------------------------------------------------\n",
      "[reviews.title] Fast Tablet\n",
      "----------------------------------------------------------------------------------------------------\n",
      "[reviews.userCity] nan\n",
      "----------------------------------------------------------------------------------------------------\n",
      "[reviews.userProvince] nan\n",
      "----------------------------------------------------------------------------------------------------\n",
      "[reviews.username] mike\n",
      "----------------------------------------------------------------------------------------------------\n",
      "[dateAdded] 2017-03-06T14:59:43Z\n",
      "----------------------------------------------------------------------------------------------------\n",
      "[dateUpdated] 2019-02-23T02:49:38Z\n",
      "----------------------------------------------------------------------------------------------------\n",
      "[primaryCategories] Electronics\n",
      "----------------------------------------------------------------------------------------------------\n",
      "[imageURLs] https://www.upccodesearch.com/images/barcode/0841667103068.png,https://c1.neweggimages.com/NeweggImage/ProductImage/ACVB_1_201806061563426908.jpg,http://pisces.bbystatic.com/image2/BestBuy_US/images/products/5620/5620410_sd.jpg,https://images-na.ssl-images-amazon.com/images/I/41iTiDa9yXL.jpg,https://pisces.bbystatic.com/image2/BestBuy_US/images/products/5620/5620410_sa.jpg,https://pisces.bbystatic.com/image2/BestBuy_US/images/products/5620/5620410_sd.jpg,https://www.barcodable.com/images/barcode/0841667103068.png,https://c1.neweggimages.com/NeweggImage/ProductImage/ACVB_1_201806061902017755.jpg,https://c1.neweggimages.com/NeweggImage/ProductImage/ACVB_1_201806061380665288.jpg\n",
      "----------------------------------------------------------------------------------------------------\n",
      "[manufacturerNumber] 53-004485\n",
      "----------------------------------------------------------------------------------------------------\n",
      "[sourceURLs] http://reviews.bestbuy.com/3545/5620410/reviews.htm%25253Fformat%25253Dembedded%252526page%25253D84,http://reviews.bestbuy.com/3545/5620410/reviews.htm%25253Fformat%25253Dembedded%252526page%25253D278,http://reviews.bestbuy.com/3545/5620410/reviews.htm%25253Fformat%25253Dembedded%252526page%25253D157,http://reviews.bestbuy.com/3545/5620410/reviews.htm%25253Fformat%25253Dembedded%252526page%25253D279,http://reviews.bestbuy.com/3545/5620410/reviews.htm%25253Fformat%25253Dembedded%252526page%25253D86,http://reviews.bestbuy.com/3545/5620410/reviews.htm%25253Fformat%25253Dembedded%252526page%25253D276,http://reviews.bestbuy.com/3545/5620410/reviews.htm%25253Fformat%25253Dembedded%252526page%25253D155,http://reviews.bestbuy.com/3545/5620410/reviews.htm%25253Fformat%25253Dembedded%252526page%25253D156,http://reviews.bestbuy.com/3545/5620410/reviews.htm%25253Fformat%25253Dembedded%252526page%25253D88,http://reviews.bestbuy.com/3545/5620410/reviews.htm%25253Fformat%25253Dembedded%252526page%25253D274,http://reviews.bestbuy.com/3545/5620410/reviews.htm%25253Fformat%25253Dembedded%252526page%25253D153,http://reviews.bestbuy.com/3545/5620410/reviews.htm%25253Fformat%25253Dembedded%252526page%25253D87,http://reviews.bestbuy.com/3545/5620410/reviews.htm%25253Fformat%25253Dembedded%252526page%25253D154,http://reviews.bestbuy.com/3545/5620410/reviews.htm%25253Fformat%25253Dembedded%252526page%25253D272,http://reviews.bestbuy.com/3545/5620410/reviews.htm%25253Fformat%25253Dembedded%252526page%25253D151,http://reviews.bestbuy.com/3545/5620410/reviews.htm%25253Fformat%25253Dembedded%252526page%25253D89,http://reviews.bestbuy.com/3545/5620410/reviews.htm%25253Fformat%25253Dembedded%252526page%25253D273,http://reviews.bestbuy.com/3545/5620410/reviews.htm%25253Fformat%25253Dembedded%252526page%25253D152,https://www.barcodable.com/upc/841667103068,http://reviews.bestbuy.com/3545/5620410/reviews.htm%25253Fformat%25253Dembedded%252526page%25253D270,http://reviews.bestbuy.com/3545/5620410/reviews.htm%25253Fformat%25253Dembedded%252526page%25253D271,http://reviews.bestbuy.com/3545/5620410/reviews.htm%25253Fformat%25253Dembedded%252526page%25253D150,http://reviews.bestbuy.com/3545/5620410/reviews.htm%25253Fformat%25253Dembedded%252526page%25253D80,http://reviews.bestbuy.com/3545/5620410/reviews.htm%25253Fformat%25253Dembedded%252526page%25253D269,http://reviews.bestbuy.com/3545/5620410/reviews.htm%25253Fformat%25253Dembedded%252526page%25253D148,http://reviews.bestbuy.com/3545/5620410/reviews.htm%25253Fformat%25253Dembedded%252526page%25253D81,http://reviews.bestbuy.com/3545/5620410/reviews.htm%25253Fformat%25253Dembedded%252526page%25253D289,http://reviews.bestbuy.com/3545/5620410/reviews.htm%25253Fformat%25253Dembedded%252526page%25253D94,http://reviews.bestbuy.com/3545/5620410/reviews.htm%25253Fformat%25253Dembedded%252526page%25253D169,http://reviews.bestbuy.com/3545/5620410/reviews.htm%25253Fformat%25253Dembedded%252526page%25253D96,http://reviews.bestbuy.com/3545/5620410/reviews.htm%25253Fformat%25253Dembedded%252526page%25253D288,http://reviews.bestbuy.com/3545/5620410/reviews.htm%25253Fformat%25253Dembedded%252526page%25253D167,http://reviews.bestbuy.com/3545/5620410/reviews.htm%25253Fformat%25253Dembedded%252526page%25253D99,http://reviews.bestbuy.com/3545/5620410/reviews.htm%25253Fformat%25253Dembedded%252526page%25253D164,http://reviews.bestbuy.com/3545/5620410/reviews.htm%25253Fformat%25253Dembedded%252526page%25253D286,http://reviews.bestbuy.com/3545/5620410/reviews.htm%25253Fformat%25253Dembedded%252526page%25253D165,http://reviews.bestbuy.com/3545/5620410/reviews.htm%25253Fformat%25253Dembedded%252526page%25253D162,http://reviews.bestbuy.com/3545/5620410/reviews.htm%25253Fformat%25253Dembedded%252526page%25253D160,http://reviews.bestbuy.com/3545/5620410/reviews.htm%25253Fformat%25253Dembedded%252526page%25253D282,http://reviews.bestbuy.com/3545/5620410/reviews.htm%25253Fformat%25253Dembedded%252526page%25253D9,http://reviews.bestbuy.com/3545/5620410/reviews.htm%25253Fformat%25253Dembedded%252526page%25253D7,http://reviews.bestbuy.com/3545/5620410/reviews.htm%25253Fformat%25253Dembedded%252526page%25253D8,http://reviews.bestbuy.com/3545/5620410/reviews.htm%25253Fformat%25253Dembedded%252526page%25253D5,http://reviews.bestbuy.com/3545/5620410/reviews.htm%25253Fformat%25253Dembedded%252526page%25253D6,http://reviews.bestbuy.com/3545/5620410/reviews.htm%25253Fformat%25253Dembedded%252526page%25253D91,http://reviews.bestbuy.com/3545/5620410/reviews.htm%25253Fformat%25253Dembedded%252526page%25253D90,http://reviews.bestbuy.com/3545/5620410/reviews.htm%25253Fformat%25253Dembedded%252526page%25253D93,http://reviews.bestbuy.com/3545/5620410/reviews.htm%25253Fformat%25253Dembedded%252526page%25253D159,http://reviews.bestbuy.com/3545/5620410/reviews.htm%25253Fformat%25253Dembedded%252526page%25253D92,http://reviews.bestbuy.com/3545/5620410/reviews.htm%25253Fformat%25253Dembedded%252526page%25253D179,http://reviews.bestbuy.com/3545/5620410/reviews.htm%25253Fformat%25253Dembedded%252526page%25253D296,http://reviews.bestbuy.com/3545/5620410/reviews.htm%25253Fformat%25253Dembedded%252526page%25253D176,http://reviews.bestbuy.com/3545/5620410/reviews.htm%25253Fformat%25253Dembedded%252526page%25253D173,http://reviews.bestbuy.com/3545/5620410/reviews.htm%25253Fformat%25253Dembedded%252526page%25253D295,http://reviews.bestbuy.com/3545/5620410/reviews.htm%25253Fformat%25253Dembedded%252526page%25253D174,http://reviews.bestbuy.com/3545/5620410/reviews.htm%25253Fformat%25253Dembedded%252526page%25253D292,http://reviews.bestbuy.com/3545/5620410/reviews.htm%25253Fformat%25253Dembedded%252526page%25253D171,http://reviews.bestbuy.com/3545/5620410/reviews.htm%25253Fformat%25253Dembedded%252526page%25253D293,http://reviews.bestbuy.com/3545/5620410/reviews.htm%25253Fformat%25253Dembedded%252526page%25253D172,http://reviews.bestbuy.com/3545/5620410/reviews.htm%25253Fformat%25253Dembedded%252526page%25253D290,http://reviews.bestbuy.com/3545/5620410/reviews.htm%25253Fformat%25253Dembedded%252526page%25253D170,https://www.newegg.com/Product/Product.aspx%25253FItem%25253D9SIACVB7G59795,http://reviews.bestbuy.com/3545/5620410/reviews.htm%25253Fformat%25253Dembedded%252526page%25253D188,http://reviews.bestbuy.com/3545/5620410/reviews.htm%25253Fformat%25253Dembedded%252526page%25253D187,http://reviews.bestbuy.com/3545/5620410/reviews.htm%25253Fformat%25253Dembedded%252526page%25253D184,http://reviews.bestbuy.com/3545/5620410/reviews.htm%25253Fformat%25253Dembedded%252526page%25253D185,https://www.newegg.com/Product/Product.aspx%2525253FItem%2525253D9SIACVB7G59795,http://reviews.bestbuy.com/3545/5620410/reviews.htm%25253Fformat%25253Dembedded%252526page%25253D182,http://reviews.bestbuy.com/3545/5620410/reviews.htm%25253Fformat%25253Dembedded%252526page%25253D183,http://reviews.bestbuy.com/3545/5620410/reviews.htm%25253Fformat%25253Dembedded%252526page%25253D180,http://reviews.bestbuy.com/3545/5620410/reviews.htm%25253Fformat%25253Dembedded%252526page%25253D181,http://reviews.bestbuy.com/3545/5620410/reviews.htm%25253Fformat%25253Dembedded%252526page%25253D40,http://reviews.bestbuy.com/3545/5620410/reviews.htm%25253Fformat%25253Dembedded%252526page%25253D235,http://reviews.bestbuy.com/3545/5620410/reviews.htm%25253Fformat%25253Dembedded%252526page%25253D114,http://reviews.bestbuy.com/3545/5620410/reviews.htm%25253Fformat%25253Dembedded%252526page%25253D42,http://reviews.bestbuy.com/3545/5620410/reviews.htm%25253Fformat%25253Dembedded%252526page%25253D232,http://reviews.bestbuy.com/3545/5620410/reviews.htm%25253Fformat%25253Dembedded%252526page%25253D226,http://reviews.bestbuy.com/3545/5620410/reviews.htm%25253Fformat%25253Dembedded%252526page%25253D105,http://reviews.bestbuy.com/3545/5620410/reviews.htm%25253Fformat%25253Dembedded%252526page%25253D347,http://reviews.bestbuy.com/3545/5620410/reviews.htm%25253Fformat%25253Dembedded%252526page%25253D51,http://reviews.bestbuy.com/3545/5620410/reviews.htm%25253Fformat%25253Dembedded%252526page%25253D124,http://reviews.bestbuy.com/3545/5620410/reviews.htm%25253Fformat%25253Dembedded%252526page%25253D50,http://reviews.bestbuy.com/3545/5620410/reviews.htm%25253Fformat%25253Dembedded%252526page%25253D246,http://reviews.bestbuy.com/3545/5620410/reviews.htm%25253Fformat%25253Dembedded%252526page%25253D125,http://reviews.bestbuy.com/3545/5620410/reviews.htm%25253Fformat%25253Dembedded%252526page%25253D53,http://reviews.bestbuy.com/3545/5620410/reviews.htm%25253Fformat%25253Dembedded%252526page%25253D122,http://reviews.bestbuy.com/3545/5620410/reviews.htm%25253Fformat%25253Dembedded%252526page%25253D52,http://reviews.bestbuy.com/3545/5620410/reviews.htm%25253Fformat%25253Dembedded%252526page%25253D244,http://reviews.bestbuy.com/3545/5620410/reviews.htm%25253Fformat%25253Dembedded%252526page%25253D123,http://reviews.bestbuy.com/3545/5620410/reviews.htm%25253Fformat%25253Dembedded%252526page%25253D55,http://reviews.bestbuy.com/3545/5620410/reviews.htm%25253Fformat%25253Dembedded%252526page%25253D241,http://reviews.bestbuy.com/3545/5620410/reviews.htm%25253Fformat%25253Dembedded%252526page%25253D120,http://reviews.bestbuy.com/3545/5620410/reviews.htm%25253Fformat%25253Dembedded%252526page%25253D54,http://reviews.bestbuy.com/3545/5620410/reviews.htm%25253Fformat%25253Dembedded%252526page%25253D242,http://reviews.bestbuy.com/3545/5620410/reviews.htm%25253Fformat%25253Dembedded%252526page%25253D57,http://reviews.bestbuy.com/3545/5620410/reviews.htm%25253Fformat%25253Dembedded%252526page%25253D240,http://reviews.bestbuy.com/3545/5620410/reviews.htm%25253Fformat%25253Dembedded%252526page%25253D59,http://reviews.bestbuy.com/3545/5620410/reviews.htm%25253Fformat%25253Dembedded%252526page%25253D58,http://reviews.bestbuy.com/3545/5620410/reviews.htm%25253Fformat%25253Dembedded%252526page%25253D119,http://reviews.bestbuy.com/3545/5620410/reviews.htm%25253Fformat%25253Dembedded%252526page%25253D238,http://reviews.bestbuy.com/3545/5620410/reviews.htm%25253Fformat%25253Dembedded%252526page%25253D117,http://reviews.bestbuy.com/3545/5620410/reviews.htm%25253Fformat%25253Dembedded%252526page%25253D239,http://reviews.bestbuy.com/3545/5620410/reviews.htm%25253Fformat%25253Dembedded%252526page%25253D236,http://reviews.bestbuy.com/3545/5620410/reviews.htm%25253Fformat%25253Dembedded%252526page%25253D116,http://reviews.bestbuy.com/3545/5620410/reviews.htm%25253Fformat%25253Dembedded%252526page%25253D62,http://reviews.bestbuy.com/3545/5620410/reviews.htm%25253Fformat%25253Dembedded%252526page%25253D256,http://reviews.bestbuy.com/3545/5620410/reviews.htm%25253Fformat%25253Dembedded%252526page%25253D136,http://reviews.bestbuy.com/3545/5620410/reviews.htm%25253Fformat%25253Dembedded%252526page%25253D254,http://reviews.bestbuy.com/3545/5620410/reviews.htm%25253Fformat%25253Dembedded%252526page%25253D133,http://reviews.bestbuy.com/3545/5620410/reviews.htm%25253Fformat%25253Dembedded%252526page%25253D63,http://reviews.bestbuy.com/3545/5620410/reviews.htm%25253Fformat%25253Dembedded%252526page%25253D66,http://reviews.bestbuy.com/3545/5620410/reviews.htm%25253Fformat%25253Dembedded%252526page%25253D252,http://reviews.bestbuy.com/3545/5620410/reviews.htm%25253Fformat%25253Dembedded%252526page%25253D131,http://reviews.bestbuy.com/3545/5620410/reviews.htm%25253Fformat%25253Dembedded%252526page%25253D253,http://reviews.bestbuy.com/3545/5620410/reviews.htm%25253Fformat%25253Dembedded%252526page%25253D132,http://reviews.bestbuy.com/3545/5620410/reviews.htm%25253Fformat%25253Dembedded%252526page%25253D68,http://reviews.bestbuy.com/3545/5620410/reviews.htm%25253Fformat%25253Dembedded%252526page%25253D250,http://reviews.bestbuy.com/3545/5620410/reviews.htm%25253Fformat%25253Dembedded%252526page%25253D67,http://reviews.bestbuy.com/3545/5620410/reviews.htm%25253Fformat%25253Dembedded%252526page%25253D130,http://reviews.bestbuy.com/3545/5620410/reviews.htm%25253Fformat%25253Dembedded%252526page%25253D251,http://www.bestbuy.com/site/amazon-fire-hd8-8-tablet-16gb-wi-fi-tangerine/5620410.p%25253FskuId%25253D5620410,http://reviews.bestbuy.com/3545/5620410/reviews.htm%25253Fformat%25253Dembedded%252526page%25253D249,http://reviews.bestbuy.com/3545/5620410/reviews.htm%25253Fformat%25253Dembedded%252526page%25253D128,http://reviews.bestbuy.com/3545/5620410/reviews.htm%25253Fformat%25253Dembedded%252526page%25253D129,http://reviews.bestbuy.com/3545/5620410/reviews.htm%25253Fformat%25253Dembedded%252526page%25253D60,http://reviews.bestbuy.com/3545/5620410/reviews.htm%25253Fformat%25253Dembedded%252526page%25253D247,http://reviews.bestbuy.com/3545/5620410/reviews.htm%25253Fformat%25253Dembedded%252526page%25253D126,http://reviews.bestbuy.com/3545/5620410/reviews.htm%25253Fformat%25253Dembedded%252526page%25253D248,http://reviews.bestbuy.com/3545/5620410/reviews.htm%25253Fformat%25253Dembedded%252526page%25253D73,http://reviews.bestbuy.com/3545/5620410/reviews.htm%25253Fformat%25253Dembedded%252526page%25253D146,http://reviews.bestbuy.com/3545/5620410/reviews.htm%25253Fformat%25253Dembedded%252526page%25253D72,http://reviews.bestbuy.com/3545/5620410/reviews.htm%25253Fformat%25253Dembedded%252526page%25253D268,http://reviews.bestbuy.com/3545/5620410/reviews.htm%25253Fformat%25253Dembedded%252526page%25253D147,http://reviews.bestbuy.com/3545/5620410/reviews.htm%25253Fformat%25253Dembedded%252526page%25253D75,http://reviews.bestbuy.com/3545/5620410/reviews.htm%25253Fformat%25253Dembedded%252526page%25253D265,http://reviews.bestbuy.com/3545/5620410/reviews.htm%25253Fformat%25253Dembedded%252526page%25253D144,http://reviews.bestbuy.com/3545/5620410/reviews.htm%25253Fformat%25253Dembedded%252526page%25253D74,http://reviews.bestbuy.com/3545/5620410/reviews.htm%25253Fformat%25253Dembedded%252526page%25253D145,http://reviews.bestbuy.com/3545/5620410/reviews.htm%25253Fformat%25253Dembedded%252526page%25253D263,http://reviews.bestbuy.com/3545/5620410/reviews.htm%25253Fformat%25253Dembedded%252526page%25253D142,http://reviews.bestbuy.com/3545/5620410/reviews.htm%25253Fformat%25253Dembedded%252526page%25253D76,http://reviews.bestbuy.com/3545/5620410/reviews.htm%25253Fformat%25253Dembedded%252526page%25253D264,http://reviews.bestbuy.com/3545/5620410/reviews.htm%25253Fformat%25253Dembedded%252526page%25253D143,http://reviews.bestbuy.com/3545/5620410/reviews.htm%25253Fformat%25253Dembedded%252526page%25253D79,http://reviews.bestbuy.com/3545/5620410/reviews.htm%25253Fformat%25253Dembedded%252526page%25253D261,http://reviews.bestbuy.com/3545/5620410/reviews.htm%25253Fformat%25253Dembedded%252526page%25253D140,http://reviews.bestbuy.com/3545/5620410/reviews.htm%25253Fformat%25253Dembedded%252526page%25253D78,http://reviews.bestbuy.com/3545/5620410/reviews.htm%25253Fformat%25253Dembedded%252526page%25253D262,http://reviews.bestbuy.com/3545/5620410/reviews.htm%25253Fformat%25253Dembedded%252526page%25253D260,http://reviews.bestbuy.com/3545/5620410/reviews.htm%25253Fformat%25253Dembedded%252526page%25253D139,http://reviews.bestbuy.com/3545/5620410/reviews.htm%25253Fformat%25253Dembedded%252526page%25253D71,http://reviews.bestbuy.com/3545/5620410/reviews.htm%25253Fformat%25253Dembedded%252526page%25253D258,http://reviews.bestbuy.com/3545/5620410/reviews.htm%25253Fformat%25253Dembedded%252526page%25253D70,http://reviews.bestbuy.com/3545/5620410/reviews.htm%25253Fformat%25253Dembedded%252526page%25253D259,http://reviews.bestbuy.com/3545/5620410/reviews.htm%25253Fformat%25253Dembedded%252526page%25253D311,http://reviews.bestbuy.com/3545/5620410/reviews.htm%25253Fformat%25253Dembedded%252526page%25253D312,http://reviews.bestbuy.com/3545/5620410/reviews.htm%25253Fformat%25253Dembedded%252526page%25253D310,http://reviews.bestbuy.com/3545/5620410/reviews.htm%25253Fformat%25253Dembedded%252526page%25253D308,http://reviews.bestbuy.com/3545/5620410/reviews.htm%25253Fformat%25253Dembedded%252526page%25253D306,http://reviews.bestbuy.com/3545/5620410/reviews.htm%25253Fformat%25253Dembedded%252526page%25253D304,http://reviews.bestbuy.com/3545/5620410/reviews.htm%25253Fformat%25253Dembedded%252526page%25253D305,http://reviews.bestbuy.com/3545/5620410/reviews.htm%25253Fformat%25253Dembedded%252526page%25253D302,http://reviews.bestbuy.com/3545/5620410/reviews.htm%25253Fformat%25253Dembedded%252526page%25253D303,http://reviews.bestbuy.com/3545/5620410/reviews.htm%25253Fformat%25253Dembedded%252526page%25253D322,http://reviews.bestbuy.com/3545/5620410/reviews.htm%25253Fformat%25253Dembedded%252526page%25253D202,http://reviews.bestbuy.com/3545/5620410/reviews.htm%25253Fformat%25253Dembedded%252526page%25253D323,http://reviews.bestbuy.com/3545/5620410/reviews.htm%25253Fformat%25253Dembedded%252526page%25253D200,http://reviews.bestbuy.com/3545/5620410/reviews.htm%25253Fformat%25253Dembedded%252526page%25253D321,http://reviews.bestbuy.com/3545/5620410/reviews.htm%25253Fformat%25253Dembedded%252526page%25253D11,http://reviews.bestbuy.com/3545/5620410/reviews.htm%25253Fformat%25253Dembedded%252526page%25253D10,http://reviews.bestbuy.com/3545/5620410/reviews.htm%25253Fformat%25253Dembedded%252526page%25253D12,http://reviews.bestbuy.com/3545/5620410/reviews.htm%25253Fformat%25253Dembedded%252526page%25253D15,http://reviews.bestbuy.com/3545/5620410/reviews.htm%25253Fformat%25253Dembedded%252526page%25253D16,http://reviews.bestbuy.com/3545/5620410/reviews.htm%25253Fformat%25253Dembedded%252526page%25253D19,http://reviews.bestbuy.com/3545/5620410/reviews.htm%25253Fformat%25253Dembedded%252526page%25253D18,http://reviews.bestbuy.com/3545/5620410/reviews.htm%25253Fformat%25253Dembedded%252526page%25253D319,http://reviews.bestbuy.com/3545/5620410/reviews.htm%25253Fformat%25253Dembedded%252526page%25253D317,http://reviews.bestbuy.com/3545/5620410/reviews.htm%25253Fformat%25253Dembedded%252526page%25253D318,http://reviews.bestbuy.com/3545/5620410/reviews.htm%25253Fformat%25253Dembedded%252526page%25253D316,http://reviews.bestbuy.com/3545/5620410/reviews.htm%25253Fformat%25253Dembedded%252526page%25253D313,http://reviews.bestbuy.com/3545/5620410/reviews.htm%25253Fformat%25253Dembedded%252526page%25253D314,http://reviews.bestbuy.com/3545/5620410/reviews.htm%25253Fformat%25253Dembedded%252526page%25253D212,http://reviews.bestbuy.com/3545/5620410/reviews.htm%25253Fformat%25253Dembedded%252526page%25253D333,http://reviews.bestbuy.com/3545/5620410/reviews.htm%25253Fformat%25253Dembedded%252526page%25253D213,http://reviews.bestbuy.com/3545/5620410/reviews.htm%25253Fformat%25253Dembedded%252526page%25253D334,http://reviews.bestbuy.com/3545/5620410/reviews.htm%25253Fformat%25253Dembedded%252526page%25253D210,http://reviews.bestbuy.com/3545/5620410/reviews.htm%25253Fformat%25253Dembedded%252526page%25253D331,http://reviews.bestbuy.com/3545/5620410/reviews.htm%25253Fformat%25253Dembedded%252526page%25253D20,http://reviews.bestbuy.com/3545/5620410/reviews.htm%25253Fformat%25253Dembedded%252526page%25253D332,http://reviews.bestbuy.com/3545/5620410/reviews.htm%25253Fformat%25253Dembedded%252526page%25253D22,http://reviews.bestbuy.com/3545/5620410/reviews.htm%25253Fformat%25253Dembedded%252526page%25253D330,http://reviews.bestbuy.com/3545/5620410/reviews.htm%25253Fformat%25253Dembedded%252526page%25253D21,http://reviews.bestbuy.com/3545/5620410/reviews.htm%25253Fformat%25253Dembedded%252526page%25253D24,http://reviews.bestbuy.com/3545/5620410/reviews.htm%25253Fformat%25253Dembedded%252526page%25253D23,http://reviews.bestbuy.com/3545/5620410/reviews.htm%25253Fformat%25253Dembedded%252526page%25253D25,http://reviews.bestbuy.com/3545/5620410/reviews.htm%25253Fformat%25253Dembedded%252526page%25253D29,http://reviews.bestbuy.com/3545/5620410/reviews.htm%25253Fformat%25253Dembedded%252526page%25253D209,http://reviews.bestbuy.com/3545/5620410/reviews.htm%25253Fformat%25253Dembedded%252526page%25253D207,http://reviews.bestbuy.com/3545/5620410/reviews.htm%25253Fformat%25253Dembedded%252526page%25253D208,http://reviews.bestbuy.com/3545/5620410/reviews.htm%25253Fformat%25253Dembedded%252526page%25253D329,http://reviews.bestbuy.com/3545/5620410/reviews.htm%25253Fformat%25253Dembedded%252526page%25253D205,http://reviews.bestbuy.com/3545/5620410/reviews.htm%25253Fformat%25253Dembedded%252526page%25253D326,http://reviews.bestbuy.com/3545/5620410/reviews.htm%25253Fformat%25253Dembedded%252526page%25253D206,http://reviews.bestbuy.com/3545/5620410/reviews.htm%25253Fformat%25253Dembedded%252526page%25253D327,http://reviews.bestbuy.com/3545/5620410/reviews.htm%25253Fformat%25253Dembedded%252526page%25253D324,http://reviews.bestbuy.com/3545/5620410/reviews.htm%25253Fformat%25253Dembedded%252526page%25253D204,http://reviews.bestbuy.com/3545/5620410/reviews.htm%25253Fformat%25253Dembedded%252526page%25253D325,http://reviews.bestbuy.com/3545/5620410/reviews.htm%25253Fformat%25253Dembedded%252526page%25253D102,http://reviews.bestbuy.com/3545/5620410/reviews.htm%25253Fformat%25253Dembedded%252526page%25253D224,http://reviews.bestbuy.com/3545/5620410/reviews.htm%25253Fformat%25253Dembedded%252526page%25253D103,http://reviews.bestbuy.com/3545/5620410/reviews.htm%25253Fformat%25253Dembedded%252526page%25253D345,http://reviews.bestbuy.com/3545/5620410/reviews.htm%25253Fformat%25253Dembedded%252526page%25253D100,http://reviews.bestbuy.com/3545/5620410/reviews.htm%25253Fformat%25253Dembedded%252526page%25253D342,http://reviews.bestbuy.com/3545/5620410/reviews.htm%25253Fformat%25253Dembedded%252526page%25253D343,http://reviews.bestbuy.com/3545/5620410/reviews.htm%25253Fformat%25253Dembedded%252526page%25253D30,http://reviews.bestbuy.com/3545/5620410/reviews.htm%25253Fformat%25253Dembedded%252526page%25253D340,http://reviews.bestbuy.com/3545/5620410/reviews.htm%25253Fformat%25253Dembedded%252526page%25253D33,http://reviews.bestbuy.com/3545/5620410/reviews.htm%25253Fformat%25253Dembedded%252526page%25253D220,http://reviews.bestbuy.com/3545/5620410/reviews.htm%25253Fformat%25253Dembedded%252526page%25253D341,http://reviews.bestbuy.com/3545/5620410/reviews.htm%25253Fformat%25253Dembedded,http://reviews.bestbuy.com/3545/5620410/reviews.htm%25253Fformat%25253Dembedded%252526page%25253D37,http://reviews.bestbuy.com/3545/5620410/reviews.htm%25253Fformat%25253Dembedded%252526page%25253D36,http://reviews.bestbuy.com/3545/5620410/reviews.htm%25253Fformat%25253Dembedded%252526page%25253D38,https://www.upccodesearch.com/upc/841667103068,http://reviews.bestbuy.com/3545/5620410/reviews.htm%25253Fformat%25253Dembedded%252526page%25253D339,http://reviews.bestbuy.com/3545/5620410/reviews.htm%25253Fformat%25253Dembedded%252526page%25253D219,http://reviews.bestbuy.com/3545/5620410/reviews.htm%25253Fformat%25253Dembedded%252526page%25253D216,http://reviews.bestbuy.com/3545/5620410/reviews.htm%25253Fformat%25253Dembedded%252526page%25253D337,http://reviews.bestbuy.com/3545/5620410/reviews.htm%25253Fformat%25253Dembedded%252526page%25253D217,http://reviews.bestbuy.com/3545/5620410/reviews.htm%25253Fformat%25253Dembedded%252526page%25253D338,http://reviews.bestbuy.com/3545/5620410/reviews.htm%25253Fformat%25253Dembedded%252526page%25253D214,http://reviews.bestbuy.com/3545/5620410/reviews.htm%25253Fformat%25253Dembedded%252526page%25253D335,http://reviews.bestbuy.com/3545/5620410/reviews.htm%25253Fformat%25253Dembedded%252526page%25253D215,http://reviews.bestbuy.com/3545/5620410/reviews.htm%25253Fformat%25253Dembedded%252526page%25253D199,http://reviews.bestbuy.com/3545/5620410/reviews.htm%25253Fformat%25253Dembedded%252526page%25253D195,http://reviews.bestbuy.com/3545/5620410/reviews.htm%25253Fformat%25253Dembedded%252526page%25253D196,http://reviews.bestbuy.com/3545/5620410/reviews.htm%25253Fformat%25253Dembedded%252526page%25253D194,http://reviews.bestbuy.com/3545/5620410/reviews.htm%25253Fformat%25253Dembedded%252526page%25253D191,http://reviews.bestbuy.com/3545/5620410/reviews.htm%25253Fformat%25253Dembedded%252526page%25253D192,http://reviews.bestbuy.com/3545/5620410/reviews.htm%25253Fformat%25253Dembedded%252526page%25253D190,https://www.newegg.com/Product/Product.aspx%253FItem%253D9SIACVB7G59795,http://reviews.bestbuy.com/3545/5620410/reviews.htm%25253Fformat%25253Dembedded%252526page%25253D4,http://reviews.bestbuy.com/3545/5620410/reviews.htm%25253Fformat%25253Dembedded%252526page%25253D300,http://reviews.bestbuy.com/3545/5620410/reviews.htm%25253Fformat%25253Dembedded%252526page%25253D301\n"
     ]
    }
   ],
   "source": [
    "# Let's check 1 random review in more details\n",
    "def print_random_product_sheet(data):\n",
    "    '''Print a random product sheet'''\n",
    "    row = randint(0, data.shape[0])\n",
    "    for col in data.columns:\n",
    "        print(SEP)\n",
    "        print(f'[{col}] {data[col][row]}')\n",
    "\n",
    "print_random_product_sheet(data)"
   ]
  },
  {
   "cell_type": "markdown",
   "metadata": {},
   "source": [
    "## Clean up dataset\n",
    "Let's do a cleaning pass on the dataset.\n",
    "\n",
    "The columns interesting to us are the following:  \n",
    "- name\n",
    "- brand\n",
    "- categories (may not be needed)\n",
    "- reviews.date (in case we need to define a time interval)\n",
    "- reviews.doRecommend (should be concatenated with review text if provided)\n",
    "- reviews.rating\n",
    "- reviews.text\n",
    "- reviews.title (should be concatenated with review text)\n",
    "\n",
    "ALl other columns can be discarded at this point."
   ]
  },
  {
   "cell_type": "code",
   "execution_count": 43,
   "metadata": {},
   "outputs": [
    {
     "name": "stdout",
     "output_type": "stream",
     "text": [
      "7 columns to keep:  ['name', 'brand', 'categories', 'reviews.doRecommend', 'reviews.rating', 'reviews.text', 'reviews.title']\n",
      "----------------------------------------------------------------------------------------------------\n",
      "[name] Amazon - Amazon Tap Portable Bluetooth and Wi-Fi Speaker - Black,,,\n",
      "Amazon - Amazon Tap Portable Bluetooth and Wi-Fi Speaker - Black,,,\n",
      "----------------------------------------------------------------------------------------------------\n",
      "[brand] Amazon\n",
      "----------------------------------------------------------------------------------------------------\n",
      "[categories] Stereos,Remote Controls,Amazon Echo,Audio Docks & Mini Speakers,Amazon Echo Accessories,Kitchen & Dining Features,Speaker Systems,Electronics,TVs Entertainment,Clearance,Smart Hubs & Wireless Routers,Featured Brands,Wireless Speakers,Smart Home & Connected Living,Home Security,Kindle Store,Home Automation,Home, Garage & Office,Home,Voice-Enabled Smart Assistants,Virtual Assistant Speakers,Portable Audio & Headphones,Electronics Features,Amazon Device Accessories,iPod, Audio Player Accessories,Home & Furniture Clearance,Consumer Electronics,Smart Home,Surveillance,Home Improvement,Smart Home & Home Automation Devices,Smart Hubs,Home Safety & Security,Voice Assistants,Alarms & Sensors,Amazon Devices,Audio,Holiday Shop\n",
      "----------------------------------------------------------------------------------------------------\n",
      "[reviews.doRecommend] True\n",
      "----------------------------------------------------------------------------------------------------\n",
      "[reviews.rating] 5.0\n",
      "----------------------------------------------------------------------------------------------------\n",
      "[reviews.text] This is our second Echo, and a 4th Dot. Really love Echo and now have a Dot at the office. Easy to set up. I use it for news briefings, calendar, and music. Will be trying some new features...like messaging and Fitbit.\n",
      "----------------------------------------------------------------------------------------------------\n",
      "[reviews.title] An addition to our Alexa family\n"
     ]
    }
   ],
   "source": [
    "# remove unnecessary columns\n",
    "columns_to_keep = ['name', 'brand', 'categories', 'reviews.doRecommend', 'reviews.rating', 'reviews.text', 'reviews.title']\n",
    "print(len(columns_to_keep), 'columns to keep: ', columns_to_keep)\n",
    "\n",
    "# remove columns that are not in columns_to_keep\n",
    "data_clean = data[columns_to_keep]\n",
    "print_random_product_sheet(data_clean)"
   ]
  },
  {
   "cell_type": "code",
   "execution_count": 44,
   "metadata": {},
   "outputs": [
    {
     "name": "stdout",
     "output_type": "stream",
     "text": [
      "Number of duplicate rows:  2153\n",
      "Number of duplicate rows:  0\n"
     ]
    }
   ],
   "source": [
    "# check and drop duplicate rows (all values in a row are the same)\n",
    "print('Number of duplicate rows: ', data_clean.duplicated().sum())\n",
    "\n",
    "data_clean = data_clean.drop_duplicates()\n",
    "print('Number of duplicate rows: ', data_clean.duplicated().sum())"
   ]
  },
  {
   "cell_type": "code",
   "execution_count": 45,
   "metadata": {},
   "outputs": [
    {
     "name": "stdout",
     "output_type": "stream",
     "text": [
      "Missing values:\n",
      "\n",
      "name                    6760\n",
      "brand                      0\n",
      "categories                 0\n",
      "reviews.doRecommend    12042\n",
      "reviews.rating            33\n",
      "reviews.text               1\n",
      "reviews.title             19\n",
      "dtype: int64\n"
     ]
    }
   ],
   "source": [
    "# check for missing values\n",
    "print('Missing values:\\n')\n",
    "print(data_clean.isnull().sum())"
   ]
  },
  {
   "cell_type": "code",
   "execution_count": 46,
   "metadata": {},
   "outputs": [
    {
     "name": "stdout",
     "output_type": "stream",
     "text": [
      "There are 125 unique product names in the dataset\n"
     ]
    }
   ],
   "source": [
    "# check for unique names\n",
    "print('There are', data_clean['name'].nunique(), 'unique product names in the dataset')\n"
   ]
  },
  {
   "cell_type": "code",
   "execution_count": 17,
   "metadata": {},
   "outputs": [
    {
     "name": "stdout",
     "output_type": "stream",
     "text": [
      "Missing values:\n",
      "\n",
      "name                       0\n",
      "brand                      0\n",
      "categories                 0\n",
      "reviews.doRecommend    11906\n",
      "reviews.rating             0\n",
      "reviews.text               0\n",
      "reviews.title             17\n",
      "dtype: int64\n"
     ]
    }
   ],
   "source": [
    "# delete rows with missing name, rating, and text\n",
    "data_clean = data_clean.dropna(subset=['name', 'reviews.rating', 'reviews.text'])\n",
    "\n",
    "print('Missing values:\\n')\n",
    "print(data_clean.isnull().sum())"
   ]
  },
  {
   "cell_type": "markdown",
   "metadata": {},
   "source": [
    "The other nan values are not an issue: We can classify a review that has no title or no doRecommend, as long as we have the text."
   ]
  },
  {
   "cell_type": "code",
   "execution_count": 18,
   "metadata": {},
   "outputs": [
    {
     "name": "stdout",
     "output_type": "stream",
     "text": [
      "reviews.rating\n",
      "5.0    40424\n",
      "4.0    13671\n",
      "3.0     2629\n",
      "2.0      994\n",
      "1.0     1328\n",
      "Name: count, dtype: int64\n"
     ]
    },
    {
     "data": {
      "image/png": "[encoded data removed]",
      "text/plain": [
       "<Figure size 640x480 with 1 Axes>"
      ]
     },
     "metadata": {},
     "output_type": "display_data"
    }
   ],
   "source": [
    "# plot the distribution of ratings to get an idea of review distribution\n",
    "print(data_clean[\"reviews.rating\"].value_counts().sort_index(ascending=False))\n",
    "data_clean['reviews.rating'].value_counts().plot(kind='bar')\n",
    "plt.title('Rating distribution')\n",
    "plt.xlabel('Rating')\n",
    "plt.ylabel('Count')\n",
    "plt.show()"
   ]
  },
  {
   "cell_type": "markdown",
   "metadata": {},
   "source": [
    "The rating distribution is very unbalanced, with multiple 4-5 star comments and very few 1-2 star comments."
   ]
  },
  {
   "cell_type": "markdown",
   "metadata": {},
   "source": [
    "## Preprocess Dataset"
   ]
  },
  {
   "cell_type": "code",
   "execution_count": 19,
   "metadata": {},
   "outputs": [],
   "source": [
    "data_processed = data_clean.copy().reset_index(drop=True)"
   ]
  },
  {
   "cell_type": "code",
   "execution_count": 20,
   "metadata": {},
   "outputs": [
    {
     "name": "stderr",
     "output_type": "stream",
     "text": [
      "100%|██████████| 59046/59046 [00:00<00:00, 74709.53it/s]\n"
     ]
    }
   ],
   "source": [
    "# Concatenate all review information into one column like this:\n",
    "# Excellent value (reviews.title)\n",
    "# I bought this as a book reader blablabla. (reviews.text)\n",
    "# I recommend this product. (doRecommend)\n",
    "\n",
    "def format_review(row):\n",
    "    base_review = f\"{row['reviews.title']}\\n{row['reviews.text']}\"\n",
    "\n",
    "    # add recommendation information if it matches the rating\n",
    "    if row['reviews.doRecommend'] == 'true' and row['reviews.rating'] >= 3.0:\n",
    "        base_review += \"\\nI recommend this product.\"\n",
    "    elif row['reviews.doRecommend'] =='false' and row['reviews.rating'] <= 3.0:\n",
    "        base_review += \"\\nI don't recommend this product.\"\n",
    "    \n",
    "    return base_review\n",
    "\n",
    "# apply format_review to each row\n",
    "data_processed['review'] = data_clean.progress_apply(format_review, axis=1)\n",
    "\n",
    "# drop columns that are not needed anymore\n",
    "# let's keep the rating, to compare with our classifier predictions later\n",
    "data_processed.drop(columns=['reviews.doRecommend', 'reviews.text', 'reviews.title'], inplace=True)\n"
   ]
  },
  {
   "cell_type": "code",
   "execution_count": 21,
   "metadata": {},
   "outputs": [
    {
     "name": "stdout",
     "output_type": "stream",
     "text": [
      "Number of rows with no review information: 8937\n",
      "8937 rows dropped\n"
     ]
    },
    {
     "data": {
      "text/plain": [
       "name              0\n",
       "brand             0\n",
       "categories        0\n",
       "reviews.rating    0\n",
       "review            0\n",
       "dtype: int64"
      ]
     },
     "execution_count": 21,
     "metadata": {},
     "output_type": "execute_result"
    }
   ],
   "source": [
    "# Let's make sure we dont have any nan values as review\n",
    "rows_no_review = data_processed['review'].isna().sum()\n",
    "print('Number of rows with no review information:', rows_no_review)\n",
    "\n",
    "# drop rows with no review information\n",
    "data_processed = data_processed.dropna(subset=['review'])\n",
    "print(rows_no_review, 'rows dropped')\n",
    "\n",
    "# check for remaining nan values\n",
    "data_processed.isnull().sum()"
   ]
  },
  {
   "cell_type": "markdown",
   "metadata": {},
   "source": [
    "## Print final dataset shape"
   ]
  },
  {
   "cell_type": "code",
   "execution_count": 22,
   "metadata": {},
   "outputs": [
    {
     "name": "stdout",
     "output_type": "stream",
     "text": [
      "<class 'pandas.core.frame.DataFrame'>\n",
      "Index: 50109 entries, 0 to 59045\n",
      "Data columns (total 5 columns):\n",
      " #   Column          Non-Null Count  Dtype  \n",
      "---  ------          --------------  -----  \n",
      " 0   name            50109 non-null  object \n",
      " 1   brand           50109 non-null  object \n",
      " 2   categories      50109 non-null  object \n",
      " 3   reviews.rating  50109 non-null  float64\n",
      " 4   review          50109 non-null  object \n",
      "dtypes: float64(1), object(4)\n",
      "memory usage: 2.3+ MB\n",
      "None\n"
     ]
    }
   ],
   "source": [
    "print(data_processed.info())"
   ]
  },
  {
   "cell_type": "code",
   "execution_count": 23,
   "metadata": {},
   "outputs": [
    {
     "name": "stdout",
     "output_type": "stream",
     "text": [
      "----------------------------------------------------------------------------------------------------\n",
      "[name] Fire Tablet with Alexa, 7 Display, 16 GB, Blue - with Special Offers\n",
      "----------------------------------------------------------------------------------------------------\n",
      "[brand] Amazon\n",
      "----------------------------------------------------------------------------------------------------\n",
      "[categories] Fire Tablets,Computers/Tablets & Networking,Tablets,All Tablets,Amazon Tablets,Computers & Tablets,Tablets & eBook Readers\n",
      "----------------------------------------------------------------------------------------------------\n",
      "[reviews.rating] 5.0\n",
      "----------------------------------------------------------------------------------------------------\n",
      "[review] Great tablet\n",
      "I think this is a great tablet. I bought 3 of them. You can't beat this for the price.\n"
     ]
    }
   ],
   "source": [
    "print_random_product_sheet(data_processed)"
   ]
  },
  {
   "cell_type": "markdown",
   "metadata": {},
   "source": [
    "## Pickle processed dataset"
   ]
  },
  {
   "cell_type": "code",
   "execution_count": 24,
   "metadata": {},
   "outputs": [],
   "source": [
    "data_processed.to_pickle('pickle/data_processed.pkl')"
   ]
  }
 ],
 "metadata": {
  "kernelspec": {
   "display_name": "Python 3 (ipykernel)",
   "language": "python",
   "name": "python3"
  }
 },
 "nbformat": 4,
 "nbformat_minor": 2
}
