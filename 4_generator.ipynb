{
 "cells": [
  {
   "cell_type": "markdown",
   "metadata": {},
   "source": [
    "# Part 4 - Generator / Summarizer\n",
    "In this notebook, we implement the 3rd transformer, in charge or generating a review of the best product per category, from a batch of reviews and sentiments"
   ]
  },
  {
   "cell_type": "markdown",
   "metadata": {},
   "source": [
    "## Imports"
   ]
  },
  {
   "cell_type": "code",
   "execution_count": 1,
   "metadata": {},
   "outputs": [],
   "source": [
    "import os\n",
    "import re\n",
    "import json\n",
    "import pandas as pd\n",
    "from transformers import AutoModelForCausalLM\n",
    "import torch\n",
    "import random\n",
    "from datetime import datetime\n",
    "from tqdm import tqdm\n",
    "tqdm.pandas()  # Initialize tqdm with pandas\n",
    "device = torch.device(\"cuda\" if torch.cuda.is_available() else \"cpu\")\n",
    "\n",
    "# import helpers module\n",
    "import helpers\n",
    "import importlib\n",
    "importlib.reload(helpers)\n",
    "\n",
    "SEP = 100 * '-'"
   ]
  },
  {
   "cell_type": "code",
   "execution_count": 2,
   "metadata": {},
   "outputs": [],
   "source": [
    "# load HugginFace token to environment\n",
    "if not os.environ.get('HF_TOKEN'):\n",
    "    os.environ['HF_TOKEN'] = input('Enter API token for Hugging Face: ')\n",
    "else:\n",
    "    print('Hugging Face token already loaded to environment')"
   ]
  },
  {
   "cell_type": "markdown",
   "metadata": {},
   "source": [
    "## Load datasets"
   ]
  },
  {
   "cell_type": "code",
   "execution_count": 3,
   "metadata": {},
   "outputs": [
    {
     "name": "stdout",
     "output_type": "stream",
     "text": [
      "Dataset loaded from pickle/data_processed.pkl.\n",
      "Dataset loaded from pickle/data_clustered.pkl.\n",
      "Dataset loaded from pickle/data_sentiment_analysis.pkl.\n"
     ]
    }
   ],
   "source": [
    "from functools import reduce\n",
    "\n",
    "# Load datasets\n",
    "data_processed = helpers.load_pickled_dataset('pickle/data_processed.pkl')\n",
    "data_clustered = helpers.load_pickled_dataset('pickle/data_clustered.pkl')\n",
    "data_sa = helpers.load_pickled_dataset('pickle/data_sentiment_analysis.pkl')\n",
    "\n",
    "# Select columns\n",
    "proc_columns = ['name', 'brand', 'reviews.rating', 'reviews.numHelpful', 'review']\n",
    "cluster_columns = ['review', 'clusterCategories']\n",
    "sa_columns = ['review', 'reviews.sentiment', 'reviews.ft', 'reviews.ft.sentiment']\n",
    "\n",
    "# Filter DataFrames by the selected columns\n",
    "data1 = data_processed[proc_columns]\n",
    "data2 = data_clustered[cluster_columns]\n",
    "data3 = data_sa[sa_columns]\n",
    "\n",
    "# Merge the DataFrames sequentially\n",
    "data = reduce(lambda left, right: pd.merge(left, right, on='review', how='outer'), [data1, data2, data3])\n"
   ]
  },
  {
   "cell_type": "code",
   "execution_count": 4,
   "metadata": {},
   "outputs": [
    {
     "name": "stdout",
     "output_type": "stream",
     "text": [
      "----------------------------------------------------------------------------------------------------\n",
      "[name] Fire Kids Edition Tablet, 7 Display, Wi-Fi, 16 GB, Pink Kid-Proof Case\n",
      "----------------------------------------------------------------------------------------------------\n",
      "[brand] Amazon\n",
      "----------------------------------------------------------------------------------------------------\n",
      "[reviews.rating] 5.0\n",
      "----------------------------------------------------------------------------------------------------\n",
      "[reviews.numHelpful] 0.0\n",
      "----------------------------------------------------------------------------------------------------\n",
      "[review] Easy to use for young children\n",
      "Bought for Christmas for 6 and 8 year old granddaughters. Both girls loved it and have said it was their favorite gift.\n",
      "I recommend this product.\n",
      "----------------------------------------------------------------------------------------------------\n",
      "[clusterCategories] Home & Smart Devices\n",
      "----------------------------------------------------------------------------------------------------\n",
      "[reviews.sentiment] positive\n",
      "----------------------------------------------------------------------------------------------------\n",
      "[reviews.ft] 2\n",
      "----------------------------------------------------------------------------------------------------\n",
      "[reviews.ft.sentiment] positive\n"
     ]
    }
   ],
   "source": [
    "helpers.print_random_product_sheet(data)"
   ]
  },
  {
   "cell_type": "markdown",
   "metadata": {},
   "source": [
    "## METHOD 1: Prompt Fine-Tuning\n",
    "Let's see what we can get using only prompt fine-tuning. For this I will try [Mistral-7B](https://huggingface.co/mistralai/Mistral-7B-v0.3) in 4bit quantization for quick inference.\n",
    "\n",
    "Using 4-bit quantization will help reduce memory usage significantly while retaining reasonable model performance."
   ]
  },
  {
   "cell_type": "code",
   "execution_count": 6,
   "metadata": {},
   "outputs": [
    {
     "name": "stdout",
     "output_type": "stream",
     "text": [
      "2024-10-16 18:42:22.685511: E external/local_xla/xla/stream_executor/cuda/cuda_dnn.cc:9261] Unable to register cuDNN factory: Attempting to register factory for plugin cuDNN when one has already been registered\n",
      "2024-10-16 18:42:22.685682: E external/local_xla/xla/stream_executor/cuda/cuda_fft.cc:607] Unable to register cuFFT factory: Attempting to register factory for plugin cuFFT when one has already been registered\n",
      "2024-10-16 18:42:22.823240: E external/local_xla/xla/stream_executor/cuda/cuda_blas.cc:1515] Unable to register cuBLAS factory: Attempting to register factory for plugin cuBLAS when one has already been registered\n",
      "2024-10-16 18:42:23.100075: I tensorflow/core/platform/cpu_feature_guard.cc:182] This TensorFlow binary is optimized to use available CPU instructions in performance-critical operations.\n",
      "To enable the following instructions: AVX2 FMA, in other operations, rebuild TensorFlow with the appropriate compiler flags.\n",
      "2024-10-16 18:42:25.358444: W tensorflow/compiler/tf2tensorrt/utils/py_utils.cc:38] TF-TRT Warning: Could not find TensorRT\n",
      "usage: transformers-cli <command> [<args>]\n",
      "Transformers CLI tool: error: argument {convert,download,env,run,serve,login,whoami,logout,repo,add-new-model,add-new-model-like,lfs-enable-largefiles,lfs-multipart-upload,pt-to-tf}: invalid choice: 'cache' (choose from 'convert', 'download', 'env', 'run', 'serve', 'login', 'whoami', 'logout', 'repo', 'add-new-model', 'add-new-model-like', 'lfs-enable-largefiles', 'lfs-multipart-upload', 'pt-to-tf')\n"
     ]
    }
   ],
   "source": [
    "!transformers-cli cache clear"
   ]
  },
  {
   "cell_type": "markdown",
   "metadata": {},
   "source": [
    "### Load Mistral-7b 4bits"
   ]
  },
  {
   "cell_type": "code",
   "execution_count": 5,
   "metadata": {},
   "outputs": [
    {
     "data": {
      "application/vnd.jupyter.widget-view+json": {
       "model_id": "2856414e63764866b1e89b6da640a0d0",
       "version_major": 2,
       "version_minor": 0
      },
      "text/plain": [
       "tokenizer_config.json:   0%|          | 0.00/137k [00:00<?, ?B/s]"
      ]
     },
     "metadata": {},
     "output_type": "display_data"
    },
    {
     "data": {
      "application/vnd.jupyter.widget-view+json": {
       "model_id": "3a5c7ebd7cd74e188fd45d99ea917d0b",
       "version_major": 2,
       "version_minor": 0
      },
      "text/plain": [
       "tokenizer.model:   0%|          | 0.00/587k [00:00<?, ?B/s]"
      ]
     },
     "metadata": {},
     "output_type": "display_data"
    },
    {
     "data": {
      "application/vnd.jupyter.widget-view+json": {
       "model_id": "ece5b6d98cf243a8aff7625863fc0e48",
       "version_major": 2,
       "version_minor": 0
      },
      "text/plain": [
       "special_tokens_map.json:   0%|          | 0.00/414 [00:00<?, ?B/s]"
      ]
     },
     "metadata": {},
     "output_type": "display_data"
    },
    {
     "data": {
      "application/vnd.jupyter.widget-view+json": {
       "model_id": "8dcb851716974975bd5a152d150a6d79",
       "version_major": 2,
       "version_minor": 0
      },
      "text/plain": [
       "tokenizer.json:   0%|          | 0.00/1.96M [00:00<?, ?B/s]"
      ]
     },
     "metadata": {},
     "output_type": "display_data"
    },
    {
     "data": {
      "application/vnd.jupyter.widget-view+json": {
       "model_id": "a4915cccb1a449e7b49af7cda8cae342",
       "version_major": 2,
       "version_minor": 0
      },
      "text/plain": [
       "config.json:   0%|          | 0.00/601 [00:00<?, ?B/s]"
      ]
     },
     "metadata": {},
     "output_type": "display_data"
    },
    {
     "data": {
      "application/vnd.jupyter.widget-view+json": {
       "model_id": "1f2fed01b5524f0592c34c42fc2b50d9",
       "version_major": 2,
       "version_minor": 0
      },
      "text/plain": [
       "model.safetensors.index.json:   0%|          | 0.00/23.9k [00:00<?, ?B/s]"
      ]
     },
     "metadata": {},
     "output_type": "display_data"
    },
    {
     "data": {
      "application/vnd.jupyter.widget-view+json": {
       "model_id": "6aa40c683786496cbc1c6b9c7e235599",
       "version_major": 2,
       "version_minor": 0
      },
      "text/plain": [
       "Downloading shards:   0%|          | 0/3 [00:00<?, ?it/s]"
      ]
     },
     "metadata": {},
     "output_type": "display_data"
    },
    {
     "data": {
      "application/vnd.jupyter.widget-view+json": {
       "model_id": "e3dc05525386400fbf7085e1809f0a55",
       "version_major": 2,
       "version_minor": 0
      },
      "text/plain": [
       "model-00001-of-00003.safetensors:   0%|          | 0.00/4.95G [00:00<?, ?B/s]"
      ]
     },
     "metadata": {},
     "output_type": "display_data"
    },
    {
     "data": {
      "application/vnd.jupyter.widget-view+json": {
       "model_id": "a8796bbc9f4c4b3e8bfecfe604ffda90",
       "version_major": 2,
       "version_minor": 0
      },
      "text/plain": [
       "model-00002-of-00003.safetensors:   0%|          | 0.00/5.00G [00:00<?, ?B/s]"
      ]
     },
     "metadata": {},
     "output_type": "display_data"
    },
    {
     "data": {
      "application/vnd.jupyter.widget-view+json": {
       "model_id": "ed036c387e624ebf824165e30c25ada8",
       "version_major": 2,
       "version_minor": 0
      },
      "text/plain": [
       "model-00003-of-00003.safetensors:   0%|          | 0.00/4.55G [00:00<?, ?B/s]"
      ]
     },
     "metadata": {},
     "output_type": "display_data"
    },
    {
     "data": {
      "application/vnd.jupyter.widget-view+json": {
       "model_id": "7b7cf82bc1574195aeef5eb1a8a0ddbd",
       "version_major": 2,
       "version_minor": 0
      },
      "text/plain": [
       "Loading checkpoint shards:   0%|          | 0/3 [00:00<?, ?it/s]"
      ]
     },
     "metadata": {},
     "output_type": "display_data"
    },
    {
     "data": {
      "application/vnd.jupyter.widget-view+json": {
       "model_id": "5486e26abca14612995eabf9f83a413e",
       "version_major": 2,
       "version_minor": 0
      },
      "text/plain": [
       "generation_config.json:   0%|          | 0.00/116 [00:00<?, ?B/s]"
      ]
     },
     "metadata": {},
     "output_type": "display_data"
    },
    {
     "name": "stderr",
     "output_type": "stream",
     "text": [
      "Setting `pad_token_id` to `eos_token_id`:2 for open-end generation.\n",
      "/usr/local/lib/python3.11/dist-packages/bitsandbytes/nn/modules.py:235: UserWarning: Input type into Linear4bit is torch.float16, but bnb_4bit_compute_type=torch.float32 (default). This will lead to slow inference or training speed.\n",
      "  warnings.warn(f'Input type into Linear4bit is torch.float16, but bnb_4bit_compute_type=torch.float32 (default). This will lead to slow inference or training speed.')\n",
      "2024-10-16 20:43:19.745905: E external/local_xla/xla/stream_executor/cuda/cuda_dnn.cc:9261] Unable to register cuDNN factory: Attempting to register factory for plugin cuDNN when one has already been registered\n",
      "2024-10-16 20:43:19.745986: E external/local_xla/xla/stream_executor/cuda/cuda_fft.cc:607] Unable to register cuFFT factory: Attempting to register factory for plugin cuFFT when one has already been registered\n",
      "2024-10-16 20:43:19.748147: E external/local_xla/xla/stream_executor/cuda/cuda_blas.cc:1515] Unable to register cuBLAS factory: Attempting to register factory for plugin cuBLAS when one has already been registered\n",
      "2024-10-16 20:43:19.757916: I tensorflow/core/platform/cpu_feature_guard.cc:182] This TensorFlow binary is optimized to use available CPU instructions in performance-critical operations.\n",
      "To enable the following instructions: AVX2 FMA, in other operations, rebuild TensorFlow with the appropriate compiler flags.\n",
      "2024-10-16 20:43:21.017839: W tensorflow/compiler/tf2tensorrt/utils/py_utils.cc:38] TF-TRT Warning: Could not find TensorRT\n"
     ]
    },
    {
     "name": "stdout",
     "output_type": "stream",
     "text": [
      "Hello my name is Katie and I am a 20 year old student at the University of North Carolina at Chap\n"
     ]
    }
   ],
   "source": [
    "from transformers import LlamaTokenizer\n",
    "\n",
    "model_name = \"mistralai/Mistral-7B-v0.3\"\n",
    "tokenizer = LlamaTokenizer.from_pretrained(model_name)\n",
    "\n",
    "# load 4bit quantization model\n",
    "model = AutoModelForCausalLM.from_pretrained(\n",
    "    model_name,\n",
    "    load_in_4bit=True,\n",
    "    device_map=\"auto\"\n",
    ")\n",
    "\n",
    "# test model\n",
    "inputs = tokenizer(\"Hello my name is\", return_tensors=\"pt\").to(device)\n",
    "\n",
    "outputs = model.generate(**inputs, max_new_tokens=20)\n",
    "print(tokenizer.decode(outputs[0], skip_special_tokens=True))\n"
   ]
  },
  {
   "cell_type": "markdown",
   "metadata": {},
   "source": [
    "### Create a prompter"
   ]
  },
  {
   "cell_type": "code",
   "execution_count": 19,
   "metadata": {},
   "outputs": [],
   "source": [
    "# Set pad_token to eos_token\n",
    "tokenizer.pad_token = tokenizer.eos_token\n",
    "\n",
    "def generate_summary(prompt, max_tokens=100):\n",
    "    inputs = tokenizer(prompt, return_tensors=\"pt\", padding=True, truncation=True).to(device)\n",
    "    \n",
    "    outputs = model.generate(\n",
    "        inputs.input_ids,\n",
    "        max_new_tokens=max_tokens,\n",
    "        temperature=0.3,\n",
    "        top_p=0.8,\n",
    "        pad_token_id=tokenizer.eos_token_id,\n",
    "        eos_token_id=tokenizer.eos_token_id\n",
    "    ).to(device)\n",
    "    \n",
    "    return tokenizer.decode(outputs[0], skip_special_tokens=True)\n",
    "\n"
   ]
  },
  {
   "cell_type": "markdown",
   "metadata": {},
   "source": [
    "### Zero-shot prompting\n",
    "Let's work on a prompt template so the model extract information from reviews and summarize them"
   ]
  },
  {
   "cell_type": "code",
   "execution_count": 21,
   "metadata": {},
   "outputs": [
    {
     "name": "stderr",
     "output_type": "stream",
     "text": [
      "/usr/local/lib/python3.11/dist-packages/transformers/generation/configuration_utils.py:381: UserWarning: `do_sample` is set to `False`. However, `temperature` is set to `0.3` -- this flag is only used in sample-based generation modes. You should set `do_sample=True` or unset `temperature`.\n",
      "  warnings.warn(\n",
      "/usr/local/lib/python3.11/dist-packages/transformers/generation/configuration_utils.py:386: UserWarning: `do_sample` is set to `False`. However, `top_p` is set to `0.8` -- this flag is only used in sample-based generation modes. You should set `do_sample=True` or unset `top_p`.\n",
      "  warnings.warn(\n"
     ]
    },
    {
     "name": "stdout",
     "output_type": "stream",
     "text": [
      "Summarize the following product review in one sentence, highlighting the main points.\n",
      "Then, provide a list of pros and cons and a short overall conclusion.\n",
      "\n",
      "### Review: \n",
      "This laptop has a fantastic display and long battery life, but the keyboard is a bit cramped, and it tends to get hot during heavy use. Overall, it performs well for everyday tasks and is good value for the price.\n",
      "\n",
      "### One-sentence summary, pros and cons and conclusion:\n",
      "\n",
      "- Pros:\n",
      "  - Fantastic display\n",
      "  - Long battery life\n",
      "  - Good value for the price\n",
      "- Cons:\n",
      "  - Keyboard is a bit cramped\n",
      "  - Tends to get hot during heavy use\n",
      "- Conclusion:\n",
      "  - Performs well for everyday tasks\n",
      "\n",
      "\n",
      "\n",
      "\n",
      "\n",
      "\n",
      "\n",
      "\n",
      "\n",
      "\n",
      "\n",
      "\n",
      "\n",
      "\n",
      "\n",
      "\n",
      "\n",
      "\n",
      "\n",
      "\n",
      "\n",
      "\n",
      "\n",
      "\n",
      "\n",
      "\n",
      "\n",
      "\n",
      "\n",
      "\n",
      "\n",
      "\n",
      "\n",
      "\n",
      "\n",
      "\n"
     ]
    }
   ],
   "source": [
    "prompt = \"\"\"Summarize the following product review in one sentence, highlighting the main points.\n",
    "Then, provide a list of pros and cons and a short overall conclusion.\n",
    "\n",
    "### Review: \n",
    "{review_text}\n",
    "\n",
    "### One-sentence summary, pros and cons and conclusion:\n",
    "\"\"\"\n",
    "\n",
    "review_text = \"This laptop has a fantastic display and long battery life, but the keyboard is a bit cramped, and it tends to get hot during heavy use. Overall, it performs well for everyday tasks and is good value for the price.\"\n",
    "prompt = prompt.format(review_text=review_text)\n",
    "\n",
    "result = generate_summary(prompt, max_tokens=100)\n",
    "\n",
    "print(result)"
   ]
  },
  {
   "cell_type": "markdown",
   "metadata": {},
   "source": [
    "The result is not exactly what I need. Let's try to include 1 or 2 example in the prompt."
   ]
  },
  {
   "cell_type": "markdown",
   "metadata": {},
   "source": [
    "## Few-shot prompting"
   ]
  },
  {
   "cell_type": "code",
   "execution_count": 22,
   "metadata": {},
   "outputs": [
    {
     "name": "stdout",
     "output_type": "stream",
     "text": [
      "\n",
      "Summarize the following product review in one sentence, highlighting the main points.\n",
      "Then, provide a list of pros and cons and a short overall conclusion.\n",
      "\n",
      "### Example 1:\n",
      "# Review: \n",
      "This phone has a great camera and sleek design, but the battery life is disappointing.\n",
      "# One-sentence summary: \n",
      "\"Great camera and design, but poor battery life.\"\n",
      "# Pros:\n",
      "  - Great camera\n",
      "  - Sleek design\n",
      "# Cons:\n",
      "  - Disappointing battery life\n",
      "# Conclusion:\n",
      "\"Good for photography lovers but might need frequent charging.\"\n",
      "\n",
      "### Example 2:\n",
      "# Review: \n",
      "\"This vacuum cleaner is powerful and easy to use, but it's noisy and a bit heavy.\"\n",
      "# One-sentence summary:\n",
      "\"Effective but noisy and heavy.\"\n",
      "# Pros:\n",
      "  - Powerful\n",
      "  - Easy to use\n",
      "# Cons:\n",
      "  - Noisy\n",
      "  - Heavy\n",
      "# Conclusion:\n",
      "\"Ideal for quick, powerful cleaning if noise isn’t an issue.\"\n",
      "\n",
      "# Review: \n",
      "This blender is absolutely fantastic! It blends everything smoothly, whether it's ice, vegetables, or fruits. I love the different speed settings, which give a lot of flexibility for various recipes. However, it’s quite loud, especially on the higher settings, so it can be a bit disruptive in the kitchen. The jar is also a bit heavy, which makes it a little difficult to handle, especially when it's full. Cleaning is easy, but the blade is really sharp, so I need to be careful. Overall, it's a solid blender for anyone who wants power and versatility in their kitchen.\n",
      "\n",
      "# One-sentence summary:\n",
      "\"A powerful blender with great versatility, but it's loud and heavy.\"\n",
      "\n",
      "# Pros:\n",
      "  - Blends everything smoothly\n",
      "  - Different speed settings\n",
      "  - Easy to clean\n",
      "\n",
      "# Cons:\n",
      "  - Loud\n",
      "  - Heavy jar\n",
      "  - Sharp blade\n",
      "\n",
      "# Conclusion:\n",
      "\"A great blender for anyone who wants power and versatility in their kitchen.\"\n"
     ]
    }
   ],
   "source": [
    "prompt = \"\"\"\n",
    "Summarize the following product review in one sentence, highlighting the main points.\n",
    "Then, provide a list of pros and cons and a short overall conclusion.\n",
    "\n",
    "### Example 1:\n",
    "# Review: \n",
    "This phone has a great camera and sleek design, but the battery life is disappointing.\n",
    "# One-sentence summary: \n",
    "\"Great camera and design, but poor battery life.\"\n",
    "# Pros:\n",
    "  - Great camera\n",
    "  - Sleek design\n",
    "# Cons:\n",
    "  - Disappointing battery life\n",
    "# Conclusion:\n",
    "\"Good for photography lovers but might need frequent charging.\"\n",
    "\n",
    "### Example 2:\n",
    "# Review: \n",
    "\"This vacuum cleaner is powerful and easy to use, but it's noisy and a bit heavy.\"\n",
    "# One-sentence summary:\n",
    "\"Effective but noisy and heavy.\"\n",
    "# Pros:\n",
    "  - Powerful\n",
    "  - Easy to use\n",
    "# Cons:\n",
    "  - Noisy\n",
    "  - Heavy\n",
    "# Conclusion:\n",
    "\"Ideal for quick, powerful cleaning if noise isn’t an issue.\"\n",
    "\n",
    "# Review: \n",
    "{review_text}\n",
    "\"\"\"\n",
    "\n",
    "review_text = \"This blender is absolutely fantastic! It blends everything smoothly, whether it's ice, vegetables, or fruits. I love the different speed settings, which give a lot of flexibility for various recipes. However, it’s quite loud, especially on the higher settings, so it can be a bit disruptive in the kitchen. The jar is also a bit heavy, which makes it a little difficult to handle, especially when it's full. Cleaning is easy, but the blade is really sharp, so I need to be careful. Overall, it's a solid blender for anyone who wants power and versatility in their kitchen.\"\n",
    "prompt = prompt.format(review_text=review_text)\n",
    "\n",
    "result = generate_summary(prompt, max_tokens=100)\n",
    "\n",
    "print(result)\n"
   ]
  },
  {
   "cell_type": "markdown",
   "metadata": {},
   "source": [
    "The result is pretty close to what we need. However, the model keeps generating text until it reaches the max_tokens length. I can't manage to get the end of token to work."
   ]
  },
  {
   "cell_type": "markdown",
   "metadata": {},
   "source": [
    "## JSON output\n",
    "Let's try to pack the information into a json object"
   ]
  },
  {
   "cell_type": "code",
   "execution_count": 23,
   "metadata": {},
   "outputs": [
    {
     "name": "stdout",
     "output_type": "stream",
     "text": [
      "\n",
      "Summarize the following product review and provide the information in a structured JSON format with the following keys:\n",
      "- \"summary\": A single-sentence summary of the review.\n",
      "- \"pros\": A list of positive aspects.\n",
      "- \"cons\": A list of negative aspects.\n",
      "- \"conclusion\": An overall conclusion.\n",
      "\n",
      "### Review:\n",
      "This blender is absolutely fantastic! It blends everything smoothly, whether it's ice, vegetables, or fruits. I love the different speed settings, which give a lot of flexibility for various recipes. However, it’s quite loud, especially on the higher settings, so it can be a bit disruptive in the kitchen. The jar is also a bit heavy, which makes it a little difficult to handle, especially when it's full. Cleaning is easy, but the blade is really sharp, so I need to be careful. Overall, it's a solid blender for anyone who wants power and versatility in their kitchen.\n",
      "\n",
      "### JSON output:\n",
      "{\n",
      "  \"summary\": \"\",\n",
      "  \"pros\": [],\n",
      "  \"cons\": [],\n",
      "  \"conclusion\": \"\"\n",
      "}\n",
      "\n",
      "### JSON output:\n",
      "{\n",
      "  \"summary\": \"This blender is absolutely fantastic! It blends everything smoothly, whether it's ice, vegetables, or fruits. I love the different speed settings, which give a lot of flexibility for various recipes.\",\n",
      "  \"pros\": [\n",
      "    \"It blends everything smoothly\",\n",
      "    \"Different speed settings\",\n",
      "    \"Flexibility for various recipes\"\n",
      "  ],\n",
      "  \"cons\": [\n",
      "    \"Quite loud\",\n",
      "    \"Jar is heavy\",\n",
      "    \"Cleaning is easy\"\n",
      "  ],\n",
      "  \"conclusion\": \"Overall, it's a solid blender for anyone who wants power and versatility in their kitchen.\"\n",
      "}\n"
     ]
    }
   ],
   "source": [
    "prompt = \"\"\"\n",
    "Summarize the following product review and provide the information in a structured JSON format with the following keys:\n",
    "- \"summary\": A single-sentence summary of the review.\n",
    "- \"pros\": A list of positive aspects.\n",
    "- \"cons\": A list of negative aspects.\n",
    "- \"conclusion\": An overall conclusion.\n",
    "\n",
    "### Review:\n",
    "{review_text}\n",
    "\n",
    "### JSON output:\n",
    "{{\n",
    "  \"summary\": \"\",\n",
    "  \"pros\": [],\n",
    "  \"cons\": [],\n",
    "  \"conclusion\": \"\"\n",
    "}}\n",
    "\"\"\"\n",
    "\n",
    "review_text = \"This blender is absolutely fantastic! It blends everything smoothly, whether it's ice, vegetables, or fruits. I love the different speed settings, which give a lot of flexibility for various recipes. However, it’s quite loud, especially on the higher settings, so it can be a bit disruptive in the kitchen. The jar is also a bit heavy, which makes it a little difficult to handle, especially when it's full. Cleaning is easy, but the blade is really sharp, so I need to be careful. Overall, it's a solid blender for anyone who wants power and versatility in their kitchen.\"\n",
    "prompt = prompt.format(review_text=review_text)\n",
    "\n",
    "result = generate_summary(prompt, max_tokens=100)\n",
    "print(result)\n"
   ]
  },
  {
   "cell_type": "code",
   "execution_count": 24,
   "metadata": {},
   "outputs": [
    {
     "name": "stdout",
     "output_type": "stream",
     "text": [
      "No JSON content found.\n",
      "----------------------------------------------------------------------------------------------------\n"
     ]
    }
   ],
   "source": [
    "def extract_json_dict(result: str) -> dict:\n",
    "    \"\"\"Extract JSON content from the model output and convert it to a Python dictionary.\n",
    "\n",
    "    Args:\n",
    "        result (str): The model output containing the JSON content.\n",
    "\n",
    "    Returns:\n",
    "        dict: A Python dictionary containing the extracted JSON content.\n",
    "\n",
    "    Exception:\n",
    "        json.JSONDecodeError: If there is an error decoding the JSON content.\n",
    "    \"\"\"\n",
    "    # let's extract the json part and store it in a dict\n",
    "    json_content = re.search(r'json\\s*(\\{.*?\\})\\s*', result, re.DOTALL)\n",
    "\n",
    "    review_dict = {}\n",
    "\n",
    "    if json_content:\n",
    "        extracted_json = json_content.group(1) \n",
    "        try: \n",
    "            # Convert JSON string to Python dictionary \n",
    "            review_dict = json.loads(extracted_json)\n",
    "        except json.JSONDecodeError as e: \n",
    "            print(f\"Error decoding JSON: {e}\")\n",
    "    else: \n",
    "        print(\"No JSON content found.\")\n",
    "\n",
    "    return review_dict\n",
    "\n",
    "review_dict = extract_json_dict(result)\n",
    "\n",
    "print(SEP)\n",
    "for k, v in review_dict.items():\n",
    "    print(f\"{k.upper()}: {v}\")"
   ]
  },
  {
   "cell_type": "markdown",
   "metadata": {},
   "source": [
    "This is working great. Outputing json contents make it very clear, concise and avoid mixed up information or repetition.\n"
   ]
  },
  {
   "cell_type": "markdown",
   "metadata": {},
   "source": [
    "## Multiple review summarization\n",
    "\n",
    "Let's try to input a list of reviews into the model and see if it can output a json summary."
   ]
  },
  {
   "cell_type": "code",
   "execution_count": 25,
   "metadata": {},
   "outputs": [
    {
     "name": "stdout",
     "output_type": "stream",
     "text": [
      "\n",
      "Summarize the following reviews of the same product in a structured JSON format, combining insights from all three reviews into a single summary. Use the following keys:\n",
      "- \"summary\": A single-sentence summary reflecting the general or mix of sentiment and key points from all reviews.\n",
      "- \"pros\": A list of positive aspects listed in the reviews.\n",
      "- \"cons\": A list of negative aspects listed in the reviews.\n",
      "- \"conclusion\": An overall conclusion based on the reviews, pros and cons.\n",
      "Generate a single JSON output that combines the information from all three reviews.\n",
      "\n",
      "### Review 1:\n",
      "I absolutely love this blender! It blends everything so smoothly, from ice to veggies and fruits. The different speed settings are super useful, and it's easy to clean. The motor is powerful, and it doesn't struggle with anything I throw at it. Definitely worth the price if you're serious about smoothies or cooking!\n",
      "\n",
      "### Review 2:\n",
      "The blender is decent overall. It does its job well, though it can be a bit noisy at higher speeds. The jar is also a bit heavy, which makes it slightly awkward to handle when full. But it's sturdy, and I appreciate the variety of settings. Not a bad choice, but nothing extraordinary.\n",
      "\n",
      "### Review 3:\n",
      "Unfortunately, this blender has been a disappointment. It struggles to blend frozen items properly, and it makes a lot of noise. After a few uses, the blade already seems dull. It's hard to clean, especially around the blade area, and I feel it's overpriced for the quality you get. I wouldn’t recommend it.\n",
      "\n",
      "### Unique JSON output:\n",
      "{{\n",
      "  \"summary\": \"\",\n",
      "  \"pros\": [],\n",
      "  \"cons\": [],\n",
      "  \"conclusion\": \"\"\n",
      "}}\n",
      "\n"
     ]
    }
   ],
   "source": [
    "prompt = \"\"\"\n",
    "Summarize the following reviews of the same product in a structured JSON format, combining insights from all three reviews into a single summary. Use the following keys:\n",
    "- \"summary\": A single-sentence summary reflecting the general or mix of sentiment and key points from all reviews.\n",
    "- \"pros\": A list of positive aspects listed in the reviews.\n",
    "- \"cons\": A list of negative aspects listed in the reviews.\n",
    "- \"conclusion\": An overall conclusion based on the reviews, pros and cons.\n",
    "Generate a single JSON output that combines the information from all three reviews.\n",
    "\"\"\"\n",
    "\n",
    "# let's try with a positive, a neutral and a negative review\n",
    "reviews_list = [\n",
    "    \"I absolutely love this blender! It blends everything so smoothly, from ice to veggies and fruits. The different speed settings are super useful, and it's easy to clean. The motor is powerful, and it doesn't struggle with anything I throw at it. Definitely worth the price if you're serious about smoothies or cooking!\",\n",
    "    \"The blender is decent overall. It does its job well, though it can be a bit noisy at higher speeds. The jar is also a bit heavy, which makes it slightly awkward to handle when full. But it's sturdy, and I appreciate the variety of settings. Not a bad choice, but nothing extraordinary.\",\n",
    "    \"Unfortunately, this blender has been a disappointment. It struggles to blend frozen items properly, and it makes a lot of noise. After a few uses, the blade already seems dull. It's hard to clean, especially around the blade area, and I feel it's overpriced for the quality you get. I wouldn’t recommend it.\"\n",
    "]\n",
    "\n",
    "# add reviews to the prompt\n",
    "for i, review in enumerate(reviews_list):\n",
    "    prompt += f\"\\n### Review {i+1}:\\n{review}\\n\"\n",
    "\n",
    "# add JSON output format\n",
    "prompt += \"\"\"\n",
    "### Unique JSON output:\n",
    "{{\n",
    "  \"summary\": \"\",\n",
    "  \"pros\": [],\n",
    "  \"cons\": [],\n",
    "  \"conclusion\": \"\"\n",
    "}}\n",
    "\"\"\"\n",
    "\n",
    "print(prompt)"
   ]
  },
  {
   "cell_type": "code",
   "execution_count": 26,
   "metadata": {},
   "outputs": [
    {
     "name": "stdout",
     "output_type": "stream",
     "text": [
      "\n",
      "Summarize the following reviews of the same product in a structured JSON format, combining insights from all three reviews into a single summary. Use the following keys:\n",
      "- \"summary\": A single-sentence summary reflecting the general or mix of sentiment and key points from all reviews.\n",
      "- \"pros\": A list of positive aspects listed in the reviews.\n",
      "- \"cons\": A list of negative aspects listed in the reviews.\n",
      "- \"conclusion\": An overall conclusion based on the reviews, pros and cons.\n",
      "Generate a single JSON output that combines the information from all three reviews.\n",
      "\n",
      "### Review 1:\n",
      "I absolutely love this blender! It blends everything so smoothly, from ice to veggies and fruits. The different speed settings are super useful, and it's easy to clean. The motor is powerful, and it doesn't struggle with anything I throw at it. Definitely worth the price if you're serious about smoothies or cooking!\n",
      "\n",
      "### Review 2:\n",
      "The blender is decent overall. It does its job well, though it can be a bit noisy at higher speeds. The jar is also a bit heavy, which makes it slightly awkward to handle when full. But it's sturdy, and I appreciate the variety of settings. Not a bad choice, but nothing extraordinary.\n",
      "\n",
      "### Review 3:\n",
      "Unfortunately, this blender has been a disappointment. It struggles to blend frozen items properly, and it makes a lot of noise. After a few uses, the blade already seems dull. It's hard to clean, especially around the blade area, and I feel it's overpriced for the quality you get. I wouldn’t recommend it.\n",
      "\n",
      "### Unique JSON output:\n",
      "{{\n",
      "  \"summary\": \"\",\n",
      "  \"pros\": [],\n",
      "  \"cons\": [],\n",
      "  \"conclusion\": \"\"\n",
      "}}\n",
      "\n",
      "### JSON output:\n",
      "{\n",
      "  \"summary\": \"The blender is decent overall. It does its job well, though it can be a bit noisy at higher speeds. The jar is also a bit heavy, which makes it slightly awkward to handle when full. But it's sturdy, and I appreciate the variety of settings. Not a bad choice, but nothing extraordinary.\",\n",
      "  \"pros\": [\"The blender is decent overall. It does its job well\n",
      "No JSON content found.\n",
      "----------------------------------------------------------------------------------------------------\n"
     ]
    }
   ],
   "source": [
    "result = generate_summary(prompt, max_tokens=100)\n",
    "print(result)\n",
    "\n",
    "review_dict = extract_json_dict(result)\n",
    "print(SEP)\n",
    "for k, v in review_dict.items():\n",
    "    print(f\"{k.upper()}: {v}\")\n"
   ]
  },
  {
   "cell_type": "markdown",
   "metadata": {},
   "source": [
    "We notice the main issue here: Due to contradictory review sentiments, not agreeing on the same topic, the output is a bit erratic and the model strives at summarizing them.\n",
    "\n",
    "To face this problem, and also the issue of context window and large amount of review text used as input, we could split the task into 2 differemt prompts, using the same model:\n",
    "- Prompt/Model 1 will ask the model to summarize a review into a few words carrying most of the review ideas.\n",
    "- Prompt/Model 2 will take all summarized reviews of a product and output the json dict we asked earlier"
   ]
  },
  {
   "cell_type": "markdown",
   "metadata": {},
   "source": [
    "## Model 1: Summarizing a reviews\n",
    "Let's start with a simple model summarizing reviews."
   ]
  },
  {
   "cell_type": "code",
   "execution_count": 30,
   "metadata": {},
   "outputs": [
    {
     "name": "stderr",
     "output_type": "stream",
     "text": [
      "/usr/local/lib/python3.11/dist-packages/transformers/generation/configuration_utils.py:381: UserWarning: `do_sample` is set to `False`. However, `temperature` is set to `0.3` -- this flag is only used in sample-based generation modes. You should set `do_sample=True` or unset `temperature`.\n",
      "  warnings.warn(\n",
      "/usr/local/lib/python3.11/dist-packages/transformers/generation/configuration_utils.py:386: UserWarning: `do_sample` is set to `False`. However, `top_p` is set to `0.8` -- this flag is only used in sample-based generation modes. You should set `do_sample=True` or unset `top_p`.\n",
      "  warnings.warn(\n"
     ]
    },
    {
     "name": "stdout",
     "output_type": "stream",
     "text": [
      "\n",
      "Summarize the following product review information. Return an empty string if you are unable to generate a summary.\n",
      "\n",
      "Review 1:\n",
      "\"This laptop exceeded my expectations. The battery lasts all day, and it’s super lightweight, which makes it perfect for traveling. The display is clear and bright, and the performance is fast even with multiple programs running. My only complaint is that the keyboard feels a bit shallow. Overall, I’m really happy with my purchase!\"\n",
      "Summary 1:\n",
      "->\"Lightweight and fast laptop with a great display and long-lasting battery, but the keyboard is a bit shallow.\"\n",
      "\n",
      "Review 2:\n",
      "\"The headphones are okay but not as good as I expected. The sound quality is decent, and they’re comfortable to wear for a while. However, they don’t block out background noise as well as I hoped. For the price, I think there are better options out there.\"\n",
      "Summary 2:\n",
      "->\"Decent sound quality and comfortable, but poor noise isolation and better options exist for the price.\"\n",
      "\n",
      "Review 3:\n",
      "This blender is absolutely fantastic! It blends everything smoothly, whether it's ice, vegetables, or fruits. I love the different speed settings, which give a lot of flexibility for various recipes. However, it’s quite loud, especially on the higher settings, so it can be a bit disruptive in the kitchen. The jar is also a bit heavy, which makes it a little difficult to handle, especially when it's full. Cleaning is easy, but the blade is really sharp, so I need to be careful. Overall, it's a solid blender for anyone who wants power and versatility in their kitchen.\n",
      "Summary 3:\n",
      "->\"Powerful blender with different speed settings, but loud and heavy jar, sharp blade, and difficult to handle.\"\n",
      "\n",
      "Review 4:\n",
      "\"I love this vacuum cleaner! It's lightweight and easy to maneu\n"
     ]
    }
   ],
   "source": [
    "prompt_review_summary = \"\"\"\n",
    "Summarize the following product review information. Return an empty string if you are unable to generate a summary.\n",
    "\n",
    "Review 1:\n",
    "\"This laptop exceeded my expectations. The battery lasts all day, and it’s super lightweight, which makes it perfect for traveling. The display is clear and bright, and the performance is fast even with multiple programs running. My only complaint is that the keyboard feels a bit shallow. Overall, I’m really happy with my purchase!\"\n",
    "Summary 1:\n",
    "->\"Lightweight and fast laptop with a great display and long-lasting battery, but the keyboard is a bit shallow.\"\n",
    "\n",
    "Review 2:\n",
    "\"The headphones are okay but not as good as I expected. The sound quality is decent, and they’re comfortable to wear for a while. However, they don’t block out background noise as well as I hoped. For the price, I think there are better options out there.\"\n",
    "Summary 2:\n",
    "->\"Decent sound quality and comfortable, but poor noise isolation and better options exist for the price.\"\n",
    "\n",
    "Review 3:\n",
    "{review_text}\n",
    "Summary 3:\n",
    "\"\"\"\n",
    "\n",
    "review_text = \"This blender is absolutely fantastic! It blends everything smoothly, whether it's ice, vegetables, or fruits. I love the different speed settings, which give a lot of flexibility for various recipes. However, it’s quite loud, especially on the higher settings, so it can be a bit disruptive in the kitchen. The jar is also a bit heavy, which makes it a little difficult to handle, especially when it's full. Cleaning is easy, but the blade is really sharp, so I need to be careful. Overall, it's a solid blender for anyone who wants power and versatility in their kitchen.\"\n",
    "prompt = prompt_review_summary.format(review_text=review_text)\n",
    "\n",
    "result = generate_summary(prompt, max_tokens=50)\n",
    "\n",
    "print(result)\n"
   ]
  },
  {
   "cell_type": "code",
   "execution_count": 31,
   "metadata": {},
   "outputs": [
    {
     "data": {
      "text/plain": [
       "'Powerful blender with different speed settings, but loud and heavy jar, sharp blade, and difficult to handle.'"
      ]
     },
     "execution_count": 31,
     "metadata": {},
     "output_type": "execute_result"
    }
   ],
   "source": [
    "# Regex to match text after \"[Review 3]\" and stop at the next line break\n",
    "def extract_review_summary(result: str) -> str:\n",
    "    # Match all summaries marked by '->\"' and capture their content\n",
    "    match = re.findall(r'->\"(.*?)\"', result, re.DOTALL)\n",
    "    if match and len(match) >= 3:\n",
    "        # Return the third summary with leading/trailing spaces removed\n",
    "        return match[2].strip()\n",
    "    else:\n",
    "        print(\"No review summary found.\")\n",
    "        return \"\"  # Return empty string if no match is found\n",
    "\n",
    "extract_review_summary(result)"
   ]
  },
  {
   "cell_type": "markdown",
   "metadata": {},
   "source": [
    "Perfect. Now let's try it on our dataset."
   ]
  },
  {
   "cell_type": "code",
   "execution_count": 32,
   "metadata": {},
   "outputs": [
    {
     "name": "stdout",
     "output_type": "stream",
     "text": [
      "REVIEW:\n",
      "Great tablet for kinds\n",
      "Great tablet for kids. Big choice of apps, great price.\n",
      "I recommend this product.\n"
     ]
    },
    {
     "name": "stderr",
     "output_type": "stream",
     "text": [
      "/usr/local/lib/python3.11/dist-packages/transformers/generation/configuration_utils.py:381: UserWarning: `do_sample` is set to `False`. However, `temperature` is set to `0.3` -- this flag is only used in sample-based generation modes. You should set `do_sample=True` or unset `temperature`.\n",
      "  warnings.warn(\n",
      "/usr/local/lib/python3.11/dist-packages/transformers/generation/configuration_utils.py:386: UserWarning: `do_sample` is set to `False`. However, `top_p` is set to `0.8` -- this flag is only used in sample-based generation modes. You should set `do_sample=True` or unset `top_p`.\n",
      "  warnings.warn(\n"
     ]
    },
    {
     "name": "stdout",
     "output_type": "stream",
     "text": [
      "SUMMARY:\n",
      "Great tablet for kids with a big choice of apps and a great price.\n",
      "----------------------------------------------------------------------------------------------------\n",
      "REVIEW:\n",
      "Disappointing product.\n",
      "Was looking for a tablet for my young daughter. This was on sale and had good reviews. After consulting with the sales associate with some questions, I decided to purchase item. Nice looking product, however, very little storage space.... after downloading a few apps... the storage was full and was required to buy more! Also, cannot play videos unless hooked up to wifi. Unlike the sales associate told me. Very disappointing!!! Would not recommend!\n",
      "I don't recommend this product.\n",
      "SUMMARY:\n",
      "Disappointing product with limited storage space and poor video playback capabilities.\n",
      "----------------------------------------------------------------------------------------------------\n",
      "REVIEW:\n",
      "only 4 stars need 5 or 6 years to prove ...\n",
      "only 4 stars need 5 or 6 years to prove there leak proof. Tip Duracell's have destroyed far too many of my devices.\n",
      "SUMMARY:\n",
      "Duracell batteries have a history of leaking and damaging devices, but this product is leak-proof.\n",
      "----------------------------------------------------------------------------------------------------\n",
      "REVIEW:\n",
      "Kindle FIRE\n",
      "Purchased this for my grandson. It works great. However, if I were to do it over again I would spend the extra $$$ to get the one without the ads. They drive you crazy. The ads make the cheaper unit really frustrating.\n",
      "I recommend this product.\n",
      "SUMMARY:\n",
      "Great product, but ads are frustrating.\n",
      "----------------------------------------------------------------------------------------------------\n",
      "REVIEW:\n",
      "Perfect for a 2 yr old\n",
      "the device works flawlessly... nearly indestructable for a 2 yr old... also comes with a no questions asked replacement policy through Amazon in the event that the screen breaks or something crazy\n",
      "I recommend this product.\n",
      "SUMMARY:\n",
      "Flawless performance, nearly indestructable for a 2 yr old, and a no questions asked replacement policy.\n",
      "----------------------------------------------------------------------------------------------------\n"
     ]
    }
   ],
   "source": [
    "for _ in range(5):\n",
    "    # get random row and extract review\n",
    "    row_idx = random.randint(0, len(data))\n",
    "    review_text = data['review'][row_idx]\n",
    "    print(\"REVIEW:\")\n",
    "    print(review_text)\n",
    "\n",
    "    # generate summary\n",
    "    prompt = prompt_review_summary.format(review_text=review_text)\n",
    "    result = generate_summary(prompt, max_tokens=50)\n",
    "    review_summary = extract_review_summary(result)\n",
    "    print(\"SUMMARY:\")\n",
    "    print(review_summary)\n",
    "\n",
    "    print(SEP)"
   ]
  },
  {
   "cell_type": "markdown",
   "metadata": {},
   "source": [
    "The results are prety good. We can see that the model tends to hallucinate on some summaries and deduct information that are not necessarely true and specified in the original review. Example:\n",
    "\n",
    "REVIEW:  \n",
    "- Great tablet. I like how cheap this is. It's great for browsing the Internet.\n",
    "\n",
    "SUMMARY:  \n",
    "- Great for browsing the Internet, but cheap and not suitable for other tasks."
   ]
  },
  {
   "cell_type": "markdown",
   "metadata": {},
   "source": [
    "### Summarize multiple reviews into bullet points\n",
    "To simplify our task, we could provide multiple reviews of the same sentiment to the model and ask it to extract a list of the most recurring points"
   ]
  },
  {
   "cell_type": "code",
   "execution_count": 49,
   "metadata": {},
   "outputs": [
    {
     "name": "stdout",
     "output_type": "stream",
     "text": [
      "\n",
      "Analyze the following list of product reviews. Identify the 3 most frequently mentioned ideas or themes across all reviews and output them in a list.\n",
      "\n",
      "### Reviews:\n",
      "[Review 1]: \"The camera quality is amazing and takes very clear photos, even in low light.\"\n",
      "[Review 2]: \"Battery life could be better; it drains faster than my previous phone.\"\n",
      "[Review 3]: \"I’m impressed with the screen clarity and brightness, but the battery doesn’t last very long.\"\n",
      "[Review 4]: \"The photos are sharp and vibrant, especially in daylight.\"\n",
      "[Review 5]: \"Battery life is a bit disappointing, but the display is excellent and great for watching videos.\"\n",
      "\n",
      "### Recurring Ideas:\n",
      "1. The camera quality is highly praised, especially for clear and vibrant photos in various lighting.\n",
      "2. The display quality is appreciated for its clarity and brightness, making it ideal for media.\n",
      "3. Battery life is a common complaint, with users noting that it drains quickly.\n",
      "\n",
      "### Reviews:\n",
      "[Review 1]: \"The sound quality on these headphones is outstanding, with deep bass and clear highs.\"\n",
      "[Review 2]: \"They’re comfortable to wear for long hours, but I wish they blocked out noise better.\"\n",
      "[Review 3]: \"Amazing audio clarity, but they don’t fully cancel out background sounds.\"\n",
      "[Review 4]: \"Great sound quality for the price, but I can still hear some outside noise.\"\n",
      "[Review 5]: \"Comfortable fit and good audio, but not ideal for noisy environments.\"\n",
      "\n",
      "### Recurring Ideas:\n",
      "1. Sound quality is praised for its clarity and depth, especially given the price.\n",
      "2. Comfort is a major positive, with users finding them suitable for extended wear.\n",
      "3. Noise cancellation is lacking, with multiple reviews mentioning that they allow outside noise.\n",
      "\n",
      "### Reviews:\n",
      "[Review 1]: \"The vacuum cleaner is lightweight and easy to carry around the house.\"\n",
      "[Review 2]: \"I love how portable it is, but the battery life doesn’t last as long as expected.\"\n",
      "[Review 3]: \"It’s very light, making it easy to maneuver, but I wish it had a longer battery life.\"\n",
      "[Review 4]: \"Great suction power and easy to use, but it needs frequent recharging.\"\n",
      "[Review 5]: \"Lightweight design makes it easy to handle, but it doesn’t hold charge for long.\"\n",
      "\n",
      "\n",
      "### Recurring Ideas:\n",
      "1. The vacuum cleaner is praised for its lightweight design, making it easy to carry and maneuver.\n",
      "2. Battery life is a common complaint, with users noting that it doesn’t last as long as expected.\n",
      "3. Suction power is appreciated, but the vacuum needs frequent recharging.\n"
     ]
    }
   ],
   "source": [
    "# lets try to extract recurring general ideas from reviews\n",
    "prompt_reviews_recurring_ideas = \"\"\"\n",
    "Analyze the following list of product reviews. Identify the 3 most frequently mentioned ideas or themes across all reviews and output them in a list.\n",
    "\n",
    "### Reviews:\n",
    "[Review 1]: \"The camera quality is amazing and takes very clear photos, even in low light.\"\n",
    "[Review 2]: \"Battery life could be better; it drains faster than my previous phone.\"\n",
    "[Review 3]: \"I’m impressed with the screen clarity and brightness, but the battery doesn’t last very long.\"\n",
    "[Review 4]: \"The photos are sharp and vibrant, especially in daylight.\"\n",
    "[Review 5]: \"Battery life is a bit disappointing, but the display is excellent and great for watching videos.\"\n",
    "\n",
    "### Recurring Ideas:\n",
    "1. The camera quality is highly praised, especially for clear and vibrant photos in various lighting.\n",
    "2. The display quality is appreciated for its clarity and brightness, making it ideal for media.\n",
    "3. Battery life is a common complaint, with users noting that it drains quickly.\n",
    "\n",
    "### Reviews:\n",
    "[Review 1]: \"The sound quality on these headphones is outstanding, with deep bass and clear highs.\"\n",
    "[Review 2]: \"They’re comfortable to wear for long hours, but I wish they blocked out noise better.\"\n",
    "[Review 3]: \"Amazing audio clarity, but they don’t fully cancel out background sounds.\"\n",
    "[Review 4]: \"Great sound quality for the price, but I can still hear some outside noise.\"\n",
    "[Review 5]: \"Comfortable fit and good audio, but not ideal for noisy environments.\"\n",
    "\n",
    "### Recurring Ideas:\n",
    "1. Sound quality is praised for its clarity and depth, especially given the price.\n",
    "2. Comfort is a major positive, with users finding them suitable for extended wear.\n",
    "3. Noise cancellation is lacking, with multiple reviews mentioning that they allow outside noise.\n",
    "\n",
    "### Reviews:\n",
    "{review_text}\n",
    "\n",
    "### Recurring Ideas:\n",
    "\"\"\"\n",
    "\n",
    "reviews = [\n",
    "    \"The vacuum cleaner is lightweight and easy to carry around the house.\",\n",
    "    \"I love how portable it is, but the battery life doesn’t last as long as expected.\",\n",
    "    \"It’s very light, making it easy to maneuver, but I wish it had a longer battery life.\",\n",
    "    \"Great suction power and easy to use, but it needs frequent recharging.\",\n",
    "    \"Lightweight design makes it easy to handle, but it doesn’t hold charge for long.\"\n",
    "]\n",
    "\n",
    "reviews_text = \"\"\n",
    "for i, review in enumerate(reviews):\n",
    "    reviews_text += f\"[Review {i+1}]: \\\"{review}\\\"\\n\"\n",
    "\n",
    "prompt = prompt_reviews_recurring_ideas.format(review_text=reviews_text)\n",
    "\n",
    "result = generate_summary(prompt, max_tokens=100)\n",
    "\n",
    "print(result)"
   ]
  },
  {
   "cell_type": "code",
   "execution_count": 55,
   "metadata": {},
   "outputs": [
    {
     "name": "stdout",
     "output_type": "stream",
     "text": [
      "\n",
      "Analyze the following list of product reviews. Identify the 3 most frequently mentioned positive aspects (pros) and 3 most frequently mentioned negative aspects (cons) across all reviews.\n",
      "Store them in a json output.\n",
      "\n",
      "### Reviews:\n",
      "[Review 1]: The vacuum cleaner is lightweight and easy to carry around the house.\n",
      "[Review 2]: I love how portable it is, but the battery life doesn’t last as long as expected.\n",
      "[Review 3]: It’s very light, making it easy to maneuver, but I wish it had a longer battery life.\n",
      "[Review 4]: Great suction power and easy to use, but it needs frequent recharging.\n",
      "[Review 5]: Lightweight design makes it easy to handle, but it doesn’t hold charge for long.\n",
      "\n",
      "\n",
      "### JSON Output:\n",
      "\n",
      "```json\n",
      "{\n",
      "  \"pros\": [\n",
      "    \"lightweight\",\n",
      "    \"portable\",\n",
      "    \"easy to maneuver\"\n",
      "  ],\n",
      "  \"cons\": [\n",
      "    \"battery life\",\n",
      "    \"frequent recharging\",\n",
      "    \"short battery life\"\n",
      "  ]\n",
      "}\n",
      "```\n",
      "\n",
      "\n",
      "\n",
      "\n",
      "\n",
      "\n",
      "\n",
      "\n",
      "\n",
      "\n",
      "\n",
      "\n",
      "\n",
      "\n",
      "\n",
      "\n",
      "\n",
      "\n",
      "\n",
      "\n",
      "\n",
      "\n",
      "\n",
      "\n"
     ]
    }
   ],
   "source": [
    "# lets try to extract clear pros and cons bullet points from reviews\n",
    "prompt_review_pros_cons = \"\"\"\n",
    "Analyze the following list of product reviews. Identify the 3 most frequently mentioned positive aspects (pros) and 3 most frequently mentioned negative aspects (cons) across all reviews.\n",
    "Store them in a json output.\n",
    "\n",
    "### Reviews:\n",
    "{review_text}\n",
    "\n",
    "### JSON Output:\n",
    "\"\"\"\n",
    "\n",
    "reviews = [\n",
    "    \"The vacuum cleaner is lightweight and easy to carry around the house.\",\n",
    "    \"I love how portable it is, but the battery life doesn’t last as long as expected.\",\n",
    "    \"It’s very light, making it easy to maneuver, but I wish it had a longer battery life.\",\n",
    "    \"Great suction power and easy to use, but it needs frequent recharging.\",\n",
    "    \"Lightweight design makes it easy to handle, but it doesn’t hold charge for long.\",\n",
    "]\n",
    "\n",
    "review_text = \"\"\n",
    "for i, review in enumerate(reviews):\n",
    "    review_text += f\"[Review {i+1}]: {review}\\n\"\n",
    "\n",
    "prompt = prompt_review_pros_cons.format(review_text=review_text)\n",
    "\n",
    "result = generate_summary(prompt, max_tokens=100)\n",
    "\n",
    "print(result)"
   ]
  },
  {
   "cell_type": "markdown",
   "metadata": {},
   "source": [
    "This seems to work pretty good. Now let's try with more reviews in the next section."
   ]
  },
  {
   "cell_type": "markdown",
   "metadata": {},
   "source": [
    "## Extracting best models and reviews from the dataset\n",
    "In notebook 5 we compute scores for all products in each category, so we can extract the top 3 or the worst product."
   ]
  },
  {
   "cell_type": "markdown",
   "metadata": {},
   "source": [
    "### Load our product scores"
   ]
  },
  {
   "cell_type": "code",
   "execution_count": 8,
   "metadata": {},
   "outputs": [
    {
     "name": "stdout",
     "output_type": "stream",
     "text": [
      "Dataset loaded from pickle/data_scored.pkl.\n"
     ]
    },
    {
     "data": {
      "text/html": [
       "<div>\n",
       "<style scoped>\n",
       "    .dataframe tbody tr th:only-of-type {\n",
       "        vertical-align: middle;\n",
       "    }\n",
       "\n",
       "    .dataframe tbody tr th {\n",
       "        vertical-align: top;\n",
       "    }\n",
       "\n",
       "    .dataframe thead th {\n",
       "        text-align: right;\n",
       "    }\n",
       "</style>\n",
       "<table border=\"1\" class=\"dataframe\">\n",
       "  <thead>\n",
       "    <tr style=\"text-align: right;\">\n",
       "      <th></th>\n",
       "      <th>clusterCategories</th>\n",
       "      <th>name</th>\n",
       "      <th>reviews.rating</th>\n",
       "    </tr>\n",
       "  </thead>\n",
       "  <tbody>\n",
       "    <tr>\n",
       "      <th>7</th>\n",
       "      <td>Accessories &amp; Adapters</td>\n",
       "      <td>AmazonBasics AAA Performance Alkaline Batterie...</td>\n",
       "      <td>62201.0</td>\n",
       "    </tr>\n",
       "    <tr>\n",
       "      <th>6</th>\n",
       "      <td>Accessories &amp; Adapters</td>\n",
       "      <td>AmazonBasics AA Performance Alkaline Batteries...</td>\n",
       "      <td>43195.0</td>\n",
       "    </tr>\n",
       "    <tr>\n",
       "      <th>19</th>\n",
       "      <td>Accessories &amp; Adapters</td>\n",
       "      <td>Fire Kids Edition Tablet, 7 Display, Wi-Fi, 16...</td>\n",
       "      <td>40862.0</td>\n",
       "    </tr>\n",
       "    <tr>\n",
       "      <th>18</th>\n",
       "      <td>Accessories &amp; Adapters</td>\n",
       "      <td>Fire Kids Edition Tablet, 7 Display, Wi-Fi, 16...</td>\n",
       "      <td>25108.0</td>\n",
       "    </tr>\n",
       "    <tr>\n",
       "      <th>20</th>\n",
       "      <td>Accessories &amp; Adapters</td>\n",
       "      <td>Fire Kids Edition Tablet, 7 Display, Wi-Fi, 16...</td>\n",
       "      <td>23945.0</td>\n",
       "    </tr>\n",
       "  </tbody>\n",
       "</table>\n",
       "</div>"
      ],
      "text/plain": [
       "         clusterCategories                                               name  \\\n",
       "7   Accessories & Adapters  AmazonBasics AAA Performance Alkaline Batterie...   \n",
       "6   Accessories & Adapters  AmazonBasics AA Performance Alkaline Batteries...   \n",
       "19  Accessories & Adapters  Fire Kids Edition Tablet, 7 Display, Wi-Fi, 16...   \n",
       "18  Accessories & Adapters  Fire Kids Edition Tablet, 7 Display, Wi-Fi, 16...   \n",
       "20  Accessories & Adapters  Fire Kids Edition Tablet, 7 Display, Wi-Fi, 16...   \n",
       "\n",
       "    reviews.rating  \n",
       "7          62201.0  \n",
       "6          43195.0  \n",
       "19         40862.0  \n",
       "18         25108.0  \n",
       "20         23945.0  "
      ]
     },
     "execution_count": 8,
     "metadata": {},
     "output_type": "execute_result"
    }
   ],
   "source": [
    "# load product score dataset\n",
    "data_scored = helpers.load_pickled_dataset('pickle/data_scored.pkl')\n",
    "\n",
    "data_scored.head()"
   ]
  },
  {
   "cell_type": "code",
   "execution_count": 9,
   "metadata": {},
   "outputs": [
    {
     "name": "stdout",
     "output_type": "stream",
     "text": [
      "Accessories & Adapters\n",
      "Electronics & Media\n",
      "Home & Smart Devices\n",
      "Pet Supplies\n",
      "Tablets & eReaders\n",
      "Video & Streaming\n"
     ]
    }
   ],
   "source": [
    "# print unique categories\n",
    "category_names = data_scored['clusterCategories'].unique()\n",
    "for cat in category_names:\n",
    "    print(cat)"
   ]
  },
  {
   "cell_type": "code",
   "execution_count": 10,
   "metadata": {},
   "outputs": [
    {
     "data": {
      "text/html": [
       "<div>\n",
       "<style scoped>\n",
       "    .dataframe tbody tr th:only-of-type {\n",
       "        vertical-align: middle;\n",
       "    }\n",
       "\n",
       "    .dataframe tbody tr th {\n",
       "        vertical-align: top;\n",
       "    }\n",
       "\n",
       "    .dataframe thead th {\n",
       "        text-align: right;\n",
       "    }\n",
       "</style>\n",
       "<table border=\"1\" class=\"dataframe\">\n",
       "  <thead>\n",
       "    <tr style=\"text-align: right;\">\n",
       "      <th></th>\n",
       "      <th>clusterCategories</th>\n",
       "      <th>name</th>\n",
       "      <th>reviews.rating</th>\n",
       "    </tr>\n",
       "  </thead>\n",
       "  <tbody>\n",
       "    <tr>\n",
       "      <th>7</th>\n",
       "      <td>Accessories &amp; Adapters</td>\n",
       "      <td>AmazonBasics AAA Performance Alkaline Batterie...</td>\n",
       "      <td>62201.0</td>\n",
       "    </tr>\n",
       "    <tr>\n",
       "      <th>6</th>\n",
       "      <td>Accessories &amp; Adapters</td>\n",
       "      <td>AmazonBasics AA Performance Alkaline Batteries...</td>\n",
       "      <td>43195.0</td>\n",
       "    </tr>\n",
       "    <tr>\n",
       "      <th>19</th>\n",
       "      <td>Accessories &amp; Adapters</td>\n",
       "      <td>Fire Kids Edition Tablet, 7 Display, Wi-Fi, 16...</td>\n",
       "      <td>40862.0</td>\n",
       "    </tr>\n",
       "  </tbody>\n",
       "</table>\n",
       "</div>"
      ],
      "text/plain": [
       "         clusterCategories                                               name  \\\n",
       "7   Accessories & Adapters  AmazonBasics AAA Performance Alkaline Batterie...   \n",
       "6   Accessories & Adapters  AmazonBasics AA Performance Alkaline Batteries...   \n",
       "19  Accessories & Adapters  Fire Kids Edition Tablet, 7 Display, Wi-Fi, 16...   \n",
       "\n",
       "    reviews.rating  \n",
       "7          62201.0  \n",
       "6          43195.0  \n",
       "19         40862.0  "
      ]
     },
     "execution_count": 10,
     "metadata": {},
     "output_type": "execute_result"
    }
   ],
   "source": [
    "# Select the top 3 products per category\n",
    "def best_products_per_category(data, category_name, top_n=3):\n",
    "    # subset the category\n",
    "    category_subset = data[data['clusterCategories'] == category_name]\n",
    "    # select the top n products\n",
    "    return category_subset.head(top_n)\n",
    "\n",
    "best_products_per_category(data_scored, 'Accessories & Adapters', 3)"
   ]
  },
  {
   "cell_type": "code",
   "execution_count": 11,
   "metadata": {},
   "outputs": [
    {
     "name": "stdout",
     "output_type": "stream",
     "text": [
      "ACCESSORIES & ADAPTERS:\n",
      "  - AmazonBasics AAA Performance Alkaline Batteries (36 Count)\n",
      "  - AmazonBasics AA Performance Alkaline Batteries (48 Count) - Packaging May Vary\n",
      "  - Fire Kids Edition Tablet, 7 Display, Wi-Fi, 16 GB, Green Kid-Proof Case\n",
      "----------------------------------------------------------------------------------------------------\n",
      "ELECTRONICS & MEDIA:\n",
      "  - Amazon Kindle Paperwhite - eBook reader - 4 GB - 6 monochrome Paperwhite - touchscreen - Wi-Fi - black,,,\n",
      "  - Kindle Voyage E-reader, 6 High-Resolution Display (300 ppi) with Adaptive Built-in Light, PagePress Sensors, Wi-Fi - Includes Special Offers\n",
      "  - Kindle Voyage E-reader, 6 High-Resolution Display (300 ppi) with Adaptive Built-in Light, PagePress Sensors, Wi-Fi - Includes Special Offers,\n",
      "----------------------------------------------------------------------------------------------------\n",
      "HOME & SMART DEVICES:\n",
      "  - Fire Kids Edition Tablet, 7 Display, Wi-Fi, 16 GB, Green Kid-Proof Case\n",
      "  - All-New Fire HD 8 Tablet, 8 HD Display, Wi-Fi, 16 GB - Includes Special Offers, Magenta\n",
      "  - Fire HD 8 Tablet with Alexa, 8 HD Display, 16 GB, Tangerine - with Special Offers\n",
      "----------------------------------------------------------------------------------------------------\n",
      "PET SUPPLIES:\n",
      "  - Cat Litter Box Covered Tray Kitten Extra Large Enclosed Hooded Hidden Toilet\n",
      "  - AmazonBasics Double-Door Folding Metal Dog Crate - Medium (36x23x25 Inches)\n",
      "  - AmazonBasics Single-Door Folding Metal Dog Crate - Large (42x28x30 Inches)\n",
      "----------------------------------------------------------------------------------------------------\n",
      "TABLETS & EREADERS:\n",
      "  - Echo (White),,,\n",
      "Echo (White),,,\n",
      "  - Amazon Fire Tv,,,\n",
      "Amazon Fire Tv,,,\n",
      "  - Amazon Echo Show Alexa-enabled Bluetooth Speaker with 7\" Screen\n",
      "----------------------------------------------------------------------------------------------------\n",
      "VIDEO & STREAMING:\n",
      "  - Echo (White),,,\n",
      "Echo (White),,,\n",
      "  - Certified Refurbished Amazon Fire TV with Alexa Voice Remote\n",
      "  - Fire TV Stick Streaming Media Player Pair Kit\n",
      "----------------------------------------------------------------------------------------------------\n"
     ]
    }
   ],
   "source": [
    "# store the top 3 products for each category into a dict\n",
    "top_products = {}\n",
    "for cat in category_names:\n",
    "    top_products[cat] = best_products_per_category(data_scored, cat, 3)['name'].tolist()\n",
    "\n",
    "for k, v in top_products.items():\n",
    "    print(f\"{k.upper()}:\")\n",
    "    for product in v:\n",
    "        print(f\"  - {product}\")\n",
    "    print(SEP)\n"
   ]
  },
  {
   "cell_type": "markdown",
   "metadata": {},
   "source": [
    "### Extract n reviews for each product (positive, neutral and negative)"
   ]
  },
  {
   "cell_type": "code",
   "execution_count": 62,
   "metadata": {},
   "outputs": [],
   "source": [
    "# create a function that returns a random review from a subset\n",
    "def get_random_review(subset, min_word_count=10):\n",
    "    while True:\n",
    "        new_review = subset['review'].sample(random_state=random.randint(1, len(subset['review']))).values[0]\n",
    "        if len(new_review.split()) >= min_word_count:\n",
    "            return new_review\n",
    "\n",
    "# create a function that return a review for a given product in the desired category and sentiment\n",
    "def get_product_reviews(data, name, category, sentiment, n=1):\n",
    "    # subset the data\n",
    "    subset = data[(data['name'] == name) & (data['clusterCategories'] == category) & (data['reviews.sentiment'] == sentiment)]\n",
    "    # get random reviews\n",
    "    reviews = []\n",
    "    while len(reviews) < n:\n",
    "        new_review = get_random_review(subset)\n",
    "        # remove line breaks (forgotten in preprocessing)\n",
    "        new_review = new_review.replace('\\n', ' ')\n",
    "        # remove multiple dots\n",
    "        new_review = re.sub(r'\\.{2,}', '.', new_review)\n",
    "        if new_review not in reviews:\n",
    "            reviews.append(new_review)\n",
    "    return reviews\n",
    "\n",
    "category_name = 'Accessories & Adapters'\n",
    "n_reviews = 5\n",
    "category_products = []\n",
    "\n",
    "for product_name in top_products[category_name]:\n",
    "    product_dict = {}\n",
    "    product_dict['name'] = product_name\n",
    "    product_dict['positive_reviews'] = get_product_reviews(data, product_name, category_name, 'positive', n_reviews)\n",
    "    product_dict['neutral_reviews'] = get_product_reviews(data, product_name, category_name, 'neutral', n_reviews)\n",
    "    product_dict['negative_reviews'] = get_product_reviews(data, product_name, category_name, 'negative', n_reviews)\n",
    "    category_products.append(product_dict)\n",
    "\n",
    "# print(SEP)\n",
    "# print('CATEGORY:', category_name)\n",
    "# print(SEP)\n",
    "# for product in category_products:\n",
    "#     print(f\"PRODUCT: {product['name']}\")\n",
    "#     print()\n",
    "#     print(\"POSITIVE REVIEWS:\")\n",
    "#     for review in product['positive_reviews']:\n",
    "#         print(f\"  - {review}\")\n",
    "#     print()\n",
    "#     print(\"NEUTRAL REVIEWS:\")\n",
    "#     for review in product['neutral_reviews']:\n",
    "#         print(f\"  - {review}\")\n",
    "#     print()\n",
    "#     print(\"NEGATIVE REVIEWS:\")\n",
    "#     for review in product['negative_reviews']:\n",
    "#         print(f\"  - {review}\")\n",
    "#     print(SEP)"
   ]
  },
  {
   "cell_type": "markdown",
   "metadata": {},
   "source": [
    "Perfect, now we have everything we need to input into our model."
   ]
  },
  {
   "cell_type": "markdown",
   "metadata": {},
   "source": [
    "### Try the pros and cons prompt with more reviews"
   ]
  },
  {
   "cell_type": "code",
   "execution_count": 63,
   "metadata": {},
   "outputs": [
    {
     "name": "stderr",
     "output_type": "stream",
     "text": [
      "/usr/local/lib/python3.11/dist-packages/transformers/generation/configuration_utils.py:381: UserWarning: `do_sample` is set to `False`. However, `temperature` is set to `0.3` -- this flag is only used in sample-based generation modes. You should set `do_sample=True` or unset `temperature`.\n",
      "  warnings.warn(\n",
      "/usr/local/lib/python3.11/dist-packages/transformers/generation/configuration_utils.py:386: UserWarning: `do_sample` is set to `False`. However, `top_p` is set to `0.8` -- this flag is only used in sample-based generation modes. You should set `do_sample=True` or unset `top_p`.\n",
      "  warnings.warn(\n"
     ]
    },
    {
     "name": "stdout",
     "output_type": "stream",
     "text": [
      "Review 0 summary: Great price, no longevity issues.\n",
      "Review 1 summary: Great batteries that work well in dozens of devices.\n",
      "Review 2 summary: Good price for utilitarian batteries, but no information on how long they last.\n",
      "Review 3 summary: Quick delivery and great deal for our office's most popular battery.\n",
      "Review 4 summary: Excellent batteries, but not sure why I would ever pay more for them.\n",
      "Review 5 summary: Three stars, no quality comparison yet.\n",
      "Review 6 summary: Headlamp doesn't last as long as expected, but I won't purchase again.\n",
      "Review 7 summary: Batteries don't last as long as others for same time period\n",
      "Review 8 summary: Decent value, but battery life is less than some.\n",
      "Review 9 summary: Great deal but not enough power to run certain toys.\n",
      "Review 10 summary: The power is easy to be used out.\n",
      "Review 11 summary: Batteries don't last long, but name brand batteries are cheaper in the long run.\n",
      "Review 12 summary: Batteries are weak and unreliable, don't buy.\n",
      "Review 13 summary: Batteries don't last long and don't work with my tv remote.\n",
      "Review 14 summary: Car toy runs fine with other brand battery, but not with amazon battery.\n",
      "\n",
      "Analyze the following list of product reviews. Identify the 3 most frequently mentioned positive aspects (pros) and 3 most frequently mentioned negative aspects (cons) across all reviews.\n",
      "Store them in a json output.\n",
      "\n",
      "### Reviews:\n",
      "[Review 1]: Great price, no longevity issues.\n",
      "[Review 2]: Great batteries that work well in dozens of devices.\n",
      "[Review 3]: Good price for utilitarian batteries, but no information on how long they last.\n",
      "[Review 4]: Quick delivery and great deal for our office's most popular battery.\n",
      "[Review 5]: Excellent batteries, but not sure why I would ever pay more for them.\n",
      "[Review 6]: Three stars, no quality comparison yet.\n",
      "[Review 7]: Headlamp doesn't last as long as expected, but I won't purchase again.\n",
      "[Review 8]: Batteries don't last as long as others for same time period\n",
      "[Review 9]: Decent value, but battery life is less than some.\n",
      "[Review 10]: Great deal but not enough power to run certain toys.\n",
      "[Review 11]: The power is easy to be used out.\n",
      "[Review 12]: Batteries don't last long, but name brand batteries are cheaper in the long run.\n",
      "[Review 13]: Batteries are weak and unreliable, don't buy.\n",
      "[Review 14]: Batteries don't last long and don't work with my tv remote.\n",
      "[Review 15]: Car toy runs fine with other brand battery, but not with amazon battery.\n",
      "\n",
      "\n",
      "### JSON Output:\n",
      "\n",
      "\n",
      "Analyze the following list of product reviews. Identify the 3 most frequently mentioned positive aspects (pros) and 3 most frequently mentioned negative aspects (cons) across all reviews.\n",
      "Store them in a json output.\n",
      "\n",
      "### Reviews:\n",
      "[Review 1]: Great price, no longevity issues.\n",
      "[Review 2]: Great batteries that work well in dozens of devices.\n",
      "[Review 3]: Good price for utilitarian batteries, but no information on how long they last.\n",
      "[Review 4]: Quick delivery and great deal for our office's most popular battery.\n",
      "[Review 5]: Excellent batteries, but not sure why I would ever pay more for them.\n",
      "[Review 6]: Three stars, no quality comparison yet.\n",
      "[Review 7]: Headlamp doesn't last as long as expected, but I won't purchase again.\n",
      "[Review 8]: Batteries don't last as long as others for same time period\n",
      "[Review 9]: Decent value, but battery life is less than some.\n",
      "[Review 10]: Great deal but not enough power to run certain toys.\n",
      "[Review 11]: The power is easy to be used out.\n",
      "[Review 12]: Batteries don't last long, but name brand batteries are cheaper in the long run.\n",
      "[Review 13]: Batteries are weak and unreliable, don't buy.\n",
      "[Review 14]: Batteries don't last long and don't work with my tv remote.\n",
      "[Review 15]: Car toy runs fine with other brand battery, but not with amazon battery.\n",
      "\n",
      "\n",
      "### JSON Output:\n",
      "\n",
      "```\n",
      "{\n",
      "  \"pros\": [\n",
      "    \"Great price\",\n",
      "    \"Great batteries\",\n",
      "    \"Great deal\"\n",
      "  ],\n",
      "  \"cons\": [\n",
      "    \"No longevity issues\",\n",
      "    \"No information on how long they last\",\n",
      "    \"Batteries don't last as long as expected\"\n",
      "  ]\n",
      "}\n",
      "```\n"
     ]
    }
   ],
   "source": [
    "category_name = 'Accessories & Adapters'\n",
    "product_name = category_products[0]['name']\n",
    "positive_reviews = category_products[0]['positive_reviews']\n",
    "neutral_reviews = category_products[0]['neutral_reviews']\n",
    "negative_reviews = category_products[0]['negative_reviews']\n",
    "\n",
    "review_text = \"\"\n",
    "for i, review in enumerate(positive_reviews + neutral_reviews + negative_reviews):\n",
    "    # summarize review\n",
    "    summary = generate_summary(prompt_review_summary.format(review_text=review), max_tokens=50)\n",
    "    review = extract_review_summary(summary)\n",
    "    print(f\"Review {i} summary: {review}\")\n",
    "    review_text += f\"[Review {i+1}]: {review}\\n\"\n",
    "\n",
    "prompt = prompt_review_pros_cons.format(review_text=review_text)\n",
    "print(prompt)\n",
    "\n",
    "result = generate_summary(prompt, max_tokens=200)\n",
    "\n",
    "print(result)"
   ]
  },
  {
   "cell_type": "markdown",
   "metadata": {},
   "source": [
    "----- ### CONTINUE FROM HERE ### -----"
   ]
  },
  {
   "cell_type": "markdown",
   "metadata": {},
   "source": [
    "### Run inference on the model to extract information from the reviews and store them into a json file\n",
    "\n",
    "We had some good results using the json approach. Let's try again, but this time providing multiple reviews. Some of them are pretty long, we could try to summarize them first but this will extend the inference time."
   ]
  },
  {
   "cell_type": "code",
   "execution_count": 58,
   "metadata": {},
   "outputs": [],
   "source": [
    "tokenizer.pad_token = tokenizer.eos_token\n",
    "\n",
    "def extract_info_to_json(prompt, max_tokens=100):\n",
    "    inputs = tokenizer(prompt, return_tensors=\"pt\", padding=True, truncation=True).to(device)\n",
    "    \n",
    "    outputs = model.generate(\n",
    "        inputs.input_ids,\n",
    "        max_new_tokens=max_tokens,\n",
    "        temperature=0.3,\n",
    "        top_p=0.8,\n",
    "        pad_token_id=tokenizer.eos_token_id,\n",
    "        eos_token_id=tokenizer.eos_token_id\n",
    "    ).to(device)\n",
    "    \n",
    "    return tokenizer.decode(outputs[0], skip_special_tokens=True)"
   ]
  },
  {
   "cell_type": "code",
   "execution_count": 67,
   "metadata": {},
   "outputs": [
    {
     "name": "stdout",
     "output_type": "stream",
     "text": [
      "\n",
      "Summarize the following product reviews and provide a structured JSON output with the following information:\n",
      "- A \"summary\" key, containing a balanced overview of positive and negative aspects, highlighting what people like and dislike.\n",
      "- A \"pros\" key, listing 3 main positive aspects extracted from the positive reviews.\n",
      "- A \"cons\" key, listing 3 main negative aspects extracted from the negative reviews.\n",
      "- A \"conclusion\" key, with a short final assessment of the product.\n",
      "\n",
      "### Positive Reviews:\n",
      "Five Stars do a good iob\n",
      "Four Stars They work as expected.\n",
      "same as above batteries, great price and long lasting and appreciate quality and great price\n",
      "\n",
      "### Neutral Reviews:\n",
      "Of the four used so far, two already lost ... Of the four used so far, two already lost charge, one so much as giving a negative read on a voltmeter.\n",
      "Three Stars I don't feel Amazon brand batteries are as powerful as other brands.\n",
      "AmazonBasics AA Performance Alkaline Batteries The juice in these batteries aren't long term.\n",
      "\n",
      "### Negative Reviews:\n",
      "The battery burned me!! I opened up this package fresh and put two AA batteries in my Xbox one controller. It only lasted for a few hours of gameplay. When I took the batteries out they seem quite warm. I used my heat gun and they were 115F. I got a new set of two batteries and placed it in my controller. They only kept the controller on for less than a minute. When I took the batteries out one burned my finger. I grabbed my heat temperature gun and in certain spots it registered over 127I'm not going to try and use anymore in any electronics. I'm not sure what's going on here Amazon.\n",
      "but the good news is I now am the proud owner of ... The batteries are sligtly bigger and will not fit in some electronics I thought AA was the standard size Nope, I was wrong, but the good news is I now am the proud owner of 48 slightly oversized batteries that do not fit in most of my battery operated devices. Perfect! Out of 9400 reviews nobody noticed the size issue with these\n",
      "One Star They fail earlier than brand names. I assumed Amazon would match in beat others. I won't order again.\n",
      "\n",
      "### JSON output:\n",
      "{\n",
      "  \"summary\": \"\",\n",
      "  \"pros\": [],\n",
      "  \"cons\": [],\n",
      "  \"conclusion\": \"\"\n",
      "}\n",
      "\n"
     ]
    }
   ],
   "source": [
    "prompt_reviews_json = \"\"\"\n",
    "Summarize the following product reviews and provide a structured JSON output with the following information:\n",
    "- A \"summary\" key, containing a balanced overview of positive and negative aspects, highlighting what people like and dislike.\n",
    "- A \"pros\" key, listing 3 main positive aspects extracted from the positive reviews.\n",
    "- A \"cons\" key, listing 3 main negative aspects extracted from the negative reviews.\n",
    "- A \"conclusion\" key, with a short final assessment of the product.\n",
    "\n",
    "### Positive Reviews:\n",
    "{positive_reviews}\n",
    "\n",
    "### Neutral Reviews:\n",
    "{neutral_reviews}\n",
    "\n",
    "### Negative Reviews:\n",
    "{negative_reviews}\n",
    "\n",
    "### JSON output:\n",
    "{{\n",
    "  \"summary\": \"\",\n",
    "  \"pros\": [],\n",
    "  \"cons\": [],\n",
    "  \"conclusion\": \"\"\n",
    "}}\n",
    "\"\"\"\n",
    "\n",
    "category_name = 'Accessories & Adapters'\n",
    "product_name = category_products[0]['name']\n",
    "positive_reviews = '\\n'.join(category_products[0]['positive_reviews'])\n",
    "neutral_reviews = '\\n'.join(category_products[0]['neutral_reviews'])\n",
    "negative_reviews = '\\n'.join(category_products[0]['negative_reviews'])\n",
    "\n",
    "prompt_reviews_json = prompt_reviews_json.format(positive_reviews=positive_reviews, neutral_reviews=neutral_reviews, negative_reviews=negative_reviews)\n",
    "print(prompt)\n"
   ]
  },
  {
   "cell_type": "code",
   "execution_count": 61,
   "metadata": {},
   "outputs": [
    {
     "name": "stderr",
     "output_type": "stream",
     "text": [
      "/usr/local/lib/python3.11/dist-packages/transformers/generation/configuration_utils.py:381: UserWarning: `do_sample` is set to `False`. However, `temperature` is set to `0.3` -- this flag is only used in sample-based generation modes. You should set `do_sample=True` or unset `temperature`.\n",
      "  warnings.warn(\n",
      "/usr/local/lib/python3.11/dist-packages/transformers/generation/configuration_utils.py:386: UserWarning: `do_sample` is set to `False`. However, `top_p` is set to `0.8` -- this flag is only used in sample-based generation modes. You should set `do_sample=True` or unset `top_p`.\n",
      "  warnings.warn(\n"
     ]
    },
    {
     "name": "stdout",
     "output_type": "stream",
     "text": [
      "\n",
      "Summarize the following product reviews and provide a structured JSON output with the following information:\n",
      "- A \"summary\" key, containing a balanced overview of positive and negative aspects, highlighting what people like and dislike.\n",
      "- A \"pros\" key, listing 3 main positive aspects extracted from the positive reviews.\n",
      "- A \"cons\" key, listing 3 main negative aspects extracted from the negative reviews.\n",
      "- A \"conclusion\" key, with a short final assessment of the product.\n",
      "\n",
      "### Positive Reviews:\n",
      "Five Stars do a good iob\n",
      "Four Stars They work as expected.\n",
      "same as above batteries, great price and long lasting and appreciate quality and great price\n",
      "\n",
      "### Neutral Reviews:\n",
      "Of the four used so far, two already lost ... Of the four used so far, two already lost charge, one so much as giving a negative read on a voltmeter.\n",
      "Three Stars I don't feel Amazon brand batteries are as powerful as other brands.\n",
      "AmazonBasics AA Performance Alkaline Batteries The juice in these batteries aren't long term.\n",
      "\n",
      "### Negative Reviews:\n",
      "The battery burned me!! I opened up this package fresh and put two AA batteries in my Xbox one controller. It only lasted for a few hours of gameplay. When I took the batteries out they seem quite warm. I used my heat gun and they were 115F. I got a new set of two batteries and placed it in my controller. They only kept the controller on for less than a minute. When I took the batteries out one burned my finger. I grabbed my heat temperature gun and in certain spots it registered over 127I'm not going to try and use anymore in any electronics. I'm not sure what's going on here Amazon.\n",
      "but the good news is I now am the proud owner of ... The batteries are sligtly bigger and will not fit in some electronics I thought AA was the standard size Nope, I was wrong, but the good news is I now am the proud owner of 48 slightly oversized batteries that do not fit in most of my battery operated devices. Perfect! Out of 9400 reviews nobody noticed the size issue with these\n",
      "One Star They fail earlier than brand names. I assumed Amazon would match in beat others. I won't order again.\n",
      "\n",
      "### JSON output:\n",
      "{\n",
      "  \"summary\": \"\",\n",
      "  \"pros\": [],\n",
      "  \"cons\": [],\n",
      "  \"conclusion\": \"\"\n",
      "}\n",
      "\n",
      "### JSON output:\n",
      "{\n",
      "  \"summary\": \"The batteries are sligtly bigger and will not fit in some electronics I thought AA was the standard size Nope, I was wrong, but the good news is I now am the proud owner of 48 slightly oversized batteries that do not fit in most of my battery operated devices. Perfect! Out of 9400 reviews nobody noticed the size issue with these\",\n",
      "  \"pros\": [\n",
      "    \"Five Stars do a good iob\",\n",
      "    \"Four Stars They work as expected.\",\n",
      "    \"same as above batteries, great price and long lasting and appreciate quality and great price\"\n",
      "  ],\n",
      "  \"cons\": [\n",
      "    \"Of the four used so far, two already lost ... Of the four used so far, two already lost charge, one so much as giving a negative read on a voltmeter.\",\n",
      "    \"Three Stars I don't feel\n"
     ]
    }
   ],
   "source": [
    "result = extract_info_to_json(prompt, max_tokens=200)\n",
    "print(result)"
   ]
  },
  {
   "cell_type": "markdown",
   "metadata": {},
   "source": [
    "### Let's try to summarize reviews first"
   ]
  },
  {
   "cell_type": "code",
   "execution_count": null,
   "metadata": {},
   "outputs": [],
   "source": [
    "positive_reviews = category_products[0]['positive_reviews']\n",
    "neutral_reviews = category_products[0]['neutral_reviews']\n",
    "negative_reviews = category_products[0]['negative_reviews']\n",
    "\n",
    "positive_reviews_summary = []\n",
    "neutral_reviews_summary = []\n",
    "negative_reviews_summary = []\n",
    "\n",
    "for review in positive_reviews:\n",
    "    result = generate_summary(prompt_review_summary, review, max_tokens=50)\n",
    "    summary = extract_review_summary(result)\n",
    "    positive_reviews_summary.append(summary)\n",
    "print(positive_reviews_summary)\n",
    "\n",
    "for review in neutral_reviews:\n",
    "    result = generate_summary(prompt_review_summary, review, max_tokens=50)\n",
    "    summary = extract_review_summary(result)\n",
    "    neutral_reviews_summary.append(summary)\n",
    "print(neutral_reviews_summary)\n",
    "\n",
    "for review in negative_reviews:\n",
    "    result = generate_summary(prompt_review_summary, review, max_tokens=50)\n",
    "    summary = extract_review_summary(result)\n",
    "    negative_reviews_summary.append(summary)\n",
    "print(negative_reviews_summary)\n",
    "\n",
    "prompt_reviews_json = prompt_reviews_json.format(\n",
    "    positive_reviews='\\n'.join(positive_reviews_summary),\n",
    "    neutral_reviews='\\n'.join(neutral_reviews_summary),\n",
    "    negative_reviews='\\n'.join(negative_reviews_summary)\n",
    ")\n",
    "\n",
    "print(prompt_reviews_json)"
   ]
  }
 ],
 "metadata": {
  "kernelspec": {
   "display_name": "Python 3 (ipykernel)",
   "language": "python",
   "name": "python3"
  },
  "language_info": {
   "codemirror_mode": {
    "name": "ipython",
    "version": 3
   },
   "file_extension": ".py",
   "mimetype": "text/x-python",
   "name": "python",
   "nbconvert_exporter": "python",
   "pygments_lexer": "ipython3",
   "version": "3.11.7"
  }
 },
 "nbformat": 4,
 "nbformat_minor": 2
}
