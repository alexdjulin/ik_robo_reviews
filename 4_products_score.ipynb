{
 "cells": [
  {
   "cell_type": "markdown",
   "metadata": {},
   "source": [
    "# Part 5 - Product Score\n",
    "In this notebook, we will calculate a product score for each category's product, to determine determine the 3 best ones, or the worst one."
   ]
  },
  {
   "cell_type": "markdown",
   "metadata": {},
   "source": [
    "## Imports"
   ]
  },
  {
   "cell_type": "code",
   "execution_count": 2,
   "metadata": {},
   "outputs": [],
   "source": [
    "import os\n",
    "import pandas as pd\n",
    "from tqdm import tqdm\n",
    "tqdm.pandas()  # Initialize tqdm with pandas\n",
    "\n",
    "# import helpers module\n",
    "import helpers\n",
    "import importlib\n",
    "importlib.reload(helpers)\n",
    "\n",
    "SEP = 100 * '-'"
   ]
  },
  {
   "cell_type": "markdown",
   "metadata": {},
   "source": [
    "## Load datasets"
   ]
  },
  {
   "cell_type": "code",
   "execution_count": 3,
   "metadata": {},
   "outputs": [
    {
     "name": "stdout",
     "output_type": "stream",
     "text": [
      "Dataset loaded from pickle/data_processed.pkl.\n",
      "Dataset loaded from pickle/data_clustered.pkl.\n",
      "Dataset loaded from pickle/data_sentiment_analysis.pkl.\n"
     ]
    }
   ],
   "source": [
    "from functools import reduce\n",
    "\n",
    "# Load datasets\n",
    "data_processed = helpers.load_pickled_dataset('pickle/data_processed.pkl')\n",
    "data_clustered = helpers.load_pickled_dataset('pickle/data_clustered.pkl')\n",
    "data_sa = helpers.load_pickled_dataset('pickle/data_sentiment_analysis.pkl')\n",
    "\n",
    "# Select columns\n",
    "proc_columns = ['name', 'brand', 'reviews.rating', 'reviews.numHelpful', 'review']\n",
    "cluster_columns = ['review', 'clusterCategories']\n",
    "sa_columns = ['review', 'reviews.sentiment', 'reviews.ft', 'reviews.ft.sentiment']\n",
    "\n",
    "# Filter DataFrames by the selected columns\n",
    "data1 = data_processed[proc_columns]\n",
    "data2 = data_clustered[cluster_columns]\n",
    "data3 = data_sa[sa_columns]\n",
    "\n",
    "# Merge the DataFrames sequentially\n",
    "data = reduce(lambda left, right: pd.merge(left, right, on='review', how='outer'), [data1, data2, data3])\n"
   ]
  },
  {
   "cell_type": "code",
   "execution_count": 4,
   "metadata": {},
   "outputs": [
    {
     "name": "stdout",
     "output_type": "stream",
     "text": [
      "----------------------------------------------------------------------------------------------------\n",
      "[name] Fire Tablet, 7 Display, Wi-Fi, 8 GB - Includes Special Offers, Magenta\n",
      "----------------------------------------------------------------------------------------------------\n",
      "[brand] Amazon\n",
      "----------------------------------------------------------------------------------------------------\n",
      "[reviews.rating] 5.0\n",
      "----------------------------------------------------------------------------------------------------\n",
      "[reviews.numHelpful] 0.0\n",
      "----------------------------------------------------------------------------------------------------\n",
      "[review] Great for the Kids\n",
      "Kids love it! We are Prime members, good kid friendly case... purchased a 128gb memory card to hold all kinds of games and movies\n",
      "I recommend this product.\n",
      "----------------------------------------------------------------------------------------------------\n",
      "[clusterCategories] Home & Smart Devices\n",
      "----------------------------------------------------------------------------------------------------\n",
      "[reviews.sentiment] positive\n",
      "----------------------------------------------------------------------------------------------------\n",
      "[reviews.ft] 2\n",
      "----------------------------------------------------------------------------------------------------\n",
      "[reviews.ft.sentiment] positive\n"
     ]
    }
   ],
   "source": [
    "helpers.print_random_product_sheet(data)"
   ]
  },
  {
   "cell_type": "markdown",
   "metadata": {},
   "source": [
    "## Split products per category"
   ]
  },
  {
   "cell_type": "code",
   "execution_count": null,
   "metadata": {},
   "outputs": [],
   "source": [
    "# create a new dataframe to store the products for each category\n",
    "data_scored = pd.DataFrame(columns=['clusterCategories', 'name', 'score'])\n",
    "\n",
    "# iterage over the dataset\n",
    "for index, row in data.iterrows():\n",
    "    category = row['clusterCategories']\n",
    "    name = row['name']\n",
    "    rating = row['reviews.rating']\n",
    "\n",
    "    # Check if the product already exists in the new dataframe\n",
    "    if (data_scored['name'] == name).any():\n",
    "        # if it exists, update the score\n",
    "        data_scored.loc[data_scored['name'] == name, 'score'] += rating\n",
    "    else:\n",
    "        # If the product is not in the dataframe, add it as a new row\n",
    "        new_row = pd.DataFrame({'clusterCategories': [category], 'name': [name], 'score': [rating]})\n",
    "        data_scored = pd.concat([data_scored, new_row], ignore_index=True)\n"
   ]
  },
  {
   "cell_type": "code",
   "execution_count": 35,
   "metadata": {},
   "outputs": [
    {
     "name": "stdout",
     "output_type": "stream",
     "text": [
      "Duplicates: False\n",
      "<class 'pandas.core.frame.DataFrame'>\n",
      "Index: 145 entries, 7 to 141\n",
      "Data columns (total 3 columns):\n",
      " #   Column             Non-Null Count  Dtype  \n",
      "---  ------             --------------  -----  \n",
      " 0   clusterCategories  145 non-null    object \n",
      " 1   name               145 non-null    object \n",
      " 2   reviews.rating     145 non-null    float64\n",
      "dtypes: float64(1), object(2)\n",
      "memory usage: 4.5+ KB\n",
      "None\n"
     ]
    },
    {
     "data": {
      "text/html": [
       "<div>\n",
       "<style scoped>\n",
       "    .dataframe tbody tr th:only-of-type {\n",
       "        vertical-align: middle;\n",
       "    }\n",
       "\n",
       "    .dataframe tbody tr th {\n",
       "        vertical-align: top;\n",
       "    }\n",
       "\n",
       "    .dataframe thead th {\n",
       "        text-align: right;\n",
       "    }\n",
       "</style>\n",
       "<table border=\"1\" class=\"dataframe\">\n",
       "  <thead>\n",
       "    <tr style=\"text-align: right;\">\n",
       "      <th></th>\n",
       "      <th>clusterCategories</th>\n",
       "      <th>name</th>\n",
       "      <th>reviews.rating</th>\n",
       "    </tr>\n",
       "  </thead>\n",
       "  <tbody>\n",
       "    <tr>\n",
       "      <th>7</th>\n",
       "      <td>Accessories &amp; Adapters</td>\n",
       "      <td>AmazonBasics AAA Performance Alkaline Batterie...</td>\n",
       "      <td>62201.0</td>\n",
       "    </tr>\n",
       "    <tr>\n",
       "      <th>6</th>\n",
       "      <td>Accessories &amp; Adapters</td>\n",
       "      <td>AmazonBasics AA Performance Alkaline Batteries...</td>\n",
       "      <td>43195.0</td>\n",
       "    </tr>\n",
       "    <tr>\n",
       "      <th>19</th>\n",
       "      <td>Accessories &amp; Adapters</td>\n",
       "      <td>Fire Kids Edition Tablet, 7 Display, Wi-Fi, 16...</td>\n",
       "      <td>40862.0</td>\n",
       "    </tr>\n",
       "    <tr>\n",
       "      <th>18</th>\n",
       "      <td>Accessories &amp; Adapters</td>\n",
       "      <td>Fire Kids Edition Tablet, 7 Display, Wi-Fi, 16...</td>\n",
       "      <td>25108.0</td>\n",
       "    </tr>\n",
       "    <tr>\n",
       "      <th>20</th>\n",
       "      <td>Accessories &amp; Adapters</td>\n",
       "      <td>Fire Kids Edition Tablet, 7 Display, Wi-Fi, 16...</td>\n",
       "      <td>23945.0</td>\n",
       "    </tr>\n",
       "    <tr>\n",
       "      <th>...</th>\n",
       "      <td>...</td>\n",
       "      <td>...</td>\n",
       "      <td>...</td>\n",
       "    </tr>\n",
       "    <tr>\n",
       "      <th>142</th>\n",
       "      <td>Video &amp; Streaming</td>\n",
       "      <td>Certified Refurbished Amazon Fire TV with Alex...</td>\n",
       "      <td>56.0</td>\n",
       "    </tr>\n",
       "    <tr>\n",
       "      <th>144</th>\n",
       "      <td>Video &amp; Streaming</td>\n",
       "      <td>Fire TV Stick Streaming Media Player Pair Kit</td>\n",
       "      <td>30.0</td>\n",
       "    </tr>\n",
       "    <tr>\n",
       "      <th>140</th>\n",
       "      <td>Video &amp; Streaming</td>\n",
       "      <td>Amazon Fire TV with 4K Ultra HD and Alexa Voic...</td>\n",
       "      <td>20.0</td>\n",
       "    </tr>\n",
       "    <tr>\n",
       "      <th>139</th>\n",
       "      <td>Video &amp; Streaming</td>\n",
       "      <td>Amazon Fire TV Gaming Edition Streaming Media ...</td>\n",
       "      <td>14.0</td>\n",
       "    </tr>\n",
       "    <tr>\n",
       "      <th>141</th>\n",
       "      <td>Video &amp; Streaming</td>\n",
       "      <td>Brand New Amazon Kindle Fire 16gb 7 Ips Displa...</td>\n",
       "      <td>5.0</td>\n",
       "    </tr>\n",
       "  </tbody>\n",
       "</table>\n",
       "<p>145 rows × 3 columns</p>\n",
       "</div>"
      ],
      "text/plain": [
       "          clusterCategories  \\\n",
       "7    Accessories & Adapters   \n",
       "6    Accessories & Adapters   \n",
       "19   Accessories & Adapters   \n",
       "18   Accessories & Adapters   \n",
       "20   Accessories & Adapters   \n",
       "..                      ...   \n",
       "142       Video & Streaming   \n",
       "144       Video & Streaming   \n",
       "140       Video & Streaming   \n",
       "139       Video & Streaming   \n",
       "141       Video & Streaming   \n",
       "\n",
       "                                                  name  reviews.rating  \n",
       "7    AmazonBasics AAA Performance Alkaline Batterie...         62201.0  \n",
       "6    AmazonBasics AA Performance Alkaline Batteries...         43195.0  \n",
       "19   Fire Kids Edition Tablet, 7 Display, Wi-Fi, 16...         40862.0  \n",
       "18   Fire Kids Edition Tablet, 7 Display, Wi-Fi, 16...         25108.0  \n",
       "20   Fire Kids Edition Tablet, 7 Display, Wi-Fi, 16...         23945.0  \n",
       "..                                                 ...             ...  \n",
       "142  Certified Refurbished Amazon Fire TV with Alex...            56.0  \n",
       "144      Fire TV Stick Streaming Media Player Pair Kit            30.0  \n",
       "140  Amazon Fire TV with 4K Ultra HD and Alexa Voic...            20.0  \n",
       "139  Amazon Fire TV Gaming Edition Streaming Media ...            14.0  \n",
       "141  Brand New Amazon Kindle Fire 16gb 7 Ips Displa...             5.0  \n",
       "\n",
       "[145 rows x 3 columns]"
      ]
     },
     "execution_count": 35,
     "metadata": {},
     "output_type": "execute_result"
    }
   ],
   "source": [
    "import pandas as pd\n",
    "\n",
    "def calculate_scores(data):\n",
    "    # Step 1: Group by category and name and sum the ratings for each product\n",
    "    grouped_data = data.groupby(['clusterCategories', 'name'])['reviews.rating'].sum().reset_index()\n",
    "\n",
    "    # Step 2: Sort by category and score (descending)\n",
    "    sorted_data = grouped_data.sort_values(by=['clusterCategories', 'reviews.rating'], ascending=[True, False])\n",
    "\n",
    "    # Step 3: Select the top 3 products per category\n",
    "    # top_products_df = sorted_data.groupby('category', group_keys=False).apply(lambda x: x.nlargest(3, 'score')).reset_index(drop=True)\n",
    "    \n",
    "    return sorted_data\n",
    "\n",
    "# calculate scores and store them in a new dataframe\n",
    "data_scored = calculate_scores(data)\n",
    "\n",
    "# check if we have duplicates\n",
    "duplicates = data_scored[data_scored.duplicated(subset=['clusterCategories', 'name'], keep=False)]\n",
    "print(\"Duplicates:\", not duplicates.empty)\n",
    "\n",
    "print(data_scored.info())\n",
    "data_scored"
   ]
  },
  {
   "cell_type": "markdown",
   "metadata": {},
   "source": [
    "## Extract the 3 best products per category"
   ]
  },
  {
   "cell_type": "code",
   "execution_count": 39,
   "metadata": {},
   "outputs": [
    {
     "name": "stdout",
     "output_type": "stream",
     "text": [
      "Accessories & Adapters\n",
      "Electronics & Media\n",
      "Home & Smart Devices\n",
      "Pet Supplies\n",
      "Tablets & eReaders\n",
      "Video & Streaming\n"
     ]
    }
   ],
   "source": [
    "# print unique categories\n",
    "category_names = data_scored['clusterCategories'].unique()\n",
    "for cat in category_names:\n",
    "    print(cat)"
   ]
  },
  {
   "cell_type": "code",
   "execution_count": 47,
   "metadata": {},
   "outputs": [
    {
     "data": {
      "text/html": [
       "<div>\n",
       "<style scoped>\n",
       "    .dataframe tbody tr th:only-of-type {\n",
       "        vertical-align: middle;\n",
       "    }\n",
       "\n",
       "    .dataframe tbody tr th {\n",
       "        vertical-align: top;\n",
       "    }\n",
       "\n",
       "    .dataframe thead th {\n",
       "        text-align: right;\n",
       "    }\n",
       "</style>\n",
       "<table border=\"1\" class=\"dataframe\">\n",
       "  <thead>\n",
       "    <tr style=\"text-align: right;\">\n",
       "      <th></th>\n",
       "      <th>clusterCategories</th>\n",
       "      <th>name</th>\n",
       "      <th>reviews.rating</th>\n",
       "    </tr>\n",
       "  </thead>\n",
       "  <tbody>\n",
       "    <tr>\n",
       "      <th>143</th>\n",
       "      <td>Video &amp; Streaming</td>\n",
       "      <td>Echo (White),,,\\r\\nEcho (White),,,</td>\n",
       "      <td>67.0</td>\n",
       "    </tr>\n",
       "    <tr>\n",
       "      <th>142</th>\n",
       "      <td>Video &amp; Streaming</td>\n",
       "      <td>Certified Refurbished Amazon Fire TV with Alex...</td>\n",
       "      <td>56.0</td>\n",
       "    </tr>\n",
       "    <tr>\n",
       "      <th>144</th>\n",
       "      <td>Video &amp; Streaming</td>\n",
       "      <td>Fire TV Stick Streaming Media Player Pair Kit</td>\n",
       "      <td>30.0</td>\n",
       "    </tr>\n",
       "  </tbody>\n",
       "</table>\n",
       "</div>"
      ],
      "text/plain": [
       "     clusterCategories                                               name  \\\n",
       "143  Video & Streaming                 Echo (White),,,\\r\\nEcho (White),,,   \n",
       "142  Video & Streaming  Certified Refurbished Amazon Fire TV with Alex...   \n",
       "144  Video & Streaming      Fire TV Stick Streaming Media Player Pair Kit   \n",
       "\n",
       "     reviews.rating  \n",
       "143            67.0  \n",
       "142            56.0  \n",
       "144            30.0  "
      ]
     },
     "execution_count": 47,
     "metadata": {},
     "output_type": "execute_result"
    }
   ],
   "source": [
    "# Select the top 3 products per category\n",
    "def best_products_per_category(data, category_name, top_n=3):\n",
    "    # subset the category\n",
    "    category_subset = data_scored[data_scored['clusterCategories'] == category_name]\n",
    "    # select the top n products\n",
    "    return category_subset.head(top_n)\n",
    "\n",
    "best_products_per_category(data_scored, cat, 3)\n"
   ]
  },
  {
   "cell_type": "code",
   "execution_count": 46,
   "metadata": {},
   "outputs": [
    {
     "data": {
      "text/html": [
       "<div>\n",
       "<style scoped>\n",
       "    .dataframe tbody tr th:only-of-type {\n",
       "        vertical-align: middle;\n",
       "    }\n",
       "\n",
       "    .dataframe tbody tr th {\n",
       "        vertical-align: top;\n",
       "    }\n",
       "\n",
       "    .dataframe thead th {\n",
       "        text-align: right;\n",
       "    }\n",
       "</style>\n",
       "<table border=\"1\" class=\"dataframe\">\n",
       "  <thead>\n",
       "    <tr style=\"text-align: right;\">\n",
       "      <th></th>\n",
       "      <th>clusterCategories</th>\n",
       "      <th>name</th>\n",
       "      <th>reviews.rating</th>\n",
       "    </tr>\n",
       "  </thead>\n",
       "  <tbody>\n",
       "    <tr>\n",
       "      <th>141</th>\n",
       "      <td>Video &amp; Streaming</td>\n",
       "      <td>Brand New Amazon Kindle Fire 16gb 7 Ips Displa...</td>\n",
       "      <td>5.0</td>\n",
       "    </tr>\n",
       "  </tbody>\n",
       "</table>\n",
       "</div>"
      ],
      "text/plain": [
       "     clusterCategories                                               name  \\\n",
       "141  Video & Streaming  Brand New Amazon Kindle Fire 16gb 7 Ips Displa...   \n",
       "\n",
       "     reviews.rating  \n",
       "141             5.0  "
      ]
     },
     "execution_count": 46,
     "metadata": {},
     "output_type": "execute_result"
    }
   ],
   "source": [
    "def get_worst_products_per_category(data, category_name, bottom_n=1):\n",
    "    # subset the category\n",
    "    category_subset = data_scored[data_scored['clusterCategories'] == category_name]\n",
    "    # select the bottom n products\n",
    "    return category_subset.tail(bottom_n)\n",
    "\n",
    "get_worst_products_per_category(data_scored, cat, 1)"
   ]
  },
  {
   "cell_type": "markdown",
   "metadata": {},
   "source": [
    "## Pickle scored dataset"
   ]
  },
  {
   "cell_type": "code",
   "execution_count": 48,
   "metadata": {},
   "outputs": [],
   "source": [
    "data_scored.to_pickle('pickle/data_scored.pkl')"
   ]
  }
 ],
 "metadata": {
  "kernelspec": {
   "display_name": "Python 3 (ipykernel)",
   "language": "python",
   "name": "python3"
  }
 },
 "nbformat": 4,
 "nbformat_minor": 2
}
