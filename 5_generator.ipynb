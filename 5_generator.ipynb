{
 "cells": [
  {
   "cell_type": "markdown",
   "metadata": {},
   "source": [
    "# Part 4 - Generator / Summarizer\n",
    "In this notebook, we implement the 3rd transformer, in charge or generating a review of the best product per category, from a batch of reviews and sentiments"
   ]
  },
  {
   "cell_type": "markdown",
   "metadata": {},
   "source": [
    "## Imports"
   ]
  },
  {
   "cell_type": "code",
   "execution_count": 3,
   "metadata": {},
   "outputs": [],
   "source": [
    "import os\n",
    "import re\n",
    "import json\n",
    "import pandas as pd\n",
    "from transformers import AutoModelForCausalLM\n",
    "import torch\n",
    "import random\n",
    "device = torch.device(\"cuda\" if torch.cuda.is_available() else \"cpu\")\n",
    "\n",
    "# import helpers module\n",
    "import helpers\n",
    "import importlib\n",
    "importlib.reload(helpers)\n",
    "\n",
    "SEP = 100 * '-'"
   ]
  },
  {
   "cell_type": "code",
   "execution_count": 4,
   "metadata": {},
   "outputs": [],
   "source": [
    "# load HugginFace token to environment\n",
    "if not os.environ.get('HF_TOKEN'):\n",
    "    os.environ['HF_TOKEN'] = input('Enter API token for Hugging Face: ')\n",
    "else:\n",
    "    print('Hugging Face token already loaded to environment')"
   ]
  },
  {
   "cell_type": "markdown",
   "metadata": {},
   "source": [
    "## Load datasets"
   ]
  },
  {
   "cell_type": "code",
   "execution_count": 5,
   "metadata": {},
   "outputs": [
    {
     "name": "stdout",
     "output_type": "stream",
     "text": [
      "Dataset loaded from pickle/data_processed.pkl.\n",
      "Dataset loaded from pickle/data_clustered.pkl.\n",
      "Dataset loaded from pickle/data_sentiment_analysis.pkl.\n"
     ]
    }
   ],
   "source": [
    "from functools import reduce\n",
    "\n",
    "# Load datasets\n",
    "data_processed = helpers.load_pickled_dataset('pickle/data_processed.pkl')\n",
    "data_clustered = helpers.load_pickled_dataset('pickle/data_clustered.pkl')\n",
    "data_sa = helpers.load_pickled_dataset('pickle/data_sentiment_analysis.pkl')\n",
    "\n",
    "# Select columns\n",
    "proc_columns = ['name', 'brand', 'reviews.rating', 'reviews.numHelpful', 'review']\n",
    "cluster_columns = ['review', 'clusterCategories']\n",
    "sa_columns = ['review', 'reviews.sentiment', 'reviews.ft', 'reviews.ft.sentiment']\n",
    "\n",
    "# Filter DataFrames by the selected columns\n",
    "data1 = data_processed[proc_columns]\n",
    "data2 = data_clustered[cluster_columns]\n",
    "data3 = data_sa[sa_columns]\n",
    "\n",
    "# Merge the DataFrames sequentially\n",
    "data = reduce(lambda left, right: pd.merge(left, right, on='review', how='outer'), [data1, data2, data3])\n"
   ]
  },
  {
   "cell_type": "code",
   "execution_count": 6,
   "metadata": {},
   "outputs": [
    {
     "name": "stdout",
     "output_type": "stream",
     "text": [
      "----------------------------------------------------------------------------------------------------\n",
      "[name] Fire HD 8 Tablet with Alexa, 8 HD Display, 32 GB, Tangerine - with Special Offers\n",
      "----------------------------------------------------------------------------------------------------\n",
      "[brand] Amazon\n",
      "----------------------------------------------------------------------------------------------------\n",
      "[reviews.rating] 5.0\n",
      "----------------------------------------------------------------------------------------------------\n",
      "[reviews.numHelpful] 0.0\n",
      "----------------------------------------------------------------------------------------------------\n",
      "[review] I cherish my kindle it's my window to the world.\n",
      "I love the internet, tweeting and facebook. No computers can complete me!! My kindle takes care of all my needs ;) !!!Juju\n",
      "I recommend this product.\n",
      "----------------------------------------------------------------------------------------------------\n",
      "[clusterCategories] Home & Smart Devices\n",
      "----------------------------------------------------------------------------------------------------\n",
      "[reviews.sentiment] positive\n",
      "----------------------------------------------------------------------------------------------------\n",
      "[reviews.ft] 2\n",
      "----------------------------------------------------------------------------------------------------\n",
      "[reviews.ft.sentiment] positive\n"
     ]
    }
   ],
   "source": [
    "helpers.print_random_product_sheet(data)"
   ]
  },
  {
   "cell_type": "markdown",
   "metadata": {},
   "source": [
    "## METHOD 1: Prompt Fine-Tuning\n",
    "\n",
    "Note: Due to a lack of time and since I got acceptable results using this method, I did not explore other methods like LORA fine-tuning in this notebook.\n",
    "\n",
    "Let's see what we can get using only prompt fine-tuning. For this I will try [Mistral-7B](https://huggingface.co/mistralai/Mistral-7B-v0.3) in 4bit quantization for quick inference.\n",
    "\n",
    "Using 4-bit quantization will help reduce memory usage significantly while retaining reasonable model performance."
   ]
  },
  {
   "cell_type": "code",
   "execution_count": 7,
   "metadata": {},
   "outputs": [
    {
     "name": "stdout",
     "output_type": "stream",
     "text": [
      "2024-10-17 10:31:04.425896: E external/local_xla/xla/stream_executor/cuda/cuda_dnn.cc:9261] Unable to register cuDNN factory: Attempting to register factory for plugin cuDNN when one has already been registered\n",
      "2024-10-17 10:31:04.425983: E external/local_xla/xla/stream_executor/cuda/cuda_fft.cc:607] Unable to register cuFFT factory: Attempting to register factory for plugin cuFFT when one has already been registered\n",
      "2024-10-17 10:31:04.427540: E external/local_xla/xla/stream_executor/cuda/cuda_blas.cc:1515] Unable to register cuBLAS factory: Attempting to register factory for plugin cuBLAS when one has already been registered\n",
      "2024-10-17 10:31:04.438452: I tensorflow/core/platform/cpu_feature_guard.cc:182] This TensorFlow binary is optimized to use available CPU instructions in performance-critical operations.\n",
      "To enable the following instructions: AVX2 FMA, in other operations, rebuild TensorFlow with the appropriate compiler flags.\n",
      "2024-10-17 10:31:05.687569: W tensorflow/compiler/tf2tensorrt/utils/py_utils.cc:38] TF-TRT Warning: Could not find TensorRT\n",
      "usage: transformers-cli <command> [<args>]\n",
      "Transformers CLI tool: error: argument {convert,download,env,run,serve,login,whoami,logout,repo,add-new-model,add-new-model-like,lfs-enable-largefiles,lfs-multipart-upload,pt-to-tf}: invalid choice: 'cache' (choose from 'convert', 'download', 'env', 'run', 'serve', 'login', 'whoami', 'logout', 'repo', 'add-new-model', 'add-new-model-like', 'lfs-enable-largefiles', 'lfs-multipart-upload', 'pt-to-tf')\n"
     ]
    }
   ],
   "source": [
    "!transformers-cli cache clear"
   ]
  },
  {
   "cell_type": "markdown",
   "metadata": {},
   "source": [
    "## Load Mistral-7b 4bits"
   ]
  },
  {
   "cell_type": "code",
   "execution_count": 8,
   "metadata": {},
   "outputs": [
    {
     "data": {
      "application/vnd.jupyter.widget-view+json": {
       "model_id": "10ef5eb398364b9c97b9e49f509da72d",
       "version_major": 2,
       "version_minor": 0
      },
      "text/plain": [
       "Loading checkpoint shards:   0%|          | 0/3 [00:00<?, ?it/s]"
      ]
     },
     "metadata": {},
     "output_type": "display_data"
    },
    {
     "name": "stderr",
     "output_type": "stream",
     "text": [
      "Setting `pad_token_id` to `eos_token_id`:2 for open-end generation.\n",
      "/usr/local/lib/python3.11/dist-packages/bitsandbytes/nn/modules.py:235: UserWarning: Input type into Linear4bit is torch.float16, but bnb_4bit_compute_type=torch.float32 (default). This will lead to slow inference or training speed.\n",
      "  warnings.warn(f'Input type into Linear4bit is torch.float16, but bnb_4bit_compute_type=torch.float32 (default). This will lead to slow inference or training speed.')\n",
      "2024-10-17 10:31:27.847582: E external/local_xla/xla/stream_executor/cuda/cuda_dnn.cc:9261] Unable to register cuDNN factory: Attempting to register factory for plugin cuDNN when one has already been registered\n",
      "2024-10-17 10:31:27.847652: E external/local_xla/xla/stream_executor/cuda/cuda_fft.cc:607] Unable to register cuFFT factory: Attempting to register factory for plugin cuFFT when one has already been registered\n",
      "2024-10-17 10:31:27.849060: E external/local_xla/xla/stream_executor/cuda/cuda_blas.cc:1515] Unable to register cuBLAS factory: Attempting to register factory for plugin cuBLAS when one has already been registered\n",
      "2024-10-17 10:31:27.857931: I tensorflow/core/platform/cpu_feature_guard.cc:182] This TensorFlow binary is optimized to use available CPU instructions in performance-critical operations.\n",
      "To enable the following instructions: AVX2 FMA, in other operations, rebuild TensorFlow with the appropriate compiler flags.\n",
      "2024-10-17 10:31:29.039264: W tensorflow/compiler/tf2tensorrt/utils/py_utils.cc:38] TF-TRT Warning: Could not find TensorRT\n"
     ]
    },
    {
     "name": "stdout",
     "output_type": "stream",
     "text": [
      "Hello my name is Katie and I am a 20 year old student at the University of North Carolina at Chap\n"
     ]
    }
   ],
   "source": [
    "from transformers import LlamaTokenizer\n",
    "\n",
    "model_name = \"mistralai/Mistral-7B-v0.3\"\n",
    "tokenizer = LlamaTokenizer.from_pretrained(model_name)\n",
    "\n",
    "# load 4bit quantization model\n",
    "model = AutoModelForCausalLM.from_pretrained(\n",
    "    model_name,\n",
    "    load_in_4bit=True,\n",
    "    device_map=\"auto\"\n",
    ")\n",
    "\n",
    "# test model\n",
    "inputs = tokenizer(\"Hello my name is\", return_tensors=\"pt\").to(device)\n",
    "\n",
    "outputs = model.generate(**inputs, max_new_tokens=20)\n",
    "print(tokenizer.decode(outputs[0], skip_special_tokens=True))\n"
   ]
  },
  {
   "cell_type": "markdown",
   "metadata": {},
   "source": [
    "## Create a method to infer on the model"
   ]
  },
  {
   "cell_type": "code",
   "execution_count": 9,
   "metadata": {},
   "outputs": [],
   "source": [
    "# Set pad_token to eos_token\n",
    "tokenizer.pad_token = tokenizer.eos_token\n",
    "\n",
    "def run_inference_on_model(prompt: str, max_tokens: int = 100) -> str:\n",
    "    \"\"\"Run inference on the model\n",
    "\n",
    "    Args:\n",
    "        prompt (str): prompt to generate text from\n",
    "        max_tokens (int, optional): maximum tokens to generate. Defaults to 100.\n",
    "\n",
    "    Returns:\n",
    "        str: generated text\n",
    "    \"\"\"\n",
    "\n",
    "    inputs = tokenizer(prompt, return_tensors=\"pt\", padding=True, truncation=True).to(device)\n",
    "    \n",
    "    outputs = model.generate(\n",
    "        inputs.input_ids,\n",
    "        max_new_tokens=max_tokens,\n",
    "        # temperature=0.3,  # unset or I get warnings\n",
    "        # top_p=0.8,  # unset or I get warnings\n",
    "        pad_token_id=tokenizer.eos_token_id,\n",
    "        eos_token_id=tokenizer.eos_token_id\n",
    "    ).to(device)\n",
    "    \n",
    "    return tokenizer.decode(outputs[0], skip_special_tokens=True)\n",
    "\n"
   ]
  },
  {
   "cell_type": "markdown",
   "metadata": {},
   "source": [
    "## Zero-shot prompting\n",
    "Let's work on a prompt template so the model extract information from reviews and summarize them"
   ]
  },
  {
   "cell_type": "code",
   "execution_count": 10,
   "metadata": {},
   "outputs": [
    {
     "name": "stderr",
     "output_type": "stream",
     "text": [
      "Asking to truncate to max_length but no maximum length is provided and the model has no predefined maximum length. Default to no truncation.\n"
     ]
    },
    {
     "name": "stdout",
     "output_type": "stream",
     "text": [
      "Summarize the following product review in one sentence, highlighting the main points.\n",
      "Then, provide a list of pros and cons and a short overall conclusion.\n",
      "\n",
      "### Review: \n",
      "This laptop has a fantastic display and long battery life, but the keyboard is a bit cramped, and it tends to get hot during heavy use. Overall, it performs well for everyday tasks and is good value for the price.\n",
      "\n",
      "### One-sentence summary, pros and cons and conclusion:\n",
      "\n",
      "- Pros:\n",
      "  - Fantastic display\n",
      "  - Long battery life\n",
      "  - Good value for the price\n",
      "- Cons:\n",
      "  - Keyboard is a bit cramped\n",
      "  - Tends to get hot during heavy use\n",
      "- Conclusion:\n",
      "  - Performs well for everyday tasks\n",
      "\n",
      "\n",
      "\n",
      "\n",
      "\n",
      "\n",
      "\n",
      "\n",
      "\n",
      "\n",
      "\n",
      "\n",
      "\n",
      "\n",
      "\n",
      "\n",
      "\n",
      "\n",
      "\n",
      "\n",
      "\n",
      "\n",
      "\n",
      "\n",
      "\n",
      "\n",
      "\n",
      "\n",
      "\n",
      "\n",
      "\n",
      "\n",
      "\n",
      "\n",
      "\n",
      "\n"
     ]
    }
   ],
   "source": [
    "prompt_zero_shot = \"\"\"Summarize the following product review in one sentence, highlighting the main points.\n",
    "Then, provide a list of pros and cons and a short overall conclusion.\n",
    "\n",
    "### Review: \n",
    "{review_text}\n",
    "\n",
    "### One-sentence summary, pros and cons and conclusion:\n",
    "\"\"\"\n",
    "\n",
    "review_text = \"This laptop has a fantastic display and long battery life, but the keyboard is a bit cramped, and it tends to get hot during heavy use. Overall, it performs well for everyday tasks and is good value for the price.\"\n",
    "prompt = prompt_zero_shot.format(review_text=review_text)\n",
    "\n",
    "review_text = run_inference_on_model(prompt, max_tokens=100)\n",
    "\n",
    "print(review_text)"
   ]
  },
  {
   "cell_type": "markdown",
   "metadata": {},
   "source": [
    "The result is not exactly what I need. Let's try to include 1 or 2 example in the prompt."
   ]
  },
  {
   "cell_type": "markdown",
   "metadata": {},
   "source": [
    "## Few-shots prompting"
   ]
  },
  {
   "cell_type": "code",
   "execution_count": 11,
   "metadata": {},
   "outputs": [
    {
     "name": "stdout",
     "output_type": "stream",
     "text": [
      "\n",
      "Summarize the following product review in one sentence, highlighting the main points.\n",
      "Then, provide a list of pros and cons and a short overall conclusion.\n",
      "\n",
      "### Example 1:\n",
      "# Review: \n",
      "This phone has a great camera and sleek design, but the battery life is disappointing.\n",
      "# One-sentence summary: \n",
      "\"Great camera and design, but poor battery life.\"\n",
      "# Pros:\n",
      "  - Great camera\n",
      "  - Sleek design\n",
      "# Cons:\n",
      "  - Disappointing battery life\n",
      "# Conclusion:\n",
      "\"Good for photography lovers but might need frequent charging.\"\n",
      "\n",
      "### Example 2:\n",
      "# Review: \n",
      "\"This vacuum cleaner is powerful and easy to use, but it's noisy and a bit heavy.\"\n",
      "# One-sentence summary:\n",
      "\"Effective but noisy and heavy.\"\n",
      "# Pros:\n",
      "  - Powerful\n",
      "  - Easy to use\n",
      "# Cons:\n",
      "  - Noisy\n",
      "  - Heavy\n",
      "# Conclusion:\n",
      "\"Ideal for quick, powerful cleaning if noise isn’t an issue.\"\n",
      "\n",
      "# Review: \n",
      "This blender is absolutely fantastic! It blends everything smoothly, whether it's ice, vegetables, or fruits. I love the different speed settings, which give a lot of flexibility for various recipes. However, it’s quite loud, especially on the higher settings, so it can be a bit disruptive in the kitchen. The jar is also a bit heavy, which makes it a little difficult to handle, especially when it's full. Cleaning is easy, but the blade is really sharp, so I need to be careful. Overall, it's a solid blender for anyone who wants power and versatility in their kitchen.\n",
      "\n",
      "# One-sentence summary:\n",
      "\"A powerful blender with great versatility, but it's loud and heavy.\"\n",
      "\n",
      "# Pros:\n",
      "  - Blends everything smoothly\n",
      "  - Different speed settings\n",
      "  - Easy to clean\n",
      "\n",
      "# Cons:\n",
      "  - Loud\n",
      "  - Heavy jar\n",
      "  - Sharp blade\n",
      "\n",
      "# Conclusion:\n",
      "\"A great blender for anyone who wants power and versatility in their kitchen.\"\n"
     ]
    }
   ],
   "source": [
    "prompt_few_shots = \"\"\"\n",
    "Summarize the following product review in one sentence, highlighting the main points.\n",
    "Then, provide a list of pros and cons and a short overall conclusion.\n",
    "\n",
    "### Example 1:\n",
    "# Review: \n",
    "This phone has a great camera and sleek design, but the battery life is disappointing.\n",
    "# One-sentence summary: \n",
    "\"Great camera and design, but poor battery life.\"\n",
    "# Pros:\n",
    "  - Great camera\n",
    "  - Sleek design\n",
    "# Cons:\n",
    "  - Disappointing battery life\n",
    "# Conclusion:\n",
    "\"Good for photography lovers but might need frequent charging.\"\n",
    "\n",
    "### Example 2:\n",
    "# Review: \n",
    "\"This vacuum cleaner is powerful and easy to use, but it's noisy and a bit heavy.\"\n",
    "# One-sentence summary:\n",
    "\"Effective but noisy and heavy.\"\n",
    "# Pros:\n",
    "  - Powerful\n",
    "  - Easy to use\n",
    "# Cons:\n",
    "  - Noisy\n",
    "  - Heavy\n",
    "# Conclusion:\n",
    "\"Ideal for quick, powerful cleaning if noise isn’t an issue.\"\n",
    "\n",
    "# Review: \n",
    "{review_text}\n",
    "\"\"\"\n",
    "\n",
    "review_text = \"This blender is absolutely fantastic! It blends everything smoothly, whether it's ice, vegetables, or fruits. I love the different speed settings, which give a lot of flexibility for various recipes. However, it’s quite loud, especially on the higher settings, so it can be a bit disruptive in the kitchen. The jar is also a bit heavy, which makes it a little difficult to handle, especially when it's full. Cleaning is easy, but the blade is really sharp, so I need to be careful. Overall, it's a solid blender for anyone who wants power and versatility in their kitchen.\"\n",
    "prompt = prompt_few_shots.format(review_text=review_text)\n",
    "\n",
    "review_text = run_inference_on_model(prompt, max_tokens=100)\n",
    "\n",
    "print(review_text)\n"
   ]
  },
  {
   "cell_type": "markdown",
   "metadata": {},
   "source": [
    "The result is pretty close to what we need. However, the model keeps generating text until it reaches the max_tokens length. I can't manage to get the end of token to work."
   ]
  },
  {
   "cell_type": "markdown",
   "metadata": {},
   "source": [
    "## JSON output\n",
    "Let's try to pack the information into a json object"
   ]
  },
  {
   "cell_type": "code",
   "execution_count": 12,
   "metadata": {},
   "outputs": [
    {
     "name": "stdout",
     "output_type": "stream",
     "text": [
      "\n",
      "Summarize the following product review and provide the information in a structured JSON format with the following keys:\n",
      "- \"summary\": A single-sentence summary of the review.\n",
      "- \"pros\": A list of positive aspects.\n",
      "- \"cons\": A list of negative aspects.\n",
      "- \"conclusion\": An overall conclusion.\n",
      "\n",
      "### Review:\n",
      "This blender is absolutely fantastic! It blends everything smoothly, whether it's ice, vegetables, or fruits. I love the different speed settings, which give a lot of flexibility for various recipes. However, it’s quite loud, especially on the higher settings, so it can be a bit disruptive in the kitchen. The jar is also a bit heavy, which makes it a little difficult to handle, especially when it's full. Cleaning is easy, but the blade is really sharp, so I need to be careful. Overall, it's a solid blender for anyone who wants power and versatility in their kitchen.\n",
      "\n",
      "### JSON output:\n",
      "```json\n",
      "{\n",
      "  \"summary\": \"This blender is absolutely fantastic! It blends everything smoothly, whether it's ice, vegetables, or fruits.\",\n",
      "  \"pros\": [\n",
      "    \"different speed settings\",\n",
      "    \"flexibility for various recipes\"\n",
      "  ],\n",
      "  \"cons\": [\n",
      "    \"loud\",\n",
      "    \"jar is heavy\",\n",
      "    \"blade is really sharp\"\n",
      "  ],\n",
      "  \"conclusion\": \"It's a solid blender for anyone who wants power and versatility in their kitchen.\"\n",
      "}\n",
      "```\n"
     ]
    }
   ],
   "source": [
    "prompt_json = \"\"\"\n",
    "Summarize the following product review and provide the information in a structured JSON format with the following keys:\n",
    "- \"summary\": A single-sentence summary of the review.\n",
    "- \"pros\": A list of positive aspects.\n",
    "- \"cons\": A list of negative aspects.\n",
    "- \"conclusion\": An overall conclusion.\n",
    "\n",
    "### Review:\n",
    "{review_text}\n",
    "\n",
    "### JSON output:\n",
    "\"\"\"\n",
    "\n",
    "review_text = \"This blender is absolutely fantastic! It blends everything smoothly, whether it's ice, vegetables, or fruits. I love the different speed settings, which give a lot of flexibility for various recipes. However, it’s quite loud, especially on the higher settings, so it can be a bit disruptive in the kitchen. The jar is also a bit heavy, which makes it a little difficult to handle, especially when it's full. Cleaning is easy, but the blade is really sharp, so I need to be careful. Overall, it's a solid blender for anyone who wants power and versatility in their kitchen.\"\n",
    "prompt = prompt_json.format(review_text=review_text)\n",
    "\n",
    "review_text = run_inference_on_model(prompt, max_tokens=150)\n",
    "print(review_text)\n"
   ]
  },
  {
   "cell_type": "code",
   "execution_count": 13,
   "metadata": {},
   "outputs": [
    {
     "name": "stdout",
     "output_type": "stream",
     "text": [
      "----------------------------------------------------------------------------------------------------\n",
      "SUMMARY: This blender is absolutely fantastic! It blends everything smoothly, whether it's ice, vegetables, or fruits.\n",
      "PROS: ['different speed settings', 'flexibility for various recipes']\n",
      "CONS: ['loud', 'jar is heavy', 'blade is really sharp']\n",
      "CONCLUSION: It's a solid blender for anyone who wants power and versatility in their kitchen.\n"
     ]
    }
   ],
   "source": [
    "def extract_json_dict(result: str) -> dict:\n",
    "    \"\"\"Extract JSON content from the model output and convert it to a Python dictionary.\n",
    "\n",
    "    Args:\n",
    "        result (str): The model output containing the JSON content.\n",
    "\n",
    "    Returns:\n",
    "        dict: A Python dictionary containing the extracted JSON content.\n",
    "\n",
    "    Exception:\n",
    "        json.JSONDecodeError: If there is an error decoding the JSON content.\n",
    "    \"\"\"\n",
    "    # let's extract the json part and store it in a dict\n",
    "    json_content = re.search(r'json\\s*(\\{.*?\\})\\s*', result, re.DOTALL)\n",
    "\n",
    "    review_dict = {}\n",
    "\n",
    "    if json_content:\n",
    "        extracted_json = json_content.group(1) \n",
    "        try: \n",
    "            # Convert JSON string to Python dictionary \n",
    "            review_dict = json.loads(extracted_json)\n",
    "        except json.JSONDecodeError as e: \n",
    "            print(f\"Error decoding JSON: {e}\")\n",
    "    else: \n",
    "        print(\"No JSON content found.\")\n",
    "\n",
    "    return review_dict\n",
    "\n",
    "review_dict = extract_json_dict(review_text)\n",
    "\n",
    "print(SEP)\n",
    "for k, v in review_dict.items():\n",
    "    print(f\"{k.upper()}: {v}\")"
   ]
  },
  {
   "cell_type": "markdown",
   "metadata": {},
   "source": [
    "This is working great. Outputing json contents make it very clear, concise and avoid mixed up information or repetition.\n"
   ]
  },
  {
   "cell_type": "markdown",
   "metadata": {},
   "source": [
    "## Multiple review summarization\n",
    "\n",
    "Let's try to input a list of reviews into the model and see if it can output a json summary."
   ]
  },
  {
   "cell_type": "code",
   "execution_count": 14,
   "metadata": {},
   "outputs": [
    {
     "name": "stdout",
     "output_type": "stream",
     "text": [
      "\n",
      "Summarize the following reviews of the same product in a structured JSON format, combining insights from all three reviews into a single summary. Use the following keys:\n",
      "- \"summary\": A single-sentence summary reflecting the general or mix of sentiment and key points from all reviews.\n",
      "- \"pros\": A list of positive aspects listed in the reviews.\n",
      "- \"cons\": A list of negative aspects listed in the reviews.\n",
      "- \"conclusion\": An overall conclusion based on the reviews, pros and cons.\n",
      "Generate a single JSON output that combines the information from all three reviews.\n",
      "\n",
      "### Review 1:\n",
      "I absolutely love this blender! It blends everything so smoothly, from ice to veggies and fruits. The different speed settings are super useful, and it's easy to clean. The motor is powerful, and it doesn't struggle with anything I throw at it. Definitely worth the price if you're serious about smoothies or cooking!\n",
      "\n",
      "### Review 2:\n",
      "The blender is decent overall. It does its job well, though it can be a bit noisy at higher speeds. The jar is also a bit heavy, which makes it slightly awkward to handle when full. But it's sturdy, and I appreciate the variety of settings. Not a bad choice, but nothing extraordinary.\n",
      "\n",
      "### Review 3:\n",
      "Unfortunately, this blender has been a disappointment. It struggles to blend frozen items properly, and it makes a lot of noise. After a few uses, the blade already seems dull. It's hard to clean, especially around the blade area, and I feel it's overpriced for the quality you get. I wouldn’t recommend it.\n",
      "\n",
      "### JSON output:\n",
      "```json\n",
      "{\n",
      "  \"summary\": \"A powerful blender with a variety of settings, but it struggles with frozen items and can be noisy.\",\n",
      "  \"pros\": [\"Easy to clean\", \"Variety of settings\", \"Sturdy\"],\n",
      "  \"cons\": [\"Noisy\", \"Dull blade\", \"Hard to clean\"],\n",
      "  \"conclusion\": \"A decent blender, but not worth the price.\"\n",
      "}\n",
      "```\n",
      "----------------------------------------------------------------------------------------------------\n",
      "SUMMARY: A powerful blender with a variety of settings, but it struggles with frozen items and can be noisy.\n",
      "PROS: ['Easy to clean', 'Variety of settings', 'Sturdy']\n",
      "CONS: ['Noisy', 'Dull blade', 'Hard to clean']\n",
      "CONCLUSION: A decent blender, but not worth the price.\n"
     ]
    }
   ],
   "source": [
    "prompt_multiple_reviews = \"\"\"\n",
    "Summarize the following reviews of the same product in a structured JSON format, combining insights from all three reviews into a single summary. Use the following keys:\n",
    "- \"summary\": A single-sentence summary reflecting the general or mix of sentiment and key points from all reviews.\n",
    "- \"pros\": A list of positive aspects listed in the reviews.\n",
    "- \"cons\": A list of negative aspects listed in the reviews.\n",
    "- \"conclusion\": An overall conclusion based on the reviews, pros and cons.\n",
    "Generate a single JSON output that combines the information from all three reviews.\n",
    "\"\"\"\n",
    "\n",
    "# let's try with a positive, a neutral and a negative review\n",
    "reviews_list = [\n",
    "    \"I absolutely love this blender! It blends everything so smoothly, from ice to veggies and fruits. The different speed settings are super useful, and it's easy to clean. The motor is powerful, and it doesn't struggle with anything I throw at it. Definitely worth the price if you're serious about smoothies or cooking!\",\n",
    "    \"The blender is decent overall. It does its job well, though it can be a bit noisy at higher speeds. The jar is also a bit heavy, which makes it slightly awkward to handle when full. But it's sturdy, and I appreciate the variety of settings. Not a bad choice, but nothing extraordinary.\",\n",
    "    \"Unfortunately, this blender has been a disappointment. It struggles to blend frozen items properly, and it makes a lot of noise. After a few uses, the blade already seems dull. It's hard to clean, especially around the blade area, and I feel it's overpriced for the quality you get. I wouldn’t recommend it.\"\n",
    "]\n",
    "\n",
    "# add reviews to the prompt\n",
    "for i, review in enumerate(reviews_list):\n",
    "    prompt_multiple_reviews += f\"\\n### Review {i+1}:\\n{review}\\n\"\n",
    "\n",
    "# add JSON output format\n",
    "prompt_multiple_reviews += \"\\n### JSON output:\\n\"\n",
    "\n",
    "review_text = run_inference_on_model(prompt_multiple_reviews, max_tokens=100)\n",
    "print(review_text)\n",
    "\n",
    "review_dict = extract_json_dict(review_text)\n",
    "print(SEP)\n",
    "for k, v in review_dict.items():\n",
    "    print(f\"{k.upper()}: {v}\")\n"
   ]
  },
  {
   "cell_type": "markdown",
   "metadata": {},
   "source": [
    "We notice the main issue here: Due to contradictory review sentiments, not agreeing on the same topic, the output is a bit erratic and the model strives at summarizing them.\n",
    "\n",
    "To face this problem, and also the issue of context window and large amount of review text used as input, we could split the task into 2 differemt prompts, using the same model:\n",
    "- Prompt 1 will ask the model to summarize a review into a few words carrying most of the review ideas.\n",
    "- Prompt 2 will take all summarized reviews of a product and output the json dict we asked earlier"
   ]
  },
  {
   "cell_type": "markdown",
   "metadata": {},
   "source": [
    "## Prompt 1: Summarizing a reviews\n",
    "Let's start with a simple model summarizing reviews."
   ]
  },
  {
   "cell_type": "code",
   "execution_count": 15,
   "metadata": {},
   "outputs": [],
   "source": [
    "prompt_review_summary = \"\"\"\n",
    "Summarize the following product review information. Return an empty string if you are unable to generate a summary.\n",
    "\n",
    "Review 1:\n",
    "\"This laptop exceeded my expectations. The battery lasts all day, and it’s super lightweight, which makes it perfect for traveling. The display is clear and bright, and the performance is fast even with multiple programs running. My only complaint is that the keyboard feels a bit shallow. Overall, I’m really happy with my purchase!\"\n",
    "Summary 1:\n",
    "->\"Lightweight and fast laptop with a great display and long-lasting battery, but the keyboard is a bit shallow.\"\n",
    "\n",
    "Review 2:\n",
    "\"The headphones are okay but not as good as I expected. The sound quality is decent, and they’re comfortable to wear for a while. However, they don’t block out background noise as well as I hoped. For the price, I think there are better options out there.\"\n",
    "Summary 2:\n",
    "->\"Decent sound quality and comfortable, but poor noise isolation and better options exist for the price.\"\n",
    "\n",
    "Review 3:\n",
    "{review_text}\n",
    "Summary 3:\n",
    "\"\"\"\n"
   ]
  },
  {
   "cell_type": "code",
   "execution_count": 16,
   "metadata": {},
   "outputs": [
    {
     "name": "stdout",
     "output_type": "stream",
     "text": [
      "----------------------------------------------------------------------------------------------------\n",
      "Powerful blender with different speed settings, but loud and heavy jar, sharp blade, and difficult to handle.\n",
      "----------------------------------------------------------------------------------------------------\n"
     ]
    }
   ],
   "source": [
    "def generate_review_summary(prompt: str) -> str:\n",
    "    \"\"\"Run inference on the model to generate a review summary based on the provided review.\n",
    "\n",
    "    Args:\n",
    "        prompt (str): prompt containing instruction and review\n",
    "\n",
    "    Returns:\n",
    "        str: review summary extracted from the model's answer using a regex pattern\n",
    "    \"\"\"\n",
    "    \n",
    "    # run inference\n",
    "    result = run_inference_on_model(prompt, max_tokens=50)\n",
    "    \n",
    "    # Match all summaries marked by '->\"' and capture their content\n",
    "    match = re.findall(r'->\"(.*?)\"', result, re.DOTALL)\n",
    "    if match and len(match) >= 3:\n",
    "        # Return the third summary with leading/trailing spaces removed\n",
    "        return match[2].strip()\n",
    "    else:\n",
    "        print(\"No review summary found.\")\n",
    "        return \"\"  # Return empty string if no match is found\n",
    "\n",
    "review_text = \"This blender is absolutely fantastic! It blends everything smoothly, whether it's ice, vegetables, or fruits. I love the different speed settings, which give a lot of flexibility for various recipes. However, it’s quite loud, especially on the higher settings, so it can be a bit disruptive in the kitchen. The jar is also a bit heavy, which makes it a little difficult to handle, especially when it's full. Cleaning is easy, but the blade is really sharp, so I need to be careful. Overall, it's a solid blender for anyone who wants power and versatility in their kitchen.\"\n",
    "prompt = prompt_review_summary.format(review_text=review_text)\n",
    "\n",
    "review_summary = generate_review_summary(prompt)\n",
    "print(SEP)\n",
    "print(review_summary)\n",
    "print(SEP)"
   ]
  },
  {
   "cell_type": "markdown",
   "metadata": {},
   "source": [
    "Perfect. Now let's try it on our dataset."
   ]
  },
  {
   "cell_type": "code",
   "execution_count": 17,
   "metadata": {},
   "outputs": [
    {
     "name": "stdout",
     "output_type": "stream",
     "text": [
      "REVIEW:\n",
      "I love my kindle.It is user friendly and there's so much more than I thought.\n",
      "I recommend this product.\n",
      "\n"
     ]
    },
    {
     "name": "stdout",
     "output_type": "stream",
     "text": [
      "SUMMARY:\n",
      "User-friendly and more than expected, highly recommended.\n",
      "----------------------------------------------------------------------------------------------------\n",
      "REVIEW:\n",
      "Great tablet for kids\n",
      "Bought this for my 9 year old Godson and he loves it. He would play it for hours on end if his parents would let him. He mostly plays games on it but he also uses it to watch videos and read books.\n",
      "I recommend this product.\n",
      "\n",
      "SUMMARY:\n",
      "Great tablet for kids, but parents should limit screen time.\n",
      "----------------------------------------------------------------------------------------------------\n",
      "REVIEW:\n",
      "Great Product!!!\n",
      "After reading the reviews and also seeing in the description that this has a 2 year unconditional warranty we were sold. Our child loves this tablet and he's dropped it many times with no damage. The thick padded case really does work wonders for this.\n",
      "I recommend this product.\n",
      "\n",
      "SUMMARY:\n",
      "Great product with a 2-year warranty, thick padded case, and drops with no damage.\n",
      "----------------------------------------------------------------------------------------------------\n",
      "REVIEW:\n",
      "For my daughter\n",
      "This is great, my daughters first tablet and it came with everything she needed to get started. She loves the pink bumper guard and so do I for the safety.\n",
      "I recommend this product.\n",
      "\n",
      "SUMMARY:\n",
      "Great tablet for kids with a pink bumper guard for safety.\n",
      "----------------------------------------------------------------------------------------------------\n",
      "REVIEW:\n",
      "Great gift for teens\n",
      "My teens needed something they could use to read favorite books, watch movies, edit photos, and catch up with friends on social media. The Kindle Fire 7 tablet covered all this and more at a great price.\n",
      "I recommend this product.\n",
      "\n",
      "SUMMARY:\n",
      "Great tablet for teens to read, watch movies, edit photos, and catch up with friends on social media.\n",
      "----------------------------------------------------------------------------------------------------\n"
     ]
    }
   ],
   "source": [
    "for _ in range(5):\n",
    "    # get random row and extract review\n",
    "    row_idx = random.randint(0, len(data))\n",
    "    review_text = data['review'][row_idx]\n",
    "    print(\"REVIEW:\")\n",
    "    print(review_text)\n",
    "    print()\n",
    "    \n",
    "    # generate summary\n",
    "    prompt = prompt_review_summary.format(review_text=review_text)\n",
    "    review_summary = generate_review_summary(prompt)\n",
    "    print(\"SUMMARY:\")\n",
    "    print(review_summary)\n",
    "\n",
    "    print(SEP)"
   ]
  },
  {
   "cell_type": "markdown",
   "metadata": {},
   "source": [
    "The results are prety good. We can see that the model tends to hallucinate on some summaries and deduct information that are not necessarely true and specified in the original review. Example:\n",
    "\n",
    "REVIEW:  \n",
    "- Great tablet. I like how cheap this is. It's great for browsing the Internet.\n",
    "\n",
    "SUMMARY:  \n",
    "- Great for browsing the Internet, but cheap and not suitable for other tasks."
   ]
  },
  {
   "cell_type": "markdown",
   "metadata": {},
   "source": [
    "## Prompt 2: Extracting informaton from multiple summarized reviews\n",
    "\n",
    "### Summarize recurring ideas\n",
    "Let's ask the model to extract recurring ideas from all reviews"
   ]
  },
  {
   "cell_type": "code",
   "execution_count": 18,
   "metadata": {},
   "outputs": [
    {
     "name": "stdout",
     "output_type": "stream",
     "text": [
      "\n",
      "Analyze the following list of product reviews. Provide a concise summary of the three most frequently mentioned ideas or themes. Ensure each point reflects common feedback without repeating phrasing.\n",
      "\n",
      "### Reviews:\n",
      "[Review 1]: \"The camera quality is amazing and takes very clear photos, even in low light.\"\n",
      "[Review 2]: \"Battery life could be better; it drains faster than my previous phone.\"\n",
      "[Review 3]: \"I’m impressed with the screen clarity and brightness, but the battery doesn’t last very long.\"\n",
      "[Review 4]: \"The photos are sharp and vibrant, especially in daylight.\"\n",
      "[Review 5]: \"Battery life is a bit disappointing, but the display is excellent and great for watching videos.\"\n",
      "\n",
      "### Recurring Ideas:\n",
      "1. The camera quality is highly praised, especially for clear and vibrant photos in various lighting.\n",
      "2. The display quality is appreciated for its clarity and brightness, making it ideal for media.\n",
      "3. Battery life is a common complaint, with users noting that it drains quickly.\n",
      "\n",
      "### Reviews:\n",
      "[Review 1]: \"The sound quality on these headphones is outstanding, with deep bass and clear highs.\"\n",
      "[Review 2]: \"They’re comfortable to wear for long hours, but I wish they blocked out noise better.\"\n",
      "[Review 3]: \"Amazing audio clarity, but they don’t fully cancel out background sounds.\"\n",
      "[Review 4]: \"Great sound quality for the price, but I can still hear some outside noise.\"\n",
      "[Review 5]: \"Comfortable fit and good audio, but not ideal for noisy environments.\"\n",
      "\n",
      "### Recurring Ideas:\n",
      "1. Sound quality is praised for its clarity and depth, especially given the price.\n",
      "2. Comfort is a major positive, with users finding them suitable for extended wear.\n",
      "3. Noise cancellation is lacking, with multiple reviews mentioning that they allow outside noise.\n",
      "\n",
      "### Reviews:\n",
      "[Review 1]: \"The vacuum cleaner is lightweight and easy to carry around the house.\"\n",
      "[Review 2]: \"I love how portable it is, but the battery life doesn’t last as long as expected.\"\n",
      "[Review 3]: \"It’s very light, making it easy to maneuver, but I wish it had a longer battery life.\"\n",
      "[Review 4]: \"Great suction power and easy to use, but it needs frequent recharging.\"\n",
      "[Review 5]: \"Lightweight design makes it easy to handle, but it doesn’t hold charge for long.\"\n",
      "\n",
      "\n",
      "### Recurring Ideas:\n",
      "1. The vacuum cleaner is praised for its lightweight design, making it easy to carry and maneuver.\n",
      "2. Battery life is a common complaint, with users noting that it doesn’t last as long as expected.\n",
      "3. Suction power is appreciated, but the vacuum needs frequent recharging.\n"
     ]
    }
   ],
   "source": [
    "# lets try to extract recurring general ideas from reviews\n",
    "# Analyze the following list of product reviews. Identify the 3 most frequently mentioned ideas or themes across all reviews and output them in a list.\n",
    "\n",
    "prompt_reviews_recurring_ideas = \"\"\"\n",
    "Analyze the following list of product reviews. Provide a concise summary of the three most frequently mentioned ideas or themes. Ensure each point reflects common feedback without repeating phrasing.\n",
    "\n",
    "### Reviews:\n",
    "[Review 1]: \"The camera quality is amazing and takes very clear photos, even in low light.\"\n",
    "[Review 2]: \"Battery life could be better; it drains faster than my previous phone.\"\n",
    "[Review 3]: \"I’m impressed with the screen clarity and brightness, but the battery doesn’t last very long.\"\n",
    "[Review 4]: \"The photos are sharp and vibrant, especially in daylight.\"\n",
    "[Review 5]: \"Battery life is a bit disappointing, but the display is excellent and great for watching videos.\"\n",
    "\n",
    "### Recurring Ideas:\n",
    "1. The camera quality is highly praised, especially for clear and vibrant photos in various lighting.\n",
    "2. The display quality is appreciated for its clarity and brightness, making it ideal for media.\n",
    "3. Battery life is a common complaint, with users noting that it drains quickly.\n",
    "\n",
    "### Reviews:\n",
    "[Review 1]: \"The sound quality on these headphones is outstanding, with deep bass and clear highs.\"\n",
    "[Review 2]: \"They’re comfortable to wear for long hours, but I wish they blocked out noise better.\"\n",
    "[Review 3]: \"Amazing audio clarity, but they don’t fully cancel out background sounds.\"\n",
    "[Review 4]: \"Great sound quality for the price, but I can still hear some outside noise.\"\n",
    "[Review 5]: \"Comfortable fit and good audio, but not ideal for noisy environments.\"\n",
    "\n",
    "### Recurring Ideas:\n",
    "1. Sound quality is praised for its clarity and depth, especially given the price.\n",
    "2. Comfort is a major positive, with users finding them suitable for extended wear.\n",
    "3. Noise cancellation is lacking, with multiple reviews mentioning that they allow outside noise.\n",
    "\n",
    "### Reviews:\n",
    "{review_text}\n",
    "\n",
    "### Recurring Ideas:\n",
    "\"\"\"\n",
    "\n",
    "reviews = [\n",
    "    \"The vacuum cleaner is lightweight and easy to carry around the house.\",\n",
    "    \"I love how portable it is, but the battery life doesn’t last as long as expected.\",\n",
    "    \"It’s very light, making it easy to maneuver, but I wish it had a longer battery life.\",\n",
    "    \"Great suction power and easy to use, but it needs frequent recharging.\",\n",
    "    \"Lightweight design makes it easy to handle, but it doesn’t hold charge for long.\"\n",
    "]\n",
    "\n",
    "reviews_text = \"\"\n",
    "for i, review in enumerate(reviews):\n",
    "    reviews_text += f\"[Review {i+1}]: \\\"{review}\\\"\\n\"\n",
    "\n",
    "prompt = prompt_reviews_recurring_ideas.format(review_text=reviews_text)\n",
    "\n",
    "review_text = run_inference_on_model(prompt, max_tokens=100)\n",
    "\n",
    "print(review_text)"
   ]
  },
  {
   "cell_type": "markdown",
   "metadata": {},
   "source": [
    "### Summarize recurring ideas using a JSON output"
   ]
  },
  {
   "cell_type": "code",
   "execution_count": 19,
   "metadata": {},
   "outputs": [
    {
     "name": "stdout",
     "output_type": "stream",
     "text": [
      "\n",
      "Analyze the following list of product reviews. Provide a concise summary of the three most frequently mentioned ideas or themes. Ensure each point reflects common feedback without repeating phrasing.\n",
      "Store the recurring ideas in a structured JSON format.\n",
      "\n",
      "### Reviews:\n",
      "[Review 1]: \"The camera quality is amazing and takes very clear photos, even in low light.\"\n",
      "[Review 2]: \"Battery life could be better; it drains faster than my previous phone.\"\n",
      "[Review 3]: \"I’m impressed with the screen clarity and brightness, but the battery doesn’t last very long.\"\n",
      "[Review 4]: \"The photos are sharp and vibrant, especially in daylight.\"\n",
      "[Review 5]: \"Battery life is a bit disappointing, but the display is excellent and great for watching videos.\"\n",
      "\n",
      "### Recurring Ideas:\n",
      "{\n",
      "\"1\": \"The camera quality is highly praised, especially for clear and vibrant photos in various lighting.\"\n",
      "\"2\": \"The display quality is appreciated for its clarity and brightness, making it ideal for media.\"\n",
      "\"3\": \"Battery life is a common complaint, with users noting that it drains quickly.\"\n",
      "}\n",
      "\n",
      "\n",
      "### Reviews:\n",
      "[Review 1]: \"The sound quality on these headphones is outstanding, with deep bass and clear highs.\"\n",
      "[Review 2]: \"They’re comfortable to wear for long hours, but I wish they blocked out noise better.\"\n",
      "[Review 3]: \"Amazing audio clarity, but they don’t fully cancel out background sounds.\"\n",
      "[Review 4]: \"Great sound quality for the price, but I can still hear some outside noise.\"\n",
      "[Review 5]: \"Comfortable fit and good audio, but not ideal for noisy environments.\"\n",
      "\n",
      "### Recurring Ideas:\n",
      "```json\n",
      "{\n",
      "\"1\": \"Sound quality is praised for its clarity and depth, especially given the price.\"\n",
      "\"2\": \"Comfort is a major positive, with users finding them suitable for extended wear.\"\n",
      "\"3\": \"Noise cancellation is lacking, with multiple reviews mentioning that they allow outside noise.\"\n",
      "}\n",
      "```\n",
      "\n",
      "### Reviews:\n",
      "[Review 1]: \"The vacuum cleaner is lightweight and easy to carry around the house.\"\n",
      "[Review 2]: \"I love how portable it is, but the battery life doesn’t last as long as expected.\"\n",
      "[Review 3]: \"It’s very light, making it easy to maneuver, but I wish it had a longer battery life.\"\n",
      "[Review 4]: \"Great suction power and easy to use, but it needs frequent recharging.\"\n",
      "[Review 5]: \"Lightweight design makes it easy to handle, but it doesn’t hold charge for long.\"\n",
      "\n",
      "\n",
      "### Recurring Ideas:\n",
      "```json\n",
      "{\n",
      "\"1\": \"The vacuum cleaner is lightweight and easy to carry around the house.\"\n",
      "\"2\": \"Battery life is a common complaint, with users noting that it drains quickly.\"\n",
      "\"3\": \"Noise cancellation is lacking, with multiple reviews mentioning that they allow outside noise.\"\n",
      "}\n",
      "```\n",
      "\n",
      "### Reviews:\n",
      "[Review 1]: \"The laptop is fast and responsive, with no lag or slowdown\n"
     ]
    }
   ],
   "source": [
    "# lets try to extract recurring general ideas from reviews\n",
    "# Analyze the following list of product reviews. Identify the 3 most frequently mentioned ideas or themes across all reviews and output them in a list.\n",
    "\n",
    "prompt_reviews_recurring_ideas_json = \"\"\"\n",
    "Analyze the following list of product reviews. Provide a concise summary of the three most frequently mentioned ideas or themes. Ensure each point reflects common feedback without repeating phrasing.\n",
    "Store the recurring ideas in a structured JSON format.\n",
    "\n",
    "### Reviews:\n",
    "[Review 1]: \"The camera quality is amazing and takes very clear photos, even in low light.\"\n",
    "[Review 2]: \"Battery life could be better; it drains faster than my previous phone.\"\n",
    "[Review 3]: \"I’m impressed with the screen clarity and brightness, but the battery doesn’t last very long.\"\n",
    "[Review 4]: \"The photos are sharp and vibrant, especially in daylight.\"\n",
    "[Review 5]: \"Battery life is a bit disappointing, but the display is excellent and great for watching videos.\"\n",
    "\n",
    "### Recurring Ideas:\n",
    "{{\n",
    "\"1\": \"The camera quality is highly praised, especially for clear and vibrant photos in various lighting.\"\n",
    "\"2\": \"The display quality is appreciated for its clarity and brightness, making it ideal for media.\"\n",
    "\"3\": \"Battery life is a common complaint, with users noting that it drains quickly.\"\n",
    "}}\n",
    "\n",
    "\n",
    "### Reviews:\n",
    "[Review 1]: \"The sound quality on these headphones is outstanding, with deep bass and clear highs.\"\n",
    "[Review 2]: \"They’re comfortable to wear for long hours, but I wish they blocked out noise better.\"\n",
    "[Review 3]: \"Amazing audio clarity, but they don’t fully cancel out background sounds.\"\n",
    "[Review 4]: \"Great sound quality for the price, but I can still hear some outside noise.\"\n",
    "[Review 5]: \"Comfortable fit and good audio, but not ideal for noisy environments.\"\n",
    "\n",
    "### Recurring Ideas:\n",
    "```json\n",
    "{{\n",
    "\"1\": \"Sound quality is praised for its clarity and depth, especially given the price.\"\n",
    "\"2\": \"Comfort is a major positive, with users finding them suitable for extended wear.\"\n",
    "\"3\": \"Noise cancellation is lacking, with multiple reviews mentioning that they allow outside noise.\"\n",
    "}}\n",
    "```\n",
    "\n",
    "### Reviews:\n",
    "{review_text}\n",
    "\n",
    "### Recurring Ideas:\n",
    "\"\"\"\n",
    "\n",
    "reviews = [\n",
    "    \"The vacuum cleaner is lightweight and easy to carry around the house.\",\n",
    "    \"I love how portable it is, but the battery life doesn’t last as long as expected.\",\n",
    "    \"It’s very light, making it easy to maneuver, but I wish it had a longer battery life.\",\n",
    "    \"Great suction power and easy to use, but it needs frequent recharging.\",\n",
    "    \"Lightweight design makes it easy to handle, but it doesn’t hold charge for long.\"\n",
    "]\n",
    "\n",
    "reviews_text = \"\"\n",
    "for i, review in enumerate(reviews):\n",
    "    reviews_text += f\"[Review {i+1}]: \\\"{review}\\\"\\n\"\n",
    "\n",
    "prompt = prompt_reviews_recurring_ideas_json.format(review_text=reviews_text)\n",
    "\n",
    "review_text = run_inference_on_model(prompt, max_tokens=100)\n",
    "\n",
    "print(review_text)"
   ]
  },
  {
   "cell_type": "markdown",
   "metadata": {},
   "source": [
    "This prompt outputing the recurring ideas in a json format only works for a few reviews. If inputing more than 4-5, the model keeps adding more than 3 ideas and the json format is not respected, missing the closing brackets. This makes it an unreliable solution."
   ]
  },
  {
   "cell_type": "markdown",
   "metadata": {},
   "source": [
    "### Summarize reviews into pros and cons bullet points\n",
    "This is an alternative method, asking the model to summarize all reviews into pros and cons"
   ]
  },
  {
   "cell_type": "code",
   "execution_count": 20,
   "metadata": {},
   "outputs": [
    {
     "name": "stdout",
     "output_type": "stream",
     "text": [
      "\n",
      "Analyze the following list of product reviews. Identify the 3 most frequently mentioned positive aspects (pros) and 3 most frequently mentioned negative aspects (cons) across all reviews.\n",
      "Store them in a json output.\n",
      "\n",
      "### Reviews:\n",
      "[Review 1]: The vacuum cleaner is lightweight and easy to carry around the house.\n",
      "[Review 2]: I love how portable it is, but the battery life doesn’t last as long as expected.\n",
      "[Review 3]: It’s very light, making it easy to maneuver, but I wish it had a longer battery life.\n",
      "[Review 4]: Great suction power and easy to use, but it needs frequent recharging.\n",
      "[Review 5]: Lightweight design makes it easy to handle, but it doesn’t hold charge for long.\n",
      "\n",
      "\n",
      "### JSON Output:\n",
      "\n",
      "```json\n",
      "{\n",
      "  \"pros\": [\n",
      "    \"lightweight\",\n",
      "    \"portable\",\n",
      "    \"easy to maneuver\"\n",
      "  ],\n",
      "  \"cons\": [\n",
      "    \"battery life\",\n",
      "    \"frequent recharging\",\n",
      "    \"short battery life\"\n",
      "  ]\n",
      "}\n",
      "```\n",
      "\n",
      "\n",
      "\n",
      "\n",
      "\n",
      "\n",
      "\n",
      "\n",
      "\n",
      "\n",
      "\n",
      "\n",
      "\n",
      "\n",
      "\n",
      "\n",
      "\n",
      "\n",
      "\n",
      "\n",
      "\n",
      "\n",
      "\n",
      "\n"
     ]
    }
   ],
   "source": [
    "# lets try to extract clear pros and cons bullet points from reviews\n",
    "prompt_review_pros_cons = \"\"\"\n",
    "Analyze the following list of product reviews. Identify the 3 most frequently mentioned positive aspects (pros) and 3 most frequently mentioned negative aspects (cons) across all reviews.\n",
    "Store them in a json output.\n",
    "\n",
    "### Reviews:\n",
    "{review_text}\n",
    "\n",
    "### JSON Output:\n",
    "\"\"\"\n",
    "\n",
    "reviews = [\n",
    "    \"The vacuum cleaner is lightweight and easy to carry around the house.\",\n",
    "    \"I love how portable it is, but the battery life doesn’t last as long as expected.\",\n",
    "    \"It’s very light, making it easy to maneuver, but I wish it had a longer battery life.\",\n",
    "    \"Great suction power and easy to use, but it needs frequent recharging.\",\n",
    "    \"Lightweight design makes it easy to handle, but it doesn’t hold charge for long.\",\n",
    "]\n",
    "\n",
    "review_text = \"\"\n",
    "for i, review in enumerate(reviews):\n",
    "    review_text += f\"[Review {i+1}]: {review}\\n\"\n",
    "\n",
    "prompt = prompt_review_pros_cons.format(review_text=review_text)\n",
    "\n",
    "review_text = run_inference_on_model(prompt, max_tokens=100)\n",
    "\n",
    "print(review_text)"
   ]
  },
  {
   "cell_type": "markdown",
   "metadata": {},
   "source": [
    "This seems to work pretty good. Now let's try with more reviews in the next section."
   ]
  },
  {
   "cell_type": "markdown",
   "metadata": {},
   "source": [
    "## Extracting best models and reviews from the dataset\n",
    "In notebook 5 we compute scores for all products in each category, so we can extract the top 3 or the worst product."
   ]
  },
  {
   "cell_type": "markdown",
   "metadata": {},
   "source": [
    "### Load our product scores"
   ]
  },
  {
   "cell_type": "code",
   "execution_count": 21,
   "metadata": {},
   "outputs": [
    {
     "name": "stdout",
     "output_type": "stream",
     "text": [
      "Dataset loaded from pickle/data_scored.pkl.\n"
     ]
    },
    {
     "data": {
      "text/html": [
       "<div>\n",
       "<style scoped>\n",
       "    .dataframe tbody tr th:only-of-type {\n",
       "        vertical-align: middle;\n",
       "    }\n",
       "\n",
       "    .dataframe tbody tr th {\n",
       "        vertical-align: top;\n",
       "    }\n",
       "\n",
       "    .dataframe thead th {\n",
       "        text-align: right;\n",
       "    }\n",
       "</style>\n",
       "<table border=\"1\" class=\"dataframe\">\n",
       "  <thead>\n",
       "    <tr style=\"text-align: right;\">\n",
       "      <th></th>\n",
       "      <th>clusterCategories</th>\n",
       "      <th>name</th>\n",
       "      <th>reviews.rating</th>\n",
       "    </tr>\n",
       "  </thead>\n",
       "  <tbody>\n",
       "    <tr>\n",
       "      <th>7</th>\n",
       "      <td>Accessories &amp; Adapters</td>\n",
       "      <td>AmazonBasics AAA Performance Alkaline Batterie...</td>\n",
       "      <td>62201.0</td>\n",
       "    </tr>\n",
       "    <tr>\n",
       "      <th>6</th>\n",
       "      <td>Accessories &amp; Adapters</td>\n",
       "      <td>AmazonBasics AA Performance Alkaline Batteries...</td>\n",
       "      <td>43195.0</td>\n",
       "    </tr>\n",
       "    <tr>\n",
       "      <th>19</th>\n",
       "      <td>Accessories &amp; Adapters</td>\n",
       "      <td>Fire Kids Edition Tablet, 7 Display, Wi-Fi, 16...</td>\n",
       "      <td>40862.0</td>\n",
       "    </tr>\n",
       "    <tr>\n",
       "      <th>18</th>\n",
       "      <td>Accessories &amp; Adapters</td>\n",
       "      <td>Fire Kids Edition Tablet, 7 Display, Wi-Fi, 16...</td>\n",
       "      <td>25108.0</td>\n",
       "    </tr>\n",
       "    <tr>\n",
       "      <th>20</th>\n",
       "      <td>Accessories &amp; Adapters</td>\n",
       "      <td>Fire Kids Edition Tablet, 7 Display, Wi-Fi, 16...</td>\n",
       "      <td>23945.0</td>\n",
       "    </tr>\n",
       "  </tbody>\n",
       "</table>\n",
       "</div>"
      ],
      "text/plain": [
       "         clusterCategories                                               name  \\\n",
       "7   Accessories & Adapters  AmazonBasics AAA Performance Alkaline Batterie...   \n",
       "6   Accessories & Adapters  AmazonBasics AA Performance Alkaline Batteries...   \n",
       "19  Accessories & Adapters  Fire Kids Edition Tablet, 7 Display, Wi-Fi, 16...   \n",
       "18  Accessories & Adapters  Fire Kids Edition Tablet, 7 Display, Wi-Fi, 16...   \n",
       "20  Accessories & Adapters  Fire Kids Edition Tablet, 7 Display, Wi-Fi, 16...   \n",
       "\n",
       "    reviews.rating  \n",
       "7          62201.0  \n",
       "6          43195.0  \n",
       "19         40862.0  \n",
       "18         25108.0  \n",
       "20         23945.0  "
      ]
     },
     "execution_count": 21,
     "metadata": {},
     "output_type": "execute_result"
    }
   ],
   "source": [
    "# load product score dataset\n",
    "data_scored = helpers.load_pickled_dataset('pickle/data_scored.pkl')\n",
    "\n",
    "data_scored.head()"
   ]
  },
  {
   "cell_type": "code",
   "execution_count": 22,
   "metadata": {},
   "outputs": [
    {
     "name": "stdout",
     "output_type": "stream",
     "text": [
      "Accessories & Adapters\n",
      "Electronics & Media\n",
      "Home & Smart Devices\n",
      "Pet Supplies\n",
      "Tablets & eReaders\n",
      "Video & Streaming\n"
     ]
    }
   ],
   "source": [
    "# print unique categories\n",
    "category_names = data_scored['clusterCategories'].unique()\n",
    "for cat in category_names:\n",
    "    print(cat)"
   ]
  },
  {
   "cell_type": "code",
   "execution_count": 23,
   "metadata": {},
   "outputs": [
    {
     "data": {
      "text/html": [
       "<div>\n",
       "<style scoped>\n",
       "    .dataframe tbody tr th:only-of-type {\n",
       "        vertical-align: middle;\n",
       "    }\n",
       "\n",
       "    .dataframe tbody tr th {\n",
       "        vertical-align: top;\n",
       "    }\n",
       "\n",
       "    .dataframe thead th {\n",
       "        text-align: right;\n",
       "    }\n",
       "</style>\n",
       "<table border=\"1\" class=\"dataframe\">\n",
       "  <thead>\n",
       "    <tr style=\"text-align: right;\">\n",
       "      <th></th>\n",
       "      <th>clusterCategories</th>\n",
       "      <th>name</th>\n",
       "      <th>reviews.rating</th>\n",
       "    </tr>\n",
       "  </thead>\n",
       "  <tbody>\n",
       "    <tr>\n",
       "      <th>7</th>\n",
       "      <td>Accessories &amp; Adapters</td>\n",
       "      <td>AmazonBasics AAA Performance Alkaline Batterie...</td>\n",
       "      <td>62201.0</td>\n",
       "    </tr>\n",
       "    <tr>\n",
       "      <th>6</th>\n",
       "      <td>Accessories &amp; Adapters</td>\n",
       "      <td>AmazonBasics AA Performance Alkaline Batteries...</td>\n",
       "      <td>43195.0</td>\n",
       "    </tr>\n",
       "    <tr>\n",
       "      <th>19</th>\n",
       "      <td>Accessories &amp; Adapters</td>\n",
       "      <td>Fire Kids Edition Tablet, 7 Display, Wi-Fi, 16...</td>\n",
       "      <td>40862.0</td>\n",
       "    </tr>\n",
       "  </tbody>\n",
       "</table>\n",
       "</div>"
      ],
      "text/plain": [
       "         clusterCategories                                               name  \\\n",
       "7   Accessories & Adapters  AmazonBasics AAA Performance Alkaline Batterie...   \n",
       "6   Accessories & Adapters  AmazonBasics AA Performance Alkaline Batteries...   \n",
       "19  Accessories & Adapters  Fire Kids Edition Tablet, 7 Display, Wi-Fi, 16...   \n",
       "\n",
       "    reviews.rating  \n",
       "7          62201.0  \n",
       "6          43195.0  \n",
       "19         40862.0  "
      ]
     },
     "execution_count": 23,
     "metadata": {},
     "output_type": "execute_result"
    }
   ],
   "source": [
    "# Select the top 3 products per category\n",
    "def best_products_per_category(data, category_name, top_n=3):\n",
    "    # subset the category\n",
    "    category_subset = data[data['clusterCategories'] == category_name]\n",
    "    # select the top n products\n",
    "    return category_subset.head(top_n)\n",
    "\n",
    "best_products_per_category(data_scored, 'Accessories & Adapters', 3)"
   ]
  },
  {
   "cell_type": "code",
   "execution_count": 24,
   "metadata": {},
   "outputs": [
    {
     "name": "stdout",
     "output_type": "stream",
     "text": [
      "ACCESSORIES & ADAPTERS:\n",
      "  - AmazonBasics AAA Performance Alkaline Batteries (36 Count)\n",
      "  - AmazonBasics AA Performance Alkaline Batteries (48 Count) - Packaging May Vary\n",
      "  - Fire Kids Edition Tablet, 7 Display, Wi-Fi, 16 GB, Green Kid-Proof Case\n",
      "----------------------------------------------------------------------------------------------------\n",
      "ELECTRONICS & MEDIA:\n",
      "  - Amazon Kindle Paperwhite - eBook reader - 4 GB - 6 monochrome Paperwhite - touchscreen - Wi-Fi - black,,,\n",
      "  - Kindle Voyage E-reader, 6 High-Resolution Display (300 ppi) with Adaptive Built-in Light, PagePress Sensors, Wi-Fi - Includes Special Offers\n",
      "  - Kindle Voyage E-reader, 6 High-Resolution Display (300 ppi) with Adaptive Built-in Light, PagePress Sensors, Wi-Fi - Includes Special Offers,\n",
      "----------------------------------------------------------------------------------------------------\n",
      "HOME & SMART DEVICES:\n",
      "  - Fire Kids Edition Tablet, 7 Display, Wi-Fi, 16 GB, Green Kid-Proof Case\n",
      "  - All-New Fire HD 8 Tablet, 8 HD Display, Wi-Fi, 16 GB - Includes Special Offers, Magenta\n",
      "  - Fire HD 8 Tablet with Alexa, 8 HD Display, 16 GB, Tangerine - with Special Offers\n",
      "----------------------------------------------------------------------------------------------------\n",
      "PET SUPPLIES:\n",
      "  - Cat Litter Box Covered Tray Kitten Extra Large Enclosed Hooded Hidden Toilet\n",
      "  - AmazonBasics Double-Door Folding Metal Dog Crate - Medium (36x23x25 Inches)\n",
      "  - AmazonBasics Single-Door Folding Metal Dog Crate - Large (42x28x30 Inches)\n",
      "----------------------------------------------------------------------------------------------------\n",
      "TABLETS & EREADERS:\n",
      "  - Echo (White),,,\n",
      "Echo (White),,,\n",
      "  - Amazon Fire Tv,,,\n",
      "Amazon Fire Tv,,,\n",
      "  - Amazon Echo Show Alexa-enabled Bluetooth Speaker with 7\" Screen\n",
      "----------------------------------------------------------------------------------------------------\n",
      "VIDEO & STREAMING:\n",
      "  - Echo (White),,,\n",
      "Echo (White),,,\n",
      "  - Certified Refurbished Amazon Fire TV with Alexa Voice Remote\n",
      "  - Fire TV Stick Streaming Media Player Pair Kit\n",
      "----------------------------------------------------------------------------------------------------\n"
     ]
    }
   ],
   "source": [
    "# store the top 3 products for each category into a dict\n",
    "top_products = {}\n",
    "for cat in category_names:\n",
    "    top_products[cat] = best_products_per_category(data_scored, cat, 3)['name'].tolist()\n",
    "\n",
    "for k, v in top_products.items():\n",
    "    print(f\"{k.upper()}:\")\n",
    "    for product in v:\n",
    "        print(f\"  - {product}\")\n",
    "    print(SEP)\n"
   ]
  },
  {
   "cell_type": "markdown",
   "metadata": {},
   "source": [
    "### Extract n reviews for each product (positive, neutral and negative)"
   ]
  },
  {
   "cell_type": "code",
   "execution_count": 25,
   "metadata": {},
   "outputs": [
    {
     "name": "stdout",
     "output_type": "stream",
     "text": [
      "----------------------------------------------------------------------------------------------------\n",
      "CATEGORY: Accessories & Adapters\n",
      "----------------------------------------------------------------------------------------------------\n",
      "PRODUCT: AmazonBasics AAA Performance Alkaline Batteries (36 Count)\n",
      "\n",
      "POSITIVE REVIEWS:\n",
      "  - five stars good packaging and batteries seem to last as long as other brands. definitely would purchase again!\n",
      "  - best value, good batteries. it's probably the best value for aa batteries out there. they function as expected.\n",
      "  - they're batteries. they do what batteries . they're batteries.they do what batteries are suppose to do.\n",
      "  - good buy these batteries work just fine and reasonably priced\n",
      "  - great batteries for a great price awesome batteries for an awesome price. i will never buy any other brand of battery's from now on they work great and last very long . i use the batteries for my kindle firestick remote so not sure how long they last in other things but they lasted almost a year in my remote before running out of battery\n",
      "  - repeat buy long lasting product good bang for your buck.\n",
      "  - you can never have too many aa batteries. i have so many devices that require aa batteries. this was a great deal. these batteries last nearly as well as any i've ever used.\n",
      "  - last longer than any alkaline i have purchased. performance alkaline batteries.\n",
      "\n",
      "NEUTRAL REVIEWS:\n",
      "  - they do not last long these do not last long. i will stick to kirkland or duracell from now on. i usually change my mouse battery once a year, and since i started using these, it is every other month. disappointing.\n",
      "  - good for a quick fix these are good if you're broke and just need to get by. they work, but like other reviewers are saying, they don't last as long as other brands or rechargeable batteries. if you have the money, invest in batteries that last longer and tax the environment less.\n",
      "  - ho-hum longevity not lasting very long. i read the reviews and expected better life out of these batteries. in comparison to duracell they seem to last about 75 as long. i find that both the aa and aaa are sub-par in longevity. perhaps that is the way i use them but i really expected more.\n",
      "  - three stars these are not comparable to duracell, but it's cheap\n",
      "  - good product, just not very convenient very good price for batteries, and they work flawlessly. unfortunately, they don't come in their own container to keep them together after opening. this means you need to have a small ziploc or something to store them in, or you are just going to have a bunch of loose batteries rolling around all over the place.\n",
      "\n",
      "NEGATIVE REVIEWS:\n",
      "  - very disappointed my mother in law owns a home decor store with a lot of battery operated things like clocks, etc. we ordered these for her and she spent hours putting them in things all around the store. once they were on they only lasted about 30 minutes. she then had to go back and take them all out and go out and buy different batteries. really disappointing and a huge hassle for her. have never had batteries last such a short time. we were very unhappy.\n",
      "  - i wouldn't buy these again. they're not a bad value (because they're cheap), but they drain much faster than you would like. i hate throwing dead batteries away anyway (no recycling options here) and 4 of these drained in a day, running a tiny string of led christmas lights.\n",
      "----------------------------------------------------------------------------------------------------\n",
      "PRODUCT: AmazonBasics AA Performance Alkaline Batteries (48 Count) - Packaging May Vary\n",
      "\n",
      "POSITIVE REVIEWS:\n",
      "  - awesome batteries! i'm not going to go into a great deal of detail about these batteries. other reviewers here have done a fantastic job of doing that. instead, i'm going to talk about the quality of amazon's basics line of batteries and whether or not they're worth your money. my son is six years-old and owns a ton of toys that require batteries. i can say, without-a-doubt, that we have tried every brand of battery out there. time and time again we keep coming back to the amazonbasics aa performance batteries. they have a long shelf life, retain their charge, and as far as i can tell they last just as long as any other battery on the market. the biggest difference is in price. where else are you going to get 48 quality aa batteries for 11 just buy them! you won't regret it.\n",
      "  - happy camper seems to work well i haven't been using them long, but have not had any problems\n",
      "  - fantastic!!!! am amazed at how well i'm loving your batteries, amazom. i have been a loyal duracell buyer, but find yours are not cost way less, but last longer. would give them 10 stars if you allowed me.\n",
      "  - would recommend if you use alot of batterys. 48 batterys for only 15 very good deal!!! nice batterys also work perfectly.\n",
      "  - five stars excellent price, good long-lasting batteries. no complaints at all.\n",
      "  - five stars great price for so many batteries good quality\n",
      "  - why spend on name brands so far these batteries are performing well and the price was unbeatable too.\n",
      "  - works just like the name brand, without the name brand prices. works well for the price point and is completely comparable to name brand batteries. i will be purchasing all of my future battery needs from amazon basics.\n",
      "\n",
      "NEUTRAL REVIEWS:\n",
      "  - three stars a lot of batteries for the good price. but they don't last too long.\n",
      "  - not what i was looking for but they are ok.\n",
      "  - three stars i'm super charged over the price of these batteries!!!!\n",
      "  - these are not rechargeable, even though they look similar to those. this battery is fine, but i purchased it because i thought it was rechargeable. shame on me for not noticing, but i thought it looked just like the rechargeable ones i had purchased before. i bought it on prime day for about 6, so i thought i was just getting a great deal.disappointing. i don't normally buy regular batteries, as we go thought them like water in all of our thomas trains and other toys. i wish i had noticed the difference.\n",
      "  - logo doesnt last. good part though good knob. looks good. logo faded/wore off in a few months though. logo is kinda why i bought this, so.\n",
      "\n",
      "NEGATIVE REVIEWS:\n",
      "  - i ordered these mainly to use in a set of small led flashlights. i tried the batteries in three different flashlights, but they didn't work in any of them. i double checked polarity and they were correctly installed. i tried them in a different device didn't work in that either. amazon sent me a second set free of charge. they still didn't work in any of the flashlights but did work in a remote control and a toy. (i tried a different brand of batteries in the flashlights and they worked fine.) so it was hit and miss with these aaa batteries--2 sets of them. i've used amazon aa with no problems.\n",
      "  - ok but they don't last long at all batteries die very quickly. spend the extra for better batteries.\n",
      "----------------------------------------------------------------------------------------------------\n",
      "PRODUCT: Fire Kids Edition Tablet, 7 Display, Wi-Fi, 16 GB, Green Kid-Proof Case\n",
      "\n",
      "POSITIVE REVIEWS:\n",
      "  - the best tablet for kids my 3yr. old loves this tablet. easy for her to use. she watches videos plays games. i recommend this product.\n",
      "  - grandson loves this game i love the learning games that he doesn't even realize they are learning games i recommend this product.\n",
      "  - best purchase ever i bought this for my grandson and it hasn't disappointed me at all! he loves his tablet! i am looking at buying his sister one next! i recommend this product.\n",
      "  - nice tablet for my little girl i always buy from best buy. they have excellent products.the workers are very knowledgeable of what they sell.thanks i recommend this product.\n",
      "  - very interactive this was a gift to my niece. her mom liked the parental controls i recommend this product.\n",
      "  - excellent for kids got 2 of these for my two oldest daughters, 5 and 3. perfect for them and love the features. battery life seems pretty long. the year of freetime plus the case makes it worth it! will be getting another for my 3rd daughter's 2nd birthday. i recommend this product.\n",
      "  - perfect for my grandaughter easy to use. grandaughter was thrilled!!!!!!!!!!!1 i recommend this product.\n",
      "  - awesome my son is a huge fan of it and i love that i can control what he watches and plays i recommend this product.\n",
      "\n",
      "NEUTRAL REVIEWS:\n",
      "  - great for kids this was easy to setup and easy to hand over to my 4 yr old. she loves the different games and apps that are available to her. i recommend this product.\n",
      "  - at first i wanted to return this product, i bought it for my 2 yr old. i decided to keep it bc my husband liked it and of course my daughter likes it. i dnt like the fact you cant use the audible app on the kids version. i also bought it so my daughter could be independent, as far as the books none of them are read aloud. she came maneuver the games and movies tho. its an ok product tho, i love amazon. my daughter still likes my samsung tab better. would recommend for older kids. i recommend this product.\n",
      "  - difficult to learn how to play some of the games wish it was easier to understand set up so children don't accidently charge to my account. i recommend this product.\n",
      "  - kids loved it a few problems with games loading but over all good i recommend this product.\n",
      "  - processor is slow my toddler did not like this tablet. it was a bit slow for her. instead, she preferred an ipad over the kindle kids version. i don't recommend this product.\n",
      "\n",
      "NEGATIVE REVIEWS:\n",
      "  - not good super slow, not of decent quality.i would not buy another. memory on it is lacking for 8 gig. i will not recommend it to anyone i don't recommend this product.\n",
      "  - not for kids this is just a regular fire tablet that has protective case. i don't recommend this product.\n",
      "----------------------------------------------------------------------------------------------------\n"
     ]
    }
   ],
   "source": [
    "# create a function that returns a random review from a subset\n",
    "def get_random_review(subset, min_word_count=10):\n",
    "    while True:\n",
    "        new_review = subset['review'].sample(random_state=random.randint(1, len(subset['review']))).values[0]\n",
    "        if len(new_review.split()) >= min_word_count:\n",
    "            return new_review\n",
    "\n",
    "# create a function that return a review for a given product in the desired category and sentiment\n",
    "def get_product_reviews(data, name, category, sentiment, n=1):\n",
    "    # subset the data\n",
    "    subset = data[(data['name'] == name) & (data['clusterCategories'] == category) & (data['reviews.sentiment'] == sentiment)]\n",
    "    # get random reviews\n",
    "    reviews = []\n",
    "    while len(reviews) < n:\n",
    "        new_review = get_random_review(subset)\n",
    "        # remove line breaks (forgotten in preprocessing)\n",
    "        new_review = new_review.replace('\\n', ' ')\n",
    "        # remove multiple dots\n",
    "        new_review = re.sub(r'\\.{2,}', '.', new_review)\n",
    "        # remove multiple spaces\n",
    "        new_review = re.sub(r'\\s{2,}', ' ', new_review)\n",
    "        # lowercase letters\n",
    "        new_review = new_review.lower()\n",
    "        # append to list if not already in\n",
    "        if new_review not in reviews:\n",
    "            reviews.append(new_review)\n",
    "    return reviews\n",
    "\n",
    "category_name = 'Accessories & Adapters'\n",
    "product_name = top_products[category_name][0]\n",
    "# n_reviews = 10\n",
    "category_products = []\n",
    "\n",
    "for product_name in top_products[category_name]:\n",
    "    product_dict = {}\n",
    "    product_dict['name'] = product_name\n",
    "    product_dict['positive_reviews'] = get_product_reviews(data, product_name, category_name, 'positive', 8)\n",
    "    product_dict['neutral_reviews'] = get_product_reviews(data, product_name, category_name, 'neutral', 5)\n",
    "    product_dict['negative_reviews'] = get_product_reviews(data, product_name, category_name, 'negative', 2)\n",
    "    category_products.append(product_dict)\n",
    "\n",
    "print(SEP)\n",
    "print('CATEGORY:', category_name)\n",
    "print(SEP)\n",
    "for product in category_products:\n",
    "    print(f\"PRODUCT: {product['name']}\")\n",
    "    print()\n",
    "    print(\"POSITIVE REVIEWS:\")\n",
    "    for review in product['positive_reviews']:\n",
    "        print(f\"  - {review}\")\n",
    "    print()\n",
    "    print(\"NEUTRAL REVIEWS:\")\n",
    "    for review in product['neutral_reviews']:\n",
    "        print(f\"  - {review}\")\n",
    "    print()\n",
    "    print(\"NEGATIVE REVIEWS:\")\n",
    "    for review in product['negative_reviews']:\n",
    "        print(f\"  - {review}\")\n",
    "    print(SEP)"
   ]
  },
  {
   "cell_type": "markdown",
   "metadata": {},
   "source": [
    "Perfect, now we have everything we need to input into our model."
   ]
  },
  {
   "cell_type": "markdown",
   "metadata": {},
   "source": [
    "### Try the pros and cons prompt with more reviews"
   ]
  },
  {
   "cell_type": "code",
   "execution_count": 26,
   "metadata": {},
   "outputs": [
    {
     "name": "stdout",
     "output_type": "stream",
     "text": [
      "Reviews loaded from pickle/reviews.pkl.\n",
      "[Review 1]: Great price and quality, will be using these from now on.\n",
      "[Review 2]: Batteries work just as well as name brands, but buying in bulk.\n",
      "[Review 3]: Cheap headphones that don't last long.\n",
      "[Review 4]: Works great in some devices but not all, good value for many uses.\n",
      "[Review 5]: Consistent specs and quality as advertised.\n",
      "[Review 6]: I like how I got so many items and still have a pack left!\n",
      "[Review 7]: Batteries don't last long, but good for low-usage devices like clickers.\n",
      "[Review 8]: Battery performance is unknown, but they are comfortable to wear.\n",
      "[Review 9]: Great price point but didn't last as long as expected. Duracell or Energizer batteries are better options.\n",
      "[Review 10]: Batteries that last a while, but not as long as more expensive name brands.\n",
      "[Review 11]: Battery works as expected, would buy again.\n",
      "[Review 12]: i'll tell you after i've tried them. i miss the bunny with the drum.\n",
      "[Review 13]: Long-lasting battery and good value for the price.\n",
      "[Review 14]: Great price and performance, but no information about the battery life.\n",
      "[Review 15]: Batteries that work and are cheap.\n",
      "\n"
     ]
    }
   ],
   "source": [
    "# load pickled reviews if available\n",
    "pickled_reviews_path = f\"pickle/reviews.pkl\"\n",
    "\n",
    "if os.path.exists(pickled_reviews_path):\n",
    "    review_text = helpers.load_pickled_reviews(pickled_reviews_path)\n",
    "    print(review_text)\n",
    "else:\n",
    "    # load reviews\n",
    "    category_name = 'Accessories & Adapters'  # let's try with the first category\n",
    "    product_name = category_products[0]['name']  # let's try with the first product\n",
    "    positive_reviews = category_products[0]['positive_reviews']  # get the positive reviews\n",
    "    neutral_reviews = category_products[0]['neutral_reviews']  # get the neutral reviews\n",
    "    negative_reviews = category_products[0]['negative_reviews']  # get the negative reviews\n",
    "    \n",
    "    # merge the reviews and shuffle them to avoid any bias\n",
    "    all_reviews = positive_reviews + neutral_reviews + negative_reviews\n",
    "    random.shuffle(all_reviews)\n",
    "\n",
    "    # build our review text\n",
    "    review_text = \"\"\n",
    "    for i, review in enumerate(all_reviews):\n",
    "        # summarize review\n",
    "        prompt = prompt_review_summary.format(review_text=review)\n",
    "        review_summary = f\"[Review {i+1}]: {generate_review_summary(prompt)}\"\n",
    "        print(review_summary)\n",
    "        review_text += review_summary + '\\n'\n",
    "\n",
    "    # pickle the review text\n",
    "    helpers.pickle_list_reviews(review_text, pickled_reviews_path)"
   ]
  },
  {
   "cell_type": "code",
   "execution_count": 27,
   "metadata": {},
   "outputs": [
    {
     "name": "stdout",
     "output_type": "stream",
     "text": [
      "\n",
      "Analyze the following list of product reviews. Identify the 3 most frequently mentioned positive aspects (pros) and 3 most frequently mentioned negative aspects (cons) across all reviews.\n",
      "Store them in a json output.\n",
      "\n",
      "### Reviews:\n",
      "[Review 1]: Great price and quality, will be using these from now on.\n",
      "[Review 2]: Batteries work just as well as name brands, but buying in bulk.\n",
      "[Review 3]: Cheap headphones that don't last long.\n",
      "[Review 4]: Works great in some devices but not all, good value for many uses.\n",
      "[Review 5]: Consistent specs and quality as advertised.\n",
      "[Review 6]: I like how I got so many items and still have a pack left!\n",
      "[Review 7]: Batteries don't last long, but good for low-usage devices like clickers.\n",
      "[Review 8]: Battery performance is unknown, but they are comfortable to wear.\n",
      "[Review 9]: Great price point but didn't last as long as expected. Duracell or Energizer batteries are better options.\n",
      "[Review 10]: Batteries that last a while, but not as long as more expensive name brands.\n",
      "[Review 11]: Battery works as expected, would buy again.\n",
      "[Review 12]: i'll tell you after i've tried them. i miss the bunny with the drum.\n",
      "[Review 13]: Long-lasting battery and good value for the price.\n",
      "[Review 14]: Great price and performance, but no information about the battery life.\n",
      "[Review 15]: Batteries that work and are cheap.\n",
      "\n",
      "\n",
      "### JSON Output:\n",
      "\n",
      "```\n",
      "{\n",
      "  \"pros\": [\n",
      "    \"Great price and quality\",\n",
      "    \"Batteries work just as well as name brands\",\n",
      "    \"Consistent specs and quality as advertised\"\n",
      "  ],\n",
      "  \"cons\": [\n",
      "    \"Battery performance is unknown\",\n",
      "    \"Batteries don't last long\",\n",
      "    \"Battery works as expected\"\n",
      "  ]\n",
      "}\n",
      "```\n"
     ]
    }
   ],
   "source": [
    "# infer model using pros and cons prompt\n",
    "prompt = prompt_review_pros_cons.format(review_text=review_text)\n",
    "result = run_inference_on_model(prompt, max_tokens=200)\n",
    "print(result)"
   ]
  },
  {
   "cell_type": "code",
   "execution_count": 28,
   "metadata": {},
   "outputs": [
    {
     "name": "stdout",
     "output_type": "stream",
     "text": [
      "Reviews loaded from pickle/reviews.pkl.\n",
      "\n",
      "Analyze the following list of product reviews. Provide a concise summary of the three most frequently mentioned ideas or themes. Ensure each point reflects common feedback without repeating phrasing.\n",
      "\n",
      "### Reviews:\n",
      "[Review 1]: \"The camera quality is amazing and takes very clear photos, even in low light.\"\n",
      "[Review 2]: \"Battery life could be better; it drains faster than my previous phone.\"\n",
      "[Review 3]: \"I’m impressed with the screen clarity and brightness, but the battery doesn’t last very long.\"\n",
      "[Review 4]: \"The photos are sharp and vibrant, especially in daylight.\"\n",
      "[Review 5]: \"Battery life is a bit disappointing, but the display is excellent and great for watching videos.\"\n",
      "\n",
      "### Recurring Ideas:\n",
      "1. The camera quality is highly praised, especially for clear and vibrant photos in various lighting.\n",
      "2. The display quality is appreciated for its clarity and brightness, making it ideal for media.\n",
      "3. Battery life is a common complaint, with users noting that it drains quickly.\n",
      "\n",
      "### Reviews:\n",
      "[Review 1]: \"The sound quality on these headphones is outstanding, with deep bass and clear highs.\"\n",
      "[Review 2]: \"They’re comfortable to wear for long hours, but I wish they blocked out noise better.\"\n",
      "[Review 3]: \"Amazing audio clarity, but they don’t fully cancel out background sounds.\"\n",
      "[Review 4]: \"Great sound quality for the price, but I can still hear some outside noise.\"\n",
      "[Review 5]: \"Comfortable fit and good audio, but not ideal for noisy environments.\"\n",
      "\n",
      "### Recurring Ideas:\n",
      "1. Sound quality is praised for its clarity and depth, especially given the price.\n",
      "2. Comfort is a major positive, with users finding them suitable for extended wear.\n",
      "3. Noise cancellation is lacking, with multiple reviews mentioning that they allow outside noise.\n",
      "\n",
      "### Reviews:\n",
      "[Review 1]: Great price and quality, will be using these from now on.\n",
      "[Review 2]: Batteries work just as well as name brands, but buying in bulk.\n",
      "[Review 3]: Cheap headphones that don't last long.\n",
      "[Review 4]: Works great in some devices but not all, good value for many uses.\n",
      "[Review 5]: Consistent specs and quality as advertised.\n",
      "[Review 6]: I like how I got so many items and still have a pack left!\n",
      "[Review 7]: Batteries don't last long, but good for low-usage devices like clickers.\n",
      "[Review 8]: Battery performance is unknown, but they are comfortable to wear.\n",
      "[Review 9]: Great price point but didn't last as long as expected. Duracell or Energizer batteries are better options.\n",
      "[Review 10]: Batteries that last a while, but not as long as more expensive name brands.\n",
      "[Review 11]: Battery works as expected, would buy again.\n",
      "[Review 12]: i'll tell you after i've tried them. i miss the bunny with the drum.\n",
      "[Review 13]: Long-lasting battery and good value for the price.\n",
      "[Review 14]: Great price and performance, but no information about the battery life.\n",
      "[Review 15]: Batteries that work and are cheap.\n",
      "\n",
      "\n",
      "### Recurring Ideas:\n",
      "1. Price is a recurring theme, with users appreciating the value for the money.\n",
      "2. Battery performance is a common concern, with users noting that they don't last as long as more expensive name brands.\n",
      "3. Comfort is a positive, with users finding them comfortable to wear.\n",
      "4. Durability is a mixed bag, with some users finding them to be long-lasting while others find them to be short-lived.\n",
      "5. Battery life is a recurring concern, with users noting that they don't last as long as more expensive name brands.\n",
      "6. Battery performance is a common concern, with users noting that they don't last as long as more expensive\n"
     ]
    }
   ],
   "source": [
    "# Infer model using the recurring ideas prompt\n",
    "review_text = helpers.load_pickled_reviews(pickled_reviews_path)\n",
    "\n",
    "prompt = prompt_reviews_recurring_ideas.format(review_text=review_text)\n",
    "\n",
    "result = run_inference_on_model(prompt, max_tokens=150)\n",
    "\n",
    "print(result)"
   ]
  },
  {
   "cell_type": "markdown",
   "metadata": {},
   "source": [
    "### Conclusion\n",
    "Using key ideas seems to give us better results:\n",
    "- Less repetitions\n",
    "- Less contradictions\n",
    "- Better generalisation of ideas\n",
    "\n",
    "The max_tokens length is very important, if too long the model starts repeating itself or hallucinating"
   ]
  },
  {
   "cell_type": "code",
   "execution_count": 29,
   "metadata": {},
   "outputs": [
    {
     "name": "stdout",
     "output_type": "stream",
     "text": [
      "Price is a recurring theme, with users appreciating the value for the money.\n",
      "Battery performance is a common concern, with users noting that they don't last as long as more expensive name brands.\n",
      "Comfort is a positive, with users finding them comfortable to wear.\n",
      "Durability is a mixed bag, with some users finding them to be long-lasting while others find them to be short-lived.\n",
      "Battery life is a recurring concern, with users noting that they don't last as long as more expensive name brands.\n"
     ]
    }
   ],
   "source": [
    "# extract recurring ideas\n",
    "recurrent_ideas = result.split('### Recurring Ideas:\\n')[-1].split('\\n')\n",
    "# remove the last one in case it's incomplete\n",
    "recurrent_ideas = recurrent_ideas[:-1]\n",
    "# remove the numbers\n",
    "recurrent_ideas = [ideas[3:] for ideas in recurrent_ideas]\n",
    "\n",
    "for idea in recurrent_ideas:\n",
    "    print(idea)"
   ]
  },
  {
   "cell_type": "markdown",
   "metadata": {},
   "source": [
    "## Prompt 3: Write the product review\n",
    "In this prompt we input the recurring ideas and generate a product review"
   ]
  },
  {
   "cell_type": "code",
   "execution_count": 32,
   "metadata": {},
   "outputs": [
    {
     "name": "stdout",
     "output_type": "stream",
     "text": [
      "\n",
      "Write a positive product title and review from these recurring ideas, that presents the product, highlights its pros, and subtly mentions a few minor downsides reported by some users. \n",
      "\n",
      "### Product Name:\n",
      "Experience V2 Smartphone\n",
      "\n",
      "### Review recurring ideas:\n",
      "Screen quality is highly praised, with users noting its vibrant colors and sharp resolution.\n",
      "Battery life is frequently mentioned, with users appreciating its ability to last through a full day of use.\n",
      "Build quality is a recurring theme, with users complimenting its sturdy and premium design.\n",
      "Camera performance is noted, with users enjoying clear, high-quality photos, especially in good lighting.\n",
      "Price is occasionally mentioned, with some users feeling it’s slightly high for the features offered.\n",
      "\n",
      "### Product title and review:\n",
      "Reliable smartphone with vibrant display, long-lasting Battery, and premium build quality\n",
      "The product has received impressive feedback from users, especially for its vibrant and sharp screen quality. The colors are rich and bring media content to life, making it ideal for streaming and everyday use. Another standout feature is the long-lasting battery life, which comfortably supports a full day of usage without the need for frequent recharging—a major plus for users on the go.\n",
      "Additionally, the premium build quality gives the device a sturdy, high-end feel, with many appreciating its sleek design and solid construction. The camera has also been a popular highlight, capturing clear and vivid photos, particularly in well-lit conditions.\n",
      "Though generally well-regarded, some users noted that the price might feel slightly high relative to other models. However, with its reliable performance and standout features, this product offers substantial value and has been positively received overall.\n",
      "\n",
      "### Product Name:\n",
      "Amazon AAA batteries\n",
      "\n",
      "### Review recurring ideas:\n",
      "Price is a recurring theme, with users appreciating the value for the money.\n",
      "Battery performance is a common concern, with users noting that they don't last as long as more expensive name brands.\n",
      "Comfort is a positive, with users finding them comfortable to wear.\n",
      "Durability is a mixed bag, with some users finding them to be long-lasting while others find them to be short-lived.\n",
      "Battery life is a recurring concern, with users noting that they don't last as long as more expensive name brands.\n",
      "\n",
      "### Product title and review:\n",
      "Comfortable and affordable AAA batteries with mixed durability\n",
      "The product has received positive feedback from users, especially for its comfort and affordability. Many users find them comfortable to wear, with a snug fit and soft material. The price is also a major plus, with users appreciating the value for the money.\n",
      "However, some users have noted that the batteries don't last as long as more expensive name brands. Additionally, durability is a mixed bag, with some users finding\n"
     ]
    }
   ],
   "source": [
    "prompt_final_product_review = \"\"\"\n",
    "Write a positive product title and review from these recurring ideas, that presents the product, highlights its pros, and subtly mentions a few minor downsides reported by some users. \n",
    "\n",
    "### Product Name:\n",
    "Experience V2 Smartphone\n",
    "\n",
    "### Review recurring ideas:\n",
    "Screen quality is highly praised, with users noting its vibrant colors and sharp resolution.\n",
    "Battery life is frequently mentioned, with users appreciating its ability to last through a full day of use.\n",
    "Build quality is a recurring theme, with users complimenting its sturdy and premium design.\n",
    "Camera performance is noted, with users enjoying clear, high-quality photos, especially in good lighting.\n",
    "Price is occasionally mentioned, with some users feeling it’s slightly high for the features offered.\n",
    "\n",
    "### Product title and review:\n",
    "Reliable smartphone with vibrant display, long-lasting Battery, and premium build quality\n",
    "The product has received impressive feedback from users, especially for its vibrant and sharp screen quality. The colors are rich and bring media content to life, making it ideal for streaming and everyday use. Another standout feature is the long-lasting battery life, which comfortably supports a full day of usage without the need for frequent recharging—a major plus for users on the go.\n",
    "Additionally, the premium build quality gives the device a sturdy, high-end feel, with many appreciating its sleek design and solid construction. The camera has also been a popular highlight, capturing clear and vivid photos, particularly in well-lit conditions.\n",
    "Though generally well-regarded, some users noted that the price might feel slightly high relative to other models. However, with its reliable performance and standout features, this product offers substantial value and has been positively received overall.\n",
    "\n",
    "### Product Name:\n",
    "{product_name}\n",
    "\n",
    "### Review recurring ideas:\n",
    "{review_ideas}\n",
    "\n",
    "### Product title and review:\n",
    "\"\"\"\n",
    "\n",
    "review_ideas = \"\\n\".join(recurrent_ideas)\n",
    "\n",
    "prompt = prompt_final_product_review.format(product_name=\"Amazon AAA batteries\", review_ideas=review_ideas)\n",
    "review_text = run_inference_on_model(prompt, max_tokens=100)\n",
    "print(review_text)\n"
   ]
  },
  {
   "cell_type": "code",
   "execution_count": 36,
   "metadata": {},
   "outputs": [
    {
     "name": "stdout",
     "output_type": "stream",
     "text": [
      "Comfortable and affordable AAA batteries with mixed durability\n",
      "\n",
      "The product has received positive feedback from users, especially for its comfort and affordability. Many users find them comfortable to wear, with a snug fit and soft material. The price is also a major plus, with users appreciating the value for the money. However, some users have noted that the batteries don't last as long as more expensive name brands\n"
     ]
    }
   ],
   "source": [
    "# extract the review\n",
    "final_review = review_text.split('### Product title and review:\\n')[-1]\n",
    "# split title and review\n",
    "title, review = final_review.split('\\n', 1)\n",
    "# remove line breaks\n",
    "review = review.replace('\\n', ' ')\n",
    "# remove last sentence from review if incomplete\n",
    "review = '.'.join(review.split('.')[:-1])\n",
    "\n",
    "print(title)\n",
    "print()\n",
    "print(review)\n"
   ]
  },
  {
   "cell_type": "markdown",
   "metadata": {},
   "source": [
    "WE DID IT! YEAH MISTRAL AND YEAH ME! :)\n",
    "\n",
    "Now let's deploy this solution to a python script so we can run inference using our 3 prompts and generate a product review from a list of Amazon reviews."
   ]
  }
 ],
 "metadata": {
  "kernelspec": {
   "display_name": "Python 3 (ipykernel)",
   "language": "python",
   "name": "python3"
  },
  "language_info": {
   "codemirror_mode": {
    "name": "ipython",
    "version": 3
   },
   "file_extension": ".py",
   "mimetype": "text/x-python",
   "name": "python",
   "nbconvert_exporter": "python",
   "pygments_lexer": "ipython3",
   "version": "3.11.7"
  }
 },
 "nbformat": 4,
 "nbformat_minor": 2
}
