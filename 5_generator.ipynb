{
 "cells": [
  {
   "cell_type": "markdown",
   "metadata": {},
   "source": [
    "# Part 4 - Generator / Summarizer\n",
    "In this notebook, we implement the 3rd transformer, in charge or generating a review of the best product per category, from a batch of reviews and sentiments"
   ]
  },
  {
   "cell_type": "markdown",
   "metadata": {},
   "source": [
    "## Imports"
   ]
  },
  {
   "cell_type": "code",
   "execution_count": 37,
   "metadata": {},
   "outputs": [],
   "source": [
    "import os\n",
    "import re\n",
    "import json\n",
    "import pandas as pd\n",
    "from transformers import AutoModelForCausalLM\n",
    "from transformers import LlamaTokenizer\n",
    "import random\n",
    "import torch\n",
    "device = torch.device(\"cuda\" if torch.cuda.is_available() else \"cpu\")\n",
    "\n",
    "# import helpers module\n",
    "import helpers\n",
    "import importlib\n",
    "importlib.reload(helpers)\n",
    "\n",
    "# constants and paths\n",
    "DATA_PROCESSED_PKL = 'pickle/data_processed.pkl'\n",
    "DATA_CLUSTERED_PKL = 'pickle/data_clustered.pkl'\n",
    "DATA_SA_PKL = 'pickle/data_sentiment_analysis.pkl'\n",
    "DATA_SCORED_PKL = 'pickle/data_scored.pkl'\n",
    "SEP = 100 * '-'"
   ]
  },
  {
   "cell_type": "code",
   "execution_count": 2,
   "metadata": {},
   "outputs": [],
   "source": [
    "# load HugginFace token to environment\n",
    "if not os.environ.get('HF_TOKEN'):\n",
    "    os.environ['HF_TOKEN'] = input('Enter API token for Hugging Face: ')\n",
    "else:\n",
    "    print('Hugging Face token already loaded to environment')"
   ]
  },
  {
   "cell_type": "markdown",
   "metadata": {},
   "source": [
    "## Load datasets"
   ]
  },
  {
   "cell_type": "code",
   "execution_count": 38,
   "metadata": {},
   "outputs": [
    {
     "name": "stdout",
     "output_type": "stream",
     "text": [
      "Datasets loaded from pickle files:\n",
      "['pickle/data_processed.pkl', 'pickle/data_clustered.pkl', 'pickle/data_sentiment_analysis.pkl'].\n"
     ]
    }
   ],
   "source": [
    "data = helpers.load_merge_pickled_datasets([DATA_PROCESSED_PKL, DATA_CLUSTERED_PKL, DATA_SA_PKL])"
   ]
  },
  {
   "cell_type": "code",
   "execution_count": 39,
   "metadata": {},
   "outputs": [
    {
     "name": "stdout",
     "output_type": "stream",
     "text": [
      "----------------------------------------------------------------------------------------------------\n",
      "[name] Amazon Kindle Paperwhite - eBook reader - 4 GB - 6 monochrome Paperwhite - touchscreen - Wi-Fi - black,,,\n",
      "----------------------------------------------------------------------------------------------------\n",
      "[brand] Amazon\n",
      "----------------------------------------------------------------------------------------------------\n",
      "[reviews.rating] 5.0\n",
      "----------------------------------------------------------------------------------------------------\n",
      "[reviews.numHelpful] 0.0\n",
      "----------------------------------------------------------------------------------------------------\n",
      "[review] Love it!\n",
      "I love my new Kindle Paperwhite! Love the lighted pages and the ability to change print sizes.\n",
      "I recommend this product.\n",
      "----------------------------------------------------------------------------------------------------\n",
      "[clusterCategories] Electronics & Media\n",
      "----------------------------------------------------------------------------------------------------\n",
      "[reviews.sentiment] positive\n",
      "----------------------------------------------------------------------------------------------------\n",
      "[reviews.ft] 2\n",
      "----------------------------------------------------------------------------------------------------\n",
      "[reviews.ft.sentiment] positive\n"
     ]
    }
   ],
   "source": [
    "helpers.print_random_product_sheet(data)"
   ]
  },
  {
   "cell_type": "markdown",
   "metadata": {},
   "source": [
    "## METHOD 1: Prompt Fine-Tuning\n",
    "\n",
    "Note: Due to a lack of time and since I got acceptable results using this method, I did not explore other methods like LORA fine-tuning in this notebook.\n",
    "\n",
    "Let's see what we can get using only prompt fine-tuning. For this I will try [Mistral-7B](https://huggingface.co/mistralai/Mistral-7B-v0.3) in 4bit quantization for quick inference.\n",
    "\n",
    "Using 4-bit quantization will help reduce memory usage significantly while retaining reasonable model performance."
   ]
  },
  {
   "cell_type": "code",
   "execution_count": 5,
   "metadata": {},
   "outputs": [
    {
     "name": "stdout",
     "output_type": "stream",
     "text": [
      "2024-10-17 11:01:06.921936: E external/local_xla/xla/stream_executor/cuda/cuda_dnn.cc:9261] Unable to register cuDNN factory: Attempting to register factory for plugin cuDNN when one has already been registered\n",
      "2024-10-17 11:01:06.922028: E external/local_xla/xla/stream_executor/cuda/cuda_fft.cc:607] Unable to register cuFFT factory: Attempting to register factory for plugin cuFFT when one has already been registered\n",
      "2024-10-17 11:01:06.923698: E external/local_xla/xla/stream_executor/cuda/cuda_blas.cc:1515] Unable to register cuBLAS factory: Attempting to register factory for plugin cuBLAS when one has already been registered\n",
      "2024-10-17 11:01:06.934357: I tensorflow/core/platform/cpu_feature_guard.cc:182] This TensorFlow binary is optimized to use available CPU instructions in performance-critical operations.\n",
      "To enable the following instructions: AVX2 FMA, in other operations, rebuild TensorFlow with the appropriate compiler flags.\n",
      "2024-10-17 11:01:08.572350: W tensorflow/compiler/tf2tensorrt/utils/py_utils.cc:38] TF-TRT Warning: Could not find TensorRT\n",
      "usage: transformers-cli <command> [<args>]\n",
      "Transformers CLI tool: error: argument {convert,download,env,run,serve,login,whoami,logout,repo,add-new-model,add-new-model-like,lfs-enable-largefiles,lfs-multipart-upload,pt-to-tf}: invalid choice: 'cache' (choose from 'convert', 'download', 'env', 'run', 'serve', 'login', 'whoami', 'logout', 'repo', 'add-new-model', 'add-new-model-like', 'lfs-enable-largefiles', 'lfs-multipart-upload', 'pt-to-tf')\n"
     ]
    }
   ],
   "source": [
    "!transformers-cli cache clear"
   ]
  },
  {
   "cell_type": "markdown",
   "metadata": {},
   "source": [
    "## Load Mistral-7b 4bits"
   ]
  },
  {
   "cell_type": "code",
   "execution_count": null,
   "metadata": {},
   "outputs": [],
   "source": [
    "model_name = \"mistralai/Mistral-7B-v0.3\"\n",
    "tokenizer = LlamaTokenizer.from_pretrained(model_name)\n",
    "\n",
    "# load 4bit quantization model\n",
    "model = AutoModelForCausalLM.from_pretrained(\n",
    "    model_name,\n",
    "    load_in_4bit=True,\n",
    "    device_map=\"auto\"\n",
    ")\n",
    "\n",
    "# test model\n",
    "inputs = tokenizer(\"Hello my name is\", return_tensors=\"pt\").to(device)\n",
    "\n",
    "outputs = model.generate(**inputs, max_new_tokens=20)\n",
    "print(tokenizer.decode(outputs[0], skip_special_tokens=True))\n"
   ]
  },
  {
   "cell_type": "code",
   "execution_count": 33,
   "metadata": {},
   "outputs": [
    {
     "name": "stdout",
     "output_type": "stream",
     "text": [
      "<class 'transformers.models.mistral.modeling_mistral.MistralForCausalLM'>\n",
      "<class 'transformers.models.llama.tokenization_llama.LlamaTokenizer'>\n"
     ]
    }
   ],
   "source": [
    "print(type(model))\n",
    "print(type(tokenizer))"
   ]
  },
  {
   "cell_type": "markdown",
   "metadata": {},
   "source": [
    "## Create a method to infer on the model"
   ]
  },
  {
   "cell_type": "code",
   "execution_count": 7,
   "metadata": {},
   "outputs": [],
   "source": [
    "# Set pad_token to eos_token\n",
    "tokenizer.pad_token = tokenizer.eos_token\n",
    "\n",
    "def run_inference_on_model(prompt: str, max_tokens: int = 100) -> str:\n",
    "    \"\"\"Run inference on the model\n",
    "\n",
    "    Args:\n",
    "        prompt (str): prompt to generate text from\n",
    "        max_tokens (int, optional): maximum tokens to generate. Defaults to 100.\n",
    "\n",
    "    Returns:\n",
    "        str: generated text\n",
    "    \"\"\"\n",
    "\n",
    "    inputs = tokenizer(prompt, return_tensors=\"pt\", padding=True, truncation=True).to(device)\n",
    "    \n",
    "    outputs = model.generate(\n",
    "        inputs.input_ids,\n",
    "        max_new_tokens=max_tokens,\n",
    "        pad_token_id=tokenizer.eos_token_id,\n",
    "        eos_token_id=tokenizer.eos_token_id\n",
    "    ).to(device)\n",
    "    \n",
    "    return tokenizer.decode(outputs[0], skip_special_tokens=True)\n",
    "\n"
   ]
  },
  {
   "cell_type": "markdown",
   "metadata": {},
   "source": [
    "## Zero-shot prompting\n",
    "Let's work on a prompt template so the model extract information from reviews and summarize them"
   ]
  },
  {
   "cell_type": "code",
   "execution_count": 8,
   "metadata": {},
   "outputs": [
    {
     "name": "stderr",
     "output_type": "stream",
     "text": [
      "Asking to truncate to max_length but no maximum length is provided and the model has no predefined maximum length. Default to no truncation.\n"
     ]
    },
    {
     "name": "stdout",
     "output_type": "stream",
     "text": [
      "Summarize the following product review in one sentence, highlighting the main points.\n",
      "Then, provide a list of pros and cons and a short overall conclusion.\n",
      "\n",
      "### Review: \n",
      "This laptop has a fantastic display and long battery life, but the keyboard is a bit cramped, and it tends to get hot during heavy use. Overall, it performs well for everyday tasks and is good value for the price.\n",
      "\n",
      "### One-sentence summary, pros and cons and conclusion:\n",
      "\n",
      "- Pros:\n",
      "  - Fantastic display\n",
      "  - Long battery life\n",
      "  - Good value for the price\n",
      "- Cons:\n",
      "  - Keyboard is a bit cramped\n",
      "  - Tends to get hot during heavy use\n",
      "- Conclusion:\n",
      "  - Performs well for everyday tasks\n",
      "\n",
      "\n",
      "\n",
      "\n",
      "\n",
      "\n",
      "\n",
      "\n",
      "\n",
      "\n",
      "\n",
      "\n",
      "\n",
      "\n",
      "\n",
      "\n",
      "\n",
      "\n",
      "\n",
      "\n",
      "\n",
      "\n",
      "\n",
      "\n",
      "\n",
      "\n",
      "\n",
      "\n",
      "\n",
      "\n",
      "\n",
      "\n",
      "\n",
      "\n",
      "\n",
      "\n"
     ]
    }
   ],
   "source": [
    "prompt_zero_shot = \"\"\"Summarize the following product review in one sentence, highlighting the main points.\n",
    "Then, provide a list of pros and cons and a short overall conclusion.\n",
    "\n",
    "### Review: \n",
    "{review_text}\n",
    "\n",
    "### One-sentence summary, pros and cons and conclusion:\n",
    "\"\"\"\n",
    "\n",
    "review_text = \"This laptop has a fantastic display and long battery life, but the keyboard is a bit cramped, and it tends to get hot during heavy use. Overall, it performs well for everyday tasks and is good value for the price.\"\n",
    "prompt = prompt_zero_shot.format(review_text=review_text)\n",
    "\n",
    "review_text = run_inference_on_model(prompt, max_tokens=100)\n",
    "\n",
    "print(review_text)"
   ]
  },
  {
   "cell_type": "markdown",
   "metadata": {},
   "source": [
    "The result is not exactly what I need. Let's try to include 1 or 2 example in the prompt."
   ]
  },
  {
   "cell_type": "markdown",
   "metadata": {},
   "source": [
    "## Few-shots prompting"
   ]
  },
  {
   "cell_type": "code",
   "execution_count": 9,
   "metadata": {},
   "outputs": [
    {
     "name": "stdout",
     "output_type": "stream",
     "text": [
      "\n",
      "Summarize the following product review in one sentence, highlighting the main points.\n",
      "Then, provide a list of pros and cons and a short overall conclusion.\n",
      "\n",
      "### Example 1:\n",
      "# Review: \n",
      "This phone has a great camera and sleek design, but the battery life is disappointing.\n",
      "# One-sentence summary: \n",
      "\"Great camera and design, but poor battery life.\"\n",
      "# Pros:\n",
      "  - Great camera\n",
      "  - Sleek design\n",
      "# Cons:\n",
      "  - Disappointing battery life\n",
      "# Conclusion:\n",
      "\"Good for photography lovers but might need frequent charging.\"\n",
      "\n",
      "### Example 2:\n",
      "# Review: \n",
      "\"This vacuum cleaner is powerful and easy to use, but it's noisy and a bit heavy.\"\n",
      "# One-sentence summary:\n",
      "\"Effective but noisy and heavy.\"\n",
      "# Pros:\n",
      "  - Powerful\n",
      "  - Easy to use\n",
      "# Cons:\n",
      "  - Noisy\n",
      "  - Heavy\n",
      "# Conclusion:\n",
      "\"Ideal for quick, powerful cleaning if noise isn’t an issue.\"\n",
      "\n",
      "# Review: \n",
      "This blender is absolutely fantastic! It blends everything smoothly, whether it's ice, vegetables, or fruits. I love the different speed settings, which give a lot of flexibility for various recipes. However, it’s quite loud, especially on the higher settings, so it can be a bit disruptive in the kitchen. The jar is also a bit heavy, which makes it a little difficult to handle, especially when it's full. Cleaning is easy, but the blade is really sharp, so I need to be careful. Overall, it's a solid blender for anyone who wants power and versatility in their kitchen.\n",
      "\n",
      "# One-sentence summary:\n",
      "\"A powerful blender with great versatility, but it's loud and heavy.\"\n",
      "\n",
      "# Pros:\n",
      "  - Blends everything smoothly\n",
      "  - Different speed settings\n",
      "  - Easy to clean\n",
      "\n",
      "# Cons:\n",
      "  - Loud\n",
      "  - Heavy jar\n",
      "  - Sharp blade\n",
      "\n",
      "# Conclusion:\n",
      "\"A great blender for anyone who wants power and versatility in their kitchen.\"\n"
     ]
    }
   ],
   "source": [
    "prompt_few_shots = \"\"\"\n",
    "Summarize the following product review in one sentence, highlighting the main points.\n",
    "Then, provide a list of pros and cons and a short overall conclusion.\n",
    "\n",
    "### Example 1:\n",
    "# Review: \n",
    "This phone has a great camera and sleek design, but the battery life is disappointing.\n",
    "# One-sentence summary: \n",
    "\"Great camera and design, but poor battery life.\"\n",
    "# Pros:\n",
    "  - Great camera\n",
    "  - Sleek design\n",
    "# Cons:\n",
    "  - Disappointing battery life\n",
    "# Conclusion:\n",
    "\"Good for photography lovers but might need frequent charging.\"\n",
    "\n",
    "### Example 2:\n",
    "# Review: \n",
    "\"This vacuum cleaner is powerful and easy to use, but it's noisy and a bit heavy.\"\n",
    "# One-sentence summary:\n",
    "\"Effective but noisy and heavy.\"\n",
    "# Pros:\n",
    "  - Powerful\n",
    "  - Easy to use\n",
    "# Cons:\n",
    "  - Noisy\n",
    "  - Heavy\n",
    "# Conclusion:\n",
    "\"Ideal for quick, powerful cleaning if noise isn’t an issue.\"\n",
    "\n",
    "# Review: \n",
    "{review_text}\n",
    "\"\"\"\n",
    "\n",
    "review_text = \"This blender is absolutely fantastic! It blends everything smoothly, whether it's ice, vegetables, or fruits. I love the different speed settings, which give a lot of flexibility for various recipes. However, it’s quite loud, especially on the higher settings, so it can be a bit disruptive in the kitchen. The jar is also a bit heavy, which makes it a little difficult to handle, especially when it's full. Cleaning is easy, but the blade is really sharp, so I need to be careful. Overall, it's a solid blender for anyone who wants power and versatility in their kitchen.\"\n",
    "prompt = prompt_few_shots.format(review_text=review_text)\n",
    "\n",
    "review_text = run_inference_on_model(prompt, max_tokens=100)\n",
    "\n",
    "print(review_text)\n"
   ]
  },
  {
   "cell_type": "markdown",
   "metadata": {},
   "source": [
    "The result is pretty close to what we need. However, the model keeps generating text until it reaches the max_tokens length. I can't manage to get the end of token to work."
   ]
  },
  {
   "cell_type": "markdown",
   "metadata": {},
   "source": [
    "## JSON output\n",
    "Let's try to pack the information into a json object"
   ]
  },
  {
   "cell_type": "code",
   "execution_count": 10,
   "metadata": {},
   "outputs": [
    {
     "name": "stdout",
     "output_type": "stream",
     "text": [
      "\n",
      "Summarize the following product review and provide the information in a structured JSON format with the following keys:\n",
      "- \"summary\": A single-sentence summary of the review.\n",
      "- \"pros\": A list of positive aspects.\n",
      "- \"cons\": A list of negative aspects.\n",
      "- \"conclusion\": An overall conclusion.\n",
      "\n",
      "### Review:\n",
      "This blender is absolutely fantastic! It blends everything smoothly, whether it's ice, vegetables, or fruits. I love the different speed settings, which give a lot of flexibility for various recipes. However, it’s quite loud, especially on the higher settings, so it can be a bit disruptive in the kitchen. The jar is also a bit heavy, which makes it a little difficult to handle, especially when it's full. Cleaning is easy, but the blade is really sharp, so I need to be careful. Overall, it's a solid blender for anyone who wants power and versatility in their kitchen.\n",
      "\n",
      "### JSON output:\n",
      "```json\n",
      "{\n",
      "  \"summary\": \"This blender is absolutely fantastic! It blends everything smoothly, whether it's ice, vegetables, or fruits.\",\n",
      "  \"pros\": [\n",
      "    \"different speed settings\",\n",
      "    \"flexibility for various recipes\"\n",
      "  ],\n",
      "  \"cons\": [\n",
      "    \"loud\",\n",
      "    \"jar is heavy\",\n",
      "    \"blade is really sharp\"\n",
      "  ],\n",
      "  \"conclusion\": \"It's a solid blender for anyone who wants power and versatility in their kitchen.\"\n",
      "}\n",
      "```\n"
     ]
    }
   ],
   "source": [
    "prompt_json = \"\"\"\n",
    "Summarize the following product review and provide the information in a structured JSON format with the following keys:\n",
    "- \"summary\": A single-sentence summary of the review.\n",
    "- \"pros\": A list of positive aspects.\n",
    "- \"cons\": A list of negative aspects.\n",
    "- \"conclusion\": An overall conclusion.\n",
    "\n",
    "### Review:\n",
    "{review_text}\n",
    "\n",
    "### JSON output:\n",
    "\"\"\"\n",
    "\n",
    "review_text = \"This blender is absolutely fantastic! It blends everything smoothly, whether it's ice, vegetables, or fruits. I love the different speed settings, which give a lot of flexibility for various recipes. However, it’s quite loud, especially on the higher settings, so it can be a bit disruptive in the kitchen. The jar is also a bit heavy, which makes it a little difficult to handle, especially when it's full. Cleaning is easy, but the blade is really sharp, so I need to be careful. Overall, it's a solid blender for anyone who wants power and versatility in their kitchen.\"\n",
    "prompt = prompt_json.format(review_text=review_text)\n",
    "\n",
    "review_text = run_inference_on_model(prompt, max_tokens=150)\n",
    "print(review_text)\n"
   ]
  },
  {
   "cell_type": "code",
   "execution_count": 11,
   "metadata": {},
   "outputs": [
    {
     "name": "stdout",
     "output_type": "stream",
     "text": [
      "----------------------------------------------------------------------------------------------------\n",
      "SUMMARY: This blender is absolutely fantastic! It blends everything smoothly, whether it's ice, vegetables, or fruits.\n",
      "PROS: ['different speed settings', 'flexibility for various recipes']\n",
      "CONS: ['loud', 'jar is heavy', 'blade is really sharp']\n",
      "CONCLUSION: It's a solid blender for anyone who wants power and versatility in their kitchen.\n"
     ]
    }
   ],
   "source": [
    "def extract_json_dict(result: str) -> dict:\n",
    "    \"\"\"Extract JSON content from the model output and convert it to a Python dictionary.\n",
    "\n",
    "    Args:\n",
    "        result (str): The model output containing the JSON content.\n",
    "\n",
    "    Returns:\n",
    "        dict: A Python dictionary containing the extracted JSON content.\n",
    "\n",
    "    Exception:\n",
    "        json.JSONDecodeError: If there is an error decoding the JSON content.\n",
    "    \"\"\"\n",
    "    # let's extract the json part and store it in a dict\n",
    "    json_content = re.search(r'json\\s*(\\{.*?\\})\\s*', result, re.DOTALL)\n",
    "\n",
    "    review_dict = {}\n",
    "\n",
    "    if json_content:\n",
    "        extracted_json = json_content.group(1) \n",
    "        try: \n",
    "            # Convert JSON string to Python dictionary \n",
    "            review_dict = json.loads(extracted_json)\n",
    "        except json.JSONDecodeError as e: \n",
    "            print(f\"Error decoding JSON: {e}\")\n",
    "    else: \n",
    "        print(\"No JSON content found.\")\n",
    "\n",
    "    return review_dict\n",
    "\n",
    "review_dict = extract_json_dict(review_text)\n",
    "\n",
    "print(SEP)\n",
    "for k, v in review_dict.items():\n",
    "    print(f\"{k.upper()}: {v}\")"
   ]
  },
  {
   "cell_type": "markdown",
   "metadata": {},
   "source": [
    "This is working great. Outputing json contents make it very clear, concise and avoid mixed up information or repetition.\n"
   ]
  },
  {
   "cell_type": "markdown",
   "metadata": {},
   "source": [
    "## Multiple review summarization\n",
    "\n",
    "Let's try to input a list of reviews into the model and see if it can output a json summary."
   ]
  },
  {
   "cell_type": "code",
   "execution_count": 12,
   "metadata": {},
   "outputs": [
    {
     "name": "stdout",
     "output_type": "stream",
     "text": [
      "\n",
      "Summarize the following reviews of the same product in a structured JSON format, combining insights from all three reviews into a single summary. Use the following keys:\n",
      "- \"summary\": A single-sentence summary reflecting the general or mix of sentiment and key points from all reviews.\n",
      "- \"pros\": A list of positive aspects listed in the reviews.\n",
      "- \"cons\": A list of negative aspects listed in the reviews.\n",
      "- \"conclusion\": An overall conclusion based on the reviews, pros and cons.\n",
      "Generate a single JSON output that combines the information from all three reviews.\n",
      "\n",
      "### Review 1:\n",
      "I absolutely love this blender! It blends everything so smoothly, from ice to veggies and fruits. The different speed settings are super useful, and it's easy to clean. The motor is powerful, and it doesn't struggle with anything I throw at it. Definitely worth the price if you're serious about smoothies or cooking!\n",
      "\n",
      "### Review 2:\n",
      "The blender is decent overall. It does its job well, though it can be a bit noisy at higher speeds. The jar is also a bit heavy, which makes it slightly awkward to handle when full. But it's sturdy, and I appreciate the variety of settings. Not a bad choice, but nothing extraordinary.\n",
      "\n",
      "### Review 3:\n",
      "Unfortunately, this blender has been a disappointment. It struggles to blend frozen items properly, and it makes a lot of noise. After a few uses, the blade already seems dull. It's hard to clean, especially around the blade area, and I feel it's overpriced for the quality you get. I wouldn’t recommend it.\n",
      "\n",
      "### JSON output:\n",
      "```json\n",
      "{\n",
      "  \"summary\": \"A powerful blender with a variety of settings, but it struggles with frozen items and can be noisy.\",\n",
      "  \"pros\": [\"Easy to clean\", \"Variety of settings\", \"Sturdy\"],\n",
      "  \"cons\": [\"Noisy\", \"Dull blade\", \"Hard to clean\"],\n",
      "  \"conclusion\": \"A decent blender, but not worth the price.\"\n",
      "}\n",
      "```\n",
      "----------------------------------------------------------------------------------------------------\n",
      "SUMMARY: A powerful blender with a variety of settings, but it struggles with frozen items and can be noisy.\n",
      "PROS: ['Easy to clean', 'Variety of settings', 'Sturdy']\n",
      "CONS: ['Noisy', 'Dull blade', 'Hard to clean']\n",
      "CONCLUSION: A decent blender, but not worth the price.\n"
     ]
    }
   ],
   "source": [
    "prompt_multiple_reviews = \"\"\"\n",
    "Summarize the following reviews of the same product in a structured JSON format, combining insights from all three reviews into a single summary. Use the following keys:\n",
    "- \"summary\": A single-sentence summary reflecting the general or mix of sentiment and key points from all reviews.\n",
    "- \"pros\": A list of positive aspects listed in the reviews.\n",
    "- \"cons\": A list of negative aspects listed in the reviews.\n",
    "- \"conclusion\": An overall conclusion based on the reviews, pros and cons.\n",
    "Generate a single JSON output that combines the information from all three reviews.\n",
    "\"\"\"\n",
    "\n",
    "# let's try with a positive, a neutral and a negative review\n",
    "reviews_list = [\n",
    "    \"I absolutely love this blender! It blends everything so smoothly, from ice to veggies and fruits. The different speed settings are super useful, and it's easy to clean. The motor is powerful, and it doesn't struggle with anything I throw at it. Definitely worth the price if you're serious about smoothies or cooking!\",\n",
    "    \"The blender is decent overall. It does its job well, though it can be a bit noisy at higher speeds. The jar is also a bit heavy, which makes it slightly awkward to handle when full. But it's sturdy, and I appreciate the variety of settings. Not a bad choice, but nothing extraordinary.\",\n",
    "    \"Unfortunately, this blender has been a disappointment. It struggles to blend frozen items properly, and it makes a lot of noise. After a few uses, the blade already seems dull. It's hard to clean, especially around the blade area, and I feel it's overpriced for the quality you get. I wouldn’t recommend it.\"\n",
    "]\n",
    "\n",
    "# add reviews to the prompt\n",
    "for i, review in enumerate(reviews_list):\n",
    "    prompt_multiple_reviews += f\"\\n### Review {i+1}:\\n{review}\\n\"\n",
    "\n",
    "# add JSON output format\n",
    "prompt_multiple_reviews += \"\\n### JSON output:\\n\"\n",
    "\n",
    "review_text = run_inference_on_model(prompt_multiple_reviews, max_tokens=100)\n",
    "print(review_text)\n",
    "\n",
    "review_dict = extract_json_dict(review_text)\n",
    "print(SEP)\n",
    "for k, v in review_dict.items():\n",
    "    print(f\"{k.upper()}: {v}\")\n"
   ]
  },
  {
   "cell_type": "markdown",
   "metadata": {},
   "source": [
    "We notice the main issue here: Due to contradictory review sentiments, not agreeing on the same topic, the output is a bit erratic and the model strives at summarizing them.\n",
    "\n",
    "To face this problem, and also the issue of context window and large amount of review text used as input, we could split the task into 2 differemt prompts, using the same model:\n",
    "- Prompt 1 will ask the model to summarize a review into a few words carrying most of the review ideas.\n",
    "- Prompt 2 will take all summarized reviews of a product and output the json dict we asked earlier"
   ]
  },
  {
   "cell_type": "markdown",
   "metadata": {},
   "source": [
    "## Prompt 1: Summarizing a reviews\n",
    "Let's start with a simple model summarizing reviews."
   ]
  },
  {
   "cell_type": "code",
   "execution_count": 13,
   "metadata": {},
   "outputs": [],
   "source": [
    "prompt_review_summary = \"\"\"\n",
    "Summarize the following product review information. Return an empty string if you are unable to generate a summary.\n",
    "\n",
    "Review 1:\n",
    "\"This laptop exceeded my expectations. The battery lasts all day, and it’s super lightweight, which makes it perfect for traveling. The display is clear and bright, and the performance is fast even with multiple programs running. My only complaint is that the keyboard feels a bit shallow. Overall, I’m really happy with my purchase!\"\n",
    "Summary 1:\n",
    "->\"Lightweight and fast laptop with a great display and long-lasting battery, but the keyboard is a bit shallow.\"\n",
    "\n",
    "Review 2:\n",
    "\"The headphones are okay but not as good as I expected. The sound quality is decent, and they’re comfortable to wear for a while. However, they don’t block out background noise as well as I hoped. For the price, I think there are better options out there.\"\n",
    "Summary 2:\n",
    "->\"Decent sound quality and comfortable, but poor noise isolation and better options exist for the price.\"\n",
    "\n",
    "Review 3:\n",
    "{review_text}\n",
    "Summary 3:\n",
    "\"\"\"\n"
   ]
  },
  {
   "cell_type": "code",
   "execution_count": 14,
   "metadata": {},
   "outputs": [
    {
     "name": "stdout",
     "output_type": "stream",
     "text": [
      "----------------------------------------------------------------------------------------------------\n",
      "Powerful blender with different speed settings, but loud and heavy jar, sharp blade, and difficult to handle.\n",
      "----------------------------------------------------------------------------------------------------\n"
     ]
    }
   ],
   "source": [
    "def generate_review_summary(prompt: str) -> str:\n",
    "    \"\"\"Run inference on the model to generate a review summary based on the provided review.\n",
    "\n",
    "    Args:\n",
    "        prompt (str): prompt containing instruction and review\n",
    "\n",
    "    Returns:\n",
    "        str: review summary extracted from the model's answer using a regex pattern\n",
    "    \"\"\"\n",
    "    \n",
    "    # run inference\n",
    "    result = run_inference_on_model(prompt, max_tokens=50)\n",
    "    \n",
    "    # Match all summaries marked by '->\"' and capture their content\n",
    "    match = re.findall(r'->\"(.*?)\"', result, re.DOTALL)\n",
    "    if match and len(match) >= 3:\n",
    "        # Return the third summary with leading/trailing spaces removed\n",
    "        return match[2].strip()\n",
    "    else:\n",
    "        print(\"No review summary found.\")\n",
    "        return \"\"  # Return empty string if no match is found\n",
    "\n",
    "review_text = \"This blender is absolutely fantastic! It blends everything smoothly, whether it's ice, vegetables, or fruits. I love the different speed settings, which give a lot of flexibility for various recipes. However, it’s quite loud, especially on the higher settings, so it can be a bit disruptive in the kitchen. The jar is also a bit heavy, which makes it a little difficult to handle, especially when it's full. Cleaning is easy, but the blade is really sharp, so I need to be careful. Overall, it's a solid blender for anyone who wants power and versatility in their kitchen.\"\n",
    "prompt = prompt_review_summary.format(review_text=review_text)\n",
    "\n",
    "review_summary = generate_review_summary(prompt)\n",
    "print(SEP)\n",
    "print(review_summary)\n",
    "print(SEP)"
   ]
  },
  {
   "cell_type": "markdown",
   "metadata": {},
   "source": [
    "Perfect. Now let's try it on our dataset."
   ]
  },
  {
   "cell_type": "code",
   "execution_count": 15,
   "metadata": {},
   "outputs": [
    {
     "name": "stdout",
     "output_type": "stream",
     "text": [
      "REVIEW:\n",
      "Great tablet for first time user\n",
      "This was a gift for a senior citizen that is not a fan of computers and technology. After just a few minutes of instruction she picked right up on how much fun she could have with her down loaded games and she also learned how to reach out on the internet for information on subjects that interest her. She is very happy with her gift!\n",
      "I recommend this product.\n",
      "\n",
      "SUMMARY:\n",
      "Great tablet for first time user\n",
      "----------------------------------------------------------------------------------------------------\n",
      "REVIEW:\n",
      "Amazon kid version\n",
      "Tablet is great, battery satisfactory. Case works great, within 10 minutes of opening the tablet, my grandson dropped it. No damage!!Easy to use. Highly recommend.\n",
      "I recommend this product.\n",
      "\n",
      "SUMMARY:\n",
      "Great tablet, satisfactory battery, case works great, no damage after 10 minutes of opening the tablet, easy to use, highly recommend.\n",
      "----------------------------------------------------------------------------------------------------\n",
      "REVIEW:\n",
      "Awesome tablet for a good price\n",
      "Bought this tablet cause it was super cheap during December. It's a good tablet for someone who doesn't need a powerhouse\n",
      "I recommend this product.\n",
      "\n",
      "SUMMARY:\n",
      "Good tablet for a good price, but not a powerhouse.\n",
      "----------------------------------------------------------------------------------------------------\n",
      "REVIEW:\n",
      "Four Stars\n",
      "Good price, decent battery life\n",
      "\n",
      "SUMMARY:\n",
      "Decent battery life and good price, but no other information provided.\n",
      "----------------------------------------------------------------------------------------------------\n",
      "REVIEW:\n",
      "Birthday gift\n",
      "Got one for my son and hasn't put it down. Well till the timer shuts it off. He is 5 and loves it.\n",
      "I recommend this product.\n",
      "\n",
      "SUMMARY:\n",
      "Great gift for kids, but the timer feature can be annoying.\n",
      "----------------------------------------------------------------------------------------------------\n"
     ]
    }
   ],
   "source": [
    "for _ in range(5):\n",
    "    # get random row and extract review\n",
    "    row_idx = random.randint(0, len(data))\n",
    "    review_text = data['review'][row_idx]\n",
    "    print(\"REVIEW:\")\n",
    "    print(review_text)\n",
    "    print()\n",
    "    \n",
    "    # generate summary\n",
    "    prompt = prompt_review_summary.format(review_text=review_text)\n",
    "    review_summary = generate_review_summary(prompt)\n",
    "    print(\"SUMMARY:\")\n",
    "    print(review_summary)\n",
    "\n",
    "    print(SEP)"
   ]
  },
  {
   "cell_type": "markdown",
   "metadata": {},
   "source": [
    "The results are prety good. We can see that the model tends to hallucinate on some summaries and deduct information that are not necessarely true and specified in the original review. Example:\n",
    "\n",
    "REVIEW:  \n",
    "- Great tablet. I like how cheap this is. It's great for browsing the Internet.\n",
    "\n",
    "SUMMARY:  \n",
    "- Great for browsing the Internet, but cheap and not suitable for other tasks."
   ]
  },
  {
   "cell_type": "markdown",
   "metadata": {},
   "source": [
    "## Prompt 2: Extracting information from multiple summarized reviews\n",
    "\n",
    "### Summarize recurring ideas\n",
    "Let's ask the model to extract recurring ideas from all reviews"
   ]
  },
  {
   "cell_type": "code",
   "execution_count": 16,
   "metadata": {},
   "outputs": [
    {
     "name": "stdout",
     "output_type": "stream",
     "text": [
      "\n",
      "Analyze the following list of product reviews. Provide a concise summary of the three most frequently mentioned ideas or themes. Ensure each point reflects common feedback without repeating phrasing.\n",
      "\n",
      "### Reviews:\n",
      "[Review 1]: \"The camera quality is amazing and takes very clear photos, even in low light.\"\n",
      "[Review 2]: \"Battery life could be better; it drains faster than my previous phone.\"\n",
      "[Review 3]: \"I’m impressed with the screen clarity and brightness, but the battery doesn’t last very long.\"\n",
      "[Review 4]: \"The photos are sharp and vibrant, especially in daylight.\"\n",
      "[Review 5]: \"Battery life is a bit disappointing, but the display is excellent and great for watching videos.\"\n",
      "\n",
      "### Recurring Ideas:\n",
      "1. The camera quality is highly praised, especially for clear and vibrant photos in various lighting.\n",
      "2. The display quality is appreciated for its clarity and brightness, making it ideal for media.\n",
      "3. Battery life is a common complaint, with users noting that it drains quickly.\n",
      "\n",
      "### Reviews:\n",
      "[Review 1]: \"The sound quality on these headphones is outstanding, with deep bass and clear highs.\"\n",
      "[Review 2]: \"They’re comfortable to wear for long hours, but I wish they blocked out noise better.\"\n",
      "[Review 3]: \"Amazing audio clarity, but they don’t fully cancel out background sounds.\"\n",
      "[Review 4]: \"Great sound quality for the price, but I can still hear some outside noise.\"\n",
      "[Review 5]: \"Comfortable fit and good audio, but not ideal for noisy environments.\"\n",
      "\n",
      "### Recurring Ideas:\n",
      "1. Sound quality is praised for its clarity and depth, especially given the price.\n",
      "2. Comfort is a major positive, with users finding them suitable for extended wear.\n",
      "3. Noise cancellation is lacking, with multiple reviews mentioning that they allow outside noise.\n",
      "\n",
      "### Reviews:\n",
      "[Review 1]: \"The vacuum cleaner is lightweight and easy to carry around the house.\"\n",
      "[Review 2]: \"I love how portable it is, but the battery life doesn’t last as long as expected.\"\n",
      "[Review 3]: \"It’s very light, making it easy to maneuver, but I wish it had a longer battery life.\"\n",
      "[Review 4]: \"Great suction power and easy to use, but it needs frequent recharging.\"\n",
      "[Review 5]: \"Lightweight design makes it easy to handle, but it doesn’t hold charge for long.\"\n",
      "\n",
      "\n",
      "### Recurring Ideas:\n",
      "1. The vacuum cleaner is praised for its lightweight design, making it easy to carry and maneuver.\n",
      "2. Battery life is a common complaint, with users noting that it doesn’t last as long as expected.\n",
      "3. Suction power is appreciated, but the vacuum needs frequent recharging.\n"
     ]
    }
   ],
   "source": [
    "# lets try to extract recurring general ideas from reviews\n",
    "# Analyze the following list of product reviews. Identify the 3 most frequently mentioned ideas or themes across all reviews and output them in a list.\n",
    "\n",
    "prompt_reviews_recurring_ideas = \"\"\"\n",
    "Analyze the following list of product reviews. Provide a concise summary of the three most frequently mentioned ideas or themes. Ensure each point reflects common feedback without repeating phrasing.\n",
    "\n",
    "### Reviews:\n",
    "[Review 1]: \"The camera quality is amazing and takes very clear photos, even in low light.\"\n",
    "[Review 2]: \"Battery life could be better; it drains faster than my previous phone.\"\n",
    "[Review 3]: \"I’m impressed with the screen clarity and brightness, but the battery doesn’t last very long.\"\n",
    "[Review 4]: \"The photos are sharp and vibrant, especially in daylight.\"\n",
    "[Review 5]: \"Battery life is a bit disappointing, but the display is excellent and great for watching videos.\"\n",
    "\n",
    "### Recurring Ideas:\n",
    "1. The camera quality is highly praised, especially for clear and vibrant photos in various lighting.\n",
    "2. The display quality is appreciated for its clarity and brightness, making it ideal for media.\n",
    "3. Battery life is a common complaint, with users noting that it drains quickly.\n",
    "\n",
    "### Reviews:\n",
    "[Review 1]: \"The sound quality on these headphones is outstanding, with deep bass and clear highs.\"\n",
    "[Review 2]: \"They’re comfortable to wear for long hours, but I wish they blocked out noise better.\"\n",
    "[Review 3]: \"Amazing audio clarity, but they don’t fully cancel out background sounds.\"\n",
    "[Review 4]: \"Great sound quality for the price, but I can still hear some outside noise.\"\n",
    "[Review 5]: \"Comfortable fit and good audio, but not ideal for noisy environments.\"\n",
    "\n",
    "### Recurring Ideas:\n",
    "1. Sound quality is praised for its clarity and depth, especially given the price.\n",
    "2. Comfort is a major positive, with users finding them suitable for extended wear.\n",
    "3. Noise cancellation is lacking, with multiple reviews mentioning that they allow outside noise.\n",
    "\n",
    "### Reviews:\n",
    "{review_text}\n",
    "\n",
    "### Recurring Ideas:\n",
    "\"\"\"\n",
    "\n",
    "reviews = [\n",
    "    \"The vacuum cleaner is lightweight and easy to carry around the house.\",\n",
    "    \"I love how portable it is, but the battery life doesn’t last as long as expected.\",\n",
    "    \"It’s very light, making it easy to maneuver, but I wish it had a longer battery life.\",\n",
    "    \"Great suction power and easy to use, but it needs frequent recharging.\",\n",
    "    \"Lightweight design makes it easy to handle, but it doesn’t hold charge for long.\"\n",
    "]\n",
    "\n",
    "reviews_text = \"\"\n",
    "for i, review in enumerate(reviews):\n",
    "    reviews_text += f\"[Review {i+1}]: \\\"{review}\\\"\\n\"\n",
    "\n",
    "prompt = prompt_reviews_recurring_ideas.format(review_text=reviews_text)\n",
    "\n",
    "review_text = run_inference_on_model(prompt, max_tokens=100)\n",
    "\n",
    "print(review_text)"
   ]
  },
  {
   "cell_type": "markdown",
   "metadata": {},
   "source": [
    "### Summarize recurring ideas using a JSON output"
   ]
  },
  {
   "cell_type": "code",
   "execution_count": 17,
   "metadata": {},
   "outputs": [
    {
     "name": "stdout",
     "output_type": "stream",
     "text": [
      "\n",
      "Analyze the following list of product reviews. Provide a concise summary of the three most frequently mentioned ideas or themes. Ensure each point reflects common feedback without repeating phrasing.\n",
      "Store the recurring ideas in a structured JSON format.\n",
      "\n",
      "### Reviews:\n",
      "[Review 1]: \"The camera quality is amazing and takes very clear photos, even in low light.\"\n",
      "[Review 2]: \"Battery life could be better; it drains faster than my previous phone.\"\n",
      "[Review 3]: \"I’m impressed with the screen clarity and brightness, but the battery doesn’t last very long.\"\n",
      "[Review 4]: \"The photos are sharp and vibrant, especially in daylight.\"\n",
      "[Review 5]: \"Battery life is a bit disappointing, but the display is excellent and great for watching videos.\"\n",
      "\n",
      "### Recurring Ideas:\n",
      "{\n",
      "\"1\": \"The camera quality is highly praised, especially for clear and vibrant photos in various lighting.\"\n",
      "\"2\": \"The display quality is appreciated for its clarity and brightness, making it ideal for media.\"\n",
      "\"3\": \"Battery life is a common complaint, with users noting that it drains quickly.\"\n",
      "}\n",
      "\n",
      "\n",
      "### Reviews:\n",
      "[Review 1]: \"The sound quality on these headphones is outstanding, with deep bass and clear highs.\"\n",
      "[Review 2]: \"They’re comfortable to wear for long hours, but I wish they blocked out noise better.\"\n",
      "[Review 3]: \"Amazing audio clarity, but they don’t fully cancel out background sounds.\"\n",
      "[Review 4]: \"Great sound quality for the price, but I can still hear some outside noise.\"\n",
      "[Review 5]: \"Comfortable fit and good audio, but not ideal for noisy environments.\"\n",
      "\n",
      "### Recurring Ideas:\n",
      "```json\n",
      "{\n",
      "\"1\": \"Sound quality is praised for its clarity and depth, especially given the price.\"\n",
      "\"2\": \"Comfort is a major positive, with users finding them suitable for extended wear.\"\n",
      "\"3\": \"Noise cancellation is lacking, with multiple reviews mentioning that they allow outside noise.\"\n",
      "}\n",
      "```\n",
      "\n",
      "### Reviews:\n",
      "[Review 1]: \"The vacuum cleaner is lightweight and easy to carry around the house.\"\n",
      "[Review 2]: \"I love how portable it is, but the battery life doesn’t last as long as expected.\"\n",
      "[Review 3]: \"It’s very light, making it easy to maneuver, but I wish it had a longer battery life.\"\n",
      "[Review 4]: \"Great suction power and easy to use, but it needs frequent recharging.\"\n",
      "[Review 5]: \"Lightweight design makes it easy to handle, but it doesn’t hold charge for long.\"\n",
      "\n",
      "\n",
      "### Recurring Ideas:\n",
      "```json\n",
      "{\n",
      "\"1\": \"The vacuum cleaner is lightweight and easy to carry around the house.\"\n",
      "\"2\": \"Battery life is a common complaint, with users noting that it drains quickly.\"\n",
      "\"3\": \"Noise cancellation is lacking, with multiple reviews mentioning that they allow outside noise.\"\n",
      "}\n",
      "```\n",
      "\n",
      "### Reviews:\n",
      "[Review 1]: \"The laptop is fast and responsive, with no lag or slowdown\n"
     ]
    }
   ],
   "source": [
    "# lets try to extract recurring general ideas from reviews\n",
    "# Analyze the following list of product reviews. Identify the 3 most frequently mentioned ideas or themes across all reviews and output them in a list.\n",
    "\n",
    "prompt_reviews_recurring_ideas_json = \"\"\"\n",
    "Analyze the following list of product reviews. Provide a concise summary of the three most frequently mentioned ideas or themes. Ensure each point reflects common feedback without repeating phrasing.\n",
    "Store the recurring ideas in a structured JSON format.\n",
    "\n",
    "### Reviews:\n",
    "[Review 1]: \"The camera quality is amazing and takes very clear photos, even in low light.\"\n",
    "[Review 2]: \"Battery life could be better; it drains faster than my previous phone.\"\n",
    "[Review 3]: \"I’m impressed with the screen clarity and brightness, but the battery doesn’t last very long.\"\n",
    "[Review 4]: \"The photos are sharp and vibrant, especially in daylight.\"\n",
    "[Review 5]: \"Battery life is a bit disappointing, but the display is excellent and great for watching videos.\"\n",
    "\n",
    "### Recurring Ideas:\n",
    "{{\n",
    "\"1\": \"The camera quality is highly praised, especially for clear and vibrant photos in various lighting.\"\n",
    "\"2\": \"The display quality is appreciated for its clarity and brightness, making it ideal for media.\"\n",
    "\"3\": \"Battery life is a common complaint, with users noting that it drains quickly.\"\n",
    "}}\n",
    "\n",
    "\n",
    "### Reviews:\n",
    "[Review 1]: \"The sound quality on these headphones is outstanding, with deep bass and clear highs.\"\n",
    "[Review 2]: \"They’re comfortable to wear for long hours, but I wish they blocked out noise better.\"\n",
    "[Review 3]: \"Amazing audio clarity, but they don’t fully cancel out background sounds.\"\n",
    "[Review 4]: \"Great sound quality for the price, but I can still hear some outside noise.\"\n",
    "[Review 5]: \"Comfortable fit and good audio, but not ideal for noisy environments.\"\n",
    "\n",
    "### Recurring Ideas:\n",
    "```json\n",
    "{{\n",
    "\"1\": \"Sound quality is praised for its clarity and depth, especially given the price.\"\n",
    "\"2\": \"Comfort is a major positive, with users finding them suitable for extended wear.\"\n",
    "\"3\": \"Noise cancellation is lacking, with multiple reviews mentioning that they allow outside noise.\"\n",
    "}}\n",
    "```\n",
    "\n",
    "### Reviews:\n",
    "{review_text}\n",
    "\n",
    "### Recurring Ideas:\n",
    "\"\"\"\n",
    "\n",
    "reviews = [\n",
    "    \"The vacuum cleaner is lightweight and easy to carry around the house.\",\n",
    "    \"I love how portable it is, but the battery life doesn’t last as long as expected.\",\n",
    "    \"It’s very light, making it easy to maneuver, but I wish it had a longer battery life.\",\n",
    "    \"Great suction power and easy to use, but it needs frequent recharging.\",\n",
    "    \"Lightweight design makes it easy to handle, but it doesn’t hold charge for long.\"\n",
    "]\n",
    "\n",
    "reviews_text = \"\"\n",
    "for i, review in enumerate(reviews):\n",
    "    reviews_text += f\"[Review {i+1}]: \\\"{review}\\\"\\n\"\n",
    "\n",
    "prompt = prompt_reviews_recurring_ideas_json.format(review_text=reviews_text)\n",
    "\n",
    "review_text = run_inference_on_model(prompt, max_tokens=100)\n",
    "\n",
    "print(review_text)"
   ]
  },
  {
   "cell_type": "markdown",
   "metadata": {},
   "source": [
    "This prompt outputing the recurring ideas in a json format only works for a few reviews. If inputing more than 4-5, the model keeps adding more than 3 ideas and the json format is not respected, missing the closing brackets. This makes it an unreliable solution."
   ]
  },
  {
   "cell_type": "markdown",
   "metadata": {},
   "source": [
    "### Summarize reviews into pros and cons bullet points\n",
    "This is an alternative method, asking the model to summarize all reviews into pros and cons"
   ]
  },
  {
   "cell_type": "code",
   "execution_count": 18,
   "metadata": {},
   "outputs": [
    {
     "name": "stdout",
     "output_type": "stream",
     "text": [
      "\n",
      "Analyze the following list of product reviews. Identify the 3 most frequently mentioned positive aspects (pros) and 3 most frequently mentioned negative aspects (cons) across all reviews.\n",
      "Store them in a json output.\n",
      "\n",
      "### Reviews:\n",
      "[Review 1]: The vacuum cleaner is lightweight and easy to carry around the house.\n",
      "[Review 2]: I love how portable it is, but the battery life doesn’t last as long as expected.\n",
      "[Review 3]: It’s very light, making it easy to maneuver, but I wish it had a longer battery life.\n",
      "[Review 4]: Great suction power and easy to use, but it needs frequent recharging.\n",
      "[Review 5]: Lightweight design makes it easy to handle, but it doesn’t hold charge for long.\n",
      "\n",
      "\n",
      "### JSON Output:\n",
      "\n",
      "```json\n",
      "{\n",
      "  \"pros\": [\n",
      "    \"lightweight\",\n",
      "    \"portable\",\n",
      "    \"easy to maneuver\"\n",
      "  ],\n",
      "  \"cons\": [\n",
      "    \"battery life\",\n",
      "    \"frequent recharging\",\n",
      "    \"short battery life\"\n",
      "  ]\n",
      "}\n",
      "```\n",
      "\n",
      "\n",
      "\n",
      "\n",
      "\n",
      "\n",
      "\n",
      "\n",
      "\n",
      "\n",
      "\n",
      "\n",
      "\n",
      "\n",
      "\n",
      "\n",
      "\n",
      "\n",
      "\n",
      "\n",
      "\n",
      "\n",
      "\n",
      "\n"
     ]
    }
   ],
   "source": [
    "# lets try to extract clear pros and cons bullet points from reviews\n",
    "prompt_review_pros_cons = \"\"\"\n",
    "Analyze the following list of product reviews. Identify the 3 most frequently mentioned positive aspects (pros) and 3 most frequently mentioned negative aspects (cons) across all reviews.\n",
    "Store them in a json output.\n",
    "\n",
    "### Reviews:\n",
    "{review_text}\n",
    "\n",
    "### JSON Output:\n",
    "\"\"\"\n",
    "\n",
    "reviews = [\n",
    "    \"The vacuum cleaner is lightweight and easy to carry around the house.\",\n",
    "    \"I love how portable it is, but the battery life doesn’t last as long as expected.\",\n",
    "    \"It’s very light, making it easy to maneuver, but I wish it had a longer battery life.\",\n",
    "    \"Great suction power and easy to use, but it needs frequent recharging.\",\n",
    "    \"Lightweight design makes it easy to handle, but it doesn’t hold charge for long.\",\n",
    "]\n",
    "\n",
    "review_text = \"\"\n",
    "for i, review in enumerate(reviews):\n",
    "    review_text += f\"[Review {i+1}]: {review}\\n\"\n",
    "\n",
    "prompt = prompt_review_pros_cons.format(review_text=review_text)\n",
    "\n",
    "review_text = run_inference_on_model(prompt, max_tokens=100)\n",
    "\n",
    "print(review_text)"
   ]
  },
  {
   "cell_type": "markdown",
   "metadata": {},
   "source": [
    "This seems to work pretty good. Now let's try with more reviews in the next section."
   ]
  },
  {
   "cell_type": "markdown",
   "metadata": {},
   "source": [
    "## Extracting best models and reviews from the dataset\n",
    "In notebook 5 we compute scores for all products in each category, so we can extract the top 3 or the worst product."
   ]
  },
  {
   "cell_type": "markdown",
   "metadata": {},
   "source": [
    "### Load our product scores"
   ]
  },
  {
   "cell_type": "code",
   "execution_count": 19,
   "metadata": {},
   "outputs": [
    {
     "name": "stdout",
     "output_type": "stream",
     "text": [
      "Dataset loaded from pickle/data_scored.pkl.\n"
     ]
    },
    {
     "data": {
      "text/html": [
       "<div>\n",
       "<style scoped>\n",
       "    .dataframe tbody tr th:only-of-type {\n",
       "        vertical-align: middle;\n",
       "    }\n",
       "\n",
       "    .dataframe tbody tr th {\n",
       "        vertical-align: top;\n",
       "    }\n",
       "\n",
       "    .dataframe thead th {\n",
       "        text-align: right;\n",
       "    }\n",
       "</style>\n",
       "<table border=\"1\" class=\"dataframe\">\n",
       "  <thead>\n",
       "    <tr style=\"text-align: right;\">\n",
       "      <th></th>\n",
       "      <th>clusterCategories</th>\n",
       "      <th>name</th>\n",
       "      <th>reviews.rating</th>\n",
       "    </tr>\n",
       "  </thead>\n",
       "  <tbody>\n",
       "    <tr>\n",
       "      <th>7</th>\n",
       "      <td>Accessories &amp; Adapters</td>\n",
       "      <td>AmazonBasics AAA Performance Alkaline Batterie...</td>\n",
       "      <td>62201.0</td>\n",
       "    </tr>\n",
       "    <tr>\n",
       "      <th>6</th>\n",
       "      <td>Accessories &amp; Adapters</td>\n",
       "      <td>AmazonBasics AA Performance Alkaline Batteries...</td>\n",
       "      <td>43195.0</td>\n",
       "    </tr>\n",
       "    <tr>\n",
       "      <th>19</th>\n",
       "      <td>Accessories &amp; Adapters</td>\n",
       "      <td>Fire Kids Edition Tablet, 7 Display, Wi-Fi, 16...</td>\n",
       "      <td>40862.0</td>\n",
       "    </tr>\n",
       "    <tr>\n",
       "      <th>18</th>\n",
       "      <td>Accessories &amp; Adapters</td>\n",
       "      <td>Fire Kids Edition Tablet, 7 Display, Wi-Fi, 16...</td>\n",
       "      <td>25108.0</td>\n",
       "    </tr>\n",
       "    <tr>\n",
       "      <th>20</th>\n",
       "      <td>Accessories &amp; Adapters</td>\n",
       "      <td>Fire Kids Edition Tablet, 7 Display, Wi-Fi, 16...</td>\n",
       "      <td>23945.0</td>\n",
       "    </tr>\n",
       "  </tbody>\n",
       "</table>\n",
       "</div>"
      ],
      "text/plain": [
       "         clusterCategories                                               name  \\\n",
       "7   Accessories & Adapters  AmazonBasics AAA Performance Alkaline Batterie...   \n",
       "6   Accessories & Adapters  AmazonBasics AA Performance Alkaline Batteries...   \n",
       "19  Accessories & Adapters  Fire Kids Edition Tablet, 7 Display, Wi-Fi, 16...   \n",
       "18  Accessories & Adapters  Fire Kids Edition Tablet, 7 Display, Wi-Fi, 16...   \n",
       "20  Accessories & Adapters  Fire Kids Edition Tablet, 7 Display, Wi-Fi, 16...   \n",
       "\n",
       "    reviews.rating  \n",
       "7          62201.0  \n",
       "6          43195.0  \n",
       "19         40862.0  \n",
       "18         25108.0  \n",
       "20         23945.0  "
      ]
     },
     "execution_count": 19,
     "metadata": {},
     "output_type": "execute_result"
    }
   ],
   "source": [
    "# load product score dataset\n",
    "data_scored = helpers.load_pickled_dataset('pickle/data_scored.pkl')\n",
    "\n",
    "data_scored.head()"
   ]
  },
  {
   "cell_type": "code",
   "execution_count": 42,
   "metadata": {},
   "outputs": [
    {
     "name": "stdout",
     "output_type": "stream",
     "text": [
      "<class 'list'>\n",
      "Accessories & Adapters\n",
      "Electronics & Media\n",
      "Home & Smart Devices\n",
      "Pet Supplies\n",
      "Tablets & eReaders\n",
      "Video & Streaming\n"
     ]
    }
   ],
   "source": [
    "# print unique categories\n",
    "category_names = list(data_scored['clusterCategories'].unique())\n",
    "\n",
    "for cat in category_names:\n",
    "    print(cat)"
   ]
  },
  {
   "cell_type": "code",
   "execution_count": 21,
   "metadata": {},
   "outputs": [],
   "source": [
    "# let's use one category for the following analysis\n",
    "category_name = 'Tablets & eReaders'"
   ]
  },
  {
   "cell_type": "code",
   "execution_count": 50,
   "metadata": {},
   "outputs": [
    {
     "data": {
      "text/html": [
       "<div>\n",
       "<style scoped>\n",
       "    .dataframe tbody tr th:only-of-type {\n",
       "        vertical-align: middle;\n",
       "    }\n",
       "\n",
       "    .dataframe tbody tr th {\n",
       "        vertical-align: top;\n",
       "    }\n",
       "\n",
       "    .dataframe thead th {\n",
       "        text-align: right;\n",
       "    }\n",
       "</style>\n",
       "<table border=\"1\" class=\"dataframe\">\n",
       "  <thead>\n",
       "    <tr style=\"text-align: right;\">\n",
       "      <th></th>\n",
       "      <th>clusterCategories</th>\n",
       "      <th>name</th>\n",
       "      <th>reviews.rating</th>\n",
       "    </tr>\n",
       "  </thead>\n",
       "  <tbody>\n",
       "    <tr>\n",
       "      <th>132</th>\n",
       "      <td>Tablets &amp; eReaders</td>\n",
       "      <td>Echo (White),,,\\r\\nEcho (White),,,</td>\n",
       "      <td>13557.0</td>\n",
       "    </tr>\n",
       "    <tr>\n",
       "      <th>122</th>\n",
       "      <td>Tablets &amp; eReaders</td>\n",
       "      <td>Amazon Fire Tv,,,\\r\\nAmazon Fire Tv,,,</td>\n",
       "      <td>11791.0</td>\n",
       "    </tr>\n",
       "    <tr>\n",
       "      <th>117</th>\n",
       "      <td>Tablets &amp; eReaders</td>\n",
       "      <td>Amazon Echo Show Alexa-enabled Bluetooth Speak...</td>\n",
       "      <td>6490.0</td>\n",
       "    </tr>\n",
       "  </tbody>\n",
       "</table>\n",
       "</div>"
      ],
      "text/plain": [
       "      clusterCategories                                               name  \\\n",
       "132  Tablets & eReaders                 Echo (White),,,\\r\\nEcho (White),,,   \n",
       "122  Tablets & eReaders             Amazon Fire Tv,,,\\r\\nAmazon Fire Tv,,,   \n",
       "117  Tablets & eReaders  Amazon Echo Show Alexa-enabled Bluetooth Speak...   \n",
       "\n",
       "     reviews.rating  \n",
       "132         13557.0  \n",
       "122         11791.0  \n",
       "117          6490.0  "
      ]
     },
     "execution_count": 50,
     "metadata": {},
     "output_type": "execute_result"
    }
   ],
   "source": [
    "# Select the top 3 products per category\n",
    "def best_products_per_category(data, category_name, top_n=3):\n",
    "    # subset the category\n",
    "    category_subset = data[data['clusterCategories'] == category_name]\n",
    "    # select the top n products\n",
    "    return category_subset.head(top_n)\n",
    "\n",
    "best_products_per_category(data_scored, category_name)\n"
   ]
  },
  {
   "cell_type": "code",
   "execution_count": 23,
   "metadata": {},
   "outputs": [
    {
     "name": "stdout",
     "output_type": "stream",
     "text": [
      "ACCESSORIES & ADAPTERS:\n",
      "  - AmazonBasics AAA Performance Alkaline Batteries (36 Count)\n",
      "  - AmazonBasics AA Performance Alkaline Batteries (48 Count) - Packaging May Vary\n",
      "  - Fire Kids Edition Tablet, 7 Display, Wi-Fi, 16 GB, Green Kid-Proof Case\n",
      "----------------------------------------------------------------------------------------------------\n",
      "ELECTRONICS & MEDIA:\n",
      "  - Amazon Kindle Paperwhite - eBook reader - 4 GB - 6 monochrome Paperwhite - touchscreen - Wi-Fi - black,,,\n",
      "  - Kindle Voyage E-reader, 6 High-Resolution Display (300 ppi) with Adaptive Built-in Light, PagePress Sensors, Wi-Fi - Includes Special Offers\n",
      "  - Kindle Voyage E-reader, 6 High-Resolution Display (300 ppi) with Adaptive Built-in Light, PagePress Sensors, Wi-Fi - Includes Special Offers,\n",
      "----------------------------------------------------------------------------------------------------\n",
      "HOME & SMART DEVICES:\n",
      "  - Fire Kids Edition Tablet, 7 Display, Wi-Fi, 16 GB, Green Kid-Proof Case\n",
      "  - All-New Fire HD 8 Tablet, 8 HD Display, Wi-Fi, 16 GB - Includes Special Offers, Magenta\n",
      "  - Fire HD 8 Tablet with Alexa, 8 HD Display, 16 GB, Tangerine - with Special Offers\n",
      "----------------------------------------------------------------------------------------------------\n",
      "PET SUPPLIES:\n",
      "  - Cat Litter Box Covered Tray Kitten Extra Large Enclosed Hooded Hidden Toilet\n",
      "  - AmazonBasics Double-Door Folding Metal Dog Crate - Medium (36x23x25 Inches)\n",
      "  - AmazonBasics Single-Door Folding Metal Dog Crate - Large (42x28x30 Inches)\n",
      "----------------------------------------------------------------------------------------------------\n",
      "TABLETS & EREADERS:\n",
      "  - Echo (White),,,\n",
      "Echo (White),,,\n",
      "  - Amazon Fire Tv,,,\n",
      "Amazon Fire Tv,,,\n",
      "  - Amazon Echo Show Alexa-enabled Bluetooth Speaker with 7\" Screen\n",
      "----------------------------------------------------------------------------------------------------\n",
      "VIDEO & STREAMING:\n",
      "  - Echo (White),,,\n",
      "Echo (White),,,\n",
      "  - Certified Refurbished Amazon Fire TV with Alexa Voice Remote\n",
      "  - Fire TV Stick Streaming Media Player Pair Kit\n",
      "----------------------------------------------------------------------------------------------------\n"
     ]
    }
   ],
   "source": [
    "# store the top 3 products for each category into a dict\n",
    "top_products = {}\n",
    "for cat in category_names:\n",
    "    top_products[cat] = best_products_per_category(data_scored, cat, 3)['name'].tolist()\n",
    "\n",
    "for k, v in top_products.items():\n",
    "    print(f\"{k.upper()}:\")\n",
    "    for product in v:\n",
    "        print(f\"  - {product}\")\n",
    "    print(SEP)\n"
   ]
  },
  {
   "cell_type": "markdown",
   "metadata": {},
   "source": [
    "### Extract n reviews for each product (positive, neutral and negative)"
   ]
  },
  {
   "cell_type": "code",
   "execution_count": 24,
   "metadata": {},
   "outputs": [
    {
     "name": "stdout",
     "output_type": "stream",
     "text": [
      "----------------------------------------------------------------------------------------------------\n",
      "CATEGORY: Tablets & eReaders\n",
      "----------------------------------------------------------------------------------------------------\n",
      "PRODUCT: Echo (White),,,\n",
      "Echo (White),,,\n",
      "\n",
      "POSITIVE REVIEWS:\n",
      "  - great organizer i love alexa. she keeps a shopping list for me, schedules appointments plus plays my favorite tunes! and so easy to work with. a must in every home. i recommend this product.\n",
      "  - very smart i love my echo. i use it everyday. i recommend it. i recommend this product.\n",
      "  - cool purchase doesn't really answer my questions but can set timers and tell me the weather i recommend this product.\n",
      "  - love the echo we have it set up in the kitchen. mainly use it to play music and give us the weather forecast. she really is amaxing at answering general questions i recommend this product.\n",
      "  - great product i purchased the ecco as an addition to my home automation. works great. the wife and kids love it. i recommend this product.\n",
      "  - one of great devices from amazon very good deal when i bought it, even better pricing than from amazon itself i recommend this product.\n",
      "  - this amazon echo is great and every day i discover new things that she can do. i recommend this product.\n",
      "  - the echo is a great and useful gadget out of the box, was easy to setup and configure. very user friendly and integrates in my home nicely i recommend this product.\n",
      "\n",
      "NEUTRAL REVIEWS:\n",
      "  - fun little gadget took awhile to get it all setup. after getting it all setup it was fun to play with for awhile than it was just okay. have to get the wording just right to listen to radio stations or it tells you can't find it or plays something totally different. i recommend this product.\n",
      "  - complicating i love my device but wish there was more of a descriptive summary of how to get music stations and as well as other features. i've learned most by just coming upon things. needs better operating instructions i don't recommend this product.\n",
      "  - limited options i feel like it plays the same playlist every time. i recommend this product.\n",
      "  - functionality echo was easy to set up. speaker is not as good as the google home. both the nest thermostat and the inseon hub seem to be working okay with the echo.3 stars because i have not used all the functions yet. i recommend this product.\n",
      "  - amazing for music but terrible for information. alexa works great for listening to spotifly (only if you have premium) and very basic information (time, weather). she has a tough time answering questions. this is not a google machine. she consistently would not understand simple questions. the volume is very loud and can be adjusted manually or through voice. she also can learn skills which some are hit and miss. i'd still recommend this product if you have a smart home (smart outlets, locks) or if you have spotifly premium. i recommend this product.\n",
      "\n",
      "NEGATIVE REVIEWS:\n",
      "  - good functioal product great servive best buy and the price match is great i used it both at best buy\n",
      "  - its not recognizing lot of sentences.lot toimprove product was damaged. needs lot of improvement on the api's. i don't recommend this product.\n",
      "----------------------------------------------------------------------------------------------------\n",
      "PRODUCT: Amazon Fire Tv,,,\n",
      "Amazon Fire Tv,,,\n",
      "\n",
      "POSITIVE REVIEWS:\n",
      "  - it worked fine, was a lot of fun, but had to return it - no complaints about product or best buy. i recommend this product.\n",
      "  - fun to talk to alexa is a helpful tool to use everyday. she gets better the more skills you have her learn. i recommend this product.\n",
      "  - so smart i like the ease of this electronic. she helps me everyday i recommend this product.\n",
      "  - own 1, bought 2 more as gifts infinitely useful. we use it most to explore amazon's vasr music library i recommend this product.\n",
      "  - great music player if you have amazon prime. fun for the whole family. alexia tells funny jokes for kids, answers questions on almost every subject and provides lots of musical choices. i recommend this product.\n",
      "  - finally a woman that does not talk back unbelievable sound from a single source. now i can simply say what music i want, the volumne and timer are a great feature. she reads to me and answers most questions. she even tells worse jokes than me. this has enhanced my bleek life. i can turn on lights and tv when i couldn't before. it gives me freedom over my environment. i recommend this product.\n",
      "  - great awesome speaker and home automation control. very recommended. i recommend this product.\n",
      "  - hopefully more experience will helpl i'm not sure who needs more experience.alexa or me. after one month, the echo has been a little fickle. at times it's providing excellent service in answering questions, and there's other times that it doesn't understand the question. maybe it's how we're are asking or it's not programmed to be intelligent enough. more time will tell. all in all, we're having fun with alexa. i recommend this product.\n",
      "\n",
      "NEUTRAL REVIEWS:\n",
      "  - i think i should bought the google home the eco is great if your a lists person or want to order pizza. yes it can control lights and locks but it doesn't support my remote lights i have now. the eco just can't answer technical home work questions like the google can i recommend this product.\n",
      "  - technology luxury need to explain all required' hookups' to less non technical elderly people for sure. i recommend this product.\n",
      "  - great for only certain things if you enjoy music do not buy, you cannot send a bluetooth signal out to an external speaker. she is not as smart as siri and answers basic basic questions. i deal with it because i bought the wemo fixtures for lights and switches and she works fine with those. i would recommend the echo dot if you would like to make her louder or like music loud i don't recommend this product.\n",
      "  - not quite what i was expecting i was very interested in the echo and respective echo dot based on potential functionality. while there are some good qualities, the overall voice automation and functionality haven't lived up to the hype yet. pros: sound quality for music is fantastic, kids enjoy asking alexa questions, overall family fun. cons: even after a full month of learning my voice, alexa continues to frequently answer \"i don't know what you are asking\", at random times, alexa will start talking without any prompt, setting up additional controllable items and syncing are not as easy as amazon would have you believe, and worst experience.every time an amazon echo commercial comes on tv to promote the product, my alexa replies to the tv commercial as if it were me saying \"alexa.\" i don't recommend this product.\n",
      "  - amazon echo bought this to see the difference from google's product. was not happy, google was more responsive and easier to use. returned product 2 days later! i don't recommend this product.\n",
      "\n",
      "NEGATIVE REVIEWS:\n",
      "  - not very happy doesn't understand anything i ask and not very good at answering questions.i am extremely disappointed. i don't recommend this product.\n",
      "  - not for me returned it. didn't work like we thought it was so supposed to. pain on the butt. i don't recommend this product.\n",
      "----------------------------------------------------------------------------------------------------\n",
      "PRODUCT: Amazon Echo Show Alexa-enabled Bluetooth Speaker with 7\" Screen\n",
      "\n",
      "POSITIVE REVIEWS:\n",
      "  - this is pretty cool, we love ours, we listen to music and the sound is great, my kids are always asking her questions, we can call on it, set reminers, timers and alarms for us it was worth the price but one thing i dont like is that it nickles and dimes you, like even though i have a prime membership, all music is not available , i had to pay to upgrade to be able to listen to everything and it doesnt stop there, even though i upgraded it ,if you purchased the dots not everyone can play music at the same time, to do that youll have to pay to upgrade again. but even so i dont regret this purchase and the whole family enjoys it. i recommend this product.\n",
      "  - echo show is fun to use.i the echo show does so much,the music line up is good,it can do anything. i recommend this product.\n",
      "  - bought two of these. love them and so do the kids we bought two of these for the kids. they love them and i now have an echo dot i recommend this product.\n",
      "  - amazon echo show i love my echo show. screen is so clear and sound is so high quality. i recommend this product.\n",
      "  - amazon echo show very easy to set up and use. really like the screen to view the items searched for, and to read information about the searched item. i recommend this product.\n",
      "  - worth the extra bucks first bought the dot to see if we liked it. we enjoyed it, but wanted a little more volume. when i saw that the show was much louder and had the camera we decided it was the right choice. now we have the dot in the bedroom and the show in the living room. for larger rooms the show is a great choice. i recommend this product.\n",
      "  - great product! we use this as a monitor for the amazon cloud camera! works great we tell it to show us the camera ,and boom, there‚äôs the video feed. super easy to link our echo plus and the echo dot with the show!! i recommend this product.\n",
      "  - phone calling we really like that when you call someone you can facetime with them! i recommend this product.\n",
      "\n",
      "NEUTRAL REVIEWS:\n",
      "  - ok, if you need it. requires too many components. cameras, etc. stick with basics (in my opinion). i don't recommend this product.\n",
      "  - just an average alexa option. does show a few things on screen but still limited. i don't recommend this product.\n",
      "  - echo show is easy to set up. i got this to work with my arlo pro camera, and it works well. i am able to have my camera for driveway and front door come up on command. i hate that i cannot get my samsung tv to come on with a verbal request. i guess i will have to buy the plug for it. this was very easy to set up. downloaded the app, and plugged it in, viola it walks you through the setup. i recommend this product.\n",
      "  - works well -but the echo show works well, but at this time it cannot connect to youtube. maybe when amazon wakes up the connection will be returned. i recommend this product.\n",
      "  - not many features the echo show feels useless after a few hours, especially without the ability to watch youtube. i don't recommend this product.\n",
      "\n",
      "NEGATIVE REVIEWS:\n",
      "  - always on not sure will be keeping this. worried about hacks that allow active mic. i don't recommend this product.\n",
      "  - needs to be a stand alone device. i should have not required to use a tablet of cell phone to make it work. amazon needs to work on the technology on device. i don't recommend this product.\n",
      "----------------------------------------------------------------------------------------------------\n"
     ]
    }
   ],
   "source": [
    "# create a function that returns a random review from a subset\n",
    "def get_random_review(subset, min_word_count=10):\n",
    "    while True:\n",
    "        new_review = subset['review'].sample(random_state=random.randint(1, len(subset['review']))).values[0]\n",
    "        if len(new_review.split()) >= min_word_count:\n",
    "            return new_review\n",
    "\n",
    "# create a function that return a review for a given product in the desired category and sentiment\n",
    "def get_product_reviews(data, name, category, sentiment, n=1):\n",
    "    # subset the data\n",
    "    subset = data[(data['name'] == name) & (data['clusterCategories'] == category) & (data['reviews.sentiment'] == sentiment)]\n",
    "    # get random reviews\n",
    "    reviews = []\n",
    "    while len(reviews) < n:\n",
    "        new_review = get_random_review(subset)\n",
    "        # remove line breaks (forgotten in preprocessing)\n",
    "        new_review = new_review.replace('\\n', ' ')\n",
    "        # remove multiple dots\n",
    "        new_review = re.sub(r'\\.{2,}', '.', new_review)\n",
    "        # remove multiple spaces\n",
    "        new_review = re.sub(r'\\s{2,}', ' ', new_review)\n",
    "        # lowercase letters\n",
    "        new_review = new_review.lower()\n",
    "        # append to list if not already in\n",
    "        if new_review not in reviews:\n",
    "            reviews.append(new_review)\n",
    "    return reviews\n",
    "\n",
    "product_name = top_products[category_name][0]\n",
    "# n_reviews = 10\n",
    "category_products = []\n",
    "\n",
    "for product_name in top_products[category_name]:\n",
    "    product_dict = {}\n",
    "    product_dict['name'] = product_name\n",
    "    product_dict['positive_reviews'] = get_product_reviews(data, product_name, category_name, 'positive', 8)\n",
    "    product_dict['neutral_reviews'] = get_product_reviews(data, product_name, category_name, 'neutral', 5)\n",
    "    product_dict['negative_reviews'] = get_product_reviews(data, product_name, category_name, 'negative', 2)\n",
    "    category_products.append(product_dict)\n",
    "\n",
    "print(SEP)\n",
    "print('CATEGORY:', category_name)\n",
    "print(SEP)\n",
    "for product in category_products:\n",
    "    print(f\"PRODUCT: {product['name']}\")\n",
    "    print()\n",
    "    print(\"POSITIVE REVIEWS:\")\n",
    "    for review in product['positive_reviews']:\n",
    "        print(f\"  - {review}\")\n",
    "    print()\n",
    "    print(\"NEUTRAL REVIEWS:\")\n",
    "    for review in product['neutral_reviews']:\n",
    "        print(f\"  - {review}\")\n",
    "    print()\n",
    "    print(\"NEGATIVE REVIEWS:\")\n",
    "    for review in product['negative_reviews']:\n",
    "        print(f\"  - {review}\")\n",
    "    print(SEP)"
   ]
  },
  {
   "cell_type": "markdown",
   "metadata": {},
   "source": [
    "Perfect, now we have everything we need to input into our model."
   ]
  },
  {
   "cell_type": "markdown",
   "metadata": {},
   "source": [
    "### Try the pros and cons prompt with more reviews"
   ]
  },
  {
   "cell_type": "code",
   "execution_count": 25,
   "metadata": {},
   "outputs": [
    {
     "name": "stdout",
     "output_type": "stream",
     "text": [
      "[Review 1]: Echo functionality is easy to set up, but speaker quality is not as good as Google Home. Nest thermostat and Inseon hub work well.\n",
      "No review summary found.\n",
      "[Review 2]: \n",
      "[Review 3]: Great addition to home automation, wife and kids love it, recommend.\n",
      "[Review 4]: Great organizer with Alexa, keeps shopping list, schedules appointments, plays music, and is easy to work with. Recommended for every home.\n",
      "[Review 5]: Cool purchase, but doesn't answer questions and can set timers and tell weather.\n",
      "[Review 6]: Very smart and recommended product.\n",
      "[Review 7]: Great device from Amazon, even better pricing than from Amazon itself. Recommended.\n",
      "[Review 8]: Good device but poor operating instructions, and I don't recommend it.\n",
      "[Review 9]: Not recognizing sentences, damaged product, needs improvement on the api's, don't recommend.\n",
      "[Review 10]: Good functional product, great service, and price match at Best Buy.\n",
      "[Review 11]: Limited options and repetitive playlist, but overall a good product.\n",
      "[Review 12]: Amazing at answering general questions and playing music, but not as good at weather forecasts.\n",
      "[Review 13]: Fun to play with at first, but setup is time-consuming, and the radio station search can be finicky.\n",
      "[Review 14]: Easy to setup and configure, user friendly, and integrates in my home nicely.\n",
      "[Review 15]: Amazon echo is great and every day i discover new things that she can do. i recommend this product.\n",
      "Reviews pickled to pickle/reviews.pkl.\n"
     ]
    }
   ],
   "source": [
    "# load pickled reviews if available\n",
    "pickled_reviews_path = f\"pickle/reviews.pkl\"\n",
    "\n",
    "if os.path.exists(pickled_reviews_path):\n",
    "    review_text = helpers.load_pickled_reviews(pickled_reviews_path)\n",
    "    print(review_text)\n",
    "else:\n",
    "    # load reviews\n",
    "    category_name = 'Tablets & eReaders'  # let's try with a category\n",
    "    product_name = category_products[0]['name']  # let's try with the first product\n",
    "    positive_reviews = category_products[0]['positive_reviews']  # get the positive reviews\n",
    "    neutral_reviews = category_products[0]['neutral_reviews']  # get the neutral reviews\n",
    "    negative_reviews = category_products[0]['negative_reviews']  # get the negative reviews\n",
    "    \n",
    "    # merge the reviews and shuffle them to avoid any bias\n",
    "    all_reviews = positive_reviews + neutral_reviews + negative_reviews\n",
    "    random.shuffle(all_reviews)\n",
    "\n",
    "    # build our review text\n",
    "    review_text = \"\"\n",
    "    for i, review in enumerate(all_reviews):\n",
    "        # summarize review\n",
    "        prompt = prompt_review_summary.format(review_text=review)\n",
    "        review_summary = f\"[Review {i+1}]: {generate_review_summary(prompt)}\"\n",
    "        print(review_summary)\n",
    "        review_text += review_summary + '\\n'\n",
    "\n",
    "    # pickle the review text\n",
    "    helpers.pickle_list_reviews(review_text, pickled_reviews_path)"
   ]
  },
  {
   "cell_type": "code",
   "execution_count": 26,
   "metadata": {},
   "outputs": [
    {
     "name": "stdout",
     "output_type": "stream",
     "text": [
      "\n",
      "Analyze the following list of product reviews. Identify the 3 most frequently mentioned positive aspects (pros) and 3 most frequently mentioned negative aspects (cons) across all reviews.\n",
      "Store them in a json output.\n",
      "\n",
      "### Reviews:\n",
      "[Review 1]: Echo functionality is easy to set up, but speaker quality is not as good as Google Home. Nest thermostat and Inseon hub work well.\n",
      "[Review 2]: \n",
      "[Review 3]: Great addition to home automation, wife and kids love it, recommend.\n",
      "[Review 4]: Great organizer with Alexa, keeps shopping list, schedules appointments, plays music, and is easy to work with. Recommended for every home.\n",
      "[Review 5]: Cool purchase, but doesn't answer questions and can set timers and tell weather.\n",
      "[Review 6]: Very smart and recommended product.\n",
      "[Review 7]: Great device from Amazon, even better pricing than from Amazon itself. Recommended.\n",
      "[Review 8]: Good device but poor operating instructions, and I don't recommend it.\n",
      "[Review 9]: Not recognizing sentences, damaged product, needs improvement on the api's, don't recommend.\n",
      "[Review 10]: Good functional product, great service, and price match at Best Buy.\n",
      "[Review 11]: Limited options and repetitive playlist, but overall a good product.\n",
      "[Review 12]: Amazing at answering general questions and playing music, but not as good at weather forecasts.\n",
      "[Review 13]: Fun to play with at first, but setup is time-consuming, and the radio station search can be finicky.\n",
      "[Review 14]: Easy to setup and configure, user friendly, and integrates in my home nicely.\n",
      "[Review 15]: Amazon echo is great and every day i discover new things that she can do. i recommend this product.\n",
      "\n",
      "\n",
      "### JSON Output:\n",
      "\n",
      "```\n",
      "{\n",
      "  \"pros\": [\n",
      "    \"Echo functionality is easy to set up\",\n",
      "    \"Great addition to home automation\",\n",
      "    \"Great organizer with Alexa\",\n",
      "    \"Great device from Amazon\",\n",
      "    \"Great device but poor operating instructions\",\n",
      "    \"Great functional product\",\n",
      "    \"Great device but poor operating instructions\",\n",
      "    \"Great device but poor operating instructions\",\n",
      "    \"Great device but poor operating instructions\",\n",
      "    \"Great device but poor operating instructions\",\n",
      "    \"Great device but poor operating instructions\",\n",
      "    \"Great device but poor operating instructions\",\n",
      "    \"Great device but poor operating instructions\",\n",
      "    \"Great device but poor operating instructions\",\n",
      "    \"Great device but poor operating instructions\",\n",
      "    \"Great device but poor operating instructions\",\n",
      "    \"Great device but poor operating instructions\",\n",
      "    \"Great device but poor operating instructions\",\n",
      "    \"Great device but poor operating instructions\",\n",
      "\n"
     ]
    }
   ],
   "source": [
    "# infer model using pros and cons prompt\n",
    "prompt = prompt_review_pros_cons.format(review_text=review_text)\n",
    "result = run_inference_on_model(prompt, max_tokens=200)\n",
    "print(result)"
   ]
  },
  {
   "cell_type": "code",
   "execution_count": 34,
   "metadata": {},
   "outputs": [
    {
     "name": "stdout",
     "output_type": "stream",
     "text": [
      "Reviews loaded from pickle/reviews.pkl.\n",
      "<class 'str'>\n",
      "\n",
      "Analyze the following list of product reviews. Provide a concise summary of the three most frequently mentioned ideas or themes. Ensure each point reflects common feedback without repeating phrasing.\n",
      "\n",
      "### Reviews:\n",
      "[Review 1]: \"The camera quality is amazing and takes very clear photos, even in low light.\"\n",
      "[Review 2]: \"Battery life could be better; it drains faster than my previous phone.\"\n",
      "[Review 3]: \"I’m impressed with the screen clarity and brightness, but the battery doesn’t last very long.\"\n",
      "[Review 4]: \"The photos are sharp and vibrant, especially in daylight.\"\n",
      "[Review 5]: \"Battery life is a bit disappointing, but the display is excellent and great for watching videos.\"\n",
      "\n",
      "### Recurring Ideas:\n",
      "1. The camera quality is highly praised, especially for clear and vibrant photos in various lighting.\n",
      "2. The display quality is appreciated for its clarity and brightness, making it ideal for media.\n",
      "3. Battery life is a common complaint, with users noting that it drains quickly.\n",
      "\n",
      "### Reviews:\n",
      "[Review 1]: \"The sound quality on these headphones is outstanding, with deep bass and clear highs.\"\n",
      "[Review 2]: \"They’re comfortable to wear for long hours, but I wish they blocked out noise better.\"\n",
      "[Review 3]: \"Amazing audio clarity, but they don’t fully cancel out background sounds.\"\n",
      "[Review 4]: \"Great sound quality for the price, but I can still hear some outside noise.\"\n",
      "[Review 5]: \"Comfortable fit and good audio, but not ideal for noisy environments.\"\n",
      "\n",
      "### Recurring Ideas:\n",
      "1. Sound quality is praised for its clarity and depth, especially given the price.\n",
      "2. Comfort is a major positive, with users finding them suitable for extended wear.\n",
      "3. Noise cancellation is lacking, with multiple reviews mentioning that they allow outside noise.\n",
      "\n",
      "### Reviews:\n",
      "[Review 1]: Echo functionality is easy to set up, but speaker quality is not as good as Google Home. Nest thermostat and Inseon hub work well.\n",
      "[Review 2]: \n",
      "[Review 3]: Great addition to home automation, wife and kids love it, recommend.\n",
      "[Review 4]: Great organizer with Alexa, keeps shopping list, schedules appointments, plays music, and is easy to work with. Recommended for every home.\n",
      "[Review 5]: Cool purchase, but doesn't answer questions and can set timers and tell weather.\n",
      "[Review 6]: Very smart and recommended product.\n",
      "[Review 7]: Great device from Amazon, even better pricing than from Amazon itself. Recommended.\n",
      "[Review 8]: Good device but poor operating instructions, and I don't recommend it.\n",
      "[Review 9]: Not recognizing sentences, damaged product, needs improvement on the api's, don't recommend.\n",
      "[Review 10]: Good functional product, great service, and price match at Best Buy.\n",
      "[Review 11]: Limited options and repetitive playlist, but overall a good product.\n",
      "[Review 12]: Amazing at answering general questions and playing music, but not as good at weather forecasts.\n",
      "[Review 13]: Fun to play with at first, but setup is time-consuming, and the radio station search can be finicky.\n",
      "[Review 14]: Easy to setup and configure, user friendly, and integrates in my home nicely.\n",
      "[Review 15]: Amazon echo is great and every day i discover new things that she can do. i recommend this product.\n",
      "\n",
      "\n",
      "### Recurring Ideas:\n",
      "1. Echo functionality is praised for its ease of setup and integration with other smart home devices.\n",
      "2. Sound quality is a mixed bag, with some users finding it lacking compared to Google Home.\n",
      "3. Noise cancellation is a recurring theme, with multiple reviews mentioning that it doesn't fully block out background sounds.\n",
      "4. Comfort is a positive, with users finding them suitable for extended wear.\n",
      "5. Battery life is a common complaint, with users noting that it drains quickly.\n",
      "6. Sound quality is praised for its clarity and depth, especially given the price.\n",
      "7. Comfort is a major positive, with users finding them suitable for extended wear.\n",
      "8. Noise cancellation\n"
     ]
    }
   ],
   "source": [
    "# Infer model using the recurring ideas prompt\n",
    "review_text = helpers.load_pickled_reviews(pickled_reviews_path)\n",
    "\n",
    "prompt = prompt_reviews_recurring_ideas.format(review_text=review_text)\n",
    "\n",
    "result = run_inference_on_model(prompt, max_tokens=150)\n",
    "\n",
    "print(result)"
   ]
  },
  {
   "cell_type": "markdown",
   "metadata": {},
   "source": [
    "### Conclusion\n",
    "Using key ideas seems to give us better results:\n",
    "- Less repetitions\n",
    "- Less contradictions\n",
    "- Better generalisation of ideas\n",
    "\n",
    "The max_tokens length is very important, if too long the model starts repeating itself or hallucinating"
   ]
  },
  {
   "cell_type": "code",
   "execution_count": 28,
   "metadata": {},
   "outputs": [
    {
     "name": "stdout",
     "output_type": "stream",
     "text": [
      "Echo functionality is praised for its ease of setup and integration with other smart home devices.\n",
      "Sound quality is a mixed bag, with some users finding it lacking compared to Google Home.\n",
      "Noise cancellation is a recurring theme, with multiple reviews mentioning that it doesn't fully block out background sounds.\n",
      "Comfort is a positive, with users finding them suitable for extended wear.\n",
      "Battery life is a common complaint, with users noting that it drains quickly.\n",
      "Sound quality is praised for its clarity and depth, especially given the price.\n",
      "Comfort is a major positive, with users finding them suitable for extended wear.\n"
     ]
    }
   ],
   "source": [
    "# extract recurring ideas\n",
    "recurrent_ideas = result.split('### Recurring Ideas:\\n')[-1].split('\\n')\n",
    "# remove the last one in case it's incomplete\n",
    "recurrent_ideas = recurrent_ideas[:-1]\n",
    "# remove the numbers\n",
    "recurrent_ideas = [ideas[3:] for ideas in recurrent_ideas]\n",
    "\n",
    "for idea in recurrent_ideas:\n",
    "    print(idea)"
   ]
  },
  {
   "cell_type": "markdown",
   "metadata": {},
   "source": [
    "## Prompt 3: Write the product review\n",
    "In this prompt we input the recurring ideas and generate a product review"
   ]
  },
  {
   "cell_type": "code",
   "execution_count": 31,
   "metadata": {},
   "outputs": [
    {
     "name": "stdout",
     "output_type": "stream",
     "text": [
      "\n",
      "Write a positive product title and review from these recurring ideas, that presents the product, highlights its pros, and subtly mentions a few minor downsides reported by some users. \n",
      "\n",
      "### Product Name:\n",
      "Experience V2 Smartphone\n",
      "\n",
      "### Review recurring ideas:\n",
      "Screen quality is highly praised, with users noting its vibrant colors and sharp resolution.\n",
      "Battery life is frequently mentioned, with users appreciating its ability to last through a full day of use.\n",
      "Build quality is a recurring theme, with users complimenting its sturdy and premium design.\n",
      "Camera performance is noted, with users enjoying clear, high-quality photos, especially in good lighting.\n",
      "Price is occasionally mentioned, with some users feeling it’s slightly high for the features offered.\n",
      "\n",
      "### Product title and review:\n",
      "Reliable smartphone with vibrant display, long-lasting Battery, and premium build quality\n",
      "The product has received impressive feedback from users, especially for its vibrant and sharp screen quality. The colors are rich and bring media content to life, making it ideal for streaming and everyday use. Another standout feature is the long-lasting battery life, which comfortably supports a full day of usage without the need for frequent recharging—a major plus for users on the go.\n",
      "Additionally, the premium build quality gives the device a sturdy, high-end feel, with many appreciating its sleek design and solid construction. The camera has also been a popular highlight, capturing clear and vivid photos, particularly in well-lit conditions.\n",
      "Though generally well-regarded, some users noted that the price might feel slightly high relative to other models. However, with its reliable performance and standout features, this product offers substantial value and has been positively received overall.\n",
      "\n",
      "### Product Name:\n",
      "Echo Blutooth Speaker\n",
      "\n",
      "### Review recurring ideas:\n",
      "Echo functionality is praised for its ease of setup and integration with other smart home devices.\n",
      "Sound quality is a mixed bag, with some users finding it lacking compared to Google Home.\n",
      "Noise cancellation is a recurring theme, with multiple reviews mentioning that it doesn't fully block out background sounds.\n",
      "Comfort is a positive, with users finding them suitable for extended wear.\n",
      "Battery life is a common complaint, with users noting that it drains quickly.\n",
      "Sound quality is praised for its clarity and depth, especially given the price.\n",
      "Comfort is a major positive, with users finding them suitable for extended wear.\n",
      "\n",
      "### Product title and review:\n",
      "Echo Bluetooth Speaker: A solid choice for smart home integration and sound quality\n",
      "The Echo Bluetooth Speaker has received positive feedback for its ease of setup and integration with other smart home devices. Users have found it easy to connect and control their smart home devices, making it a convenient addition to their home.\n",
      "While the sound quality is praised for its clarity and depth, some users have noted that it doesn't quite match up to the Google Home in terms of overall sound quality\n"
     ]
    }
   ],
   "source": [
    "prompt_final_product_review = \"\"\"\n",
    "Write a positive product title and review from these recurring ideas, that presents the product, highlights its pros, and subtly mentions a few minor downsides reported by some users. \n",
    "\n",
    "### Product Name:\n",
    "Experience V2 Smartphone\n",
    "\n",
    "### Review recurring ideas:\n",
    "Screen quality is highly praised, with users noting its vibrant colors and sharp resolution.\n",
    "Battery life is frequently mentioned, with users appreciating its ability to last through a full day of use.\n",
    "Build quality is a recurring theme, with users complimenting its sturdy and premium design.\n",
    "Camera performance is noted, with users enjoying clear, high-quality photos, especially in good lighting.\n",
    "Price is occasionally mentioned, with some users feeling it’s slightly high for the features offered.\n",
    "\n",
    "### Product title and review:\n",
    "Reliable smartphone with vibrant display, long-lasting Battery, and premium build quality\n",
    "The product has received impressive feedback from users, especially for its vibrant and sharp screen quality. The colors are rich and bring media content to life, making it ideal for streaming and everyday use. Another standout feature is the long-lasting battery life, which comfortably supports a full day of usage without the need for frequent recharging—a major plus for users on the go.\n",
    "Additionally, the premium build quality gives the device a sturdy, high-end feel, with many appreciating its sleek design and solid construction. The camera has also been a popular highlight, capturing clear and vivid photos, particularly in well-lit conditions.\n",
    "Though generally well-regarded, some users noted that the price might feel slightly high relative to other models. However, with its reliable performance and standout features, this product offers substantial value and has been positively received overall.\n",
    "\n",
    "### Product Name:\n",
    "{product_name}\n",
    "\n",
    "### Review recurring ideas:\n",
    "{review_ideas}\n",
    "\n",
    "### Product title and review:\n",
    "\"\"\"\n",
    "\n",
    "review_ideas = \"\\n\".join(recurrent_ideas)\n",
    "\n",
    "product_name = \"Echo Blutooth Speaker\"\n",
    "prompt = prompt_final_product_review.format(product_name=product_name, review_ideas=review_ideas)\n",
    "review_text = run_inference_on_model(prompt, max_tokens=100)\n",
    "print(review_text)\n"
   ]
  },
  {
   "cell_type": "code",
   "execution_count": 32,
   "metadata": {},
   "outputs": [
    {
     "name": "stdout",
     "output_type": "stream",
     "text": [
      "Echo Bluetooth Speaker: A solid choice for smart home integration and sound quality\n",
      "\n",
      "The Echo Bluetooth Speaker has received positive feedback for its ease of setup and integration with other smart home devices. Users have found it easy to connect and control their smart home devices, making it a convenient addition to their home.\n"
     ]
    }
   ],
   "source": [
    "# extract the review\n",
    "final_review = review_text.split('### Product title and review:\\n')[-1]\n",
    "# split title and review\n",
    "title, review = final_review.split('\\n', 1)\n",
    "# remove line breaks\n",
    "review = review.replace('\\n', ' ')\n",
    "# remove last sentence from review if incomplete\n",
    "review = '.'.join(review.split('.')[:-1]) + '.'\n",
    "\n",
    "print(title)\n",
    "print()\n",
    "print(review)\n"
   ]
  },
  {
   "cell_type": "markdown",
   "metadata": {},
   "source": [
    "WE DID IT! YEAH MISTRAL AND YEAH ME! :)\n",
    "\n",
    "Now let's deploy this solution to a python script so we can run inference using our 3 prompts and generate a product review from a list of Amazon reviews."
   ]
  }
 ],
 "metadata": {
  "kernelspec": {
   "display_name": "Python 3 (ipykernel)",
   "language": "python",
   "name": "python3"
  }
 },
 "nbformat": 4,
 "nbformat_minor": 2
}
