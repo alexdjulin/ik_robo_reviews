{
 "cells": [
  {
   "cell_type": "markdown",
   "metadata": {},
   "source": [
    "# DEMO 2: Generate product review"
   ]
  },
  {
   "cell_type": "markdown",
   "metadata": {},
   "source": [
    "## Imports"
   ]
  },
  {
   "cell_type": "code",
   "execution_count": 21,
   "metadata": {},
   "outputs": [],
   "source": [
    "# load custom modules ------------------------------------------------------------------------------\n",
    "import os\n",
    "import importlib\n",
    "import helpers\n",
    "import prompting\n",
    "importlib.reload(helpers)\n",
    "importlib.reload(prompting)\n",
    "\n",
    "# suppress all warnings for the demo\n",
    "import warnings\n",
    "warnings.filterwarnings(\"ignore\")\n",
    "from transformers import logging\n",
    "logging.set_verbosity_error()\n",
    "os.environ[\"TOKENIZERS_PARALLELISM\"] = \"false\"\n",
    "\n",
    "\n",
    "# constants and paths ------------------------------------------------------------------------------\n",
    "SEP = 100 * '-'\n"
   ]
  },
  {
   "cell_type": "markdown",
   "metadata": {},
   "source": [
    "## Load model"
   ]
  },
  {
   "cell_type": "code",
   "execution_count": 3,
   "metadata": {},
   "outputs": [
    {
     "data": {
      "application/vnd.jupyter.widget-view+json": {
       "model_id": "662827fb87094663a8a5b15ac4b75fd9",
       "version_major": 2,
       "version_minor": 0
      },
      "text/plain": [
       "tokenizer_config.json:   0%|          | 0.00/137k [00:00<?, ?B/s]"
      ]
     },
     "metadata": {},
     "output_type": "display_data"
    },
    {
     "data": {
      "application/vnd.jupyter.widget-view+json": {
       "model_id": "89cf0f98960b4c6fa4b1833f9f487a0b",
       "version_major": 2,
       "version_minor": 0
      },
      "text/plain": [
       "tokenizer.model:   0%|          | 0.00/587k [00:00<?, ?B/s]"
      ]
     },
     "metadata": {},
     "output_type": "display_data"
    },
    {
     "data": {
      "application/vnd.jupyter.widget-view+json": {
       "model_id": "0681a57f8265481286baf26e46d85bbc",
       "version_major": 2,
       "version_minor": 0
      },
      "text/plain": [
       "special_tokens_map.json:   0%|          | 0.00/414 [00:00<?, ?B/s]"
      ]
     },
     "metadata": {},
     "output_type": "display_data"
    },
    {
     "data": {
      "application/vnd.jupyter.widget-view+json": {
       "model_id": "5a1088dddd5f4b6caf5edb96b7659bc8",
       "version_major": 2,
       "version_minor": 0
      },
      "text/plain": [
       "tokenizer.json:   0%|          | 0.00/1.96M [00:00<?, ?B/s]"
      ]
     },
     "metadata": {},
     "output_type": "display_data"
    },
    {
     "data": {
      "application/vnd.jupyter.widget-view+json": {
       "model_id": "3bc53e49f86442fba67473ed1819af1a",
       "version_major": 2,
       "version_minor": 0
      },
      "text/plain": [
       "config.json:   0%|          | 0.00/601 [00:00<?, ?B/s]"
      ]
     },
     "metadata": {},
     "output_type": "display_data"
    },
    {
     "data": {
      "application/vnd.jupyter.widget-view+json": {
       "model_id": "b81d00c517b841a785ad356ec8ae6415",
       "version_major": 2,
       "version_minor": 0
      },
      "text/plain": [
       "model.safetensors.index.json:   0%|          | 0.00/23.9k [00:00<?, ?B/s]"
      ]
     },
     "metadata": {},
     "output_type": "display_data"
    },
    {
     "data": {
      "application/vnd.jupyter.widget-view+json": {
       "model_id": "ea1b2bf1f87c447ca9a9b14849df9409",
       "version_major": 2,
       "version_minor": 0
      },
      "text/plain": [
       "Downloading shards:   0%|          | 0/3 [00:00<?, ?it/s]"
      ]
     },
     "metadata": {},
     "output_type": "display_data"
    },
    {
     "data": {
      "application/vnd.jupyter.widget-view+json": {
       "model_id": "65c694b5e911483ea5df9fbecbe2bf0a",
       "version_major": 2,
       "version_minor": 0
      },
      "text/plain": [
       "model-00001-of-00003.safetensors:   0%|          | 0.00/4.95G [00:00<?, ?B/s]"
      ]
     },
     "metadata": {},
     "output_type": "display_data"
    },
    {
     "data": {
      "application/vnd.jupyter.widget-view+json": {
       "model_id": "e52cd3182ed0428a8be849d4f79b5ae6",
       "version_major": 2,
       "version_minor": 0
      },
      "text/plain": [
       "model-00002-of-00003.safetensors:   0%|          | 0.00/5.00G [00:00<?, ?B/s]"
      ]
     },
     "metadata": {},
     "output_type": "display_data"
    },
    {
     "data": {
      "application/vnd.jupyter.widget-view+json": {
       "model_id": "a4866ac3f7804d25a2d9bd875c1d8033",
       "version_major": 2,
       "version_minor": 0
      },
      "text/plain": [
       "model-00003-of-00003.safetensors:   0%|          | 0.00/4.55G [00:00<?, ?B/s]"
      ]
     },
     "metadata": {},
     "output_type": "display_data"
    },
    {
     "data": {
      "application/vnd.jupyter.widget-view+json": {
       "model_id": "6643eb8785874febb49d8200076d3763",
       "version_major": 2,
       "version_minor": 0
      },
      "text/plain": [
       "Loading checkpoint shards:   0%|          | 0/3 [00:00<?, ?it/s]"
      ]
     },
     "metadata": {},
     "output_type": "display_data"
    },
    {
     "data": {
      "application/vnd.jupyter.widget-view+json": {
       "model_id": "b305836fe4cf4735ba568a5a4b8799b1",
       "version_major": 2,
       "version_minor": 0
      },
      "text/plain": [
       "generation_config.json:   0%|          | 0.00/116 [00:00<?, ?B/s]"
      ]
     },
     "metadata": {},
     "output_type": "display_data"
    }
   ],
   "source": [
    "# load HugginFace token to environment\n",
    "if not os.environ.get('HF_TOKEN'):\n",
    "    os.environ['HF_TOKEN'] = input('Enter API token for Hugging Face: ')\n",
    "else:\n",
    "    print('Hugging Face token already loaded to environment')\n",
    "\n",
    "# load the model and tokenizer\n",
    "model, tokenizer = prompting.load_model_and_tokenizer()\n"
   ]
  },
  {
   "cell_type": "markdown",
   "metadata": {},
   "source": [
    "## Review best product per category"
   ]
  },
  {
   "cell_type": "code",
   "execution_count": 28,
   "metadata": {},
   "outputs": [
    {
     "name": "stdout",
     "output_type": "stream",
     "text": [
      "----------------------------------------------------------------------------------------------------\n",
      "CATEGORY: Accessories & Adapters\n",
      "\n",
      "----------------------------------------------------------------------------------------------------\n",
      "TOP PRODUCT NAME: AmazonBasics AAA Performance Alkaline Batteries (36 Count)\n",
      "\n",
      "----------------------------------------------------------------------------------------------------\n",
      "INFERENCE 1 - SAMPLE OF PRODUCT REVIEWS:\n",
      "\n",
      "Reviews loaded from pickle/reviews_accessories_&_adapters.pkl.\n",
      "[Review 1]: Good price, but no final decision yet.\n",
      "[Review 2]: Great battery and reasonable price\n",
      "[Review 3]: Good batteries that work well in everything we have tried them in. They seem to hold up just as long as other brands of batteries do.\n",
      "[Review 4]: Great batteries on a budget.\n",
      "[Review 5]: Batteries come pre-wrapped in groups of four, which is inconvenient and bad for the environment.\n",
      "[Review 6]: Amazon batteries work great and have yet to have any issues.\n",
      "[Review 7]: Reliable and durable batteries that work great and never fail.\n",
      "[Review 8]: Works just as good and lasts just as long as the name brands.\n",
      "[Review 9]: Excellent delivery time, product description was accurate, and will shop again.\n",
      "[Review 10]: Exploded and leaked, poor quality, and need to return.\n",
      "[Review 11]: Good batteries that work just as well as the well-known brands.\n",
      "[Review 12]: Works just as good as name brands, but no summary provided.\n",
      "[Review 13]: Great product, but packaging could be improved.\n",
      "[Review 14]: Great batteries for a fair price.\n",
      "[Review 15]: Great battery life for most applications, comparable to Duracell.\n",
      "\n",
      "----------------------------------------------------------------------------------------------------\n",
      "INFERENCE 2 - RECURRING IDEAS:\n",
      "\n",
      "- Battery life is a common positive, with users finding them to work just as well as more expensive brands.\n",
      "- Price is a recurring positive, with users finding them to be a good value for the money.\n",
      "- Packaging is a recurring negative, with users finding it to be inconvenient and bad for the environment.\n",
      "\n",
      "----------------------------------------------------------------------------------------------------\n",
      "INFERENCE 3 - FINAL REVIEW:\n",
      "\n",
      "CATEGORY: Accessories & Adapters\n",
      "\n",
      "PRODUCT: AmazonBasics AAA Performance Alkaline Batteries (36 Count)\n",
      "\n",
      "BRAND: Amazonbasics\n",
      "\n",
      "MANUFACTURER: AmazonBasics\n",
      "\n",
      "TITLE: No summary available.\n",
      "\n",
      "REVIEW: .\n",
      "\n",
      "IMAGEURLS: https://images-na.ssl-images-amazon.com/images/I/81qmNyJo%2BkL._SL1500_.jpg,https://images-na.ssl-images-amazon.com/images/I/81ZTa1BrkzL._SL1500_.jpg,http://ecx.images-amazon.com/images/I/41pSoRu7UlL._SS40_.jpg,https://www.upccodesearch.com/images/barcode/0841710106442.png,https://images-na.ssl-images-amazon.com/images/I/81qmNyJo%252525252BkL._SL1500_.jpg,https://images-na.ssl-images-amazon.com/images/I/51DfBuqy4qL._SL1189_.jpg,https://images-na.ssl-images-amazon.com/images/I/51TshsEJTIL.jpg,https://images-na.ssl-images-amazon.com/images/I/81qmNyJo%2525252525252BkL._SL1500_.jpg,https://images-na.ssl-images-amazon.com/images/I/81qmNyJo%25252BkL._SL1500_.jpg,https://images-na.ssl-images-amazon.com/images/I/81qmNyJo%2525252BkL._SL1500_.jpg,https://images-na.ssl-images-amazon.com/images/I/51g3uIwzOIL._SL1050_.jpg,http://ecx.images-amazon.com/images/I/613LUdOc1eL._SS40_.jpg\n",
      "\n"
     ]
    },
    {
     "data": {
      "text/html": [
       "\n",
       "    <!DOCTYPE html>\n",
       "    <html lang=\"en\">\n",
       "    <head>\n",
       "        <meta charset=\"UTF-8\">\n",
       "        <meta name=\"viewport\" content=\"width=device-width, initial-scale=1.0\">\n",
       "        <title>AmazonBasics AAA Performance Alkaline Batteries (36 Count)</title>\n",
       "    </head>\n",
       "    <body>\n",
       "        <h1>AmazonBasics AAA Performance Alkaline Batteries (36 Count)</h1>\n",
       "        <h3>Accessories & Adapters</h3>\n",
       "        <h4>Amazonbasics | AmazonBasics</h3>\n",
       "        <h2>No summary available.</h2>\n",
       "        <p>.</p>\n",
       "\n",
       "    <img src=\"https://images-na.ssl-images-amazon.com/images/I/51g3uIwzOIL._SL1050_.jpg\" alt=\"AmazonBasics AAA Performance Alkaline Batteries (36 Count)\" style=\"width:300px;height:auto;margin:10px;\"><br><img src=\"https://images-na.ssl-images-amazon.com/images/I/81qmNyJo%2525252525252BkL._SL1500_.jpg\" alt=\"AmazonBasics AAA Performance Alkaline Batteries (36 Count)\" style=\"width:300px;height:auto;margin:10px;\"><br><img src=\"https://images-na.ssl-images-amazon.com/images/I/81ZTa1BrkzL._SL1500_.jpg\" alt=\"AmazonBasics AAA Performance Alkaline Batteries (36 Count)\" style=\"width:300px;height:auto;margin:10px;\"><br><img src=\"http://ecx.images-amazon.com/images/I/41pSoRu7UlL._SS40_.jpg\" alt=\"AmazonBasics AAA Performance Alkaline Batteries (36 Count)\" style=\"width:300px;height:auto;margin:10px;\"><br><img src=\"https://images-na.ssl-images-amazon.com/images/I/81qmNyJo%252525252BkL._SL1500_.jpg\" alt=\"AmazonBasics AAA Performance Alkaline Batteries (36 Count)\" style=\"width:300px;height:auto;margin:10px;\"><br><img src=\"https://www.upccodesearch.com/images/barcode/0841710106442.png\" alt=\"AmazonBasics AAA Performance Alkaline Batteries (36 Count)\" style=\"width:300px;height:auto;margin:10px;\"><br><img src=\"https://images-na.ssl-images-amazon.com/images/I/51DfBuqy4qL._SL1189_.jpg\" alt=\"AmazonBasics AAA Performance Alkaline Batteries (36 Count)\" style=\"width:300px;height:auto;margin:10px;\"><br><img src=\"https://images-na.ssl-images-amazon.com/images/I/51TshsEJTIL.jpg\" alt=\"AmazonBasics AAA Performance Alkaline Batteries (36 Count)\" style=\"width:300px;height:auto;margin:10px;\"><br><img src=\"http://ecx.images-amazon.com/images/I/613LUdOc1eL._SS40_.jpg\" alt=\"AmazonBasics AAA Performance Alkaline Batteries (36 Count)\" style=\"width:300px;height:auto;margin:10px;\"><br><img src=\"https://images-na.ssl-images-amazon.com/images/I/81qmNyJo%2525252BkL._SL1500_.jpg\" alt=\"AmazonBasics AAA Performance Alkaline Batteries (36 Count)\" style=\"width:300px;height:auto;margin:10px;\"><br><img src=\"https://images-na.ssl-images-amazon.com/images/I/81qmNyJo%25252BkL._SL1500_.jpg\" alt=\"AmazonBasics AAA Performance Alkaline Batteries (36 Count)\" style=\"width:300px;height:auto;margin:10px;\"><br><img src=\"https://images-na.ssl-images-amazon.com/images/I/81qmNyJo%2BkL._SL1500_.jpg\" alt=\"AmazonBasics AAA Performance Alkaline Batteries (36 Count)\" style=\"width:300px;height:auto;margin:10px;\"><br>\n",
       "    </body>\n",
       "    </html>\n",
       "    "
      ],
      "text/plain": [
       "<IPython.core.display.HTML object>"
      ]
     },
     "metadata": {},
     "output_type": "display_data"
    }
   ],
   "source": [
    "def review_best_product_by_category(\n",
    "        model: object,\n",
    "        tokenizer: object,\n",
    "        category: str,\n",
    "        n: int = 10\n",
    ") -> dict:\n",
    "    \"\"\"Review the best product in a category based on n reviews.\n",
    "\n",
    "    Args:\n",
    "        model (object): The model instance to use for inference.\n",
    "        tokenizer (object): The tokenizer instance to use for inference.\n",
    "        category (str): The category to extract the best product from.\n",
    "        n (int, optional): Number of reviews to use for the final review. Defaults to 10.\n",
    "\n",
    "    Returns:\n",
    "        str: The full review packed inside a dict.\n",
    "    \"\"\"\n",
    "    \n",
    "    print(f\"{SEP}\\nCATEGORY: {category}\\n\")\n",
    "    \n",
    "    # get the name of the top product in the category\n",
    "    top_product_name = helpers.get_top_products_per_category(category, 1)[0]\n",
    "    print(f\"{SEP}\\nTOP PRODUCT NAME: {top_product_name}\\n\")\n",
    "    \n",
    "    # get n reviews for the top product\n",
    "    sample_reviews = helpers.sample_product_reviews(top_product_name, category, n)\n",
    "\n",
    "    print(f\"{SEP}\\nINFERENCE 1 - SAMPLE OF PRODUCT REVIEWS:\\n\")\n",
    "\n",
    "    # load review text from pickle if available\n",
    "    pickle_path = os.path.join('pickle', f\"reviews_{category.lower().replace(' ', '_')}.pkl\")\n",
    "\n",
    "    if os.path.exists(pickle_path):\n",
    "        review_text = helpers.load_pickled_reviews(pickle_path)\n",
    "        print(f\"{review_text}\")\n",
    "\n",
    "    else:\n",
    "        # summarize all reviews and build review_text\n",
    "        review_text = \"\"\n",
    "        for i, review in enumerate(sample_reviews):\n",
    "            # infer model and summarize review\n",
    "            review_summary = f\"[Review {i + 1}]: {prompting.generate_review_summary(model, tokenizer, review)}\"\n",
    "            print(review_summary)\n",
    "            review_text += review_summary + '\\n'\n",
    "\n",
    "        # pickle the review text\n",
    "        helpers.pickle_list_reviews(review_text, pickle_path)\n",
    "\n",
    "    # generate recurring ideas\n",
    "    print(f\"{SEP}\\nINFERENCE 2 - RECURRING IDEAS:\\n\")\n",
    "    recurring_ideas = prompting.generate_reviews_recurring_ideas(model, tokenizer, review_text, max_tokens=75)\n",
    "    for idea in recurring_ideas.split('\\n'):\n",
    "        print(f\"- {idea}\")\n",
    "\n",
    "    # generate final review\n",
    "    print(f\"\\n{SEP}\\nINFERENCE 3 - FINAL REVIEW:\\n\")\n",
    "    review_title, product_review = prompting.generate_final_review(model, tokenizer, top_product_name, recurring_ideas, max_tokens=150)\n",
    "\n",
    "    # retrieve missing information\n",
    "    try:\n",
    "        data = helpers.load_pickled_dataset('pickle/dataset_raw.pkl')\n",
    "        product_row = data[data['name'] == top_product_name]\n",
    "        brand = product_row['brand'].values[0]\n",
    "        manufacturer = product_row['manufacturer'].values[0]\n",
    "        imageURLs = product_row['imageURLs'].values[0]\n",
    "\n",
    "    except Exception as e:\n",
    "        print(f\"Error reading dataset: {e}\")\n",
    "        brand = 'Unknown'\n",
    "        manufacturer = 'Unknown'\n",
    "        imageURLs = 'Unknown'\n",
    "\n",
    "    review_dict = {}\n",
    "    review_dict[\"category\"] = category\n",
    "    review_dict[\"product\"] = top_product_name\n",
    "    review_dict[\"brand\"] = brand\n",
    "    review_dict[\"manufacturer\"] = manufacturer\n",
    "    review_dict[\"title\"] = review_title\n",
    "    review_dict[\"review\"] = product_review\n",
    "    review_dict[\"imageURLs\"] = imageURLs\n",
    "\n",
    "    return review_dict\n",
    "\n",
    "\n",
    "if __name__ == \"__main__\":\n",
    "\n",
    "    # get the unique categories\n",
    "    categories = helpers.get_categories_from_dataset()\n",
    "\n",
    "    # review the best product for a given category\n",
    "    category = categories[0]\n",
    "\n",
    "    number_of_reviews = 15\n",
    "    review_dict = review_best_product_by_category(model, tokenizer, category, n=number_of_reviews)\n",
    "\n",
    "    # print the product sheet with review\n",
    "    for k, v in review_dict.items():\n",
    "        print(f\"{k.upper()}: {v}\")\n",
    "        print()\n",
    "\n",
    "    # generate html page\n",
    "    helpers.generate_html_from_product_review(review_dict, save_html=False, display_in_notebook=True)\n",
    "    "
   ]
  }
 ],
 "metadata": {
  "kernelspec": {
   "display_name": "Python 3 (ipykernel)",
   "language": "python",
   "name": "python3"
  },
  "language_info": {
   "codemirror_mode": {
    "name": "ipython",
    "version": 3
   },
   "file_extension": ".py",
   "mimetype": "text/x-python",
   "name": "python",
   "nbconvert_exporter": "python",
   "pygments_lexer": "ipython3",
   "version": "3.11.7"
  }
 },
 "nbformat": 4,
 "nbformat_minor": 2
}
