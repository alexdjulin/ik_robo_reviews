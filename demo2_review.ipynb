{
 "cells": [
  {
   "cell_type": "markdown",
   "metadata": {},
   "source": [
    "# DEMO 2: Generate product review"
   ]
  },
  {
   "cell_type": "markdown",
   "metadata": {},
   "source": [
    "## Imports"
   ]
  },
  {
   "cell_type": "code",
   "execution_count": 24,
   "metadata": {},
   "outputs": [],
   "source": [
    "# load custom modules ------------------------------------------------------------------------------\n",
    "import os\n",
    "import importlib\n",
    "import helpers\n",
    "import prompting\n",
    "importlib.reload(helpers)\n",
    "importlib.reload(prompting)\n",
    "\n",
    "# suppress all warnings for the demo\n",
    "import warnings\n",
    "warnings.filterwarnings(\"ignore\")\n",
    "\n",
    "# constants and paths ------------------------------------------------------------------------------\n",
    "DATA_PROCESSED_PKL = 'pickle/data_processed.pkl'\n",
    "DATA_CLUSTERED_PKL = 'pickle/data_clustered.pkl'\n",
    "DATA_SA_PKL = 'pickle/data_sentiment_analysis.pkl'\n",
    "DATA_SCORED_PKL = 'pickle/data_scored.pkl'\n",
    "SEP = 100 * '-'\n"
   ]
  },
  {
   "cell_type": "markdown",
   "metadata": {},
   "source": [
    "## Load model"
   ]
  },
  {
   "cell_type": "code",
   "execution_count": 2,
   "metadata": {},
   "outputs": [
    {
     "data": {
      "application/vnd.jupyter.widget-view+json": {
       "model_id": "179ef067eb2e4aa9af9276d47630f342",
       "version_major": 2,
       "version_minor": 0
      },
      "text/plain": [
       "tokenizer_config.json:   0%|          | 0.00/137k [00:00<?, ?B/s]"
      ]
     },
     "metadata": {},
     "output_type": "display_data"
    },
    {
     "data": {
      "application/vnd.jupyter.widget-view+json": {
       "model_id": "cd93a0dab8084aefbe6d944115ff0f93",
       "version_major": 2,
       "version_minor": 0
      },
      "text/plain": [
       "tokenizer.model:   0%|          | 0.00/587k [00:00<?, ?B/s]"
      ]
     },
     "metadata": {},
     "output_type": "display_data"
    },
    {
     "data": {
      "application/vnd.jupyter.widget-view+json": {
       "model_id": "ff7387e59b774adca57d8f1006ef0c69",
       "version_major": 2,
       "version_minor": 0
      },
      "text/plain": [
       "special_tokens_map.json:   0%|          | 0.00/414 [00:00<?, ?B/s]"
      ]
     },
     "metadata": {},
     "output_type": "display_data"
    },
    {
     "data": {
      "application/vnd.jupyter.widget-view+json": {
       "model_id": "8e03768dac2a4d5c935b63b24506dd1a",
       "version_major": 2,
       "version_minor": 0
      },
      "text/plain": [
       "tokenizer.json:   0%|          | 0.00/1.96M [00:00<?, ?B/s]"
      ]
     },
     "metadata": {},
     "output_type": "display_data"
    },
    {
     "data": {
      "application/vnd.jupyter.widget-view+json": {
       "model_id": "e555a67b50834fb98d31b0780b217b6b",
       "version_major": 2,
       "version_minor": 0
      },
      "text/plain": [
       "config.json:   0%|          | 0.00/601 [00:00<?, ?B/s]"
      ]
     },
     "metadata": {},
     "output_type": "display_data"
    },
    {
     "data": {
      "application/vnd.jupyter.widget-view+json": {
       "model_id": "a2046da206a5419daaef20ff26cf2b38",
       "version_major": 2,
       "version_minor": 0
      },
      "text/plain": [
       "model.safetensors.index.json:   0%|          | 0.00/23.9k [00:00<?, ?B/s]"
      ]
     },
     "metadata": {},
     "output_type": "display_data"
    },
    {
     "data": {
      "application/vnd.jupyter.widget-view+json": {
       "model_id": "3a08d0f407294484b47cc54bb100b639",
       "version_major": 2,
       "version_minor": 0
      },
      "text/plain": [
       "Downloading shards:   0%|          | 0/3 [00:00<?, ?it/s]"
      ]
     },
     "metadata": {},
     "output_type": "display_data"
    },
    {
     "data": {
      "application/vnd.jupyter.widget-view+json": {
       "model_id": "f3747e1089454439b00c7b955e993c22",
       "version_major": 2,
       "version_minor": 0
      },
      "text/plain": [
       "model-00001-of-00003.safetensors:   0%|          | 0.00/4.95G [00:00<?, ?B/s]"
      ]
     },
     "metadata": {},
     "output_type": "display_data"
    },
    {
     "data": {
      "application/vnd.jupyter.widget-view+json": {
       "model_id": "e2fe92c31ed6495fa71eba0443705939",
       "version_major": 2,
       "version_minor": 0
      },
      "text/plain": [
       "model-00002-of-00003.safetensors:   0%|          | 0.00/5.00G [00:00<?, ?B/s]"
      ]
     },
     "metadata": {},
     "output_type": "display_data"
    },
    {
     "data": {
      "application/vnd.jupyter.widget-view+json": {
       "model_id": "55f23a718efb49ae995423f6efa12d73",
       "version_major": 2,
       "version_minor": 0
      },
      "text/plain": [
       "model-00003-of-00003.safetensors:   0%|          | 0.00/4.55G [00:00<?, ?B/s]"
      ]
     },
     "metadata": {},
     "output_type": "display_data"
    },
    {
     "data": {
      "application/vnd.jupyter.widget-view+json": {
       "model_id": "0512771dfa7a4c98ab00b17f2cb049e1",
       "version_major": 2,
       "version_minor": 0
      },
      "text/plain": [
       "Loading checkpoint shards:   0%|          | 0/3 [00:00<?, ?it/s]"
      ]
     },
     "metadata": {},
     "output_type": "display_data"
    },
    {
     "data": {
      "application/vnd.jupyter.widget-view+json": {
       "model_id": "7129a87e17b0462284efb8f64ed7513a",
       "version_major": 2,
       "version_minor": 0
      },
      "text/plain": [
       "generation_config.json:   0%|          | 0.00/116 [00:00<?, ?B/s]"
      ]
     },
     "metadata": {},
     "output_type": "display_data"
    }
   ],
   "source": [
    "# load HugginFace token to environment\n",
    "if not os.environ.get('HF_TOKEN'):\n",
    "    os.environ['HF_TOKEN'] = input('Enter API token for Hugging Face: ')\n",
    "else:\n",
    "    print('Hugging Face token already loaded to environment')\n",
    "\n",
    "# load the model and tokenizer\n",
    "model, tokenizer = prompting.load_model_and_tokenizer()\n"
   ]
  },
  {
   "cell_type": "markdown",
   "metadata": {},
   "source": [
    "## Review best product per category"
   ]
  },
  {
   "cell_type": "code",
   "execution_count": 25,
   "metadata": {},
   "outputs": [
    {
     "name": "stdout",
     "output_type": "stream",
     "text": [
      "----------------------------------------------------------------------------------------------------\n",
      "CATEGORY: Accessories & Adapters\n",
      "\n",
      "----------------------------------------------------------------------------------------------------\n",
      "TOP PRODUCT NAME: AmazonBasics AAA Performance Alkaline Batteries (36 Count)\n",
      "\n",
      "----------------------------------------------------------------------------------------------------\n",
      "INFERENCE 1 - SAMPLE OF PRODUCT REVIEWS:\n",
      "\n",
      "Reviews loaded from pickle/reviews_accessories_&_adapters.pkl.\n",
      "[Review 1]: No leakage or discharge like some cheap batteries. Work great!\n",
      "[Review 2]: Long-lasting batteries that are comparable to name brands.\n",
      "[Review 3]: Great batteries for a great price. Long-lasting and good for the holidays.\n",
      "[Review 4]: Great bang for the buck. Amazon batteries.\n",
      "[Review 5]: Works perfectly, but durability is unknown.\n",
      "[Review 6]: Not bad but not as long-lasting as top brands. For the price, okay, but will stick with top brands in the future.\n",
      "[Review 7]: Great lights with a remote, timer, and batteries. Easy to install with screws or 3m tape.\n",
      "[Review 8]: Great battery, best price! Quality battery, arrived as described, and all seem to work great.\n",
      "[Review 9]: Great price and versatile use, but no information about the product itself.\n",
      "[Review 10]: Batteries leak acid, poor battery life, and not suitable for children's toys.\n",
      "\n",
      "----------------------------------------------------------------------------------------------------\n",
      "INFERENCE 2 - RECURRING IDEAS:\n",
      "\n",
      "- Long-lasting batteries with good performance.\n",
      "- Great price and value for the money.\n",
      "- Unknown durability and quality.\n",
      "- No information about the product itself.\n",
      "- Batteries leak acid, poor battery life, and not suitable for children's toys.\n",
      "\n",
      "----------------------------------------------------------------------------------------------------\n",
      "INFERENCE 3 - FINAL REVIEW:\n",
      "\n",
      "CATEGORY: Accessories & Adapters\n",
      "\n",
      "PRODUCT: AmazonBasics AAA Performance Alkaline Batteries (36 Count)\n",
      "\n",
      "TITLE: Great performance and long-lasting power, but no information about the product itself.\n",
      "\n",
      "REVIEW: These batteries offer great performance and long-lasting power, making them a reliable choice for everyday use. The price is excellent, providing good value for the money. However, there is no information about the product itself, so it's hard to judge its quality.\n",
      "\n"
     ]
    }
   ],
   "source": [
    "def review_best_product_by_category(\n",
    "        model: object,\n",
    "        tokenizer: object,\n",
    "        category: str,\n",
    "        n: int = 10\n",
    ") -> dict:\n",
    "    \"\"\"Review the best product in a category based on n reviews.\n",
    "\n",
    "    Args:\n",
    "        model (object): The model instance to use for inference.\n",
    "        tokenizer (object): The tokenizer instance to use for inference.\n",
    "        category (str): The category to extract the best product from.\n",
    "        n (int, optional): Number of reviews to use for the final review. Defaults to 10.\n",
    "\n",
    "    Returns:\n",
    "        str: The full review packed inside a dict.\n",
    "    \"\"\"\n",
    "    \n",
    "    print(f\"{SEP}\\nCATEGORY: {category}\\n\")\n",
    "    \n",
    "    # get the name of the top product in the category\n",
    "    top_product_name = helpers.get_top_products_per_category(category, 1)[0]\n",
    "    print(f\"{SEP}\\nTOP PRODUCT NAME: {top_product_name}\\n\")\n",
    "    \n",
    "    # get n reviews for the top product\n",
    "    sample_reviews = helpers.sample_product_reviews(top_product_name, category, n)\n",
    "\n",
    "    print(f\"{SEP}\\nINFERENCE 1 - SAMPLE OF PRODUCT REVIEWS:\\n\")\n",
    "\n",
    "    # load review text from pickle if available\n",
    "    pickle_path = os.path.join('pickle', f\"reviews_{category.lower().replace(' ', '_')}.pkl\")\n",
    "\n",
    "    if os.path.exists(pickle_path):\n",
    "        review_text = helpers.load_pickled_reviews(pickle_path)\n",
    "        print(f\"{review_text}\")\n",
    "\n",
    "    else:\n",
    "        # summarize all reviews and build review_text\n",
    "        review_text = \"\"\n",
    "        for i, review in enumerate(sample_reviews):\n",
    "            # infer model and summarize review\n",
    "            review_summary = f\"[Review {i + 1}]: {prompting.generate_review_summary(model, tokenizer, review)}\"\n",
    "            print(review_summary)\n",
    "            review_text += review_summary + '\\n'\n",
    "\n",
    "        # pickle the review text\n",
    "        helpers.pickle_list_reviews(review_text, pickle_path)\n",
    "\n",
    "    # generate recurring ideas\n",
    "    recurring_ideas = prompting.generate_reviews_recurring_ideas(model, tokenizer, review_text, max_tokens=75)\n",
    "    print(f\"{SEP}\\nINFERENCE 2 - RECURRING IDEAS:\\n\")\n",
    "    for idea in recurring_ideas.split('\\n'):\n",
    "        print(f\"- {idea}\")\n",
    "\n",
    "    # generate final review\n",
    "    review_title, product_review = prompting.generate_final_review(model, tokenizer, top_product_name, recurring_ideas, max_tokens=150)\n",
    "    print(f\"\\n{SEP}\\nINFERENCE 3 - FINAL REVIEW:\\n\")\n",
    "\n",
    "    review_dict = {}\n",
    "    review_dict[\"category\"] = category\n",
    "    review_dict[\"product\"] = top_product_name\n",
    "    review_dict[\"title\"] = review_title\n",
    "    review_dict[\"review\"] = product_review\n",
    "\n",
    "    return review_dict\n",
    "\n",
    "\n",
    "if __name__ == \"__main__\":\n",
    "\n",
    "    # get the unique categories\n",
    "    categories = helpers.get_categories_from_dataset()\n",
    "\n",
    "    # review the best product for a given category\n",
    "    category = categories[0]\n",
    "\n",
    "    number_of_reviews = 10\n",
    "    review_dict = review_best_product_by_category(model, tokenizer, category, n=10)\n",
    "\n",
    "    for k, v in review_dict.items():\n",
    "        print(f\"{k.upper()}: {v}\")\n",
    "        print()"
   ]
  }
 ],
 "metadata": {
  "kernelspec": {
   "display_name": "Python 3 (ipykernel)",
   "language": "python",
   "name": "python3"
  },
  "language_info": {
   "codemirror_mode": {
    "name": "ipython",
    "version": 3
   },
   "file_extension": ".py",
   "mimetype": "text/x-python",
   "name": "python",
   "nbconvert_exporter": "python",
   "pygments_lexer": "ipython3",
   "version": "3.11.7"
  }
 },
 "nbformat": 4,
 "nbformat_minor": 2
}
